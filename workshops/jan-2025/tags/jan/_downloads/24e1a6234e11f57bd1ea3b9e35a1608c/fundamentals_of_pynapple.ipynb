{
 "cells": [
  {
   "cell_type": "code",
   "execution_count": 1,
   "id": "37239620",
   "metadata": {
    "tags": [
     "render-all"
    ]
   },
   "outputs": [],
   "source": [
    "%matplotlib inline"
   ]
  },
  {
   "cell_type": "markdown",
   "id": "8aa8bb71",
   "metadata": {},
   "source": [
    ":::{admonition} Download\n",
    ":class: important render-all\n",
    "\n",
    "This notebook can be downloaded as **{nb-download}`fundamentals_of_pynapple.ipynb`**. See the button at the top right to download as markdown or pdf.\n",
    ":::\n",
    "\n",
    "\n",
    "<div class=\"render-all\">\n",
    "\n",
    "# Learning the fundamentals of pynapple\n",
    "\n",
    "## Learning objectives\n",
    "\n",
    "\n",
    "- Instantiate the pynapple objects\n",
    "- Make the pynapple objects interact\n",
    "- Use numpy with pynapple\n",
    "- Slicing pynapple objects\n",
    "- Adding metadata to pynapple objects\n",
    "- Learn the core functions of pynapple\n",
    "\n",
    "The pynapple documentation can be found [here](https://pynapple.org).\n",
    "\n",
    "The documentation for objects and method of the core of pynapple is [here](https://pynapple.org/api.html).\n",
    "\n",
    "\n",
    "Let's start by importing the pynapple package and matplotlib to see if everything is correctly installed.\n",
    "If an import fails, you can do `!pip install pynapple matplotlib` in a cell to fix it.\n",
    "\n",
    "</div>"
   ]
  },
  {
   "cell_type": "code",
   "execution_count": 2,
   "id": "6aa302d6",
   "metadata": {
    "tags": [
     "render-all"
    ]
   },
   "outputs": [
    {
     "name": "stderr",
     "output_type": "stream",
     "text": [
      "WARNING:2025-02-03 17:40:46,607:jax._src.xla_bridge:987: An NVIDIA GPU may be present on this machine, but a CUDA-enabled jaxlib is not installed. Falling back to cpu.\n"
     ]
    },
    {
     "name": "stderr",
     "output_type": "stream",
     "text": [
      "/home/agent/workspace/urorse_ccn-software-jan-2025_jan/lib/python3.11/site-packages/nemos/_documentation_utils/plotting.py:38: UserWarning: plotting functions contained within `_documentation_utils` are intended for nemos's documentation. Feel free to use them, but they will probably not work as intended with other datasets / in other contexts.\n",
      "  warnings.warn(\n"
     ]
    }
   ],
   "source": [
    "import pynapple as nap\n",
    "import matplotlib.pyplot as plt\n",
    "import numpy as np\n",
    "import workshop_utils"
   ]
  },
  {
   "cell_type": "markdown",
   "id": "40ea24fa",
   "metadata": {},
   "source": [
    "For this notebook we will work with fake data. The following cells generate a set of variables that we will use to create the different pynapple objects."
   ]
  },
  {
   "cell_type": "code",
   "execution_count": 3,
   "id": "f639d9dd",
   "metadata": {
    "tags": [
     "render-all"
    ]
   },
   "outputs": [],
   "source": [
    "var1 = np.random.randn(100) # Variable 1\n",
    "tsp1 = np.arange(100) # The timesteps of variable 1\n",
    "\n",
    "var2 = np.random.randn(100, 3) # Variable 2\n",
    "tsp2 = np.arange(0, 100, 1) # The timesteps of variable 2\n",
    "col2 = ['pineapple', 'banana', 'tomato'] # The name of each columns of var2\n",
    "\n",
    "var3 = np.random.randn(1000, 4, 5) # Variable 3\n",
    "tsp3 = np.arange(0, 100, 0.1) # The timesteps of variable 3\n",
    "\n",
    "random_times_1 = np.array([3.14, 37.0, 42.0])\n",
    "random_times_2 = np.array([10, 25, 50, 70])\n",
    "random_times_3 = np.sort(np.random.uniform(10, 80, 100))\n",
    "\n",
    "starts_1 = np.array([10000, 60000, 90000]) # starts of an epoch in `ms`\n",
    "ends_1 = np.array([20000, 80000, 95000]) # ends in `ms`"
   ]
  },
  {
   "cell_type": "markdown",
   "id": "793e615d",
   "metadata": {},
   "source": [
    "## Instantiate pynapple objects \n",
    "\n",
    "This is a lot of variables to carry around. pynapple can help reduce the size of the workspace. Here we will instantiate all the different pynapple objects with the variables created above.\n",
    "\n",
    "Let's start with the simple ones.\n",
    "\n",
    "<div class=\"render-all\">\n",
    "\n",
    "**Question:** Can you instantiate the right pynapple objects for `var1`, `var2` and `var3`? Objects should be named respectively `tsd1`, `tsd2` and `tsd3`. Don't forget the column name for `var2`.\n",
    "\n",
    "</div>"
   ]
  },
  {
   "cell_type": "code",
   "execution_count": 4,
   "id": "30bdd097",
   "metadata": {},
   "outputs": [],
   "source": [
    "tsd1 = nap.Tsd(t=tsp1, d=var1)\n",
    "tsd2 = nap.TsdFrame(t=tsp2, d=var2, columns = col2)\n",
    "tsd3 = nap.TsdTensor(t=tsp3, d=var3)"
   ]
  },
  {
   "cell_type": "markdown",
   "id": "aeaa6cb6",
   "metadata": {},
   "source": [
    "<div class=\"render-all\">\n",
    "\n",
    "**Question:** Can you print `tsd1`?\n",
    "\n",
    "</div>"
   ]
  },
  {
   "cell_type": "code",
   "execution_count": 5,
   "id": "c8f9bccb",
   "metadata": {},
   "outputs": [
    {
     "name": "stdout",
     "output_type": "stream",
     "text": [
      "Time (s)\n",
      "----------  ----------\n",
      "0.0         -0.842461\n",
      "1.0         -1.1817\n",
      "2.0         -1.52603\n",
      "3.0          0.974924\n",
      "4.0          0.190584\n",
      "5.0         -0.4698\n",
      "6.0         -0.316617\n",
      "...\n",
      "93.0        -0.26671\n",
      "94.0        -1.30667\n",
      "95.0         0.588321\n",
      "96.0        -0.0514554\n",
      "97.0        -0.555443\n",
      "98.0        -0.0681906\n",
      "99.0        -0.956771\n",
      "dtype: float64, shape: (100,)\n"
     ]
    }
   ],
   "source": [
    "print(tsd1)"
   ]
  },
  {
   "cell_type": "markdown",
   "id": "884d99bd",
   "metadata": {},
   "source": [
    "<div class=\"render-all\">\n",
    "\n",
    "**Question:** Can you print `tsd2`?\n",
    "\n",
    "</div>"
   ]
  },
  {
   "cell_type": "code",
   "execution_count": 6,
   "id": "a552e9d8",
   "metadata": {},
   "outputs": [
    {
     "name": "stdout",
     "output_type": "stream",
     "text": [
      "Time (s)    pineapple    banana    tomato\n",
      "----------  -----------  --------  --------\n",
      "0.0         1.28196      -2.05415  1.55274\n",
      "1.0         0.78862      1.50818   -0.95718\n",
      "2.0         -0.73294     -0.26784  -0.50117\n",
      "3.0         -1.25616     0.38224   0.58413\n",
      "4.0         0.2662       0.1236    1.10852\n",
      "5.0         -1.47168     -0.47495  0.40166\n",
      "6.0         0.88059      -1.2004   -0.11626\n",
      "...         ...          ...       ...\n",
      "93.0        0.11549      1.11121   -0.78867\n",
      "94.0        1.09165      -0.97166  -1.16578\n",
      "95.0        -0.56039     -0.53209  1.09497\n",
      "96.0        -0.3149      -2.55897  -0.31255\n",
      "97.0        -0.2788      -0.07088  1.68987\n",
      "98.0        1.2342       1.57266   0.03773\n",
      "99.0        -0.44026     0.71375   0.84207\n",
      "dtype: float64, shape: (100, 3)\n"
     ]
    }
   ],
   "source": [
    "print(tsd2)"
   ]
  },
  {
   "cell_type": "markdown",
   "id": "e578b3d1",
   "metadata": {},
   "source": [
    "<div class=\"render-all\">\n",
    "\n",
    "**Question:** Can you print `tsd3`?\n",
    "\n",
    "</div>"
   ]
  },
  {
   "cell_type": "code",
   "execution_count": 7,
   "id": "6f8f87dd",
   "metadata": {},
   "outputs": [
    {
     "name": "stdout",
     "output_type": "stream",
     "text": [
      "Time (s)\n",
      "----------  -------------------------------\n",
      "0.0         [[0.935952 ... 0.653581] ...]\n",
      "0.1         [[0.883389 ... 1.466031] ...]\n",
      "0.2         [[0.330241 ... 0.599543] ...]\n",
      "0.3         [[ 1.258906 ... -0.424322] ...]\n",
      "0.4         [[-0.833456 ... -1.265407] ...]\n",
      "0.5         [[-0.899024 ... -1.083375] ...]\n",
      "0.6         [[-0.02511  ... -1.552854] ...]\n",
      "...\n",
      "99.3        [[-0.486613 ... -0.09291 ] ...]\n",
      "99.4        [[-0.011047 ... -1.411001] ...]\n",
      "99.5        [[ 0.152414 ... -0.950074] ...]\n",
      "99.6        [[ 1.091342 ... -0.05    ] ...]\n",
      "99.7        [[0.881991 ... 0.279623] ...]\n",
      "99.8        [[-0.999247 ...  0.328241] ...]\n",
      "99.9        [[-0.852747 ...  1.018478] ...]\n",
      "dtype: float64, shape: (1000, 4, 5)\n"
     ]
    }
   ],
   "source": [
    "print(tsd3)"
   ]
  },
  {
   "cell_type": "markdown",
   "id": "c5949d97",
   "metadata": {},
   "source": [
    "<div class=\"render-all\">\n",
    "\n",
    "**Question:** Can you create an `IntervalSet` called `ep` out of `starts_1` and `ends_1` and print it? Be careful, times given above are in `ms`.\n",
    "\n",
    "</div>"
   ]
  },
  {
   "cell_type": "code",
   "execution_count": 8,
   "id": "50038274",
   "metadata": {},
   "outputs": [
    {
     "name": "stdout",
     "output_type": "stream",
     "text": [
      "  index    start    end\n",
      "      0       10     20\n",
      "      1       60     80\n",
      "      2       90     95\n",
      "shape: (3, 2), time unit: sec.\n"
     ]
    }
   ],
   "source": [
    "ep = nap.IntervalSet(start=starts_1, end=ends_1, time_units='ms')\n",
    "print(ep)"
   ]
  },
  {
   "cell_type": "markdown",
   "id": "ddfa9963",
   "metadata": {},
   "source": [
    "<div class=\"render-all\">\n",
    "\n",
    "The experiment generated a set of timestamps from 3 different channels.\n",
    "\n",
    "**Question:** Can you instantiate the corresponding pynapple object (`ts1`, `ts2`, `ts3`) for each one of them?\n",
    "\n",
    "</div>"
   ]
  },
  {
   "cell_type": "code",
   "execution_count": 9,
   "id": "f75eca93",
   "metadata": {},
   "outputs": [],
   "source": [
    "ts1 = nap.Ts(t=random_times_1)\n",
    "ts2 = nap.Ts(t=random_times_2)\n",
    "ts3 = nap.Ts(t=random_times_3)"
   ]
  },
  {
   "cell_type": "markdown",
   "id": "24a2bb9b",
   "metadata": {},
   "source": [
    "<div class=\"render-all\">\n",
    "\n",
    "This is a lot of timestamps to carry around as well.\n",
    "\n",
    "**Question:** Can you instantiate the right pynapple object (call it `tsgroup`) to group them together?\n",
    "\n",
    "</div>"
   ]
  },
  {
   "cell_type": "code",
   "execution_count": 10,
   "id": "df861b6b",
   "metadata": {},
   "outputs": [],
   "source": [
    "tsgroup = nap.TsGroup({0:ts1, 1:ts2, 2:ts3})"
   ]
  },
  {
   "cell_type": "markdown",
   "id": "b1c81570",
   "metadata": {},
   "source": [
    "<div class=\"render-all\">\n",
    "\n",
    "**Question:** ... and print it?\n",
    "\n",
    "</div>"
   ]
  },
  {
   "cell_type": "code",
   "execution_count": 11,
   "id": "25ae3f6b",
   "metadata": {},
   "outputs": [
    {
     "name": "stdout",
     "output_type": "stream",
     "text": [
      "  Index     rate\n",
      "-------  -------\n",
      "      0  0.03975\n",
      "      1  0.053\n",
      "      2  1.32506\n"
     ]
    }
   ],
   "source": [
    "print(tsgroup)"
   ]
  },
  {
   "cell_type": "markdown",
   "id": "1509a558",
   "metadata": {},
   "source": [
    "## Interaction between pynapple objects \n",
    "\n",
    "We reduced 12 variables in our workspace to 5 using pynapple. Now we can see how the objects interact.\n",
    "\n",
    "<div class=\"render-all\">\n",
    "\n",
    "**Question:** Can you print the `time_support` of `tsgroup`?\n",
    "\n",
    "</div>"
   ]
  },
  {
   "cell_type": "code",
   "execution_count": 12,
   "id": "02959267",
   "metadata": {},
   "outputs": [
    {
     "name": "stdout",
     "output_type": "stream",
     "text": [
      "  index    start      end\n",
      "      0     3.14  78.6082\n",
      "shape: (1, 2), time unit: sec.\n"
     ]
    }
   ],
   "source": [
    "print(tsgroup.time_support)"
   ]
  },
  {
   "cell_type": "markdown",
   "id": "06f23b5f",
   "metadata": {},
   "source": [
    "The experiment ran from 0 to 100 seconds and as you can see, the `TsGroup` object shows the rate. But the rate is not accurate as it was computed over the default `time_support`.\n",
    "\n",
    "<div class=\"render-all\">\n",
    "\n",
    "**Question:** can you recreate the `tsgroup` object passing the right `time_support` during initialisation?\n",
    "\n",
    "</div>"
   ]
  },
  {
   "cell_type": "code",
   "execution_count": 13,
   "id": "fffc3d24",
   "metadata": {},
   "outputs": [],
   "source": [
    "tsgroup = nap.TsGroup({0:ts1, 1:tsd2, 2:ts3}, time_support = nap.IntervalSet(0, 100))"
   ]
  },
  {
   "cell_type": "markdown",
   "id": "026bfb79",
   "metadata": {},
   "source": [
    "<div class=\"render-all\">\n",
    "\n",
    "**Question:** Can you print the `time_support` and `rate` to see how they changed?\n",
    "\n",
    "</div>"
   ]
  },
  {
   "cell_type": "code",
   "execution_count": 14,
   "id": "39ebc9e5",
   "metadata": {},
   "outputs": [
    {
     "name": "stdout",
     "output_type": "stream",
     "text": [
      "  index    start    end\n",
      "      0        0    100\n",
      "shape: (1, 2), time unit: sec.\n",
      "0    0.03\n",
      "1    1.00\n",
      "2    1.00\n",
      "Name: rate, dtype: float64\n"
     ]
    }
   ],
   "source": [
    "print(tsgroup.time_support)\n",
    "print(tsgroup.rate)"
   ]
  },
  {
   "cell_type": "markdown",
   "id": "5ad6829e",
   "metadata": {},
   "source": [
    "<div class=\"render-all\">\n",
    "\n",
    "Now you realized the variable `tsd1` has some noise. The good signal is between 10 and 30 seconds and  50 and 100.\n",
    "\n",
    "**Question:** Can you create an `IntervalSet` object called `ep_signal` and use it to restrict the variable `tsd1`?\n",
    "\n",
    "</div>"
   ]
  },
  {
   "cell_type": "code",
   "execution_count": 15,
   "id": "2df8f60c",
   "metadata": {},
   "outputs": [],
   "source": [
    "ep_signal = nap.IntervalSet(start=[10, 50], end=[30, 100])\n",
    "\n",
    "tsd1 = tsd1.restrict(ep_signal)"
   ]
  },
  {
   "cell_type": "markdown",
   "id": "0c3f2314",
   "metadata": {},
   "source": [
    "<div class=\"render-all\">\n",
    "You can print `tsd1` to check that the timestamps are in fact within `ep`.\n",
    "You can also check the `time_support` of `tsd1` to see that it has been updated.\n",
    "</div>"
   ]
  },
  {
   "cell_type": "code",
   "execution_count": 16,
   "id": "3df2aef2",
   "metadata": {},
   "outputs": [
    {
     "name": "stdout",
     "output_type": "stream",
     "text": [
      "Time (s)\n",
      "----------  ----------\n",
      "10.0        -0.943434\n",
      "11.0         0.946714\n",
      "12.0        -0.263759\n",
      "13.0         1.37517\n",
      "14.0         1.48537\n",
      "15.0         0.146703\n",
      "16.0         1.17938\n",
      "...\n",
      "93.0        -0.26671\n",
      "94.0        -1.30667\n",
      "95.0         0.588321\n",
      "96.0        -0.0514554\n",
      "97.0        -0.555443\n",
      "98.0        -0.0681906\n",
      "99.0        -0.956771\n",
      "dtype: float64, shape: (71,)\n",
      "  index    start    end\n",
      "      0       10     30\n",
      "      1       50    100\n",
      "shape: (2, 2), time unit: sec.\n"
     ]
    }
   ],
   "source": [
    "print(tsd1)\n",
    "print(tsd1.time_support)"
   ]
  },
  {
   "cell_type": "code",
   "execution_count": 17,
   "id": "35c892c7",
   "metadata": {
    "tags": [
     "render-all"
    ]
   },
   "outputs": [
    {
     "name": "stdout",
     "output_type": "stream",
     "text": [
      "  index     start       end\n",
      "      0   3.11513   3.36578\n",
      "      1   4.47922  16.2813\n",
      "      2  24.8646   38.789\n",
      "      3  38.9993   40.2445\n",
      "      4  45.946    50.4802\n",
      "      5  53.1416   53.9599\n",
      "      6  60.1688   60.6941\n",
      "      7  65.4543   67.5119\n",
      "      8  80.0553   82.393\n",
      "      9  97.5655   99.3676\n",
      "shape: (10, 2), time unit: sec.\n"
     ]
    }
   ],
   "source": [
    "ep_tmp = nap.IntervalSet(np.sort(np.random.uniform(0, 100, 20)))\n",
    "print(ep_tmp)"
   ]
  },
  {
   "cell_type": "markdown",
   "id": "7f0d8a77",
   "metadata": {},
   "source": [
    "<div class=\"render-all\">\n",
    "\n",
    "**Question:** Can you do the intersection of `ep_signal` and `ep_tmp`?\n",
    "</div>"
   ]
  },
  {
   "cell_type": "code",
   "execution_count": 18,
   "id": "0becea28",
   "metadata": {},
   "outputs": [
    {
     "name": "stdout",
     "output_type": "stream",
     "text": [
      "  index    start      end\n",
      "      0  10       16.2813\n",
      "      1  24.8646  30\n",
      "      2  50       50.4802\n",
      "      3  53.1416  53.9599\n",
      "      4  60.1688  60.6941\n",
      "      5  65.4543  67.5119\n",
      "      6  80.0553  82.393\n",
      "      7  97.5655  99.3676\n",
      "shape: (8, 2), time unit: sec.\n"
     ]
    }
   ],
   "source": [
    "print(ep_signal.intersect(ep_tmp))"
   ]
  },
  {
   "cell_type": "markdown",
   "id": "544f9eac",
   "metadata": {},
   "source": [
    "<div class=\"render-all\">\n",
    "You can visualize IntervalSet using the function `workshop_utils.visualize_intervals` we provide.\n",
    "</div>"
   ]
  },
  {
   "cell_type": "code",
   "execution_count": 19,
   "id": "256771b5",
   "metadata": {
    "tags": [
     "render-all"
    ]
   },
   "outputs": [
    {
     "data": {
      "image/png": "[encoded data removed]",
      "text/plain": [
       "<Figure size 600x300 with 1 Axes>"
      ]
     },
     "metadata": {},
     "output_type": "display_data"
    }
   ],
   "source": [
    "workshop_utils.visualize_intervals([ep_signal, ep_tmp, ep_signal.intersect(ep_tmp)])"
   ]
  },
  {
   "cell_type": "markdown",
   "id": "5c30a0e3",
   "metadata": {},
   "source": [
    "<div class=\"render-all\">\n",
    "\n",
    "**Question:** Can you do the union of `ep_signal` and `ep_tmp`?\n",
    "</div>"
   ]
  },
  {
   "cell_type": "code",
   "execution_count": 20,
   "id": "5d8da1a3",
   "metadata": {},
   "outputs": [
    {
     "name": "stdout",
     "output_type": "stream",
     "text": [
      "  index     start        end\n",
      "      0   3.11513    3.36578\n",
      "      1   4.47922   38.789\n",
      "      2  38.9993    40.2445\n",
      "      3  45.946    100\n",
      "shape: (4, 2), time unit: sec.\n"
     ]
    }
   ],
   "source": [
    "print(ep_signal.union(ep_tmp))"
   ]
  },
  {
   "cell_type": "markdown",
   "id": "b973751f",
   "metadata": {},
   "source": [
    "<div class=\"render-all\">\n",
    "\n",
    "**Question:** ... and visualize it?\n",
    "</div>"
   ]
  },
  {
   "cell_type": "code",
   "execution_count": 21,
   "id": "3fa1f27b",
   "metadata": {},
   "outputs": [
    {
     "data": {
      "image/png": "[encoded data removed]",
      "text/plain": [
       "<Figure size 600x300 with 1 Axes>"
      ]
     },
     "metadata": {},
     "output_type": "display_data"
    }
   ],
   "source": [
    "workshop_utils.visualize_intervals([ep_signal, ep_tmp, ep_signal.union(ep_tmp)])"
   ]
  },
  {
   "cell_type": "markdown",
   "id": "4f6967d1",
   "metadata": {},
   "source": [
    "<div class=\"render-all\">\n",
    "\n",
    "**Question:** Can you do the difference of `ep_signal` and `ep_tmp`?\n",
    "</div>"
   ]
  },
  {
   "cell_type": "code",
   "execution_count": 22,
   "id": "5bb383b0",
   "metadata": {},
   "outputs": [
    {
     "name": "stdout",
     "output_type": "stream",
     "text": [
      "  index    start       end\n",
      "      0  16.2813   24.8646\n",
      "      1  50.4802   53.1416\n",
      "      2  53.9599   60.1688\n",
      "      3  60.6941   65.4543\n",
      "      4  67.5119   80.0553\n",
      "      5  82.393    97.5655\n",
      "      6  99.3676  100\n",
      "shape: (7, 2), time unit: sec.\n"
     ]
    }
   ],
   "source": [
    "print(ep_signal.set_diff(ep_tmp))"
   ]
  },
  {
   "cell_type": "markdown",
   "id": "8b248dff",
   "metadata": {},
   "source": [
    "<div class=\"render-all\">\n",
    "\n",
    "**Question:** ... and visualize it?\n",
    "</div>"
   ]
  },
  {
   "cell_type": "code",
   "execution_count": 23,
   "id": "dac935eb",
   "metadata": {},
   "outputs": [
    {
     "data": {
      "image/png": "[encoded data removed]",
      "text/plain": [
       "<Figure size 600x300 with 1 Axes>"
      ]
     },
     "metadata": {},
     "output_type": "display_data"
    }
   ],
   "source": [
    "workshop_utils.visualize_intervals([ep_signal, ep_tmp, ep_signal.set_diff(ep_tmp)])"
   ]
  },
  {
   "cell_type": "markdown",
   "id": "cc7ebd1a",
   "metadata": {},
   "source": [
    "## Numpy & pynapple\n",
    "\n",
    "<div class=\"render-all\">\n",
    "\n",
    "Pynapple objects behaves very similarly like numpy array. They can be sliced with the following syntax :\n",
    "\n",
    "  `tsd[0:10] # First 10 elements`\n",
    "\n",
    "Arithmetical operations are available as well :\n",
    "\n",
    "  `tsd = tsd + 1`\n",
    "\n",
    "Finally numpy functions works directly. Let's imagine `tsd3` is a movie with frame size (4,5).\n",
    "\n",
    "**Question:** Can you compute the average frame along the time axis using `np.mean` and print the result?\n",
    "\n",
    "</div>"
   ]
  },
  {
   "cell_type": "code",
   "execution_count": 24,
   "id": "e7f0c697",
   "metadata": {},
   "outputs": [
    {
     "name": "stdout",
     "output_type": "stream",
     "text": [
      "[[-0.02722346  0.00731344  0.00046095  0.04351173 -0.01106975]\n",
      " [-0.01610921 -0.01157911  0.00588313  0.02820901 -0.02661309]\n",
      " [-0.0024513  -0.01457567 -0.06545946 -0.02870438 -0.03668252]\n",
      " [-0.00611295 -0.0177497  -0.04101399  0.0200225   0.00607498]]\n"
     ]
    }
   ],
   "source": [
    "print(np.mean(tsd3, 0))"
   ]
  },
  {
   "cell_type": "markdown",
   "id": "c985749f",
   "metadata": {},
   "source": [
    "<div class=\"render-all\">\n",
    "\n",
    "**Question:**: can you compute the average of `tsd2` for each timestamps and print it?\n",
    "</div>"
   ]
  },
  {
   "cell_type": "code",
   "execution_count": 25,
   "id": "73822af4",
   "metadata": {},
   "outputs": [
    {
     "name": "stdout",
     "output_type": "stream",
     "text": [
      "Time (s)\n",
      "----------  ------------\n",
      "0.0          0.260185\n",
      "1.0          0.446543\n",
      "2.0         -0.500654\n",
      "3.0         -0.096596\n",
      "4.0          0.499439\n",
      "5.0         -0.514989\n",
      "6.0         -0.145356\n",
      "...\n",
      "93.0         0.146011\n",
      "94.0        -0.348595\n",
      "95.0         0.000826506\n",
      "96.0        -1.06214\n",
      "97.0         0.446731\n",
      "98.0         0.948199\n",
      "99.0         0.371852\n",
      "dtype: float64, shape: (100,)\n"
     ]
    }
   ],
   "source": [
    "print(np.mean(tsd2, 1))"
   ]
  },
  {
   "cell_type": "markdown",
   "id": "2438524e",
   "metadata": {},
   "source": [
    "Notice how the output in the second case is still a pynapple object.\n",
    "In most cases, applying a numpy function will return a pynapple object if the time index is preserved.\n",
    "\n",
    "## Slicing pynapple objects \n",
    "\n",
    "Multiple methods exists to slice pynapple object. This parts reviews them.\n",
    "\n",
    "`IntervalSet` also behaves like numpy array.\n",
    "\n",
    "<div class=\"render-all\">\n",
    "\n",
    "**Question:** Can you extract the first and last epoch of `ep` in a new `IntervalSet`?\n",
    "</div>"
   ]
  },
  {
   "cell_type": "code",
   "execution_count": 26,
   "id": "ce306bf2",
   "metadata": {},
   "outputs": [
    {
     "name": "stdout",
     "output_type": "stream",
     "text": [
      "  index    start    end\n",
      "      0       10     20\n",
      "      1       90     95\n",
      "shape: (2, 2), time unit: sec.\n"
     ]
    }
   ],
   "source": [
    "print(ep[[0,2]])"
   ]
  },
  {
   "cell_type": "markdown",
   "id": "37f760bd",
   "metadata": {},
   "source": [
    "<div class=\"render-all\">\n",
    "\n",
    "Sometimes you want to get a data point as close as possible in time to another timestamps.\n",
    "\n",
    "**Question:** Using the `get` method, can you get the data point from `tsd3` as close as possible to the time 50.1 seconds?\n",
    "\n",
    "</div>"
   ]
  },
  {
   "cell_type": "code",
   "execution_count": 27,
   "id": "b230f1af",
   "metadata": {},
   "outputs": [
    {
     "name": "stdout",
     "output_type": "stream",
     "text": [
      "[[-0.57050137  0.57317311 -0.98011924  0.62182793  0.17226364]\n",
      " [ 0.41407428  0.68021221 -0.09676297  1.82416052  0.92531077]\n",
      " [-0.40844906  1.37441721 -0.70505481  1.94073339 -0.46694882]\n",
      " [ 1.15669356  1.80435779  0.30398406  0.94793369  0.77831043]]\n"
     ]
    }
   ],
   "source": [
    "print(tsd3.get(50.1))"
   ]
  },
  {
   "cell_type": "markdown",
   "id": "a47fae66",
   "metadata": {},
   "source": [
    "## Metadata\n",
    "\n",
    "<div class=\"render-all\">\n",
    "\n",
    "Metadata are ubiquitous in neuroscience. They can be added to 3 pynapple objects :\n",
    "\n",
    "- `TsGroup` : to label neurons in electrophysiology\n",
    "- `IntervalSet` : to label intervals\n",
    "- `TsdFrame` : to label neurons in calcium imaging\n",
    "\n",
    "\n",
    "**Question:** Can you run the following command `tsgroup['planet'] = ['mars', 'venus', 'saturn']`\n",
    "</div>"
   ]
  },
  {
   "cell_type": "code",
   "execution_count": 28,
   "id": "53a9a56b",
   "metadata": {},
   "outputs": [],
   "source": [
    "tsgroup['planet'] = ['mars', 'venus', 'saturn']"
   ]
  },
  {
   "cell_type": "markdown",
   "id": "e2ed5091",
   "metadata": {},
   "source": [
    "<div class=\"render-all\">\n",
    "\n",
    "**Question:** ... and print it?\n",
    "</div>"
   ]
  },
  {
   "cell_type": "code",
   "execution_count": 29,
   "id": "d0096a7d",
   "metadata": {},
   "outputs": [
    {
     "name": "stdout",
     "output_type": "stream",
     "text": [
      "  Index    rate  planet\n",
      "-------  ------  --------\n",
      "      0    0.03  mars\n",
      "      1    1     venus\n",
      "      2    1     saturn\n"
     ]
    }
   ],
   "source": [
    "print(tsgroup)"
   ]
  },
  {
   "cell_type": "markdown",
   "id": "ec5776b3",
   "metadata": {},
   "source": [
    "<div class=\"render-all\">\n",
    "\n",
    "The object `ep` has 3 epochs labelled `['left', 'right', 'left']`. \n",
    "\n",
    "**Question:** Can you add them as a metadata column called `direction`?\n",
    "\n",
    "</div>"
   ]
  },
  {
   "cell_type": "code",
   "execution_count": 30,
   "id": "abdec25d",
   "metadata": {},
   "outputs": [
    {
     "name": "stdout",
     "output_type": "stream",
     "text": [
      "  index    start    end  direction\n",
      "      0       10     20  left\n",
      "      1       60     80  right\n",
      "      2       90     95  left\n",
      "shape: (3, 2), time unit: sec.\n"
     ]
    }
   ],
   "source": [
    "ep['direction'] = ['left', 'right', 'left']\n",
    "print(ep)"
   ]
  },
  {
   "cell_type": "markdown",
   "id": "a11746f9",
   "metadata": {},
   "source": [
    "<div class=\"render-all\">\n",
    "\n",
    "The object `tsd2` has 3 columns. Each column correspond to the rgb colors `[(0,0,1), (0.5, 0.5, 1), (0.1, 0.2, 0.3)]`. \n",
    "\n",
    "**Question:** Can you add them as metadata of `tsd2`?\n",
    "</div>"
   ]
  },
  {
   "cell_type": "code",
   "execution_count": 31,
   "id": "1b63c2ff",
   "metadata": {},
   "outputs": [
    {
     "name": "stdout",
     "output_type": "stream",
     "text": [
      "Time (s)    pineapple    banana         tomato\n",
      "----------  -----------  -------------  ---------------\n",
      "0.0         1.28196      -2.05415       1.55274\n",
      "1.0         0.78862      1.50818        -0.95718\n",
      "2.0         -0.73294     -0.26784       -0.50117\n",
      "3.0         -1.25616     0.38224        0.58413\n",
      "4.0         0.2662       0.1236         1.10852\n",
      "5.0         -1.47168     -0.47495       0.40166\n",
      "6.0         0.88059      -1.2004        -0.11626\n",
      "...         ...          ...            ...\n",
      "93.0        0.11549      1.11121        -0.78867\n",
      "94.0        1.09165      -0.97166       -1.16578\n",
      "95.0        -0.56039     -0.53209       1.09497\n",
      "96.0        -0.3149      -2.55897       -0.31255\n",
      "97.0        -0.2788      -0.07088       1.68987\n",
      "98.0        1.2342       1.57266        0.03773\n",
      "99.0        -0.44026     0.71375        0.84207\n",
      "Metadata\n",
      "--------    --------     --------       --------\n",
      "colors      (0, 0, 1)    (0.5, 0.5, 1)  (0.1, 0.2, 0.3)\n",
      "\n",
      "dtype: float64, shape: (100, 3)\n"
     ]
    }
   ],
   "source": [
    "tsd2['colors'] = [(0,0,1), (0.5, 0.5, 1), (0.1, 0.2, 0.3)]\n",
    "print(tsd2)"
   ]
  },
  {
   "cell_type": "markdown",
   "id": "57555d83",
   "metadata": {},
   "source": [
    "<div class=\"render-all\">\n",
    "\n",
    "You can also add metadata at initialization as a dictionnary using the keyword argument `metadata` : \n",
    "</div>"
   ]
  },
  {
   "cell_type": "code",
   "execution_count": 32,
   "id": "a33b06fb",
   "metadata": {
    "tags": [
     "render-all"
    ]
   },
   "outputs": [
    {
     "name": "stdout",
     "output_type": "stream",
     "text": [
      "  Index     rate  planet\n",
      "-------  -------  --------\n",
      "      0  0.03975  mars\n",
      "      1  0.053    venus\n",
      "      2  1.32506  saturn\n"
     ]
    }
   ],
   "source": [
    "tsgroup = nap.TsGroup({0:ts1, 1:ts2, 2:ts3}, metadata={'planet':['mars','venus', 'saturn']})\n",
    "\n",
    "print(tsgroup)"
   ]
  },
  {
   "cell_type": "markdown",
   "id": "4199ed29",
   "metadata": {},
   "source": [
    "<div class=\"render-all\">\n",
    "\n",
    "Metadata are accessible either as attributes (i.e. `tsgroup.planet`) or as dictionnary-like keys (i.e. `ep['direction']`).\n",
    "\n",
    "They can be used to slice objects. \n",
    "\n",
    "**Question:** Can you select only the elements of `tsgroup` with rate below 1Hz?\n",
    "</div>"
   ]
  },
  {
   "cell_type": "code",
   "execution_count": 33,
   "id": "6556e33f",
   "metadata": {},
   "outputs": [
    {
     "name": "stdout",
     "output_type": "stream",
     "text": [
      "  Index     rate  planet\n",
      "-------  -------  --------\n",
      "      0  0.03975  mars\n",
      "      1  0.053    venus\n",
      "  Index     rate  planet\n",
      "-------  -------  --------\n",
      "      0  0.03975  mars\n",
      "      1  0.053    venus\n",
      "  Index     rate  planet\n",
      "-------  -------  --------\n",
      "      0  0.03975  mars\n",
      "      1  0.053    venus\n"
     ]
    }
   ],
   "source": [
    "print(tsgroup[tsgroup.rate<1.0])\n",
    "\n",
    "print(tsgroup[tsgroup['rate']<1.0])\n",
    "\n",
    "print(tsgroup.getby_threshold(\"rate\", 1, \"<\"))\n"
   ]
  },
  {
   "cell_type": "markdown",
   "id": "69ffdfd8",
   "metadata": {},
   "source": [
    "<div class=\"render-all\">\n",
    "\n",
    "**Question:** Can you select the intervals in `ep` labelled as `'left'`?\n",
    "</div>"
   ]
  },
  {
   "cell_type": "code",
   "execution_count": 34,
   "id": "47ac8784",
   "metadata": {},
   "outputs": [
    {
     "name": "stdout",
     "output_type": "stream",
     "text": [
      "  index    start    end  direction\n",
      "      0       10     20  left\n",
      "      1       90     95  left\n",
      "shape: (2, 2), time unit: sec.\n"
     ]
    }
   ],
   "source": [
    "print(ep[ep.direction=='left'])"
   ]
  },
  {
   "cell_type": "markdown",
   "id": "047a138a",
   "metadata": {},
   "source": [
    "### Special case of slicing : `TsdFrame`"
   ]
  },
  {
   "cell_type": "code",
   "execution_count": 35,
   "id": "d3142f5c",
   "metadata": {
    "tags": [
     "render-all"
    ]
   },
   "outputs": [
    {
     "name": "stdout",
     "output_type": "stream",
     "text": [
      "Time (s)    12        0         1\n",
      "----------  --------  --------  --------\n",
      "0.0         0.56958   -0.03186  0.6755\n",
      "1.0         -1.13517  -0.47909  -0.81206\n",
      "2.0         -1.49216  0.20657   0.65618\n",
      "3.0         -1.56294  1.27224   -1.7636\n",
      "Metadata\n",
      "--------    --------  --------  --------\n",
      "alpha       2         1         0\n",
      "\n",
      "dtype: float64, shape: (4, 3)\n"
     ]
    }
   ],
   "source": [
    "tsdframe = nap.TsdFrame(t=np.arange(4), d=np.random.randn(4,3),\n",
    "  columns = [12, 0, 1], metadata={'alpha':[2,1,0]})\n",
    "\n",
    "print(tsdframe)"
   ]
  },
  {
   "cell_type": "markdown",
   "id": "ce334c4d",
   "metadata": {},
   "source": [
    "<div class=\"render-all\">\n",
    "\n",
    "**Question:** What happen when you do `tsdframe[0]` vs `tsdframe[:,0]` vs `tsdframe[[12,1]]`\n",
    "</div>"
   ]
  },
  {
   "cell_type": "code",
   "execution_count": 36,
   "id": "c4854987",
   "metadata": {},
   "outputs": [
    {
     "name": "stdout",
     "output_type": "stream",
     "text": [
      "[ 0.56957563 -0.03186034  0.67550281]\n"
     ]
    }
   ],
   "source": [
    "print(tsdframe[0])"
   ]
  },
  {
   "cell_type": "markdown",
   "id": "4f2165b5",
   "metadata": {},
   "source": [
    "<div class=\"render-all\">\n",
    "\n",
    "**Question:** What happen when you do `tsdframe.loc[0]` and `tsdframe.loc[[0,1]]`\n",
    "</div>"
   ]
  },
  {
   "cell_type": "code",
   "execution_count": 37,
   "id": "af5e17f7",
   "metadata": {},
   "outputs": [
    {
     "name": "stdout",
     "output_type": "stream",
     "text": [
      "Time (s)\n",
      "----------  ----------\n",
      "0           -0.0318603\n",
      "1           -0.479092\n",
      "2            0.206574\n",
      "3            1.27224\n",
      "dtype: float64, shape: (4,)\n",
      "Time (s)    0         1\n",
      "----------  --------  --------\n",
      "0.0         -0.03186  0.6755\n",
      "1.0         -0.47909  -0.81206\n",
      "2.0         0.20657   0.65618\n",
      "3.0         1.27224   -1.7636\n",
      "Metadata\n",
      "--------    --------  --------\n",
      "alpha       1         0\n",
      "\n",
      "dtype: float64, shape: (4, 2)\n"
     ]
    }
   ],
   "source": [
    "print(tsdframe.loc[0])\n",
    "print(tsdframe.loc[[0,1]])"
   ]
  },
  {
   "cell_type": "markdown",
   "id": "82e003e6",
   "metadata": {},
   "source": [
    "<div class=\"render-all\">\n",
    "\n",
    "**Question:** What happen when you do `tsdframe[tsdframe.alpha==2]`\n",
    "\n",
    "</div>"
   ]
  },
  {
   "cell_type": "code",
   "execution_count": 38,
   "id": "20e8a70c",
   "metadata": {},
   "outputs": [
    {
     "name": "stdout",
     "output_type": "stream",
     "text": [
      "Time (s)    12\n",
      "----------  --------\n",
      "0.0         0.56958\n",
      "1.0         -1.13517\n",
      "2.0         -1.49216\n",
      "3.0         -1.56294\n",
      "Metadata\n",
      "--------    --------\n",
      "alpha       2\n",
      "\n",
      "dtype: float64, shape: (4, 1)\n"
     ]
    }
   ],
   "source": [
    "print(tsdframe[tsdframe.alpha==2])"
   ]
  },
  {
   "cell_type": "markdown",
   "id": "9b281963",
   "metadata": {},
   "source": [
    "## Core functions of pynapple \n",
    "\n",
    "<div class=\"render-all\">\n",
    "\n",
    "This part focuses on the most important core functions of pynapple.\n",
    "\n",
    "**Question:** Using the `count` function, can you count the number of events within 1 second bins for `tsgroup` over the `ep_signal` intervals?\n",
    "</div>"
   ]
  },
  {
   "cell_type": "code",
   "execution_count": 39,
   "id": "ccf1f47f",
   "metadata": {},
   "outputs": [
    {
     "name": "stdout",
     "output_type": "stream",
     "text": [
      "Time (s)    0    1    2\n",
      "----------  ---  ---  ---\n",
      "10.5        0.0  1.0  1.0\n",
      "11.5        0.0  0.0  2.0\n",
      "12.5        0.0  0.0  2.0\n",
      "13.5        0.0  0.0  1.0\n",
      "14.5        0.0  0.0  0.0\n",
      "15.5        0.0  0.0  2.0\n",
      "16.5        0.0  0.0  0.0\n",
      "...         ...  ...  ...\n",
      "93.5        0.0  0.0  0.0\n",
      "94.5        0.0  0.0  0.0\n",
      "95.5        0.0  0.0  0.0\n",
      "96.5        0.0  0.0  0.0\n",
      "97.5        0.0  0.0  0.0\n",
      "98.5        0.0  0.0  0.0\n",
      "99.5        0.0  0.0  0.0\n",
      "dtype: float64, shape: (70, 3)\n"
     ]
    }
   ],
   "source": [
    "count = tsgroup.count(1, ep_signal)\n",
    "print(count)"
   ]
  },
  {
   "cell_type": "markdown",
   "id": "662b49ca",
   "metadata": {},
   "source": [
    "Pynapple works directly with matplotlib. Passing a time series object to `plt.plot` will display the figure with the correct time axis.\n",
    "\n",
    "**Question:** In two subplots, can you show the count and events over time?"
   ]
  },
  {
   "cell_type": "code",
   "execution_count": 40,
   "id": "ee6b1fa2",
   "metadata": {},
   "outputs": [
    {
     "data": {
      "text/plain": [
       "[<matplotlib.lines.Line2D at 0x7fe9601d74d0>]"
      ]
     },
     "execution_count": 40,
     "metadata": {},
     "output_type": "execute_result"
    },
    {
     "data": {
      "image/png": "[encoded data removed]",
      "text/plain": [
       "<Figure size 640x480 with 2 Axes>"
      ]
     },
     "metadata": {},
     "output_type": "display_data"
    }
   ],
   "source": [
    "plt.figure()\n",
    "ax = plt.subplot(211)\n",
    "plt.plot(count, 'o-')\n",
    "plt.subplot(212, sharex=ax)\n",
    "plt.plot(tsgroup.restrict(ep_signal).to_tsd(), '|')"
   ]
  },
  {
   "cell_type": "markdown",
   "id": "bacaab09",
   "metadata": {},
   "source": [
    "<div class=\"render-all\">\n",
    "\n",
    "From a set of timestamps, you want to assign them a set of values with the closest point in time of another time series.\n",
    "\n",
    "**Question:** Using the function `value_from`, can you assign values to `ts2` from the `tsd1` time series and call the output `new_tsd`?\n",
    "\n",
    "</div>"
   ]
  },
  {
   "cell_type": "code",
   "execution_count": 41,
   "id": "d6986f2e",
   "metadata": {},
   "outputs": [],
   "source": [
    "new_tsd = ts2.value_from(tsd1)"
   ]
  },
  {
   "cell_type": "markdown",
   "id": "f06d58b0",
   "metadata": {},
   "source": [
    "<div class=\"render-all\">\n",
    "\n",
    "**Question:** Can you plot together `tsd1`, `ts2` and `new_tsd`?\n",
    "\n",
    "</div>"
   ]
  },
  {
   "cell_type": "code",
   "execution_count": 42,
   "id": "fd8fe9a7",
   "metadata": {},
   "outputs": [
    {
     "data": {
      "text/plain": [
       "[<matplotlib.lines.Line2D at 0x7fe90c749150>]"
      ]
     },
     "execution_count": 42,
     "metadata": {},
     "output_type": "execute_result"
    },
    {
     "data": {
      "image/png": "[encoded data removed]",
      "text/plain": [
       "<Figure size 640x480 with 1 Axes>"
      ]
     },
     "metadata": {},
     "output_type": "display_data"
    }
   ],
   "source": [
    "plt.figure()\n",
    "plt.plot(tsd1)\n",
    "plt.plot(new_tsd, 'o-')\n",
    "plt.plot(ts2.fillna(0), 'o')"
   ]
  },
  {
   "cell_type": "markdown",
   "id": "b692febb",
   "metadata": {},
   "source": [
    "<div class=\"render-all\">\n",
    "\n",
    "One important aspect of data analysis is to bring data to the same size. Pynapple provides the `bin_average` function to downsample data.\n",
    "\n",
    "**Question:** Can you downsample `tsd2` to one time point every 5 seconds?\n",
    "\n",
    "</div>"
   ]
  },
  {
   "cell_type": "code",
   "execution_count": 43,
   "id": "1864b0fe",
   "metadata": {},
   "outputs": [],
   "source": [
    "new_tsd2 = tsd2.bin_average(5.0)"
   ]
  },
  {
   "cell_type": "markdown",
   "id": "076a5093",
   "metadata": {},
   "source": [
    "<div class=\"render-all\">\n",
    "\n",
    "**Question:** Can you plot the `tomato` column from `tsd2` as well as the downsampled version?\n",
    "\n",
    "</div>"
   ]
  },
  {
   "cell_type": "code",
   "execution_count": 44,
   "id": "46836d70",
   "metadata": {},
   "outputs": [
    {
     "data": {
      "text/plain": [
       "[<matplotlib.lines.Line2D at 0x7fe94c23a550>]"
      ]
     },
     "execution_count": 44,
     "metadata": {},
     "output_type": "execute_result"
    },
    {
     "data": {
      "image/png": "[encoded data removed]",
      "text/plain": [
       "<Figure size 640x480 with 1 Axes>"
      ]
     },
     "metadata": {},
     "output_type": "display_data"
    }
   ],
   "source": [
    "plt.figure()\n",
    "plt.plot(tsd2['tomato'])\n",
    "plt.plot(new_tsd2['tomato'], 'o-')"
   ]
  },
  {
   "cell_type": "markdown",
   "id": "479e5028",
   "metadata": {},
   "source": [
    "<div class=\"render-all\">\n",
    "\n",
    "For `tsd1`, you want to find all the epochs for which the value is above 0.0. Pynapple provides the function `threshold` to get 1 dimensional time series above or below a certain value.\n",
    "\n",
    "**Question**: Can you print the epochs for which `tsd1` is above 0.0?\n",
    "</div>"
   ]
  },
  {
   "cell_type": "code",
   "execution_count": 45,
   "id": "c0aa74d0",
   "metadata": {},
   "outputs": [
    {
     "name": "stdout",
     "output_type": "stream",
     "text": [
      "index    start    end\n",
      "0        10.5     11.5\n",
      "1        12.5     18.5\n",
      "2        20.5     23.5\n",
      "3        24.5     25.5\n",
      "4        26.5     29.5\n",
      "5        50.5     51.5\n",
      "6        58.5     60.5\n",
      "...      ...      ...\n",
      "9        10.5     11.5\n",
      "10       12.5     18.5\n",
      "11       20.5     23.5\n",
      "12       24.5     25.5\n",
      "13       26.5     29.5\n",
      "14       50.5     51.5\n",
      "15       58.5     60.5\n",
      "shape: (16, 2), time unit: sec.\n"
     ]
    }
   ],
   "source": [
    "ep_above = tsd1.threshold(0.0).time_support\n",
    "\n",
    "print(ep_above)"
   ]
  },
  {
   "cell_type": "markdown",
   "id": "7c49513f",
   "metadata": {},
   "source": [
    "<div class=\"render-all\">\n",
    "\n",
    "**Question**: can you plot `tsd1` as well as the epochs for which `tsd1` is above 0.0?\n",
    "</div>"
   ]
  },
  {
   "cell_type": "code",
   "execution_count": 46,
   "id": "74040909",
   "metadata": {},
   "outputs": [
    {
     "data": {
      "text/plain": [
       "[<matplotlib.patches.Rectangle at 0x7fe90c1f4f90>,\n",
       " <matplotlib.patches.Rectangle at 0x7fe8f0705310>,\n",
       " <matplotlib.patches.Rectangle at 0x7fe8f0706010>,\n",
       " <matplotlib.patches.Rectangle at 0x7fe8f0706c10>,\n",
       " <matplotlib.patches.Rectangle at 0x7fe8f07078d0>,\n",
       " <matplotlib.patches.Rectangle at 0x7fe8f0710610>,\n",
       " <matplotlib.patches.Rectangle at 0x7fe8f0711350>,\n",
       " <matplotlib.patches.Rectangle at 0x7fe94c229490>,\n",
       " <matplotlib.patches.Rectangle at 0x7fe8f0712890>,\n",
       " <matplotlib.patches.Rectangle at 0x7fe94c6b3690>,\n",
       " <matplotlib.patches.Rectangle at 0x7fe8f0713c10>,\n",
       " <matplotlib.patches.Rectangle at 0x7fe8f0714750>,\n",
       " <matplotlib.patches.Rectangle at 0x7fe8f0715150>,\n",
       " <matplotlib.patches.Rectangle at 0x7fe8f0715bd0>,\n",
       " <matplotlib.patches.Rectangle at 0x7fe8f0716490>,\n",
       " <matplotlib.patches.Rectangle at 0x7fe8f0716f10>]"
      ]
     },
     "execution_count": 46,
     "metadata": {},
     "output_type": "execute_result"
    },
    {
     "data": {
      "image/png": "[encoded data removed]",
      "text/plain": [
       "<Figure size 640x480 with 1 Axes>"
      ]
     },
     "metadata": {},
     "output_type": "display_data"
    }
   ],
   "source": [
    "plt.figure()\n",
    "plt.plot(tsd1)\n",
    "plt.plot(tsd1.threshold(0.0), 'o-')\n",
    "[plt.axvspan(s, e, alpha=0.2) for s,e in ep_above.values]"
   ]
  },
  {
   "cell_type": "markdown",
   "id": "af5495a1",
   "metadata": {},
   "source": [
    "## Important\n",
    "\n",
    "<div class=\"render-all\">\n",
    "\n",
    "**Question:** Does this work?\n",
    "If not, please ask a TA.\n",
    "\n",
    "</div>"
   ]
  },
  {
   "cell_type": "code",
   "execution_count": 47,
   "id": "c43ddf36",
   "metadata": {
    "tags": [
     "render-all"
    ]
   },
   "outputs": [
    {
     "name": "stderr",
     "output_type": "stream",
     "text": [
      "Downloading file 'Mouse32-140822.nwb' from 'https://osf.io/jb2gd/download' to '/home/agent/workspace/urorse_ccn-software-jan-2025_jan/lib/python3.11/data'.\n"
     ]
    },
    {
     "name": "stdout",
     "output_type": "stream",
     "text": [
      "/home/agent/workspace/urorse_ccn-software-jan-2025_jan/lib/python3.11/data/Mouse32-140822.nwb\n"
     ]
    }
   ],
   "source": [
    "import workshop_utils\n",
    "path = workshop_utils.fetch_data(\"Mouse32-140822.nwb\")\n",
    "print(path)"
   ]
  }
 ],
 "metadata": {
  "jupytext": {
   "text_representation": {
    "extension": ".md",
    "format_name": "myst",
    "format_version": 0.13,
    "jupytext_version": "1.16.6"
   }
  },
  "kernelspec": {
   "display_name": "Python 3",
   "language": "python",
   "name": "python3"
  },
  "language_info": {
   "codemirror_mode": {
    "name": "ipython",
    "version": 3
   },
   "file_extension": ".py",
   "mimetype": "text/x-python",
   "name": "python",
   "nbconvert_exporter": "python",
   "pygments_lexer": "ipython3",
   "version": "3.11.0rc1"
  },
  "source_map": [
   14,
   17,
   50,
   56,
   61,
   79,
   94,
   98,
   106,
   108,
   116,
   118,
   126,
   128,
   136,
   139,
   149,
   153,
   163,
   165,
   173,
   175,
   187,
   189,
   199,
   201,
   209,
   212,
   222,
   226,
   233,
   238,
   242,
   249,
   251,
   257,
   260,
   267,
   269,
   276,
   278,
   285,
   287,
   294,
   296,
   317,
   319,
   326,
   328,
   344,
   346,
   357,
   359,
   375,
   377,
   384,
   386,
   396,
   399,
   408,
   411,
   418,
   424,
   435,
   442,
   449,
   451,
   455,
   462,
   469,
   471,
   478,
   481,
   489,
   491,
   503,
   506,
   513,
   519,
   530,
   532,
   540,
   545,
   555,
   557,
   565,
   569,
   578,
   582,
   589,
   594,
   606
  ]
 },
 "nbformat": 4,
 "nbformat_minor": 5
}