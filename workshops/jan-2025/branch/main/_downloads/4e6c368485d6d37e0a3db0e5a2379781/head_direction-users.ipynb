{
 "cells": [
  {
   "cell_type": "code",
   "execution_count": null,
   "id": "832202c6",
   "metadata": {
    "tags": [
     "hide-input",
     "render-all"
    ]
   },
   "outputs": [],
   "source": [
    "%matplotlib inline\n",
    "import warnings\n",
    "\n",
    "warnings.filterwarnings(\n",
    "    \"ignore\",\n",
    "    message=\"plotting functions contained within `_documentation_utils` are intended for nemos's documentation.\",\n",
    "    category=UserWarning,\n",
    ")\n",
    "\n",
    "warnings.filterwarnings(\n",
    "    \"ignore\",\n",
    "    message=\"Ignoring cached namespace 'core'\",\n",
    "    category=UserWarning,\n",
    ")\n",
    "\n",
    "warnings.filterwarnings(\n",
    "    \"ignore\",\n",
    "    message=(\n",
    "        \"invalid value encountered in div \"\n",
    "    ),\n",
    "    category=RuntimeWarning,\n",
    ")"
   ]
  },
  {
   "cell_type": "markdown",
   "id": "7680607c",
   "metadata": {},
   "source": [
    ":::{admonition} Download\n",
    ":class: important render-all\n",
    "\n",
    "This notebook can be downloaded as **{nb-download}`head_direction-users.ipynb`**. See the button at the top right to download as markdown or pdf.\n",
    "\n",
    ":::\n",
    "# Fit head-direction population\n",
    "This notebook has had all its explanatory text removed and has not been run.\n",
    " It is intended to be downloaded and run locally (or on the provided binder)\n",
    " while listening to the presenter's explanation. In order to see the fully\n",
    " rendered of this notebook, go [here](../../full/day2/head_direction.md)\n",
    "## Learning objectives\n",
    "\n",
    "- Include history-related predictors to NeMoS GLM.\n",
    "- Reduce over-fitting with `Basis`.\n",
    "- Learn functional connectivity."
   ]
  },
  {
   "cell_type": "code",
   "execution_count": null,
   "id": "29ac3c2b",
   "metadata": {
    "tags": [
     "render-all"
    ]
   },
   "outputs": [],
   "source": [
    "import matplotlib.pyplot as plt\n",
    "import numpy as np\n",
    "import pynapple as nap\n",
    "\n",
    "import nemos as nmo\n",
    "\n",
    "# some helper plotting functions\n",
    "from nemos import _documentation_utils as doc_plots\n",
    "import workshop_utils\n",
    "\n",
    "# configure pynapple to ignore conversion warning\n",
    "nap.nap_config.suppress_conversion_warnings = True\n",
    "\n",
    "# configure plots some\n",
    "plt.style.use(nmo.styles.plot_style)"
   ]
  },
  {
   "cell_type": "markdown",
   "id": "43e46786",
   "metadata": {},
   "source": [
    "## Data Streaming\n",
    "\n",
    "- Fetch the data."
   ]
  },
  {
   "cell_type": "code",
   "execution_count": null,
   "id": "f0ae1167",
   "metadata": {
    "tags": [
     "render-all"
    ]
   },
   "outputs": [],
   "source": [
    "path = workshop_utils.fetch.fetch_data(\"Mouse32-140822.nwb\")"
   ]
  },
  {
   "cell_type": "markdown",
   "id": "3909dd5e",
   "metadata": {},
   "source": [
    "## Pynapple\n",
    "\n",
    "- `load_file` : open the NWB file and give a preview."
   ]
  },
  {
   "cell_type": "code",
   "execution_count": null,
   "id": "7402766c",
   "metadata": {
    "tags": [
     "render-all"
    ]
   },
   "outputs": [],
   "source": [
    "data = nap.load_file(path)\n",
    "\n",
    "data"
   ]
  },
  {
   "cell_type": "markdown",
   "id": "bc254d57",
   "metadata": {},
   "source": [
    "- Load the units"
   ]
  },
  {
   "cell_type": "code",
   "execution_count": null,
   "id": "3172b4d4",
   "metadata": {
    "tags": [
     "render-all"
    ]
   },
   "outputs": [],
   "source": [
    "spikes = data[\"units\"]\n",
    "\n",
    "spikes"
   ]
  },
  {
   "cell_type": "markdown",
   "id": "c3298053",
   "metadata": {},
   "source": [
    "- Load the epochs and take only wakefulness"
   ]
  },
  {
   "cell_type": "code",
   "execution_count": null,
   "id": "9708b272",
   "metadata": {
    "tags": [
     "render-all"
    ]
   },
   "outputs": [],
   "source": [
    "epochs = data[\"epochs\"]\n",
    "wake_epochs = epochs[epochs.tags == \"wake\"]"
   ]
  },
  {
   "cell_type": "markdown",
   "id": "a0c1d420",
   "metadata": {},
   "source": [
    "- Load the angular head-direction of the animal (in radians)"
   ]
  },
  {
   "cell_type": "code",
   "execution_count": null,
   "id": "1d89f4d5",
   "metadata": {
    "tags": [
     "render-all"
    ]
   },
   "outputs": [],
   "source": [
    "angle = data[\"ry\"]"
   ]
  },
  {
   "cell_type": "markdown",
   "id": "7fbcce08",
   "metadata": {},
   "source": [
    "- Select only those units that are in ADn\n",
    "- Restrict the activity to wakefulness (both the spiking activity and the angle)"
   ]
  },
  {
   "cell_type": "code",
   "execution_count": null,
   "id": "32289461",
   "metadata": {
    "tags": [
     "render-all"
    ]
   },
   "outputs": [],
   "source": [
    "spikes = spikes[spikes.location == \"adn\"]\n",
    "\n",
    "spikes = spikes.restrict(wake_epochs).getby_threshold(\"rate\", 1.0)\n",
    "angle = angle.restrict(wake_epochs)"
   ]
  },
  {
   "cell_type": "markdown",
   "id": "99239d1d",
   "metadata": {},
   "source": [
    "- Compute tuning curves as a function of head-direction"
   ]
  },
  {
   "cell_type": "code",
   "execution_count": null,
   "id": "762d8bca",
   "metadata": {
    "tags": [
     "render-all"
    ]
   },
   "outputs": [],
   "source": [
    "tuning_curves = nap.compute_1d_tuning_curves(\n",
    "    group=spikes, feature=angle, nb_bins=61, minmax=(0, 2 * np.pi)\n",
    ")"
   ]
  },
  {
   "cell_type": "markdown",
   "id": "960db637",
   "metadata": {},
   "source": [
    "- Plot the tuning curves."
   ]
  },
  {
   "cell_type": "code",
   "execution_count": null,
   "id": "ca7103a1",
   "metadata": {
    "tags": [
     "render-all"
    ]
   },
   "outputs": [],
   "source": [
    "fig, ax = plt.subplots(1, 2, figsize=(12, 4))\n",
    "ax[0].plot(tuning_curves.iloc[:, 0])\n",
    "ax[0].set_xlabel(\"Angle (rad)\")\n",
    "ax[0].set_ylabel(\"Firing rate (Hz)\")\n",
    "ax[1].plot(tuning_curves.iloc[:, 1])\n",
    "ax[1].set_xlabel(\"Angle (rad)\")\n",
    "plt.tight_layout()"
   ]
  },
  {
   "cell_type": "markdown",
   "id": "a98f7732",
   "metadata": {},
   "source": [
    "- Let's visualize the data at the population level."
   ]
  },
  {
   "cell_type": "code",
   "execution_count": null,
   "id": "cb570f75",
   "metadata": {
    "tags": [
     "render-all"
    ]
   },
   "outputs": [],
   "source": [
    "fig = workshop_utils.plot_head_direction_tuning_model(\n",
    "    tuning_curves, spikes, angle, threshold_hz=1, start=8910, end=8960\n",
    ")"
   ]
  },
  {
   "cell_type": "markdown",
   "id": "bdd5f389",
   "metadata": {},
   "source": [
    "- Define a `wake_ep` IntervalSet with the first 3 minutes of wakefulness (to speed up model fitting)."
   ]
  },
  {
   "cell_type": "code",
   "execution_count": null,
   "id": "9022f883",
   "metadata": {},
   "outputs": [],
   "source": [
    "wake_ep ="
   ]
  },
  {
   "cell_type": "markdown",
   "id": "bccfb6d6",
   "metadata": {},
   "source": [
    "- bin the spike trains in 10 ms bin (`count = ...`)."
   ]
  },
  {
   "cell_type": "code",
   "execution_count": null,
   "id": "0f13cee5",
   "metadata": {},
   "outputs": [],
   "source": [
    "bin_size =\n",
    "count ="
   ]
  },
  {
   "cell_type": "markdown",
   "id": "f7d71b04",
   "metadata": {},
   "source": [
    "- sort the neurons by their preferred direction using pandas:\n",
    "    - Preferred angle:  `pref_ang = tuning_curves.idxmax()`.\n",
    "    - Define a new `count` TsdFrame, sorting the columns according to `pref_ang`."
   ]
  },
  {
   "cell_type": "code",
   "execution_count": null,
   "id": "95e0f1bb",
   "metadata": {},
   "outputs": [],
   "source": [
    "pref_ang = tuning_curves.idxmax()\n",
    "# sort the columns by angle\n",
    "count = nap.TsdFrame("
   ]
  },
  {
   "cell_type": "markdown",
   "id": "5c88b0bf",
   "metadata": {},
   "source": [
    "## NeMoS \n",
    "### Self-Connected Single Neuron\n",
    "\n",
    "- Start with modeling a self-connected single neuron.\n",
    "- Select a neuron (call the variable `neuron_count`).\n",
    "- Select the first 1.2 seconds for visualization. (call the epoch `epoch_one_spk`)."
   ]
  },
  {
   "cell_type": "code",
   "execution_count": null,
   "id": "9a566c96",
   "metadata": {},
   "outputs": [],
   "source": [
    "# select neuron 0 spike count time series\n",
    "neuron_count =\n",
    "# restrict to a smaller time interval (1.2 sec)\n",
    "epoch_one_spk ="
   ]
  },
  {
   "cell_type": "markdown",
   "id": "2f4cc7c4",
   "metadata": {},
   "source": [
    "#### Features Construction\n",
    "\n",
    "- Fix a history window of 800ms (0.8 seconds).\n",
    "- Plot the result using `doc_plots.plot_history_window`"
   ]
  },
  {
   "cell_type": "code",
   "execution_count": null,
   "id": "6ca9cb8a",
   "metadata": {
    "tags": [
     "render-all"
    ]
   },
   "outputs": [],
   "source": [
    "# set the size of the spike history window in seconds\n",
    "window_size_sec = 0.8\n",
    "\n",
    "doc_plots.plot_history_window(neuron_count, epoch_one_spk, window_size_sec);"
   ]
  },
  {
   "cell_type": "markdown",
   "id": "99e34cb5",
   "metadata": {},
   "source": [
    "- By shifting the time window we can predict new count bins.\n",
    "- Concatenating all the shifts, we form our feature matrix."
   ]
  },
  {
   "cell_type": "code",
   "execution_count": null,
   "id": "427173b6",
   "metadata": {
    "tags": [
     "render-all"
    ]
   },
   "outputs": [],
   "source": [
    "doc_plots.run_animation(neuron_count, epoch_one_spk.start[0])"
   ]
  },
  {
   "cell_type": "markdown",
   "id": "1b074a1a",
   "metadata": {},
   "source": [
    "- This is equivalent to convolving `count` with an identity matrix.\n",
    "- That's what NeMoS `HistoryConv` basis is for: \n",
    "    - Convert the window size in number of bins (call it `window_size`)\n",
    "    - Define an `HistoryConv` basis covering this window size (call it `history_basis`).\n",
    "    - Create the feature matrix with `history_basis.compute_features` (call it `input_feature`)."
   ]
  },
  {
   "cell_type": "code",
   "execution_count": null,
   "id": "4ebdcf17",
   "metadata": {},
   "outputs": [],
   "source": [
    "# convert the prediction window to bins (by multiplying with the sampling rate)\n",
    "window_size =\n",
    "# define the history bases\n",
    "history_basis =\n",
    "# create the feature matrix\n",
    "input_feature ="
   ]
  },
  {
   "cell_type": "markdown",
   "id": "af3e7559",
   "metadata": {},
   "source": [
    "- NeMoS NaN pads if there aren't enough samples to predict the counts."
   ]
  },
  {
   "cell_type": "code",
   "execution_count": null,
   "id": "9b6ec887",
   "metadata": {
    "tags": [
     "render-all"
    ]
   },
   "outputs": [],
   "source": [
    "# print the NaN indices along the time axis\n",
    "print(\"NaN indices:\\n\", np.where(np.isnan(input_feature[:, 0]))[0]) "
   ]
  },
  {
   "cell_type": "markdown",
   "id": "cbc2638a",
   "metadata": {},
   "source": [
    "- Check the shape of the counts and features."
   ]
  },
  {
   "cell_type": "code",
   "execution_count": null,
   "id": "e9c511c1",
   "metadata": {},
   "outputs": [],
   "source": [
    "# enter code here"
   ]
  },
  {
   "cell_type": "markdown",
   "id": "48d5b02b",
   "metadata": {},
   "source": [
    "- Plot the convolution output with `workshop_utils.plot_features`."
   ]
  },
  {
   "cell_type": "code",
   "execution_count": null,
   "id": "e49165d2",
   "metadata": {
    "tags": [
     "render-all"
    ]
   },
   "outputs": [],
   "source": [
    "suptitle = \"Input feature: Count History\"\n",
    "neuron_id = 0\n",
    "workshop_utils.plot_features(input_feature, count.rate, suptitle);"
   ]
  },
  {
   "cell_type": "markdown",
   "id": "f0632f34",
   "metadata": {},
   "source": [
    "#### Fitting the Model\n",
    "\n",
    "- Split your epochs in two for validation purposes:\n",
    "    - Define two `IntervalSet`s, each with half of the `input_feature.time_support` duration"
   ]
  },
  {
   "cell_type": "code",
   "execution_count": null,
   "id": "0fcb6c33",
   "metadata": {
    "tags": [
     "render-all"
    ]
   },
   "outputs": [],
   "source": [
    "# construct the train and test epochs\n",
    "duration = input_feature.time_support.tot_length(\"s\")\n",
    "start = input_feature.time_support[\"start\"]\n",
    "end = input_feature.time_support[\"end\"]\n",
    "\n",
    "# define the interval sets\n",
    "first_half = nap.IntervalSet(start, start + duration / 2)\n",
    "second_half = nap.IntervalSet(start + duration / 2, end)"
   ]
  },
  {
   "cell_type": "markdown",
   "id": "b481c10b",
   "metadata": {},
   "source": [
    "- Fit a GLM to the first half."
   ]
  },
  {
   "cell_type": "code",
   "execution_count": null,
   "id": "730394f2",
   "metadata": {},
   "outputs": [],
   "source": [
    "# define the GLM object\n",
    "model = \n",
    "# Fit over the training epochs"
   ]
  },
  {
   "cell_type": "markdown",
   "id": "47b8309a",
   "metadata": {},
   "source": [
    "- Plot the weights (`model.coef_`)."
   ]
  },
  {
   "cell_type": "code",
   "execution_count": null,
   "id": "d60032d5",
   "metadata": {
    "tags": [
     "render-all"
    ]
   },
   "outputs": [],
   "source": [
    "plt.figure()\n",
    "plt.title(\"Spike History Weights\")\n",
    "plt.plot(np.arange(window_size) / count.rate, np.squeeze(model.coef_), lw=2, label=\"GLM raw history 1st Half\")\n",
    "plt.axhline(0, color=\"k\", lw=0.5)\n",
    "plt.xlabel(\"Time From Spike (sec)\")\n",
    "plt.ylabel(\"Kernel\")\n",
    "plt.legend()"
   ]
  },
  {
   "cell_type": "markdown",
   "id": "882e3da1",
   "metadata": {},
   "source": [
    "#### Inspecting the results\n",
    "\n",
    "- Fit on the other half."
   ]
  },
  {
   "cell_type": "code",
   "execution_count": null,
   "id": "87baf24d",
   "metadata": {},
   "outputs": [],
   "source": [
    "# fit on the test set\n",
    "model_second_half = "
   ]
  },
  {
   "cell_type": "markdown",
   "id": "a9ce11f2",
   "metadata": {},
   "source": [
    "- Compare results."
   ]
  },
  {
   "cell_type": "code",
   "execution_count": null,
   "id": "5b011c36",
   "metadata": {
    "tags": [
     "render-all"
    ]
   },
   "outputs": [],
   "source": [
    "plt.figure()\n",
    "plt.title(\"Spike History Weights\")\n",
    "plt.plot(np.arange(window_size) / count.rate, np.squeeze(model.coef_),\n",
    "         label=\"GLM raw history 1st Half\", lw=2)\n",
    "plt.plot(np.arange(window_size) / count.rate,  np.squeeze(model_second_half.coef_),\n",
    "         color=\"orange\", label=\"GLM raw history 2nd Half\", lw=2)\n",
    "plt.axhline(0, color=\"k\", lw=0.5)\n",
    "plt.xlabel(\"Time From Spike (sec)\")\n",
    "plt.ylabel(\"Kernel\")\n",
    "plt.legend()"
   ]
  },
  {
   "cell_type": "markdown",
   "id": "164843e8",
   "metadata": {},
   "source": [
    "#### Reducing feature dimensionality\n",
    "\n",
    "- Visualize the raised cosine basis."
   ]
  },
  {
   "cell_type": "code",
   "execution_count": null,
   "id": "64af40e6",
   "metadata": {
    "tags": [
     "render-all"
    ]
   },
   "outputs": [],
   "source": [
    "doc_plots.plot_basis();"
   ]
  },
  {
   "cell_type": "markdown",
   "id": "911a6332",
   "metadata": {},
   "source": [
    "- Define the basis `RaisedCosineLogConv`and name it `basis`. \n",
    "- Basis parameters:\n",
    "    - 8 basis functions.\n",
    "    - Window size of 0.8sec."
   ]
  },
  {
   "cell_type": "code",
   "execution_count": null,
   "id": "cfdc9540",
   "metadata": {},
   "outputs": [],
   "source": [
    "# a basis object can be instantiated in \"conv\" mode for convolving  the input.\n",
    "basis ="
   ]
  },
  {
   "cell_type": "markdown",
   "id": "4583af66",
   "metadata": {},
   "source": [
    "- Convolve the counts with the basis functions. (Call the output `conv_spk`)\n",
    "- Print the shape of `conv_spk` and compare it to `input_feature`."
   ]
  },
  {
   "cell_type": "code",
   "execution_count": null,
   "id": "518659cd",
   "metadata": {},
   "outputs": [],
   "source": [
    "# convolve the basis\n",
    "conv_spk =\n",
    "# print the shape\n",
    "print(f\"Raw count history as feature: {input_feature.shape}\")\n",
    "print(f\"Compressed count history as feature: {conv_spk.shape}\")"
   ]
  },
  {
   "cell_type": "markdown",
   "id": "48372ac6",
   "metadata": {},
   "source": [
    "- Visualize the output."
   ]
  },
  {
   "cell_type": "code",
   "execution_count": null,
   "id": "dc1e0e7b",
   "metadata": {
    "tags": [
     "render-all"
    ]
   },
   "outputs": [],
   "source": [
    "# Visualize the convolution results\n",
    "epoch_one_spk = nap.IntervalSet(8917.5, 8918.5)\n",
    "epoch_multi_spk = nap.IntervalSet(8979.2, 8980.2)\n",
    "\n",
    "doc_plots.plot_convolved_counts(neuron_count, conv_spk, epoch_one_spk, epoch_multi_spk);"
   ]
  },
  {
   "cell_type": "markdown",
   "id": "08dce83a",
   "metadata": {},
   "source": [
    "#### Fit and compare the models\n",
    "\n",
    "- Fit the model using the compressed features. Call it `model_basis`."
   ]
  },
  {
   "cell_type": "code",
   "execution_count": null,
   "id": "4864cbdd",
   "metadata": {},
   "outputs": [],
   "source": [
    "# use restrict on interval set training and fit a GLM\n",
    "model_basis ="
   ]
  },
  {
   "cell_type": "markdown",
   "id": "cac5664a",
   "metadata": {},
   "source": [
    "- Reconstruct the history filter:\n",
    "    - Extract the basis kernels with `_, basis_kernels = basis.evaluate_on_grid(window_size)`.\n",
    "    - Multiply the `basis_kernel` with the coefficient using `np.matmul`.\n",
    "- Check the shape of `self_connection`."
   ]
  },
  {
   "cell_type": "code",
   "execution_count": null,
   "id": "6bb529f6",
   "metadata": {},
   "outputs": [],
   "source": [
    "# get the basis function kernels\n",
    "_, basis_kernels = \n",
    "# multiply with the weights\n",
    "self_connection = \n",
    "# print the shape of self_connection"
   ]
  },
  {
   "cell_type": "markdown",
   "id": "0564342a",
   "metadata": {},
   "source": [
    "- Check if with less parameter we are not over-fitting.\n",
    "- Fit the other half of the data. Name it `model_basis_second_half`."
   ]
  },
  {
   "cell_type": "code",
   "execution_count": null,
   "id": "c21f1881",
   "metadata": {},
   "outputs": [],
   "source": [
    "model_basis_second_half = "
   ]
  },
  {
   "cell_type": "markdown",
   "id": "4b9b1b57",
   "metadata": {},
   "source": [
    "- Get the response filters: multiply the `basis_kernels` with the weights from `model_basis_second_half`.\n",
    "- Call the output `self_connection_second_half`."
   ]
  },
  {
   "cell_type": "code",
   "execution_count": null,
   "id": "6c3e8f08",
   "metadata": {},
   "outputs": [],
   "source": [
    "self_connection_second_half = "
   ]
  },
  {
   "cell_type": "markdown",
   "id": "0e05dc2c",
   "metadata": {},
   "source": [
    "- Plot and compare the results."
   ]
  },
  {
   "cell_type": "code",
   "execution_count": null,
   "id": "5bddc42e",
   "metadata": {
    "tags": [
     "render-all"
    ]
   },
   "outputs": [],
   "source": [
    "time = np.arange(window_size) / count.rate\n",
    "plt.figure()\n",
    "plt.title(\"Spike History Weights\")\n",
    "plt.plot(time, np.squeeze(model.coef_), \"k\", alpha=0.3, label=\"GLM raw history 1st half\")\n",
    "plt.plot(time, np.squeeze(model_second_half.coef_), alpha=0.3, color=\"orange\", label=\"GLM raw history 2nd half\")\n",
    "plt.plot(time, self_connection, \"--k\", lw=2, label=\"GLM basis 1st half\")\n",
    "plt.plot(time, self_connection_second_half, color=\"orange\", lw=2, ls=\"--\", label=\"GLM basis 2nd half\")\n",
    "plt.axhline(0, color=\"k\", lw=0.5)\n",
    "plt.xlabel(\"Time from spike (sec)\")\n",
    "plt.ylabel(\"Weight\")\n",
    "plt.legend()"
   ]
  },
  {
   "cell_type": "markdown",
   "id": "f57f694e",
   "metadata": {},
   "source": [
    "- Predict the rates from `model` and `model_basis`. Call it `rate_history` and `rate_basis`.\n",
    "- Convert the rate from spike/bin to spike/sec by multiplying with `conv_spk.rate`."
   ]
  },
  {
   "cell_type": "code",
   "execution_count": null,
   "id": "95ddf87f",
   "metadata": {},
   "outputs": [],
   "source": [
    "# enter code here"
   ]
  },
  {
   "cell_type": "markdown",
   "id": "931dcd52",
   "metadata": {},
   "source": [
    "- Plot the results."
   ]
  },
  {
   "cell_type": "code",
   "execution_count": null,
   "id": "ea7d7493",
   "metadata": {
    "tags": [
     "render-all"
    ]
   },
   "outputs": [],
   "source": [
    "ep = nap.IntervalSet(start=8819.4, end=8821)\n",
    "# plot the rates\n",
    "doc_plots.plot_rates_and_smoothed_counts(\n",
    "    neuron_count,\n",
    "    {\"Self-connection raw history\":rate_history, \"Self-connection bsais\": rate_basis}\n",
    ");"
   ]
  },
  {
   "cell_type": "markdown",
   "id": "744ed866",
   "metadata": {},
   "source": [
    "### All-to-all Connectivity\n",
    "#### Preparing the features\n",
    "\n",
    "- Re-define the basis.\n",
    "- Convolve all counts. Call the output in `convolved_count`.\n",
    "- Print the output shape"
   ]
  },
  {
   "cell_type": "code",
   "execution_count": null,
   "id": "8261f704",
   "metadata": {},
   "outputs": [],
   "source": [
    "# reset the input shape by passing the pop. count\n",
    "basis =\n",
    "# convolve all the neurons\n",
    "convolved_count = "
   ]
  },
  {
   "cell_type": "markdown",
   "id": "3fab5739",
   "metadata": {},
   "source": [
    "#### Fitting the Model\n",
    "\n",
    "- Fit a `PopulationGLM`, call the object `model`\n",
    "- Use Ridge regularization with a `regularizer_strength=0.1`\n",
    "- Print the shape of the estimated coefficients."
   ]
  },
  {
   "cell_type": "code",
   "execution_count": null,
   "id": "71e05e5f",
   "metadata": {},
   "outputs": [],
   "source": [
    "model =\n",
    "print(f\"Model coefficients shape: {model.coef_.shape}\")"
   ]
  },
  {
   "cell_type": "markdown",
   "id": "bac4f7be",
   "metadata": {},
   "source": [
    "#### Comparing model predictions.\n",
    "\n",
    "- Predict the firing rate of each neuron. Call it `predicted_firing_rate`.\n",
    "- Convert the rate from spike/bin to spike/sec."
   ]
  },
  {
   "cell_type": "code",
   "execution_count": null,
   "id": "a24cce4f",
   "metadata": {},
   "outputs": [],
   "source": [
    "predicted_firing_rate ="
   ]
  },
  {
   "cell_type": "markdown",
   "id": "ac20a149",
   "metadata": {},
   "source": [
    "- Visualize the predicted rate and tuning function."
   ]
  },
  {
   "cell_type": "code",
   "execution_count": null,
   "id": "eadf7a00",
   "metadata": {
    "tags": [
     "render-all"
    ]
   },
   "outputs": [],
   "source": [
    "# use pynapple for time axis for all variables plotted for tick labels in imshow\n",
    "workshop_utils.plot_head_direction_tuning_model(tuning_curves, spikes, angle, \n",
    "                                                predicted_firing_rate, threshold_hz=1,\n",
    "                                                start=8910, end=8960, cmap_label=\"hsv\");"
   ]
  },
  {
   "cell_type": "markdown",
   "id": "afb92311",
   "metadata": {},
   "source": [
    "- Visually compare all the models."
   ]
  },
  {
   "cell_type": "code",
   "execution_count": null,
   "id": "de7d6d36",
   "metadata": {
    "tags": [
     "render-all"
    ]
   },
   "outputs": [],
   "source": [
    "fig = doc_plots.plot_rates_and_smoothed_counts(\n",
    "    neuron_count,\n",
    "    {\"Self-connection: raw history\": rate_history,\n",
    "     \"Self-connection: bsais\": rate_basis,\n",
    "     \"All-to-all: basis\": predicted_firing_rate[:, 0]}\n",
    ")"
   ]
  },
  {
   "cell_type": "markdown",
   "id": "8b9acc93",
   "metadata": {},
   "source": [
    "#### Visualizing the connectivity\n",
    "\n",
    "- Check the shape of the weights."
   ]
  },
  {
   "cell_type": "code",
   "execution_count": null,
   "id": "42d9a6d7",
   "metadata": {},
   "outputs": [],
   "source": [
    "# enter code here"
   ]
  },
  {
   "cell_type": "markdown",
   "id": "ce587795",
   "metadata": {},
   "source": [
    "- Reshape the weights with `basis.split_by_feature` (returns a dictionary).\n",
    "\n",
    "\n",
    "![Reshape coefficients](../../_static/coeff_reshape.png)"
   ]
  },
  {
   "cell_type": "code",
   "execution_count": null,
   "id": "b8195076",
   "metadata": {},
   "outputs": [],
   "source": [
    "# split the coefficient vector along the feature axis (axis=0)\n",
    "weights_dict =\n",
    "# visualize the content\n",
    "weights_dict"
   ]
  },
  {
   "cell_type": "markdown",
   "id": "303c2307",
   "metadata": {},
   "source": [
    "- Get the weight array from the dictionary (and call the output `weights`). \n",
    "- Print the new shape of the weights."
   ]
  },
  {
   "cell_type": "code",
   "execution_count": null,
   "id": "fb66da24",
   "metadata": {},
   "outputs": [],
   "source": [
    "# get the coefficients\n",
    "weights = \n",
    "# print the shape\n",
    "print("
   ]
  },
  {
   "cell_type": "markdown",
   "id": "89174998",
   "metadata": {},
   "source": [
    "- The shape is `(sender_neuron, num_basis, receiver_neuron)`.\n",
    "- Multiply the weights with the kernels with: `np.einsum(\"jki,tk->ijt\", weights, basis_kernels)`.\n",
    "- Call the output `responses` and print its shape."
   ]
  },
  {
   "cell_type": "code",
   "execution_count": null,
   "id": "84298619",
   "metadata": {
    "tags": [
     "render-all"
    ]
   },
   "outputs": [],
   "source": [
    "responses = np.einsum(\"jki,tk->ijt\", weights, basis_kernels)\n",
    "\n",
    "print(responses.shape)"
   ]
  },
  {
   "cell_type": "markdown",
   "id": "7546efd9",
   "metadata": {},
   "source": [
    "- Plot the connectivity map."
   ]
  },
  {
   "cell_type": "code",
   "execution_count": null,
   "id": "632d56a4",
   "metadata": {
    "tags": [
     "render-all"
    ]
   },
   "outputs": [],
   "source": [
    "tuning = nap.compute_1d_tuning_curves_continuous(predicted_firing_rate,\n",
    "                                                 feature=angle,\n",
    "                                                 nb_bins=61,\n",
    "                                                 minmax=(0, 2 * np.pi))\n",
    "                                                 \n",
    "fig = doc_plots.plot_coupling(responses, tuning)"
   ]
  }
 ],
 "metadata": {
  "jupytext": {
   "text_representation": {
    "extension": ".md",
    "format_name": "myst",
    "format_version": 0.13,
    "jupytext_version": "1.16.6"
   }
  },
  "kernelspec": {
   "display_name": "Python 3 (ipykernel)",
   "language": "python",
   "name": "python3"
  },
  "source_map": [
   13,
   38,
   55,
   73,
   77,
   81,
   85,
   91,
   94,
   100,
   103,
   108,
   111,
   115,
   119,
   126,
   129,
   135,
   138,
   148,
   151,
   157,
   161,
   163,
   167,
   170,
   176,
   180,
   188,
   193,
   198,
   205,
   209,
   213,
   221,
   228,
   231,
   236,
   239,
   241,
   245,
   251,
   256,
   267,
   271,
   275,
   278,
   288,
   293,
   296,
   299,
   312,
   316,
   320,
   327,
   330,
   335,
   341,
   344,
   352,
   357,
   360,
   367,
   373,
   378,
   380,
   385,
   387,
   390,
   404,
   408,
   410,
   414,
   423,
   431,
   436,
   443,
   446,
   452,
   454,
   457,
   464,
   467,
   476,
   480,
   482,
   490,
   495,
   500,
   505,
   510,
   516,
   519
  ]
 },
 "nbformat": 4,
 "nbformat_minor": 5
}