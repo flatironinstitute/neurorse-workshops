{
 "cells": [
  {
   "cell_type": "code",
   "execution_count": null,
   "id": "c404bb74",
   "metadata": {
    "tags": [
     "hide-input",
     "render-all"
    ]
   },
   "outputs": [],
   "source": [
    "%matplotlib inline\n",
    "import warnings\n",
    "\n",
    "warnings.filterwarnings(\n",
    "    \"ignore\",\n",
    "    message=\"plotting functions contained within `_documentation_utils` are intended for nemos's documentation.\",\n",
    "    category=UserWarning,\n",
    ")\n",
    "\n",
    "warnings.filterwarnings(\n",
    "    \"ignore\",\n",
    "    message=\"Ignoring cached namespace 'core'\",\n",
    "    category=UserWarning,\n",
    ")\n",
    "\n",
    "warnings.filterwarnings(\n",
    "    \"ignore\",\n",
    "    message=(\n",
    "        \"invalid value encountered in div \"\n",
    "    ),\n",
    "    category=RuntimeWarning,\n",
    ")"
   ]
  },
  {
   "cell_type": "markdown",
   "id": "9b6e1d04",
   "metadata": {},
   "source": [
    ":::{admonition} Download\n",
    ":class: important render-all\n",
    "\n",
    "This notebook can be downloaded as **{nb-download}`head_direction-presenters.ipynb`**. See the button at the top right to download as markdown or pdf.\n",
    "\n",
    ":::\n",
    "# Fit head-direction population\n",
    "This notebook has had all its explanatory text removed and has not been run.\n",
    " It is intended to be downloaded and run locally (or on the provided binder)\n",
    " while listening to the presenter's explanation. In order to see the fully\n",
    " rendered of this notebook, go [here](../../full/day2/head_direction.md)\n",
    "## Learning objectives"
   ]
  },
  {
   "cell_type": "code",
   "execution_count": null,
   "id": "de06116d",
   "metadata": {
    "tags": [
     "render-all"
    ]
   },
   "outputs": [],
   "source": [
    "import matplotlib.pyplot as plt\n",
    "import numpy as np\n",
    "import pynapple as nap\n",
    "\n",
    "import nemos as nmo\n",
    "\n",
    "# some helper plotting functions\n",
    "from nemos import _documentation_utils as doc_plots\n",
    "import workshop_utils\n",
    "\n",
    "# configure pynapple to ignore conversion warning\n",
    "nap.nap_config.suppress_conversion_warnings = True\n",
    "\n",
    "# configure plots some\n",
    "plt.style.use(nmo.styles.plot_style)"
   ]
  },
  {
   "cell_type": "markdown",
   "id": "90f3bbe2",
   "metadata": {},
   "source": [
    "## Data Streaming"
   ]
  },
  {
   "cell_type": "code",
   "execution_count": null,
   "id": "5c82eddd",
   "metadata": {
    "tags": [
     "render-all"
    ]
   },
   "outputs": [],
   "source": [
    "path = workshop_utils.fetch.fetch_data(\"Mouse32-140822.nwb\")"
   ]
  },
  {
   "cell_type": "markdown",
   "id": "c99d3628",
   "metadata": {},
   "source": [
    "## Pynapple"
   ]
  },
  {
   "cell_type": "code",
   "execution_count": null,
   "id": "8b969778",
   "metadata": {
    "tags": [
     "render-all"
    ]
   },
   "outputs": [],
   "source": [
    "data = nap.load_file(path)\n",
    "\n",
    "data"
   ]
  },
  {
   "cell_type": "code",
   "execution_count": null,
   "id": "6f45fc76",
   "metadata": {
    "tags": [
     "render-all"
    ]
   },
   "outputs": [],
   "source": [
    "spikes = data[\"units\"]\n",
    "\n",
    "spikes"
   ]
  },
  {
   "cell_type": "code",
   "execution_count": null,
   "id": "daa4fe5e",
   "metadata": {
    "tags": [
     "render-all"
    ]
   },
   "outputs": [],
   "source": [
    "epochs = data[\"epochs\"]\n",
    "wake_epochs = epochs[epochs.tags == \"wake\"]"
   ]
  },
  {
   "cell_type": "code",
   "execution_count": null,
   "id": "ab1fbe9e",
   "metadata": {
    "tags": [
     "render-all"
    ]
   },
   "outputs": [],
   "source": [
    "angle = data[\"ry\"]"
   ]
  },
  {
   "cell_type": "code",
   "execution_count": null,
   "id": "7e1a531d",
   "metadata": {
    "tags": [
     "render-all"
    ]
   },
   "outputs": [],
   "source": [
    "spikes = spikes[spikes.location == \"adn\"]\n",
    "\n",
    "spikes = spikes.restrict(wake_epochs).getby_threshold(\"rate\", 1.0)\n",
    "angle = angle.restrict(wake_epochs)"
   ]
  },
  {
   "cell_type": "code",
   "execution_count": null,
   "id": "e87c0418",
   "metadata": {
    "tags": [
     "render-all"
    ]
   },
   "outputs": [],
   "source": [
    "tuning_curves = nap.compute_1d_tuning_curves(\n",
    "    group=spikes, feature=angle, nb_bins=61, minmax=(0, 2 * np.pi)\n",
    ")"
   ]
  },
  {
   "cell_type": "code",
   "execution_count": null,
   "id": "e4255315",
   "metadata": {
    "tags": [
     "render-all"
    ]
   },
   "outputs": [],
   "source": [
    "fig, ax = plt.subplots(1, 2, figsize=(12, 4))\n",
    "ax[0].plot(tuning_curves.iloc[:, 0])\n",
    "ax[0].set_xlabel(\"Angle (rad)\")\n",
    "ax[0].set_ylabel(\"Firing rate (Hz)\")\n",
    "ax[1].plot(tuning_curves.iloc[:, 1])\n",
    "ax[1].set_xlabel(\"Angle (rad)\")\n",
    "plt.tight_layout()"
   ]
  },
  {
   "cell_type": "code",
   "execution_count": null,
   "id": "7b5aa8dc",
   "metadata": {
    "tags": [
     "render-all"
    ]
   },
   "outputs": [],
   "source": [
    "fig = workshop_utils.plot_head_direction_tuning_model(\n",
    "    tuning_curves, spikes, angle, threshold_hz=1, start=8910, end=8960\n",
    ")"
   ]
  },
  {
   "cell_type": "code",
   "execution_count": null,
   "id": "bd7b2444",
   "metadata": {},
   "outputs": [],
   "source": [
    "wake_ep = nap.IntervalSet(\n",
    "    start=wake_epochs.start[0], end=wake_epochs.start[0] + 3 * 60\n",
    ")"
   ]
  },
  {
   "cell_type": "code",
   "execution_count": null,
   "id": "fc26b69b",
   "metadata": {},
   "outputs": [],
   "source": [
    "bin_size = 0.01\n",
    "count = spikes.count(bin_size, ep=wake_ep)"
   ]
  },
  {
   "cell_type": "code",
   "execution_count": null,
   "id": "25b5571e",
   "metadata": {},
   "outputs": [],
   "source": [
    "pref_ang = tuning_curves.idxmax()\n",
    "\n",
    "count = nap.TsdFrame(\n",
    "    t=count.t,\n",
    "    d=count.values[:, np.argsort(pref_ang.values)],\n",
    ")"
   ]
  },
  {
   "cell_type": "markdown",
   "id": "6d19eae5",
   "metadata": {},
   "source": [
    "## NeMoS \n",
    "### Self-Connected Single Neuron"
   ]
  },
  {
   "cell_type": "code",
   "execution_count": null,
   "id": "89fe8eff",
   "metadata": {},
   "outputs": [],
   "source": [
    "# select a neuron's spike count time series\n",
    "neuron_count = count[:, 0]\n",
    "\n",
    "# restrict to a smaller time interval\n",
    "epoch_one_spk = nap.IntervalSet(\n",
    "    start=count.time_support.start[0], end=count.time_support.start[0] + 1.2\n",
    ")"
   ]
  },
  {
   "cell_type": "markdown",
   "id": "75002742",
   "metadata": {},
   "source": [
    "#### Features Construction"
   ]
  },
  {
   "cell_type": "code",
   "execution_count": null,
   "id": "15f478f9",
   "metadata": {
    "tags": [
     "render-all"
    ]
   },
   "outputs": [],
   "source": [
    "# set the size of the spike history window in seconds\n",
    "window_size_sec = 0.8\n",
    "\n",
    "doc_plots.plot_history_window(neuron_count, epoch_one_spk, window_size_sec);"
   ]
  },
  {
   "cell_type": "code",
   "execution_count": null,
   "id": "51c7ead8",
   "metadata": {
    "tags": [
     "render-all"
    ]
   },
   "outputs": [],
   "source": [
    "doc_plots.run_animation(neuron_count, epoch_one_spk.start[0])"
   ]
  },
  {
   "cell_type": "code",
   "execution_count": null,
   "id": "ed2dfce7",
   "metadata": {},
   "outputs": [],
   "source": [
    "# convert the prediction window to bins (by multiplying with the sampling rate)\n",
    "window_size = int(window_size_sec * neuron_count.rate)\n",
    "# define the history bases\n",
    "history_basis = nmo.basis.HistoryConv(window_size)\n",
    "# create the feature matrix\n",
    "input_feature = history_basis.compute_features(neuron_count)"
   ]
  },
  {
   "cell_type": "code",
   "execution_count": null,
   "id": "bf1e91d3",
   "metadata": {
    "tags": [
     "render-all"
    ]
   },
   "outputs": [],
   "source": [
    "# print the NaN indices along the time axis\n",
    "print(\"NaN indices:\\n\", np.where(np.isnan(input_feature[:, 0]))[0]) "
   ]
  },
  {
   "cell_type": "code",
   "execution_count": null,
   "id": "c1f4691d",
   "metadata": {},
   "outputs": [],
   "source": [
    "print(f\"Time bins in counts: {neuron_count.shape[0]}\")\n",
    "print(f\"Convolution window size in bins: {window_size}\")\n",
    "print(f\"Feature shape: {input_feature.shape}\")\n",
    "print(f\"Feature shape: {input_feature.shape}\")"
   ]
  },
  {
   "cell_type": "code",
   "execution_count": null,
   "id": "f0feb9e7",
   "metadata": {
    "tags": [
     "render-all"
    ]
   },
   "outputs": [],
   "source": [
    "suptitle = \"Input feature: Count History\"\n",
    "neuron_id = 0\n",
    "workshop_utils.plot_features(input_feature, count.rate, suptitle);"
   ]
  },
  {
   "cell_type": "markdown",
   "id": "46d06f2f",
   "metadata": {},
   "source": [
    "#### Fitting the Model"
   ]
  },
  {
   "cell_type": "code",
   "execution_count": null,
   "id": "fb99e423",
   "metadata": {
    "tags": [
     "render-all"
    ]
   },
   "outputs": [],
   "source": [
    "# construct the train and test epochs\n",
    "duration = input_feature.time_support.tot_length(\"s\")\n",
    "start = input_feature.time_support[\"start\"]\n",
    "end = input_feature.time_support[\"end\"]\n",
    "\n",
    "# define the interval sets\n",
    "first_half = nap.IntervalSet(start, start + duration / 2)\n",
    "second_half = nap.IntervalSet(start + duration / 2, end)"
   ]
  },
  {
   "cell_type": "code",
   "execution_count": null,
   "id": "77818296",
   "metadata": {},
   "outputs": [],
   "source": [
    "# define the GLM object\n",
    "model = nmo.glm.GLM(solver_name=\"LBFGS\")\n",
    "\n",
    "# Fit over the training epochs\n",
    "model.fit(\n",
    "    input_feature.restrict(first_half),\n",
    "    neuron_count.restrict(first_half)\n",
    ")"
   ]
  },
  {
   "cell_type": "code",
   "execution_count": null,
   "id": "5f2a86bb",
   "metadata": {
    "tags": [
     "render-all"
    ]
   },
   "outputs": [],
   "source": [
    "plt.figure()\n",
    "plt.title(\"Spike History Weights\")\n",
    "plt.plot(np.arange(window_size) / count.rate, np.squeeze(model.coef_), lw=2, label=\"GLM raw history 1st Half\")\n",
    "plt.axhline(0, color=\"k\", lw=0.5)\n",
    "plt.xlabel(\"Time From Spike (sec)\")\n",
    "plt.ylabel(\"Kernel\")\n",
    "plt.legend()"
   ]
  },
  {
   "cell_type": "markdown",
   "id": "a1d5eec9",
   "metadata": {},
   "source": [
    "#### Inspecting the results"
   ]
  },
  {
   "cell_type": "code",
   "execution_count": null,
   "id": "ff785562",
   "metadata": {},
   "outputs": [],
   "source": [
    "# fit on the test set\n",
    "\n",
    "model_second_half = nmo.glm.GLM(solver_name=\"LBFGS\")\n",
    "model_second_half.fit(\n",
    "    input_feature.restrict(second_half),\n",
    "    neuron_count.restrict(second_half)\n",
    ")"
   ]
  },
  {
   "cell_type": "code",
   "execution_count": null,
   "id": "f2b3c048",
   "metadata": {
    "tags": [
     "render-all"
    ]
   },
   "outputs": [],
   "source": [
    "plt.figure()\n",
    "plt.title(\"Spike History Weights\")\n",
    "plt.plot(np.arange(window_size) / count.rate, np.squeeze(model.coef_),\n",
    "         label=\"GLM raw history 1st Half\", lw=2)\n",
    "plt.plot(np.arange(window_size) / count.rate,  np.squeeze(model_second_half.coef_),\n",
    "         color=\"orange\", label=\"GLM raw history 2nd Half\", lw=2)\n",
    "plt.axhline(0, color=\"k\", lw=0.5)\n",
    "plt.xlabel(\"Time From Spike (sec)\")\n",
    "plt.ylabel(\"Kernel\")\n",
    "plt.legend()"
   ]
  },
  {
   "cell_type": "markdown",
   "id": "f8a5ebd8",
   "metadata": {},
   "source": [
    "#### Reducing feature dimensionality"
   ]
  },
  {
   "cell_type": "code",
   "execution_count": null,
   "id": "b6f13bce",
   "metadata": {
    "tags": [
     "render-all"
    ]
   },
   "outputs": [],
   "source": [
    "doc_plots.plot_basis();"
   ]
  },
  {
   "cell_type": "code",
   "execution_count": null,
   "id": "02058d6b",
   "metadata": {},
   "outputs": [],
   "source": [
    "# a basis object can be instantiated in \"conv\" mode for convolving  the input.\n",
    "basis = nmo.basis.RaisedCosineLogConv(\n",
    "    n_basis_funcs=8, window_size=window_size\n",
    ")"
   ]
  },
  {
   "cell_type": "code",
   "execution_count": null,
   "id": "9c144fee",
   "metadata": {},
   "outputs": [],
   "source": [
    "# equivalent to\n",
    "# `nmo.convolve.create_convolutional_predictor(basis_kernels, neuron_count)`\n",
    "conv_spk = basis.compute_features(neuron_count)\n",
    "\n",
    "print(f\"Raw count history as feature: {input_feature.shape}\")\n",
    "print(f\"Compressed count history as feature: {conv_spk.shape}\")"
   ]
  },
  {
   "cell_type": "code",
   "execution_count": null,
   "id": "518c69f7",
   "metadata": {
    "tags": [
     "render-all"
    ]
   },
   "outputs": [],
   "source": [
    "# Visualize the convolution results\n",
    "epoch_one_spk = nap.IntervalSet(8917.5, 8918.5)\n",
    "epoch_multi_spk = nap.IntervalSet(8979.2, 8980.2)\n",
    "\n",
    "doc_plots.plot_convolved_counts(neuron_count, conv_spk, epoch_one_spk, epoch_multi_spk);"
   ]
  },
  {
   "cell_type": "markdown",
   "id": "510f8579",
   "metadata": {},
   "source": [
    "#### Fit and compare the models"
   ]
  },
  {
   "cell_type": "code",
   "execution_count": null,
   "id": "c117412b",
   "metadata": {},
   "outputs": [],
   "source": [
    "# use restrict on interval set training\n",
    "model_basis = nmo.glm.GLM(solver_name=\"LBFGS\")\n",
    "model_basis.fit(conv_spk.restrict(first_half), neuron_count.restrict(first_half))"
   ]
  },
  {
   "cell_type": "code",
   "execution_count": null,
   "id": "3e51fc96",
   "metadata": {},
   "outputs": [],
   "source": [
    "print(model_basis.coef_)"
   ]
  },
  {
   "cell_type": "code",
   "execution_count": null,
   "id": "11932f90",
   "metadata": {},
   "outputs": [],
   "source": [
    "# get the basis function kernels\n",
    "_, basis_kernels = basis.evaluate_on_grid(window_size)\n",
    "\n",
    "# multiply with the weights\n",
    "self_connection = np.matmul(basis_kernels, model_basis.coef_)\n",
    "\n",
    "print(self_connection.shape)"
   ]
  },
  {
   "cell_type": "code",
   "execution_count": null,
   "id": "21001322",
   "metadata": {},
   "outputs": [],
   "source": [
    "model_basis_second_half = nmo.glm.GLM(solver_name=\"LBFGS\").fit(\n",
    "    conv_spk.restrict(second_half), neuron_count.restrict(second_half)\n",
    ")"
   ]
  },
  {
   "cell_type": "code",
   "execution_count": null,
   "id": "2ae2607c",
   "metadata": {},
   "outputs": [],
   "source": [
    "self_connection_second_half = np.matmul(basis_kernels, model_basis_second_half.coef_)"
   ]
  },
  {
   "cell_type": "code",
   "execution_count": null,
   "id": "97a2b8e8",
   "metadata": {
    "tags": [
     "render-all"
    ]
   },
   "outputs": [],
   "source": [
    "time = np.arange(window_size) / count.rate\n",
    "plt.figure()\n",
    "plt.title(\"Spike History Weights\")\n",
    "plt.plot(time, np.squeeze(model.coef_), \"k\", alpha=0.3, label=\"GLM raw history 1st half\")\n",
    "plt.plot(time, np.squeeze(model_second_half.coef_), alpha=0.3, color=\"orange\", label=\"GLM raw history 2nd half\")\n",
    "plt.plot(time, self_connection, \"--k\", lw=2, label=\"GLM basis 1st half\")\n",
    "plt.plot(time, self_connection_second_half, color=\"orange\", lw=2, ls=\"--\", label=\"GLM basis 2nd half\")\n",
    "plt.axhline(0, color=\"k\", lw=0.5)\n",
    "plt.xlabel(\"Time from spike (sec)\")\n",
    "plt.ylabel(\"Weight\")\n",
    "plt.legend()"
   ]
  },
  {
   "cell_type": "code",
   "execution_count": null,
   "id": "73d55b91",
   "metadata": {},
   "outputs": [],
   "source": [
    "rate_basis = model_basis.predict(conv_spk) * conv_spk.rate\n",
    "rate_history = model.predict(input_feature) * conv_spk.rate"
   ]
  },
  {
   "cell_type": "code",
   "execution_count": null,
   "id": "5305e49f",
   "metadata": {
    "tags": [
     "render-all"
    ]
   },
   "outputs": [],
   "source": [
    "ep = nap.IntervalSet(start=8819.4, end=8821)\n",
    "# plot the rates\n",
    "doc_plots.plot_rates_and_smoothed_counts(\n",
    "    neuron_count,\n",
    "    {\"Self-connection raw history\":rate_history, \"Self-connection bsais\": rate_basis}\n",
    ");"
   ]
  },
  {
   "cell_type": "markdown",
   "id": "d21ebd19",
   "metadata": {},
   "source": [
    "### All-to-all Connectivity\n",
    "#### Preparing the features"
   ]
  },
  {
   "cell_type": "code",
   "execution_count": null,
   "id": "ae7e7c2d",
   "metadata": {},
   "outputs": [],
   "source": [
    "# reset the input shape by passing the pop. count\n",
    "basis.set_input_shape(count)\n",
    "\n",
    "# convolve all the neurons\n",
    "convolved_count = basis.compute_features(count)"
   ]
  },
  {
   "cell_type": "code",
   "execution_count": null,
   "id": "e5cf253b",
   "metadata": {},
   "outputs": [],
   "source": [
    "print(f\"Convolved count shape: {convolved_count.shape}\")"
   ]
  },
  {
   "cell_type": "markdown",
   "id": "a998f427",
   "metadata": {},
   "source": [
    "#### Fitting the Model"
   ]
  },
  {
   "cell_type": "code",
   "execution_count": null,
   "id": "6a86160a",
   "metadata": {},
   "outputs": [],
   "source": [
    "model = nmo.glm.PopulationGLM(\n",
    "    regularizer=\"Ridge\",\n",
    "    solver_name=\"LBFGS\",\n",
    "    regularizer_strength=0.1\n",
    "    ).fit(convolved_count, count)\n",
    "\n",
    "print(f\"Model coefficients shape: {model.coef_.shape}\")"
   ]
  },
  {
   "cell_type": "markdown",
   "id": "4beb30f3",
   "metadata": {},
   "source": [
    "#### Comparing model predictions."
   ]
  },
  {
   "cell_type": "code",
   "execution_count": null,
   "id": "7c72a0f6",
   "metadata": {},
   "outputs": [],
   "source": [
    "predicted_firing_rate = model.predict(convolved_count) * conv_spk.rate"
   ]
  },
  {
   "cell_type": "code",
   "execution_count": null,
   "id": "5daaef91",
   "metadata": {
    "tags": [
     "render-all"
    ]
   },
   "outputs": [],
   "source": [
    "# use pynapple for time axis for all variables plotted for tick labels in imshow\n",
    "workshop_utils.plot_head_direction_tuning_model(tuning_curves, spikes, angle, \n",
    "                                                predicted_firing_rate, threshold_hz=1,\n",
    "                                                start=8910, end=8960, cmap_label=\"hsv\");"
   ]
  },
  {
   "cell_type": "code",
   "execution_count": null,
   "id": "b229756c",
   "metadata": {
    "tags": [
     "render-all"
    ]
   },
   "outputs": [],
   "source": [
    "fig = doc_plots.plot_rates_and_smoothed_counts(\n",
    "    neuron_count,\n",
    "    {\"Self-connection: raw history\": rate_history,\n",
    "     \"Self-connection: bsais\": rate_basis,\n",
    "     \"All-to-all: basis\": predicted_firing_rate[:, 0]}\n",
    ")"
   ]
  },
  {
   "cell_type": "markdown",
   "id": "c9dae189",
   "metadata": {},
   "source": [
    "#### Visualizing the connectivity"
   ]
  },
  {
   "cell_type": "code",
   "execution_count": null,
   "id": "2fdd7f09",
   "metadata": {},
   "outputs": [],
   "source": [
    "# original shape of the weights\n",
    "print(f\"GLM coeff: {model.coef_.shape}\")"
   ]
  },
  {
   "cell_type": "markdown",
   "id": "2aa759ee",
   "metadata": {},
   "source": [
    "![Reshape coefficients](../../_static/coeff_reshape.png)"
   ]
  },
  {
   "cell_type": "code",
   "execution_count": null,
   "id": "ec8cc563",
   "metadata": {},
   "outputs": [],
   "source": [
    "# split the coefficient vector along the feature axis (axis=0)\n",
    "weights_dict = basis.split_by_feature(model.coef_, axis=0)\n",
    "\n",
    "# the output is a dict with key the basis label, \n",
    "# and value the reshaped coefficients\n",
    "weights = weights_dict[\"RaisedCosineLogConv\"]\n",
    "print(f\"Re-shaped coeff: {weights.shape}\")"
   ]
  },
  {
   "cell_type": "code",
   "execution_count": null,
   "id": "db64139c",
   "metadata": {
    "tags": [
     "render-all"
    ]
   },
   "outputs": [],
   "source": [
    "responses = np.einsum(\"jki,tk->ijt\", weights, basis_kernels)\n",
    "\n",
    "print(responses.shape)"
   ]
  },
  {
   "cell_type": "code",
   "execution_count": null,
   "id": "48fa5158",
   "metadata": {
    "tags": [
     "render-all"
    ]
   },
   "outputs": [],
   "source": [
    "tuning = nap.compute_1d_tuning_curves_continuous(predicted_firing_rate,\n",
    "                                                 feature=angle,\n",
    "                                                 nb_bins=61,\n",
    "                                                 minmax=(0, 2 * np.pi))\n",
    "                                                 \n",
    "fig = doc_plots.plot_coupling(responses, tuning)"
   ]
  }
 ],
 "metadata": {
  "jupytext": {
   "text_representation": {
    "extension": ".md",
    "format_name": "myst",
    "format_version": 0.13,
    "jupytext_version": "1.16.6"
   }
  },
  "kernelspec": {
   "display_name": "Python 3 (ipykernel)",
   "language": "python",
   "name": "python3"
  },
  "source_map": [
   13,
   38,
   51,
   69,
   71,
   75,
   77,
   84,
   91,
   97,
   102,
   110,
   117,
   128,
   135,
   140,
   144,
   151,
   154,
   162,
   164,
   172,
   177,
   185,
   191,
   197,
   203,
   205,
   217,
   227,
   237,
   239,
   248,
   261,
   263,
   268,
   274,
   282,
   290,
   292,
   297,
   300,
   309,
   314,
   317,
   332,
   336,
   345,
   348,
   355,
   357,
   359,
   367,
   369,
   372,
   380,
   389,
   391,
   394,
   400,
   409,
   416
  ]
 },
 "nbformat": 4,
 "nbformat_minor": 5
}