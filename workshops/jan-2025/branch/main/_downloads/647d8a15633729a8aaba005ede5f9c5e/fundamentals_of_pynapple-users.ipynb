{
 "cells": [
  {
   "cell_type": "code",
   "execution_count": null,
   "id": "442667b4",
   "metadata": {
    "tags": [
     "render-all"
    ]
   },
   "outputs": [],
   "source": [
    "%matplotlib inline"
   ]
  },
  {
   "cell_type": "markdown",
   "id": "6c4a00a1",
   "metadata": {},
   "source": [
    ":::{admonition} Download\n",
    ":class: important render-all\n",
    "\n",
    "This notebook can be downloaded as **{nb-download}`fundamentals_of_pynapple-users.ipynb`**. See the button at the top right to download as markdown or pdf.\n",
    ":::\n",
    "\n",
    "\n",
    "# Learning the fundamentals of pynapple\n",
    "This notebook has had all its explanatory text removed and has not been run.\n",
    " It is intended to be downloaded and run locally (or on the provided binder)\n",
    " while listening to the presenter's explanation. In order to see the fully\n",
    " rendered of this notebook, go [here](../../full/day1/fundamentals_of_pynapple.md)\n",
    "\n",
    "## Learning objectives\n",
    "\n",
    "\n",
    "- Instantiate the pynapple objects\n",
    "- Make the pynapple objects interact\n",
    "- Use numpy with pynapple\n",
    "- Slicing pynapple objects\n",
    "- Adding metadata to pynapple objects\n",
    "- Learn the core functions of pynapple\n",
    "\n",
    "The pynapple documentation can be found [here](https://pynapple.org).\n",
    "\n",
    "The documentation for objects and method of the core of pynapple is [here](https://pynapple.org/api.html).\n",
    "\n",
    "\n",
    "Let's start by importing the pynapple package and matplotlib to see if everything is correctly installed.\n",
    "If an import fails, you can do `!pip install pynapple matplotlib` in a cell to fix it."
   ]
  },
  {
   "cell_type": "code",
   "execution_count": null,
   "id": "aa97f5d8",
   "metadata": {
    "tags": [
     "render-all"
    ]
   },
   "outputs": [],
   "source": [
    "import pynapple as nap\n",
    "import matplotlib.pyplot as plt\n",
    "import numpy as np\n",
    "import workshop_utils"
   ]
  },
  {
   "cell_type": "code",
   "execution_count": null,
   "id": "56c27dd7",
   "metadata": {
    "tags": [
     "render-all"
    ]
   },
   "outputs": [],
   "source": [
    "var1 = np.random.randn(100) # Variable 1\n",
    "tsp1 = np.arange(100) # The timesteps of variable 1\n",
    "\n",
    "var2 = np.random.randn(100, 3) # Variable 2\n",
    "tsp2 = np.arange(0, 100, 1) # The timesteps of variable 2\n",
    "col2 = ['pineapple', 'banana', 'tomato'] # The name of each columns of var2\n",
    "\n",
    "var3 = np.random.randn(1000, 4, 5) # Variable 3\n",
    "tsp3 = np.arange(0, 100, 0.1) # The timesteps of variable 3\n",
    "\n",
    "random_times_1 = np.array([3.14, 37.0, 42.0])\n",
    "random_times_2 = np.array([10, 25, 50, 70])\n",
    "random_times_3 = np.sort(np.random.uniform(10, 80, 100))\n",
    "\n",
    "starts_1 = np.array([10000, 60000, 90000]) # starts of an epoch in `ms`\n",
    "ends_1 = np.array([20000, 80000, 95000]) # ends in `ms`"
   ]
  },
  {
   "cell_type": "markdown",
   "id": "9c995cda",
   "metadata": {},
   "source": [
    "## Instantiate pynapple objects \n",
    "\n",
    "\n",
    "**Question:** Can you instantiate the right pynapple objects for `var1`, `var2` and `var3`? Objects should be named respectively `tsd1`, `tsd2` and `tsd3`. Don't forget the column name for `var2`."
   ]
  },
  {
   "cell_type": "code",
   "execution_count": null,
   "id": "a18d93f5",
   "metadata": {},
   "outputs": [],
   "source": [
    "# enter code here"
   ]
  },
  {
   "cell_type": "markdown",
   "id": "0225e3a3",
   "metadata": {},
   "source": [
    "**Question:** Can you print `tsd1`?"
   ]
  },
  {
   "cell_type": "code",
   "execution_count": null,
   "id": "c5f4af94",
   "metadata": {},
   "outputs": [],
   "source": [
    "# enter code here"
   ]
  },
  {
   "cell_type": "markdown",
   "id": "618b66d1",
   "metadata": {},
   "source": [
    "**Question:** Can you print `tsd2`?"
   ]
  },
  {
   "cell_type": "code",
   "execution_count": null,
   "id": "d3421f0f",
   "metadata": {},
   "outputs": [],
   "source": [
    "# enter code here"
   ]
  },
  {
   "cell_type": "markdown",
   "id": "72023229",
   "metadata": {},
   "source": [
    "**Question:** Can you print `tsd3`?"
   ]
  },
  {
   "cell_type": "code",
   "execution_count": null,
   "id": "616c3da8",
   "metadata": {},
   "outputs": [],
   "source": [
    "# enter code here"
   ]
  },
  {
   "cell_type": "markdown",
   "id": "6145e895",
   "metadata": {},
   "source": [
    "**Question:** Can you create an `IntervalSet` called `ep` out of `starts_1` and `ends_1` and print it? Be careful, times given above are in `ms`."
   ]
  },
  {
   "cell_type": "code",
   "execution_count": null,
   "id": "8476b3a9",
   "metadata": {},
   "outputs": [],
   "source": [
    "# enter code here"
   ]
  },
  {
   "cell_type": "markdown",
   "id": "cfdd7f6a",
   "metadata": {},
   "source": [
    "The experiment generated a set of timestamps from 3 different channels.\n",
    "\n",
    "**Question:** Can you instantiate the corresponding pynapple object (`ts1`, `ts2`, `ts3`) for each one of them?"
   ]
  },
  {
   "cell_type": "code",
   "execution_count": null,
   "id": "eb0e58dc",
   "metadata": {},
   "outputs": [],
   "source": [
    "# enter code here"
   ]
  },
  {
   "cell_type": "markdown",
   "id": "b6f297d8",
   "metadata": {},
   "source": [
    "This is a lot of timestamps to carry around as well.\n",
    "\n",
    "**Question:** Can you instantiate the right pynapple object (call it `tsgroup`) to group them together?"
   ]
  },
  {
   "cell_type": "code",
   "execution_count": null,
   "id": "452321ca",
   "metadata": {},
   "outputs": [],
   "source": [
    "# enter code here"
   ]
  },
  {
   "cell_type": "markdown",
   "id": "6c31b9b3",
   "metadata": {},
   "source": [
    "**Question:** ... and print it?"
   ]
  },
  {
   "cell_type": "code",
   "execution_count": null,
   "id": "cbd7ac13",
   "metadata": {},
   "outputs": [],
   "source": [
    "# enter code here"
   ]
  },
  {
   "cell_type": "markdown",
   "id": "7cfc5152",
   "metadata": {},
   "source": [
    "## Interaction between pynapple objects \n",
    "\n",
    "\n",
    "**Question:** Can you print the `time_support` of `tsgroup`?"
   ]
  },
  {
   "cell_type": "code",
   "execution_count": null,
   "id": "22cd8fbc",
   "metadata": {},
   "outputs": [],
   "source": [
    "# enter code here"
   ]
  },
  {
   "cell_type": "markdown",
   "id": "a422435a",
   "metadata": {},
   "source": [
    "**Question:** can you recreate the `tsgroup` object passing the right `time_support` during initialisation?"
   ]
  },
  {
   "cell_type": "code",
   "execution_count": null,
   "id": "c9a93e72",
   "metadata": {},
   "outputs": [],
   "source": [
    "# enter code here"
   ]
  },
  {
   "cell_type": "markdown",
   "id": "b303fbb0",
   "metadata": {},
   "source": [
    "**Question:** Can you print the `time_support` and `rate` to see how they changed?"
   ]
  },
  {
   "cell_type": "code",
   "execution_count": null,
   "id": "4f398d96",
   "metadata": {},
   "outputs": [],
   "source": [
    "# enter code here"
   ]
  },
  {
   "cell_type": "markdown",
   "id": "b1eac998",
   "metadata": {},
   "source": [
    "Now you realized the variable `tsd1` has some noise. The good signal is between 10 and 30 seconds and  50 and 100.\n",
    "\n",
    "**Question:** Can you create an `IntervalSet` object called `ep_signal` and use it to restrict the variable `tsd1`?"
   ]
  },
  {
   "cell_type": "code",
   "execution_count": null,
   "id": "59efd0bd",
   "metadata": {},
   "outputs": [],
   "source": [
    "# enter code here"
   ]
  },
  {
   "cell_type": "markdown",
   "id": "6aabe04c",
   "metadata": {},
   "source": [
    "You can print `tsd1` to check that the timestamps are in fact within `ep`.\n",
    "You can also check the `time_support` of `tsd1` to see that it has been updated."
   ]
  },
  {
   "cell_type": "code",
   "execution_count": null,
   "id": "a0145fea",
   "metadata": {},
   "outputs": [],
   "source": [
    "# enter code here"
   ]
  },
  {
   "cell_type": "code",
   "execution_count": null,
   "id": "3d1df57e",
   "metadata": {
    "tags": [
     "render-all"
    ]
   },
   "outputs": [],
   "source": [
    "ep_tmp = nap.IntervalSet(np.sort(np.random.uniform(0, 100, 20)))\n",
    "print(ep_tmp)"
   ]
  },
  {
   "cell_type": "markdown",
   "id": "76ca50f8",
   "metadata": {},
   "source": [
    "**Question:** Can you do the intersection of `ep_signal` and `ep_tmp`?"
   ]
  },
  {
   "cell_type": "code",
   "execution_count": null,
   "id": "bce123ff",
   "metadata": {},
   "outputs": [],
   "source": [
    "# enter code here"
   ]
  },
  {
   "cell_type": "markdown",
   "id": "be038a42",
   "metadata": {},
   "source": [
    "You can visualize IntervalSet using the function `workshop_utils.visualize_intervals` we provide."
   ]
  },
  {
   "cell_type": "code",
   "execution_count": null,
   "id": "dcf9db84",
   "metadata": {
    "tags": [
     "render-all"
    ]
   },
   "outputs": [],
   "source": [
    "workshop_utils.visualize_intervals([ep_signal, ep_tmp, ep_signal.intersect(ep_tmp)])"
   ]
  },
  {
   "cell_type": "markdown",
   "id": "fd6ce619",
   "metadata": {},
   "source": [
    "**Question:** Can you do the union of `ep_signal` and `ep_tmp`?"
   ]
  },
  {
   "cell_type": "code",
   "execution_count": null,
   "id": "cde35746",
   "metadata": {},
   "outputs": [],
   "source": [
    "# enter code here"
   ]
  },
  {
   "cell_type": "markdown",
   "id": "9f4f6756",
   "metadata": {},
   "source": [
    "**Question:** ... and visualize it?"
   ]
  },
  {
   "cell_type": "code",
   "execution_count": null,
   "id": "80b65486",
   "metadata": {},
   "outputs": [],
   "source": [
    "# enter code here"
   ]
  },
  {
   "cell_type": "markdown",
   "id": "b3879c5a",
   "metadata": {},
   "source": [
    "**Question:** Can you do the difference of `ep_signal` and `ep_tmp`?"
   ]
  },
  {
   "cell_type": "code",
   "execution_count": null,
   "id": "f5815880",
   "metadata": {},
   "outputs": [],
   "source": [
    "# enter code here"
   ]
  },
  {
   "cell_type": "markdown",
   "id": "17967e50",
   "metadata": {},
   "source": [
    "**Question:** ... and visualize it?"
   ]
  },
  {
   "cell_type": "code",
   "execution_count": null,
   "id": "977e0e39",
   "metadata": {},
   "outputs": [],
   "source": [
    "# enter code here"
   ]
  },
  {
   "cell_type": "markdown",
   "id": "04aa7eff",
   "metadata": {},
   "source": [
    "## Numpy & pynapple\n",
    "\n",
    "\n",
    "Pynapple objects behaves very similarly like numpy array. They can be sliced with the following syntax :\n",
    "\n",
    "  `tsd[0:10] # First 10 elements`\n",
    "\n",
    "Arithmetical operations are available as well :\n",
    "\n",
    "  `tsd = tsd + 1`\n",
    "\n",
    "Finally numpy functions works directly. Let's imagine `tsd3` is a movie with frame size (4,5).\n",
    "\n",
    "**Question:** Can you compute the average frame along the time axis using `np.mean` and print the result?"
   ]
  },
  {
   "cell_type": "code",
   "execution_count": null,
   "id": "31261006",
   "metadata": {},
   "outputs": [],
   "source": [
    "# enter code here"
   ]
  },
  {
   "cell_type": "markdown",
   "id": "96b9a422",
   "metadata": {},
   "source": [
    "**Question:**: can you compute the average of `tsd2` for each timestamps and print it?"
   ]
  },
  {
   "cell_type": "code",
   "execution_count": null,
   "id": "16588bc9",
   "metadata": {},
   "outputs": [],
   "source": [
    "# enter code here"
   ]
  },
  {
   "cell_type": "markdown",
   "id": "83829391",
   "metadata": {},
   "source": [
    "## Slicing pynapple objects \n",
    "\n",
    "\n",
    "**Question:** Can you extract the first and last epoch of `ep` in a new `IntervalSet`?"
   ]
  },
  {
   "cell_type": "code",
   "execution_count": null,
   "id": "67c3ccd2",
   "metadata": {},
   "outputs": [],
   "source": [
    "# enter code here"
   ]
  },
  {
   "cell_type": "markdown",
   "id": "c0f1fb54",
   "metadata": {},
   "source": [
    "Sometimes you want to get a data point as close as possible in time to another timestamps.\n",
    "\n",
    "**Question:** Using the `get` method, can you get the data point from `tsd3` as close as possible to the time 50.1 seconds?"
   ]
  },
  {
   "cell_type": "code",
   "execution_count": null,
   "id": "d26a692e",
   "metadata": {},
   "outputs": [],
   "source": [
    "# enter code here"
   ]
  },
  {
   "cell_type": "markdown",
   "id": "0bc52256",
   "metadata": {},
   "source": [
    "## Metadata\n",
    "\n",
    "\n",
    "Metadata are ubiquitous in neuroscience. They can be added to 3 pynapple objects :\n",
    "\n",
    "- `TsGroup` : to label neurons in electrophysiology\n",
    "- `IntervalSet` : to label intervals\n",
    "- `TsdFrame` : to label neurons in calcium imaging\n",
    "\n",
    "\n",
    "**Question:** Can you run the following command `tsgroup['planet'] = ['mars', 'venus', 'saturn']`"
   ]
  },
  {
   "cell_type": "code",
   "execution_count": null,
   "id": "f41595b8",
   "metadata": {},
   "outputs": [],
   "source": [
    "# enter code here"
   ]
  },
  {
   "cell_type": "markdown",
   "id": "dadbb38d",
   "metadata": {},
   "source": [
    "**Question:** ... and print it?"
   ]
  },
  {
   "cell_type": "code",
   "execution_count": null,
   "id": "280da7b5",
   "metadata": {},
   "outputs": [],
   "source": [
    "# enter code here"
   ]
  },
  {
   "cell_type": "markdown",
   "id": "3bbe86da",
   "metadata": {},
   "source": [
    "The object `ep` has 3 epochs labelled `['left', 'right', 'left']`. \n",
    "\n",
    "**Question:** Can you add them as a metadata column called `direction`?"
   ]
  },
  {
   "cell_type": "code",
   "execution_count": null,
   "id": "6aabcbbf",
   "metadata": {},
   "outputs": [],
   "source": [
    "# enter code here"
   ]
  },
  {
   "cell_type": "markdown",
   "id": "043e2624",
   "metadata": {},
   "source": [
    "The object `tsd2` has 3 columns. Each column correspond to the rgb colors `[(0,0,1), (0.5, 0.5, 1), (0.1, 0.2, 0.3)]`. \n",
    "\n",
    "**Question:** Can you add them as metadata of `tsd2`?"
   ]
  },
  {
   "cell_type": "code",
   "execution_count": null,
   "id": "cad6ebf5",
   "metadata": {},
   "outputs": [],
   "source": [
    "# enter code here"
   ]
  },
  {
   "cell_type": "markdown",
   "id": "5caf0aa9",
   "metadata": {},
   "source": [
    "You can also add metadata at initialization as a dictionnary using the keyword argument `metadata` :"
   ]
  },
  {
   "cell_type": "code",
   "execution_count": null,
   "id": "8d620ac1",
   "metadata": {
    "tags": [
     "render-all"
    ]
   },
   "outputs": [],
   "source": [
    "tsgroup = nap.TsGroup({0:ts1, 1:ts2, 2:ts3}, metadata={'planet':['mars','venus', 'saturn']})\n",
    "\n",
    "print(tsgroup)"
   ]
  },
  {
   "cell_type": "markdown",
   "id": "b55da91f",
   "metadata": {},
   "source": [
    "Metadata are accessible either as attributes (i.e. `tsgroup.planet`) or as dictionnary-like keys (i.e. `ep['direction']`).\n",
    "\n",
    "They can be used to slice objects. \n",
    "\n",
    "**Question:** Can you select only the elements of `tsgroup` with rate below 1Hz?"
   ]
  },
  {
   "cell_type": "code",
   "execution_count": null,
   "id": "b68fdbed",
   "metadata": {},
   "outputs": [],
   "source": [
    "# enter code here"
   ]
  },
  {
   "cell_type": "markdown",
   "id": "209ce607",
   "metadata": {},
   "source": [
    "**Question:** Can you select the intervals in `ep` labelled as `'left'`?"
   ]
  },
  {
   "cell_type": "code",
   "execution_count": null,
   "id": "bec88396",
   "metadata": {},
   "outputs": [],
   "source": [
    "# enter code here"
   ]
  },
  {
   "cell_type": "markdown",
   "id": "9b4edf91",
   "metadata": {},
   "source": [
    "### Special case of slicing : `TsdFrame`"
   ]
  },
  {
   "cell_type": "code",
   "execution_count": null,
   "id": "dcb2847b",
   "metadata": {
    "tags": [
     "render-all"
    ]
   },
   "outputs": [],
   "source": [
    "tsdframe = nap.TsdFrame(t=np.arange(4), d=np.random.randn(4,3),\n",
    "  columns = [12, 0, 1], metadata={'alpha':[2,1,0]})\n",
    "\n",
    "print(tsdframe)"
   ]
  },
  {
   "cell_type": "markdown",
   "id": "93b2ab84",
   "metadata": {},
   "source": [
    "**Question:** What happen when you do `tsdframe[0]` vs `tsdframe[:,0]` vs `tsdframe[[12,1]]`"
   ]
  },
  {
   "cell_type": "code",
   "execution_count": null,
   "id": "7d6bb57a",
   "metadata": {},
   "outputs": [],
   "source": [
    "# enter code here"
   ]
  },
  {
   "cell_type": "markdown",
   "id": "c49e15a3",
   "metadata": {},
   "source": [
    "**Question:** What happen when you do `tsdframe.loc[0]` and `tsdframe.loc[[0,1]]`"
   ]
  },
  {
   "cell_type": "code",
   "execution_count": null,
   "id": "45ba43f4",
   "metadata": {},
   "outputs": [],
   "source": [
    "# enter code here"
   ]
  },
  {
   "cell_type": "markdown",
   "id": "feba8799",
   "metadata": {},
   "source": [
    "**Question:** What happen when you do `tsdframe[tsdframe.alpha==2]`"
   ]
  },
  {
   "cell_type": "code",
   "execution_count": null,
   "id": "0454977d",
   "metadata": {},
   "outputs": [],
   "source": [
    "# enter code here"
   ]
  },
  {
   "cell_type": "markdown",
   "id": "bae2df1c",
   "metadata": {},
   "source": [
    "## Core functions of pynapple \n",
    "\n",
    "\n",
    "This part focuses on the most important core functions of pynapple.\n",
    "\n",
    "**Question:** Using the `count` function, can you count the number of events within 1 second bins for `tsgroup` over the `ep_signal` intervals?"
   ]
  },
  {
   "cell_type": "code",
   "execution_count": null,
   "id": "88c7fa7e",
   "metadata": {},
   "outputs": [],
   "source": [
    "# enter code here"
   ]
  },
  {
   "cell_type": "markdown",
   "id": "bb71cb07",
   "metadata": {},
   "source": [
    "From a set of timestamps, you want to assign them a set of values with the closest point in time of another time series.\n",
    "\n",
    "**Question:** Using the function `value_from`, can you assign values to `ts2` from the `tsd1` time series and call the output `new_tsd`?"
   ]
  },
  {
   "cell_type": "code",
   "execution_count": null,
   "id": "7d2f2fb4",
   "metadata": {},
   "outputs": [],
   "source": [
    "# enter code here"
   ]
  },
  {
   "cell_type": "markdown",
   "id": "fe5f7dbd",
   "metadata": {},
   "source": [
    "**Question:** Can you plot together `tsd1`, `ts2` and `new_tsd`?"
   ]
  },
  {
   "cell_type": "code",
   "execution_count": null,
   "id": "47634cd0",
   "metadata": {},
   "outputs": [],
   "source": [
    "# enter code here"
   ]
  },
  {
   "cell_type": "markdown",
   "id": "702e641d",
   "metadata": {},
   "source": [
    "One important aspect of data analysis is to bring data to the same size. Pynapple provides the `bin_average` function to downsample data.\n",
    "\n",
    "**Question:** Can you downsample `tsd2` to one time point every 5 seconds?"
   ]
  },
  {
   "cell_type": "code",
   "execution_count": null,
   "id": "6c1a6c00",
   "metadata": {},
   "outputs": [],
   "source": [
    "# enter code here"
   ]
  },
  {
   "cell_type": "markdown",
   "id": "6b872696",
   "metadata": {},
   "source": [
    "**Question:** Can you plot the `tomato` column from `tsd2` as well as the downsampled version?"
   ]
  },
  {
   "cell_type": "code",
   "execution_count": null,
   "id": "fc13b54c",
   "metadata": {},
   "outputs": [],
   "source": [
    "# enter code here"
   ]
  },
  {
   "cell_type": "markdown",
   "id": "d7672424",
   "metadata": {},
   "source": [
    "For `tsd1`, you want to find all the epochs for which the value is above 0.0. Pynapple provides the function `threshold` to get 1 dimensional time series above or below a certain value.\n",
    "\n",
    "**Question**: Can you print the epochs for which `tsd1` is above 0.0?"
   ]
  },
  {
   "cell_type": "code",
   "execution_count": null,
   "id": "42d404df",
   "metadata": {},
   "outputs": [],
   "source": [
    "# enter code here"
   ]
  },
  {
   "cell_type": "markdown",
   "id": "a78cef57",
   "metadata": {},
   "source": [
    "**Question**: can you plot `tsd1` as well as the epochs for which `tsd1` is above 0.0?"
   ]
  },
  {
   "cell_type": "code",
   "execution_count": null,
   "id": "f4eff055",
   "metadata": {},
   "outputs": [],
   "source": [
    "# enter code here"
   ]
  },
  {
   "cell_type": "markdown",
   "id": "228f65ed",
   "metadata": {},
   "source": [
    "## Important\n",
    "\n",
    "\n",
    "**Question:** Does this work?\n",
    "If not, please ask a TA."
   ]
  },
  {
   "cell_type": "code",
   "execution_count": null,
   "id": "af84ce83",
   "metadata": {
    "tags": [
     "render-all"
    ]
   },
   "outputs": [],
   "source": [
    "import workshop_utils\n",
    "path = workshop_utils.fetch_data(\"Mouse32-140822.nwb\")\n",
    "print(path)"
   ]
  }
 ],
 "metadata": {
  "jupytext": {
   "text_representation": {
    "extension": ".md",
    "format_name": "myst",
    "format_version": 0.13,
    "jupytext_version": "1.16.6"
   }
  },
  "kernelspec": {
   "display_name": "Python 3",
   "language": "python",
   "name": "python3"
  },
  "source_map": [
   13,
   16,
   47,
   54,
   72,
   77,
   79,
   84,
   86,
   91,
   93,
   98,
   100,
   105,
   107,
   114,
   116,
   123,
   125,
   130,
   132,
   138,
   140,
   145,
   147,
   152,
   154,
   161,
   163,
   168,
   172,
   176,
   180,
   182,
   186,
   189,
   193,
   195,
   200,
   202,
   207,
   209,
   214,
   216,
   232,
   234,
   239,
   241,
   247,
   249,
   256,
   258,
   271,
   273,
   278,
   280,
   287,
   289,
   296,
   298,
   303,
   309,
   317,
   319,
   324,
   326,
   329,
   336,
   340,
   342,
   347,
   349,
   354,
   356,
   364,
   366,
   373,
   375,
   380,
   382,
   389,
   391,
   396,
   398,
   405,
   407,
   412,
   414,
   421
  ]
 },
 "nbformat": 4,
 "nbformat_minor": 5
}