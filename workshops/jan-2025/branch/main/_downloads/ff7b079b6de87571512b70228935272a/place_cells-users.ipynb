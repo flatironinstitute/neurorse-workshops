{
 "cells": [
  {
   "cell_type": "code",
   "execution_count": null,
   "id": "5919417e",
   "metadata": {
    "tags": [
     "hide-input",
     "render-all"
    ]
   },
   "outputs": [],
   "source": [
    "%load_ext autoreload\n",
    "%autoreload 2\n",
    "\n",
    "%matplotlib inline\n",
    "import warnings\n",
    "\n",
    "warnings.filterwarnings(\n",
    "    \"ignore\",\n",
    "    message=\"plotting functions contained within `_documentation_utils` are intended for nemos's documentation.\",\n",
    "    category=UserWarning,\n",
    ")\n",
    "\n",
    "warnings.filterwarnings(\n",
    "    \"ignore\",\n",
    "    message=\"Ignoring cached namespace 'core'\",\n",
    "    category=UserWarning,\n",
    ")\n",
    "\n",
    "warnings.filterwarnings(\n",
    "    \"ignore\",\n",
    "    message=(\n",
    "        \"invalid value encountered in div \"\n",
    "    ),\n",
    "    category=RuntimeWarning,\n",
    ")"
   ]
  },
  {
   "cell_type": "markdown",
   "id": "bc7c2eb4",
   "metadata": {},
   "source": [
    ":::{admonition} Download\n",
    ":class: important render-all\n",
    "\n",
    "This notebook can be downloaded as **{nb-download}`place_cells-users.ipynb`**. See the button at the top right to download as markdown or pdf.\n",
    "\n",
    ":::\n",
    "# Model and feature selection with scikit-learn\n",
    "This notebook has had all its explanatory text removed and has not been run.\n",
    " It is intended to be downloaded and run locally (or on the provided binder)\n",
    " while listening to the presenter's explanation. In order to see the fully\n",
    " rendered of this notebook, go [here](../../full/day2/place_cells.md)\n",
    "\n",
    "Data for this notebook comes from recordings in the mouse hippocampus while the mouse runs on a linear track, which we [explored yesterday](../day1/phase_precession-users.md).\n",
    "\n",
    "\n",
    "## Learning objectives\n",
    "\n",
    "- Review how to use pynapple to analyze neuronal tuning\n",
    "- Learn how to combine NeMoS basis objects\n",
    "- Learn how to use NeMoS objects with [scikit-learn](https://scikit-learn.org/) for cross-validation\n",
    "- Learn how to use NeMoS objects with scikit-learn [pipelines](https://scikit-learn.org/stable/modules/generated/sklearn.pipeline.Pipeline.html)\n",
    "- Learn how to use cross-validation to perform model and feature selection"
   ]
  },
  {
   "cell_type": "code",
   "execution_count": null,
   "id": "b79922c3",
   "metadata": {
    "tags": [
     "render-all"
    ]
   },
   "outputs": [],
   "source": [
    "import matplotlib.pyplot as plt\n",
    "import numpy as np\n",
    "import pandas as pd\n",
    "import pynapple as nap\n",
    "\n",
    "import nemos as nmo\n",
    "\n",
    "# some helper plotting functions\n",
    "from nemos import _documentation_utils as doc_plots\n",
    "import workshop_utils\n",
    "\n",
    "# configure plots some\n",
    "plt.style.use(nmo.styles.plot_style)\n",
    "\n",
    "import workshop_utils\n",
    "\n",
    "from sklearn import model_selection\n",
    "from sklearn import pipeline\n",
    "\n",
    "# shut down jax to numpy conversion warning\n",
    "nap.nap_config.suppress_conversion_warnings = True\n",
    "\n",
    "# during development, set this to a lower number so everything runs faster. \n",
    "cv_folds = 5"
   ]
  },
  {
   "cell_type": "markdown",
   "id": "539995e4",
   "metadata": {},
   "source": [
    "## Pynapple\n",
    "\n",
    "- Load the data using pynapple."
   ]
  },
  {
   "cell_type": "code",
   "execution_count": null,
   "id": "737536b5",
   "metadata": {
    "tags": [
     "render-all"
    ]
   },
   "outputs": [],
   "source": [
    "path = workshop_utils.fetch_data(\"Achilles_10252013_EEG.nwb\")\n",
    "data = nap.load_file(path)\n",
    "data"
   ]
  },
  {
   "cell_type": "markdown",
   "id": "9073f35d",
   "metadata": {},
   "source": [
    "- Extract the spike times and mouse position."
   ]
  },
  {
   "cell_type": "code",
   "execution_count": null,
   "id": "fbe735c8",
   "metadata": {
    "tags": [
     "render-all"
    ]
   },
   "outputs": [],
   "source": [
    "spikes = data[\"units\"]\n",
    "position = data[\"position\"]"
   ]
  },
  {
   "cell_type": "markdown",
   "id": "5e32dd2b",
   "metadata": {},
   "source": [
    "- Restrict data to when animal was traversing the linear track."
   ]
  },
  {
   "cell_type": "code",
   "execution_count": null,
   "id": "6f7ac697",
   "metadata": {
    "tags": [
     "render-all"
    ]
   },
   "outputs": [],
   "source": [
    "position = position.restrict(data[\"forward_ep\"])\n",
    "spikes = spikes.restrict(data[\"forward_ep\"])"
   ]
  },
  {
   "cell_type": "markdown",
   "id": "81200528",
   "metadata": {},
   "source": [
    "- Restrict neurons to only excitatory neurons, discarding neurons with a low-firing rate."
   ]
  },
  {
   "cell_type": "code",
   "execution_count": null,
   "id": "b436ce0c",
   "metadata": {
    "tags": [
     "render-all"
    ]
   },
   "outputs": [],
   "source": [
    "spikes = spikes.getby_category(\"cell_type\")[\"pE\"]\n",
    "spikes = spikes.getby_threshold(\"rate\", 0.3)"
   ]
  },
  {
   "cell_type": "markdown",
   "id": "a3ff7e8e",
   "metadata": {},
   "source": [
    "### Place fields\n",
    "\n",
    "\n",
    "- Visualize the *place fields*: neuronal firing rate as a function of position."
   ]
  },
  {
   "cell_type": "code",
   "execution_count": null,
   "id": "3d882fa2",
   "metadata": {
    "tags": [
     "render-all"
    ]
   },
   "outputs": [],
   "source": [
    "place_fields = nap.compute_1d_tuning_curves(spikes, position, 50, position.time_support)\n",
    "workshop_utils.plot_place_fields(place_fields)"
   ]
  },
  {
   "cell_type": "markdown",
   "id": "a94ce5e2",
   "metadata": {},
   "source": [
    "- For speed, we're only going to investigate the three neurons highlighted above.\n",
    "- Bin spikes to counts at 100 Hz.\n",
    "- Interpolate position to match spike resolution."
   ]
  },
  {
   "cell_type": "code",
   "execution_count": null,
   "id": "a623cbb6",
   "metadata": {
    "tags": [
     "render-all"
    ]
   },
   "outputs": [],
   "source": [
    "neurons = [82, 92, 220]\n",
    "place_fields = place_fields[neurons]\n",
    "spikes = spikes[neurons]\n",
    "bin_size = .01\n",
    "count = spikes.count(bin_size, ep=position.time_support)\n",
    "position = position.interpolate(count, ep=count.time_support)\n",
    "print(count.shape)\n",
    "print(position.shape)"
   ]
  },
  {
   "cell_type": "markdown",
   "id": "c5f8a651",
   "metadata": {},
   "source": [
    "### Speed modulation\n",
    "\n",
    "\n",
    "- Compute animal's speed for each epoch."
   ]
  },
  {
   "cell_type": "code",
   "execution_count": null,
   "id": "169f4896",
   "metadata": {
    "tags": [
     "render-all"
    ]
   },
   "outputs": [],
   "source": [
    "speed = []\n",
    "# Analyzing each epoch separately avoids edge effects.\n",
    "for s, e in position.time_support.values: \n",
    "    pos_ep = position.get(s, e)\n",
    "    # Absolute difference of two consecutive points\n",
    "    speed_ep = np.abs(np.diff(pos_ep)) \n",
    "    # Padding the edge so that the size is the same as the position/spike counts\n",
    "    speed_ep = np.pad(speed_ep, [0, 1], mode=\"edge\") \n",
    "    # Converting to cm/s \n",
    "    speed_ep = speed_ep * position.rate\n",
    "    speed.append(speed_ep)\n",
    "\n",
    "speed = nap.Tsd(t=position.t, d=np.hstack(speed), time_support=position.time_support)\n",
    "print(speed.shape)"
   ]
  },
  {
   "cell_type": "markdown",
   "id": "8d11d5a1",
   "metadata": {},
   "source": [
    "- Compute the tuning curve with pynapple's [`compute_1d_tuning_curves`](https://pynapple.org/generated/pynapple.process.tuning_curves.html#pynapple.process.tuning_curves.compute_1d_tuning_curves)"
   ]
  },
  {
   "cell_type": "code",
   "execution_count": null,
   "id": "8ff2cd66",
   "metadata": {},
   "outputs": [],
   "source": [
    "# enter code here"
   ]
  },
  {
   "cell_type": "code",
   "execution_count": null,
   "id": "0594d084",
   "metadata": {
    "tags": [
     "remove-cell",
     "skip-execution"
    ]
   },
   "outputs": [],
   "source": [
    "# compute tuning curve here\n",
    "tc_speed = "
   ]
  },
  {
   "cell_type": "markdown",
   "id": "99fba40e",
   "metadata": {},
   "source": [
    "- Visualize the position and speed tuning for these neurons."
   ]
  },
  {
   "cell_type": "code",
   "execution_count": null,
   "id": "340d7792",
   "metadata": {
    "tags": [
     "render-all"
    ]
   },
   "outputs": [],
   "source": [
    "fig = workshop_utils.plot_position_speed(position, speed, place_fields, tc_speed, neurons);"
   ]
  },
  {
   "cell_type": "markdown",
   "id": "a72ef540",
   "metadata": {},
   "source": [
    "These neurons all show both position and speed tuning, and we see that the animal's speed and position are highly correlated. We're going to build a GLM to predict neuronal firing rate -- which variable should we use? Is the speed tuning just epiphenomenal?\n",
    "## NeMoS\n",
    "### Basis evaluation\n",
    "\n",
    "\n",
    "- Create a separate basis object for each model input.\n",
    "- Visualize the basis objects."
   ]
  },
  {
   "cell_type": "code",
   "execution_count": null,
   "id": "77238d0f",
   "metadata": {},
   "outputs": [],
   "source": [
    "# enter code here"
   ]
  },
  {
   "cell_type": "markdown",
   "id": "1bc0e29c",
   "metadata": {},
   "source": [
    "- Combine the two basis objects into a single \"additive basis\""
   ]
  },
  {
   "cell_type": "code",
   "execution_count": null,
   "id": "154b450b",
   "metadata": {},
   "outputs": [],
   "source": [
    "# enter code here"
   ]
  },
  {
   "cell_type": "markdown",
   "id": "0e185f20",
   "metadata": {},
   "source": [
    "- Create the design matrix!\n",
    "- Notice that, since we passed the basis pynapple objects, we got one back, preserving the time stamps.\n",
    "- `X` has the same number of time points as our input position and speed, but 25 columns. The columns come from  `n_basis_funcs` from each basis (10 for position, 15 for speed)."
   ]
  },
  {
   "cell_type": "code",
   "execution_count": null,
   "id": "1bdb1c47",
   "metadata": {},
   "outputs": [],
   "source": [
    "# enter code here"
   ]
  },
  {
   "cell_type": "markdown",
   "id": "f710964d",
   "metadata": {},
   "source": [
    "### Model learning\n",
    "\n",
    "\n",
    "- Initialize `PopulationGLM`\n",
    "- Use the \"LBFGS\" solver and pass `{\"tol\": 1e-12}` to `solver_kwargs`.\n",
    "- Fit the data, passing the design matrix and spike counts to the glm object."
   ]
  },
  {
   "cell_type": "code",
   "execution_count": null,
   "id": "4fcc243a",
   "metadata": {
    "tags": [
     "skip-execution"
    ]
   },
   "outputs": [],
   "source": [
    "# initialize \n",
    "glm =\n",
    "\n",
    "# and fit"
   ]
  },
  {
   "cell_type": "markdown",
   "id": "de09332e",
   "metadata": {},
   "source": [
    "### Prediction\n",
    "\n",
    "\n",
    "- Use `predict` to check whether our GLM has captured each neuron's speed and position tuning.\n",
    "- Remember to convert the predicted firing rate to spikes per second!"
   ]
  },
  {
   "cell_type": "code",
   "execution_count": null,
   "id": "1d9f48c8",
   "metadata": {
    "tags": [
     "skip-execution"
    ]
   },
   "outputs": [],
   "source": [
    "# predict the model's firing rate\n",
    "predicted_rate = \n",
    "\n",
    "# same shape as the counts we were trying to predict\n",
    "print(predicted_rate.shape, count.shape)\n",
    "\n",
    "# compute the position and speed tuning curves using the predicted firing rate.\n",
    "glm_pos = \n",
    "glm_speed = "
   ]
  },
  {
   "cell_type": "markdown",
   "id": "c33b491a",
   "metadata": {},
   "source": [
    "- Compare model and data tuning curves together. The model did a pretty good job!"
   ]
  },
  {
   "cell_type": "code",
   "execution_count": null,
   "id": "70819ef7",
   "metadata": {
    "tags": [
     "render-all"
    ]
   },
   "outputs": [],
   "source": [
    "workshop_utils.plot_position_speed_tuning(place_fields, tc_speed, glm_pos, glm_speed);"
   ]
  },
  {
   "cell_type": "markdown",
   "id": "0178794b",
   "metadata": {},
   "source": [
    "We can see that this model does a good job capturing both the position and the speed. In the rest of this notebook, we're going to investigate all the scientific decisions that we swept under the rug: should we regularize the model? what basis should we use? do we need both inputs?\n",
    "\n",
    "To make our lives easier, let's create a helper function that wraps the above\n",
    "lines, because we're going to be visualizing our model predictions a lot."
   ]
  },
  {
   "cell_type": "code",
   "execution_count": null,
   "id": "0205c54e",
   "metadata": {},
   "outputs": [],
   "source": [
    "# enter code here"
   ]
  },
  {
   "cell_type": "markdown",
   "id": "02859555",
   "metadata": {},
   "source": [
    "## Scikit-learn\n",
    "### How to know when to regularize?\n",
    "\n",
    "\n",
    "- How do we decide when to use regularization?\n",
    "- Cross-validation allows you to fairly compare different models on the same dataset.\n",
    "- NeMoS makes use of [scikit-learn](https://scikit-learn.org/), the standard machine learning library in python.\n",
    "- Define [parameter grid](https://scikit-learn.org/stable/modules/grid_search.html#grid-search) to search over.\n",
    "- Anything not specified in grid will be kept constant."
   ]
  },
  {
   "cell_type": "code",
   "execution_count": null,
   "id": "a2b4eab2",
   "metadata": {},
   "outputs": [],
   "source": [
    "# enter code here"
   ]
  },
  {
   "cell_type": "markdown",
   "id": "a5e6a821",
   "metadata": {},
   "source": [
    "- Initialize scikit-learn's [`GridSearchCV`](https://scikit-learn.org/stable/modules/generated/sklearn.model_selection.GridSearchCV.html#sklearn.model_selection.GridSearchCV) object."
   ]
  },
  {
   "cell_type": "code",
   "execution_count": null,
   "id": "fffc76b3",
   "metadata": {},
   "outputs": [],
   "source": [
    "# enter code here"
   ]
  },
  {
   "cell_type": "markdown",
   "id": "b8760cae",
   "metadata": {},
   "source": [
    "- We interact with this in a very similar way to the glm object.\n",
    "- In particular, call `fit` with same arguments:"
   ]
  },
  {
   "cell_type": "code",
   "execution_count": null,
   "id": "43928c21",
   "metadata": {},
   "outputs": [],
   "source": [
    "# enter code here"
   ]
  },
  {
   "cell_type": "markdown",
   "id": "1ebe7da4",
   "metadata": {},
   "source": [
    "- We got a warning because we didn't specify the regularizer strength, so we just fell back on default value.\n",
    "- Let's investigate results:"
   ]
  },
  {
   "cell_type": "code",
   "execution_count": null,
   "id": "9da72078",
   "metadata": {},
   "outputs": [],
   "source": [
    "# enter code here"
   ]
  },
  {
   "cell_type": "markdown",
   "id": "f1c2610c",
   "metadata": {},
   "source": [
    ":::{note}\n",
    "You could (and generally, should!) investigate `regularizer_strength`, but we're skipping for simplicity. To do this properly, use a slightly different syntax for `param_grid` (list of dictionaries, instead of single dictionary)\n",
    "\n",
    "```python\n",
    "param_grid = [\n",
    "    {\"regularizer\": [nmo.regularizer.UnRegularized()]},\n",
    "    {\"regularizer\": [nmo.regularizer.Ridge()],\n",
    "     \"regularizer_strength\": [1e-6, 1e-3, 1]}\n",
    "]\n",
    "```\n",
    ":::\n",
    "### Select basis\n",
    "\n",
    "\n",
    "- You can (and should) do something similar to determine how many basis functions you need for each input.\n",
    "- NeMoS basis objects are not scikit-learn-compatible right out of the box.\n",
    "- But we have provided a simple method to make them so:"
   ]
  },
  {
   "cell_type": "code",
   "execution_count": null,
   "id": "1a0a7e26",
   "metadata": {},
   "outputs": [],
   "source": [
    "# enter code here"
   ]
  },
  {
   "cell_type": "markdown",
   "id": "8c8aa165",
   "metadata": {},
   "source": [
    "- This gives the basis object the `transform` method, which is equivalent to `compute_features`.\n",
    "- However, transformers have some limits:"
   ]
  },
  {
   "cell_type": "code",
   "execution_count": null,
   "id": "c524b098",
   "metadata": {},
   "outputs": [],
   "source": [
    "# enter code here"
   ]
  },
  {
   "cell_type": "markdown",
   "id": "54529284",
   "metadata": {},
   "source": [
    "- Transformers only accept 2d inputs, whereas nemos basis objects can accept inputs of any dimensionality.\n",
    "- In order to tell nemos how to reshape the 2d matrix that is the input of `transform` to whatever the basis accepts, you need to call `set_input_shape`:"
   ]
  },
  {
   "cell_type": "code",
   "execution_count": null,
   "id": "a7978b45",
   "metadata": {},
   "outputs": [],
   "source": [
    "# enter code here"
   ]
  },
  {
   "cell_type": "markdown",
   "id": "dca14082",
   "metadata": {},
   "source": [
    "- Then you can call transform on the 2d input as expected."
   ]
  },
  {
   "cell_type": "code",
   "execution_count": null,
   "id": "21826737",
   "metadata": {},
   "outputs": [],
   "source": [
    "# enter code here"
   ]
  },
  {
   "cell_type": "markdown",
   "id": "32655dad",
   "metadata": {},
   "source": [
    "- You can, equivalently, call `compute_features` *before* turning the basis into a transformer. Then we cache the shape for future use:"
   ]
  },
  {
   "cell_type": "code",
   "execution_count": null,
   "id": "2f1f5be8",
   "metadata": {},
   "outputs": [],
   "source": [
    "# enter code here"
   ]
  },
  {
   "cell_type": "markdown",
   "id": "aea0c1cf",
   "metadata": {},
   "source": [
    "- Create a single TsdFrame to hold all our inputs:"
   ]
  },
  {
   "cell_type": "code",
   "execution_count": null,
   "id": "1bb3abd6",
   "metadata": {
    "tags": [
     "render-all"
    ]
   },
   "outputs": [],
   "source": [
    "transformer_input = nap.TsdFrame(\n",
    "    t=position.t,\n",
    "    d=np.stack([position.d, speed.d], 1),\n",
    "    time_support=position.time_support,\n",
    "    columns=[\"position\", \"speed\"],\n",
    ")"
   ]
  },
  {
   "cell_type": "markdown",
   "id": "a25f889b",
   "metadata": {},
   "source": [
    "- Pass this input to our transformed additive basis:"
   ]
  },
  {
   "cell_type": "code",
   "execution_count": null,
   "id": "33b99e03",
   "metadata": {},
   "outputs": [],
   "source": [
    "# enter code here"
   ]
  },
  {
   "cell_type": "markdown",
   "id": "0fcc5373",
   "metadata": {},
   "source": [
    "### Pipelines\n",
    "\n",
    "\n",
    "- If we want to cross-validate over the basis, we need more one more step: combining the basis and the GLM into a single scikit-learn estimator.\n",
    "- [Pipelines](https://scikit-learn.org/stable/modules/generated/sklearn.pipeline.Pipeline.html) to the rescue!"
   ]
  },
  {
   "cell_type": "code",
   "execution_count": null,
   "id": "b77a7c3d",
   "metadata": {},
   "outputs": [],
   "source": [
    "# enter code here"
   ]
  },
  {
   "cell_type": "markdown",
   "id": "f988bf29",
   "metadata": {},
   "source": [
    "- Pipeline runs `basis.transform`, then passes that output to `glm`, so we can do everything in a single line:"
   ]
  },
  {
   "cell_type": "code",
   "execution_count": null,
   "id": "9f8210a9",
   "metadata": {},
   "outputs": [],
   "source": [
    "# enter code here"
   ]
  },
  {
   "cell_type": "markdown",
   "id": "ffe271e9",
   "metadata": {},
   "source": [
    "- Visualize model predictions!"
   ]
  },
  {
   "cell_type": "code",
   "execution_count": null,
   "id": "c2d34c24",
   "metadata": {},
   "outputs": [],
   "source": [
    "# enter code here"
   ]
  },
  {
   "cell_type": "markdown",
   "id": "dc0f2422",
   "metadata": {},
   "source": [
    "### Cross-validating on the basis\n",
    "\n",
    "\n",
    "Now that we have our pipeline estimator, we can cross-validate on any of its parameters!"
   ]
  },
  {
   "cell_type": "code",
   "execution_count": null,
   "id": "4f3114cf",
   "metadata": {},
   "outputs": [],
   "source": [
    "# enter code here"
   ]
  },
  {
   "cell_type": "markdown",
   "id": "1806acc5",
   "metadata": {},
   "source": [
    "Let's cross-validate on:\n",
    "- The number of the basis functions of the position basis\n",
    "- The functional form of the basis for speed"
   ]
  },
  {
   "cell_type": "code",
   "execution_count": null,
   "id": "c30ff207",
   "metadata": {},
   "outputs": [],
   "source": [
    "# enter code here"
   ]
  },
  {
   "cell_type": "markdown",
   "id": "d90f102c",
   "metadata": {},
   "source": [
    "- Construct `param_grid`, using `__` to stand in for `.`"
   ]
  },
  {
   "cell_type": "code",
   "execution_count": null,
   "id": "96122331",
   "metadata": {},
   "outputs": [],
   "source": [
    "# enter code here"
   ]
  },
  {
   "cell_type": "markdown",
   "id": "b6688262",
   "metadata": {},
   "source": [
    "- Cross-validate as before:"
   ]
  },
  {
   "cell_type": "code",
   "execution_count": null,
   "id": "30344e47",
   "metadata": {},
   "outputs": [],
   "source": [
    "# enter code here"
   ]
  },
  {
   "cell_type": "markdown",
   "id": "144280b1",
   "metadata": {},
   "source": [
    "- Investigate results:"
   ]
  },
  {
   "cell_type": "code",
   "execution_count": null,
   "id": "3072044f",
   "metadata": {},
   "outputs": [],
   "source": [
    "# enter code here"
   ]
  },
  {
   "cell_type": "markdown",
   "id": "0c79c552",
   "metadata": {},
   "source": [
    "- These results are more complicated, so let's use [pandas dataframe](https://pandas.pydata.org/docs/reference/api/pandas.DataFrame.html) to make them a bit more understandable:"
   ]
  },
  {
   "cell_type": "code",
   "execution_count": null,
   "id": "747533ca",
   "metadata": {},
   "outputs": [],
   "source": [
    "# enter code here"
   ]
  },
  {
   "cell_type": "markdown",
   "id": "1e2bb4b3",
   "metadata": {},
   "source": [
    "- Can easily grab the best estimator, the pipeline that did the best:"
   ]
  },
  {
   "cell_type": "code",
   "execution_count": null,
   "id": "d53039cc",
   "metadata": {},
   "outputs": [],
   "source": [
    "# enter code here"
   ]
  },
  {
   "cell_type": "markdown",
   "id": "1ab195e0",
   "metadata": {},
   "source": [
    "- Visualize model predictions!"
   ]
  },
  {
   "cell_type": "code",
   "execution_count": null,
   "id": "dca28f8d",
   "metadata": {
    "tags": [
     "render-all"
    ]
   },
   "outputs": [],
   "source": [
    "visualize_model_predictions(best_estim, transformer_input)"
   ]
  },
  {
   "cell_type": "markdown",
   "id": "a0247263",
   "metadata": {},
   "source": [
    "### Feature selection\n",
    "\n",
    "\n",
    "- Now one more thing we can do with scikit-learn!\n",
    "- Each `PopulationGLM` object has a feature mask, which allows us to exclude certain parts of the input\n",
    "- Feature mask shape: `X.shape[1]` (number of columns in the design matrix) by `n_neurons` (number of neurons we're trying to predict)\n",
    "- (By default, everything is included.)"
   ]
  },
  {
   "cell_type": "code",
   "execution_count": null,
   "id": "3190a7ac",
   "metadata": {},
   "outputs": [],
   "source": [
    "# enter code here"
   ]
  },
  {
   "cell_type": "markdown",
   "id": "45511cf5",
   "metadata": {},
   "source": [
    "- We could manually edit feature mask, but have some helper functions -- these are currently being developed, so any feedback is appreciated!\n",
    "- By default, we include all features:"
   ]
  },
  {
   "cell_type": "code",
   "execution_count": null,
   "id": "8b90d332",
   "metadata": {},
   "outputs": [],
   "source": [
    "# enter code here"
   ]
  },
  {
   "cell_type": "markdown",
   "id": "1e13e3f9",
   "metadata": {},
   "source": [
    "- Make use of our additive basis to figure out the structure in the input\n",
    "- Can selectively remove some of the features:"
   ]
  },
  {
   "cell_type": "code",
   "execution_count": null,
   "id": "a8ffdd56",
   "metadata": {},
   "outputs": [],
   "source": [
    "# enter code here"
   ]
  },
  {
   "cell_type": "markdown",
   "id": "b56402bc",
   "metadata": {},
   "source": [
    "- Can construct a set of feature masks that includes / excludes each of the sets of inputs:"
   ]
  },
  {
   "cell_type": "code",
   "execution_count": null,
   "id": "0ac23094",
   "metadata": {},
   "outputs": [],
   "source": [
    "# enter code here"
   ]
  },
  {
   "cell_type": "markdown",
   "id": "19e8f24f",
   "metadata": {},
   "source": [
    "- One more wrinkle: the shape of this feature mask depends on the number of basis functions!\n",
    "- Thus, must create a new feature mask for each possible arrangement:"
   ]
  },
  {
   "cell_type": "code",
   "execution_count": null,
   "id": "ba34d421",
   "metadata": {
    "tags": [
     "render-all"
    ]
   },
   "outputs": [],
   "source": [
    "param_grid = workshop_utils.create_feature_mask_paramgrid(basis, [5, 10, 20], \n",
    "                                                          [8, 16, 32], count.shape[1])"
   ]
  },
  {
   "cell_type": "markdown",
   "id": "16128a64",
   "metadata": {},
   "source": [
    "- Initialize and fit GridSearchCV"
   ]
  },
  {
   "cell_type": "code",
   "execution_count": null,
   "id": "14506145",
   "metadata": {},
   "outputs": [],
   "source": [
    "# enter code here"
   ]
  },
  {
   "cell_type": "markdown",
   "id": "761ccf7b",
   "metadata": {},
   "source": [
    "- Investigate results using pandas"
   ]
  },
  {
   "cell_type": "code",
   "execution_count": null,
   "id": "94a36853",
   "metadata": {},
   "outputs": [],
   "source": [
    "# enter code here"
   ]
  },
  {
   "cell_type": "markdown",
   "id": "95a82be3",
   "metadata": {},
   "source": [
    "- For our own sanity, let's create an easier-to-read label:"
   ]
  },
  {
   "cell_type": "code",
   "execution_count": null,
   "id": "6ffd8f36",
   "metadata": {
    "tags": [
     "render-all"
    ]
   },
   "outputs": [],
   "source": [
    "# create a custom label to make the results easier to parse\n",
    "def label_feature_mask(x):\n",
    "    mask = x.param_glm__feature_mask\n",
    "    if mask.sum() / np.prod(mask.shape) == 1:\n",
    "        return \"all\"\n",
    "    elif mask[0,0] == 1:\n",
    "        return \"position\"\n",
    "    else:\n",
    "        return \"speed\"\n",
    "\n",
    "cv_df['feature_mask_label'] = cv_df.apply(label_feature_mask, 1)"
   ]
  },
  {
   "cell_type": "markdown",
   "id": "1d3c1936",
   "metadata": {},
   "source": [
    "- And visualize:"
   ]
  },
  {
   "cell_type": "code",
   "execution_count": null,
   "id": "cc597d62",
   "metadata": {},
   "outputs": [],
   "source": [
    "# enter code here"
   ]
  },
  {
   "cell_type": "markdown",
   "id": "b16a73d4",
   "metadata": {},
   "source": [
    "- What do we see?\n",
    "\n",
    "\n",
    "- Visualize model predictions!"
   ]
  },
  {
   "cell_type": "code",
   "execution_count": null,
   "id": "3c210885",
   "metadata": {
    "tags": [
     "render-all"
    ]
   },
   "outputs": [],
   "source": [
    "visualize_model_predictions(cv.best_estimator_, transformer_input)"
   ]
  },
  {
   "cell_type": "markdown",
   "id": "00f3f5db",
   "metadata": {},
   "source": [
    "## Conclusion\n",
    "## References\n",
    "\n",
    "\n",
    "The data in this tutorial comes from [Grosmark, Andres D., and György Buzsáki. \"Diversity in neural firing dynamics supports both rigid and learned hippocampal sequences.\" Science 351.6280 (2016): 1440-1443](https://www.science.org/doi/full/10.1126/science.aad1935)."
   ]
  }
 ],
 "metadata": {
  "jupytext": {
   "text_representation": {
    "extension": ".md",
    "format_name": "myst",
    "format_version": 0.13,
    "jupytext_version": "1.16.6"
   }
  },
  "kernelspec": {
   "display_name": "Python 3 (ipykernel)",
   "language": "python",
   "name": "python3"
  },
  "source_map": [
   13,
   41,
   64,
   91,
   95,
   101,
   104,
   109,
   113,
   118,
   122,
   127,
   132,
   137,
   143,
   154,
   159,
   176,
   180,
   186,
   190,
   194,
   198,
   208,
   210,
   215,
   217,
   224,
   226,
   236,
   243,
   251,
   263,
   267,
   271,
   278,
   280,
   291,
   293,
   298,
   300,
   306,
   308,
   314,
   316,
   337,
   339,
   345,
   347,
   353,
   355,
   360,
   362,
   367,
   369,
   374,
   383,
   387,
   389,
   396,
   398,
   403,
   405,
   410,
   412,
   418,
   420,
   427,
   429,
   434,
   436,
   441,
   443,
   448,
   450,
   455,
   457,
   462,
   464,
   469,
   472,
   480,
   482,
   487,
   489,
   495,
   497,
   502,
   504,
   510,
   515,
   519,
   521,
   526,
   528,
   533,
   547,
   551,
   553,
   561,
   564
  ]
 },
 "nbformat": 4,
 "nbformat_minor": 5
}