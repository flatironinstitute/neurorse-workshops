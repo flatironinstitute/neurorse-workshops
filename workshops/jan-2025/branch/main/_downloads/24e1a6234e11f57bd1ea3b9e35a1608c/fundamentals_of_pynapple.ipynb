{
 "cells": [
  {
   "cell_type": "code",
   "execution_count": 1,
   "id": "feaeeb2a",
   "metadata": {
    "tags": [
     "render-all"
    ]
   },
   "outputs": [],
   "source": [
    "%matplotlib inline"
   ]
  },
  {
   "cell_type": "markdown",
   "id": "e7813406",
   "metadata": {},
   "source": [
    ":::{admonition} Download\n",
    ":class: important render-all\n",
    "\n",
    "This notebook can be downloaded as **{nb-download}`fundamentals_of_pynapple.ipynb`**. See the button at the top right to download as markdown or pdf.\n",
    ":::\n",
    "\n",
    "\n",
    "<div class=\"render-all\">\n",
    "\n",
    "# Learning the fundamentals of pynapple\n",
    "\n",
    "## Learning objectives\n",
    "\n",
    "\n",
    "- Instantiate the pynapple objects\n",
    "- Make the pynapple objects interact\n",
    "- Use numpy with pynapple\n",
    "- Slicing pynapple objects\n",
    "- Adding metadata to pynapple objects\n",
    "- Learn the core functions of pynapple\n",
    "\n",
    "The pynapple documentation can be found [here](https://pynapple.org).\n",
    "\n",
    "The documentation for objects and method of the core of pynapple is [here](https://pynapple.org/api.html).\n",
    "\n",
    "\n",
    "Let's start by importing the pynapple package and matplotlib to see if everything is correctly installed.\n",
    "If an import fails, you can do `!pip install pynapple matplotlib` in a cell to fix it.\n",
    "\n",
    "</div>"
   ]
  },
  {
   "cell_type": "code",
   "execution_count": 2,
   "id": "19885b8e",
   "metadata": {
    "tags": [
     "render-all"
    ]
   },
   "outputs": [
    {
     "name": "stderr",
     "output_type": "stream",
     "text": [
      "WARNING:2025-02-03 19:40:35,795:jax._src.xla_bridge:987: An NVIDIA GPU may be present on this machine, but a CUDA-enabled jaxlib is not installed. Falling back to cpu.\n"
     ]
    },
    {
     "name": "stderr",
     "output_type": "stream",
     "text": [
      "/home/agent/workspace/rorse_ccn-software-jan-2025_main/lib/python3.11/site-packages/nemos/_documentation_utils/plotting.py:38: UserWarning: plotting functions contained within `_documentation_utils` are intended for nemos's documentation. Feel free to use them, but they will probably not work as intended with other datasets / in other contexts.\n",
      "  warnings.warn(\n"
     ]
    }
   ],
   "source": [
    "import pynapple as nap\n",
    "import matplotlib.pyplot as plt\n",
    "import numpy as np\n",
    "import workshop_utils"
   ]
  },
  {
   "cell_type": "markdown",
   "id": "8ad06c8c",
   "metadata": {},
   "source": [
    "For this notebook we will work with fake data. The following cells generate a set of variables that we will use to create the different pynapple objects."
   ]
  },
  {
   "cell_type": "code",
   "execution_count": 3,
   "id": "3ef7c529",
   "metadata": {
    "tags": [
     "render-all"
    ]
   },
   "outputs": [],
   "source": [
    "var1 = np.random.randn(100) # Variable 1\n",
    "tsp1 = np.arange(100) # The timesteps of variable 1\n",
    "\n",
    "var2 = np.random.randn(100, 3) # Variable 2\n",
    "tsp2 = np.arange(0, 100, 1) # The timesteps of variable 2\n",
    "col2 = ['pineapple', 'banana', 'tomato'] # The name of each columns of var2\n",
    "\n",
    "var3 = np.random.randn(1000, 4, 5) # Variable 3\n",
    "tsp3 = np.arange(0, 100, 0.1) # The timesteps of variable 3\n",
    "\n",
    "random_times_1 = np.array([3.14, 37.0, 42.0])\n",
    "random_times_2 = np.array([10, 25, 50, 70])\n",
    "random_times_3 = np.sort(np.random.uniform(10, 80, 100))\n",
    "\n",
    "starts_1 = np.array([10000, 60000, 90000]) # starts of an epoch in `ms`\n",
    "ends_1 = np.array([20000, 80000, 95000]) # ends in `ms`"
   ]
  },
  {
   "cell_type": "markdown",
   "id": "494e28fa",
   "metadata": {},
   "source": [
    "## Instantiate pynapple objects \n",
    "\n",
    "This is a lot of variables to carry around. pynapple can help reduce the size of the workspace. Here we will instantiate all the different pynapple objects with the variables created above.\n",
    "\n",
    "Let's start with the simple ones.\n",
    "\n",
    "<div class=\"render-all\">\n",
    "\n",
    "**Question:** Can you instantiate the right pynapple objects for `var1`, `var2` and `var3`? Objects should be named respectively `tsd1`, `tsd2` and `tsd3`. Don't forget the column name for `var2`.\n",
    "\n",
    "</div>"
   ]
  },
  {
   "cell_type": "code",
   "execution_count": 4,
   "id": "2effb539",
   "metadata": {},
   "outputs": [],
   "source": [
    "tsd1 = nap.Tsd(t=tsp1, d=var1)\n",
    "tsd2 = nap.TsdFrame(t=tsp2, d=var2, columns = col2)\n",
    "tsd3 = nap.TsdTensor(t=tsp3, d=var3)"
   ]
  },
  {
   "cell_type": "markdown",
   "id": "5db048ee",
   "metadata": {},
   "source": [
    "<div class=\"render-all\">\n",
    "\n",
    "**Question:** Can you print `tsd1`?\n",
    "\n",
    "</div>"
   ]
  },
  {
   "cell_type": "code",
   "execution_count": 5,
   "id": "acd4566d",
   "metadata": {},
   "outputs": [
    {
     "name": "stdout",
     "output_type": "stream",
     "text": [
      "Time (s)\n",
      "----------  ----------\n",
      "0.0          1.51292\n",
      "1.0          0.0155563\n",
      "2.0         -2.14895\n",
      "3.0         -0.940132\n",
      "4.0          0.129806\n",
      "5.0         -1.05994\n",
      "6.0         -0.219335\n",
      "...\n",
      "93.0         0.543679\n",
      "94.0        -1.73064\n",
      "95.0        -0.523741\n",
      "96.0        -0.419869\n",
      "97.0        -0.626192\n",
      "98.0        -0.516779\n",
      "99.0        -0.781057\n",
      "dtype: float64, shape: (100,)\n"
     ]
    }
   ],
   "source": [
    "print(tsd1)"
   ]
  },
  {
   "cell_type": "markdown",
   "id": "657365f4",
   "metadata": {},
   "source": [
    "<div class=\"render-all\">\n",
    "\n",
    "**Question:** Can you print `tsd2`?\n",
    "\n",
    "</div>"
   ]
  },
  {
   "cell_type": "code",
   "execution_count": 6,
   "id": "83e0a17f",
   "metadata": {},
   "outputs": [
    {
     "name": "stdout",
     "output_type": "stream",
     "text": [
      "Time (s)    pineapple    banana    tomato\n",
      "----------  -----------  --------  --------\n",
      "0.0         -0.16008     -0.16467  -1.55792\n",
      "1.0         0.07389      -0.37121  -1.5027\n",
      "2.0         0.67231      -0.40303  -1.98381\n",
      "3.0         0.17873      0.04138   -0.7381\n",
      "4.0         -0.58583     -1.18687  -0.99969\n",
      "5.0         2.23034      1.04542   -0.95841\n",
      "6.0         -0.58179     0.12827   0.84646\n",
      "...         ...          ...       ...\n",
      "93.0        0.45044      0.58543   -1.2812\n",
      "94.0        -0.25131     0.24594   2.36248\n",
      "95.0        -0.93021     -0.25047  0.3053\n",
      "96.0        0.41452      -0.51393  0.5251\n",
      "97.0        0.14909      0.55242   0.3006\n",
      "98.0        1.60397      1.2947    -0.66551\n",
      "99.0        1.58099      1.29545   -0.35986\n",
      "dtype: float64, shape: (100, 3)\n"
     ]
    }
   ],
   "source": [
    "print(tsd2)"
   ]
  },
  {
   "cell_type": "markdown",
   "id": "493da8d0",
   "metadata": {},
   "source": [
    "<div class=\"render-all\">\n",
    "\n",
    "**Question:** Can you print `tsd3`?\n",
    "\n",
    "</div>"
   ]
  },
  {
   "cell_type": "code",
   "execution_count": 7,
   "id": "1a35a100",
   "metadata": {},
   "outputs": [
    {
     "name": "stdout",
     "output_type": "stream",
     "text": [
      "Time (s)\n",
      "----------  -------------------------------\n",
      "0.0         [[-1.51475  ...  0.582355] ...]\n",
      "0.1         [[ 0.050259 ... -0.635568] ...]\n",
      "0.2         [[-1.56171  ...  0.844647] ...]\n",
      "0.3         [[-0.097491 ... -0.638654] ...]\n",
      "0.4         [[-1.167455 ... -0.539714] ...]\n",
      "0.5         [[0.162718 ... 0.506239] ...]\n",
      "0.6         [[0.461918 ... 1.894334] ...]\n",
      "...\n",
      "99.3        [[-1.88854  ...  0.781344] ...]\n",
      "99.4        [[-1.087333 ... -0.315887] ...]\n",
      "99.5        [[-0.009822 ...  0.105625] ...]\n",
      "99.6        [[ 2.191747 ... -0.115332] ...]\n",
      "99.7        [[-1.292445 ... -0.538872] ...]\n",
      "99.8        [[ 0.539539 ... -0.521138] ...]\n",
      "99.9        [[-1.161908 ... -1.254522] ...]\n",
      "dtype: float64, shape: (1000, 4, 5)\n"
     ]
    }
   ],
   "source": [
    "print(tsd3)"
   ]
  },
  {
   "cell_type": "markdown",
   "id": "8142503a",
   "metadata": {},
   "source": [
    "<div class=\"render-all\">\n",
    "\n",
    "**Question:** Can you create an `IntervalSet` called `ep` out of `starts_1` and `ends_1` and print it? Be careful, times given above are in `ms`.\n",
    "\n",
    "</div>"
   ]
  },
  {
   "cell_type": "code",
   "execution_count": 8,
   "id": "486821ff",
   "metadata": {},
   "outputs": [
    {
     "name": "stdout",
     "output_type": "stream",
     "text": [
      "  index    start    end\n",
      "      0       10     20\n",
      "      1       60     80\n",
      "      2       90     95\n",
      "shape: (3, 2), time unit: sec.\n"
     ]
    }
   ],
   "source": [
    "ep = nap.IntervalSet(start=starts_1, end=ends_1, time_units='ms')\n",
    "print(ep)"
   ]
  },
  {
   "cell_type": "markdown",
   "id": "a48373fa",
   "metadata": {},
   "source": [
    "<div class=\"render-all\">\n",
    "\n",
    "The experiment generated a set of timestamps from 3 different channels.\n",
    "\n",
    "**Question:** Can you instantiate the corresponding pynapple object (`ts1`, `ts2`, `ts3`) for each one of them?\n",
    "\n",
    "</div>"
   ]
  },
  {
   "cell_type": "code",
   "execution_count": 9,
   "id": "b12a507f",
   "metadata": {},
   "outputs": [],
   "source": [
    "ts1 = nap.Ts(t=random_times_1)\n",
    "ts2 = nap.Ts(t=random_times_2)\n",
    "ts3 = nap.Ts(t=random_times_3)"
   ]
  },
  {
   "cell_type": "markdown",
   "id": "80670d0e",
   "metadata": {},
   "source": [
    "<div class=\"render-all\">\n",
    "\n",
    "This is a lot of timestamps to carry around as well.\n",
    "\n",
    "**Question:** Can you instantiate the right pynapple object (call it `tsgroup`) to group them together?\n",
    "\n",
    "</div>"
   ]
  },
  {
   "cell_type": "code",
   "execution_count": 10,
   "id": "7c68ab69",
   "metadata": {},
   "outputs": [],
   "source": [
    "tsgroup = nap.TsGroup({0:ts1, 1:ts2, 2:ts3})"
   ]
  },
  {
   "cell_type": "markdown",
   "id": "f9333005",
   "metadata": {},
   "source": [
    "<div class=\"render-all\">\n",
    "\n",
    "**Question:** ... and print it?\n",
    "\n",
    "</div>"
   ]
  },
  {
   "cell_type": "code",
   "execution_count": 11,
   "id": "2568084c",
   "metadata": {},
   "outputs": [
    {
     "name": "stdout",
     "output_type": "stream",
     "text": [
      "  Index     rate\n",
      "-------  -------\n",
      "      0  0.03908\n",
      "      1  0.05211\n",
      "      2  1.30264\n"
     ]
    }
   ],
   "source": [
    "print(tsgroup)"
   ]
  },
  {
   "cell_type": "markdown",
   "id": "bd1238fe",
   "metadata": {},
   "source": [
    "## Interaction between pynapple objects \n",
    "\n",
    "We reduced 12 variables in our workspace to 5 using pynapple. Now we can see how the objects interact.\n",
    "\n",
    "<div class=\"render-all\">\n",
    "\n",
    "**Question:** Can you print the `time_support` of `tsgroup`?\n",
    "\n",
    "</div>"
   ]
  },
  {
   "cell_type": "code",
   "execution_count": 12,
   "id": "09253380",
   "metadata": {},
   "outputs": [
    {
     "name": "stdout",
     "output_type": "stream",
     "text": [
      "  index    start      end\n",
      "      0     3.14  79.9071\n",
      "shape: (1, 2), time unit: sec.\n"
     ]
    }
   ],
   "source": [
    "print(tsgroup.time_support)"
   ]
  },
  {
   "cell_type": "markdown",
   "id": "0107599e",
   "metadata": {},
   "source": [
    "The experiment ran from 0 to 100 seconds and as you can see, the `TsGroup` object shows the rate. But the rate is not accurate as it was computed over the default `time_support`.\n",
    "\n",
    "<div class=\"render-all\">\n",
    "\n",
    "**Question:** can you recreate the `tsgroup` object passing the right `time_support` during initialisation?\n",
    "\n",
    "</div>"
   ]
  },
  {
   "cell_type": "code",
   "execution_count": 13,
   "id": "fca458e5",
   "metadata": {},
   "outputs": [],
   "source": [
    "tsgroup = nap.TsGroup({0:ts1, 1:tsd2, 2:ts3}, time_support = nap.IntervalSet(0, 100))"
   ]
  },
  {
   "cell_type": "markdown",
   "id": "5241b10a",
   "metadata": {},
   "source": [
    "<div class=\"render-all\">\n",
    "\n",
    "**Question:** Can you print the `time_support` and `rate` to see how they changed?\n",
    "\n",
    "</div>"
   ]
  },
  {
   "cell_type": "code",
   "execution_count": 14,
   "id": "88878975",
   "metadata": {},
   "outputs": [
    {
     "name": "stdout",
     "output_type": "stream",
     "text": [
      "  index    start    end\n",
      "      0        0    100\n",
      "shape: (1, 2), time unit: sec.\n",
      "0    0.03\n",
      "1    1.00\n",
      "2    1.00\n",
      "Name: rate, dtype: float64\n"
     ]
    }
   ],
   "source": [
    "print(tsgroup.time_support)\n",
    "print(tsgroup.rate)"
   ]
  },
  {
   "cell_type": "markdown",
   "id": "e8fa02a6",
   "metadata": {},
   "source": [
    "<div class=\"render-all\">\n",
    "\n",
    "Now you realized the variable `tsd1` has some noise. The good signal is between 10 and 30 seconds and  50 and 100.\n",
    "\n",
    "**Question:** Can you create an `IntervalSet` object called `ep_signal` and use it to restrict the variable `tsd1`?\n",
    "\n",
    "</div>"
   ]
  },
  {
   "cell_type": "code",
   "execution_count": 15,
   "id": "b6a6c852",
   "metadata": {},
   "outputs": [],
   "source": [
    "ep_signal = nap.IntervalSet(start=[10, 50], end=[30, 100])\n",
    "\n",
    "tsd1 = tsd1.restrict(ep_signal)"
   ]
  },
  {
   "cell_type": "markdown",
   "id": "0d9f6c61",
   "metadata": {},
   "source": [
    "<div class=\"render-all\">\n",
    "You can print `tsd1` to check that the timestamps are in fact within `ep`.\n",
    "You can also check the `time_support` of `tsd1` to see that it has been updated.\n",
    "</div>"
   ]
  },
  {
   "cell_type": "code",
   "execution_count": 16,
   "id": "013caf59",
   "metadata": {},
   "outputs": [
    {
     "name": "stdout",
     "output_type": "stream",
     "text": [
      "Time (s)\n",
      "----------  ---------\n",
      "10.0        -1.17392\n",
      "11.0        -1.89974\n",
      "12.0         0.826239\n",
      "13.0         1.06981\n",
      "14.0        -1.24952\n",
      "15.0         2.29172\n",
      "16.0        -0.307293\n",
      "...\n",
      "93.0         0.543679\n",
      "94.0        -1.73064\n",
      "95.0        -0.523741\n",
      "96.0        -0.419869\n",
      "97.0        -0.626192\n",
      "98.0        -0.516779\n",
      "99.0        -0.781057\n",
      "dtype: float64, shape: (71,)\n",
      "  index    start    end\n",
      "      0       10     30\n",
      "      1       50    100\n",
      "shape: (2, 2), time unit: sec.\n"
     ]
    }
   ],
   "source": [
    "print(tsd1)\n",
    "print(tsd1.time_support)"
   ]
  },
  {
   "cell_type": "code",
   "execution_count": 17,
   "id": "3e27770f",
   "metadata": {
    "tags": [
     "render-all"
    ]
   },
   "outputs": [
    {
     "name": "stdout",
     "output_type": "stream",
     "text": [
      "  index     start       end\n",
      "      0   1.39415   1.92985\n",
      "      1   7.24709  23.4866\n",
      "      2  28.6185   47.9403\n",
      "      3  52.1102   54.6987\n",
      "      4  58.1249   68.1296\n",
      "      5  79.5894   80.4099\n",
      "      6  82.1095   84.1959\n",
      "      7  86.9496   91.7275\n",
      "      8  94.5107   95.4808\n",
      "      9  97.459    99.3186\n",
      "shape: (10, 2), time unit: sec.\n"
     ]
    }
   ],
   "source": [
    "ep_tmp = nap.IntervalSet(np.sort(np.random.uniform(0, 100, 20)))\n",
    "print(ep_tmp)"
   ]
  },
  {
   "cell_type": "markdown",
   "id": "6a0eea7b",
   "metadata": {},
   "source": [
    "<div class=\"render-all\">\n",
    "\n",
    "**Question:** Can you do the intersection of `ep_signal` and `ep_tmp`?\n",
    "</div>"
   ]
  },
  {
   "cell_type": "code",
   "execution_count": 18,
   "id": "c17c6468",
   "metadata": {},
   "outputs": [
    {
     "name": "stdout",
     "output_type": "stream",
     "text": [
      "  index    start      end\n",
      "      0  10       23.4866\n",
      "      1  28.6185  30\n",
      "      2  52.1102  54.6987\n",
      "      3  58.1249  68.1296\n",
      "      4  79.5894  80.4099\n",
      "      5  82.1095  84.1959\n",
      "      6  86.9496  91.7275\n",
      "      7  94.5107  95.4808\n",
      "      8  97.459   99.3186\n",
      "shape: (9, 2), time unit: sec.\n"
     ]
    }
   ],
   "source": [
    "print(ep_signal.intersect(ep_tmp))"
   ]
  },
  {
   "cell_type": "markdown",
   "id": "c036a4d0",
   "metadata": {},
   "source": [
    "<div class=\"render-all\">\n",
    "You can visualize IntervalSet using the function `workshop_utils.visualize_intervals` we provide.\n",
    "</div>"
   ]
  },
  {
   "cell_type": "code",
   "execution_count": 19,
   "id": "4bc56069",
   "metadata": {
    "tags": [
     "render-all"
    ]
   },
   "outputs": [
    {
     "data": {
      "image/png": "[encoded data removed]",
      "text/plain": [
       "<Figure size 600x300 with 1 Axes>"
      ]
     },
     "metadata": {},
     "output_type": "display_data"
    }
   ],
   "source": [
    "workshop_utils.visualize_intervals([ep_signal, ep_tmp, ep_signal.intersect(ep_tmp)])"
   ]
  },
  {
   "cell_type": "markdown",
   "id": "63055f66",
   "metadata": {},
   "source": [
    "<div class=\"render-all\">\n",
    "\n",
    "**Question:** Can you do the union of `ep_signal` and `ep_tmp`?\n",
    "</div>"
   ]
  },
  {
   "cell_type": "code",
   "execution_count": 20,
   "id": "67b8cec6",
   "metadata": {},
   "outputs": [
    {
     "name": "stdout",
     "output_type": "stream",
     "text": [
      "  index     start        end\n",
      "      0   1.39415    1.92985\n",
      "      1   7.24709   47.9403\n",
      "      2  50        100\n",
      "shape: (3, 2), time unit: sec.\n"
     ]
    }
   ],
   "source": [
    "print(ep_signal.union(ep_tmp))"
   ]
  },
  {
   "cell_type": "markdown",
   "id": "07ba8466",
   "metadata": {},
   "source": [
    "<div class=\"render-all\">\n",
    "\n",
    "**Question:** ... and visualize it?\n",
    "</div>"
   ]
  },
  {
   "cell_type": "code",
   "execution_count": 21,
   "id": "6e11fb21",
   "metadata": {},
   "outputs": [
    {
     "data": {
      "image/png": "[encoded data removed]",
      "text/plain": [
       "<Figure size 600x300 with 1 Axes>"
      ]
     },
     "metadata": {},
     "output_type": "display_data"
    }
   ],
   "source": [
    "workshop_utils.visualize_intervals([ep_signal, ep_tmp, ep_signal.union(ep_tmp)])"
   ]
  },
  {
   "cell_type": "markdown",
   "id": "90c51c31",
   "metadata": {},
   "source": [
    "<div class=\"render-all\">\n",
    "\n",
    "**Question:** Can you do the difference of `ep_signal` and `ep_tmp`?\n",
    "</div>"
   ]
  },
  {
   "cell_type": "code",
   "execution_count": 22,
   "id": "c374b996",
   "metadata": {},
   "outputs": [
    {
     "name": "stdout",
     "output_type": "stream",
     "text": [
      "  index    start       end\n",
      "      0  23.4866   28.6185\n",
      "      1  50        52.1102\n",
      "      2  54.6987   58.1249\n",
      "      3  68.1296   79.5894\n",
      "      4  80.4099   82.1095\n",
      "      5  84.1959   86.9496\n",
      "      6  91.7275   94.5107\n",
      "      7  95.4808   97.459\n",
      "      8  99.3186  100\n",
      "shape: (9, 2), time unit: sec.\n"
     ]
    }
   ],
   "source": [
    "print(ep_signal.set_diff(ep_tmp))"
   ]
  },
  {
   "cell_type": "markdown",
   "id": "7f0f410e",
   "metadata": {},
   "source": [
    "<div class=\"render-all\">\n",
    "\n",
    "**Question:** ... and visualize it?\n",
    "</div>"
   ]
  },
  {
   "cell_type": "code",
   "execution_count": 23,
   "id": "90508878",
   "metadata": {},
   "outputs": [
    {
     "data": {
      "image/png": "[encoded data removed]",
      "text/plain": [
       "<Figure size 600x300 with 1 Axes>"
      ]
     },
     "metadata": {},
     "output_type": "display_data"
    }
   ],
   "source": [
    "workshop_utils.visualize_intervals([ep_signal, ep_tmp, ep_signal.set_diff(ep_tmp)])"
   ]
  },
  {
   "cell_type": "markdown",
   "id": "77cbb3b4",
   "metadata": {},
   "source": [
    "## Numpy & pynapple\n",
    "\n",
    "<div class=\"render-all\">\n",
    "\n",
    "Pynapple objects behaves very similarly like numpy array. They can be sliced with the following syntax :\n",
    "\n",
    "  `tsd[0:10] # First 10 elements`\n",
    "\n",
    "Arithmetical operations are available as well :\n",
    "\n",
    "  `tsd = tsd + 1`\n",
    "\n",
    "Finally numpy functions works directly. Let's imagine `tsd3` is a movie with frame size (4,5).\n",
    "\n",
    "**Question:** Can you compute the average frame along the time axis using `np.mean` and print the result?\n",
    "\n",
    "</div>"
   ]
  },
  {
   "cell_type": "code",
   "execution_count": 24,
   "id": "4cc7d4d4",
   "metadata": {},
   "outputs": [
    {
     "name": "stdout",
     "output_type": "stream",
     "text": [
      "[[ 0.04661613 -0.00955973 -0.00103755 -0.00076147 -0.00546818]\n",
      " [ 0.02294352  0.01364822  0.03108225 -0.03141721  0.04286493]\n",
      " [-0.01053961  0.01621524  0.04439855  0.0496056   0.00697254]\n",
      " [-0.0199557   0.03611475 -0.01350142  0.01518936  0.00524639]]\n"
     ]
    }
   ],
   "source": [
    "print(np.mean(tsd3, 0))"
   ]
  },
  {
   "cell_type": "markdown",
   "id": "2b60a269",
   "metadata": {},
   "source": [
    "<div class=\"render-all\">\n",
    "\n",
    "**Question:**: can you compute the average of `tsd2` for each timestamps and print it?\n",
    "</div>"
   ]
  },
  {
   "cell_type": "code",
   "execution_count": 25,
   "id": "67417998",
   "metadata": {},
   "outputs": [
    {
     "name": "stdout",
     "output_type": "stream",
     "text": [
      "Time (s)\n",
      "----------  ----------\n",
      "0.0         -0.627556\n",
      "1.0         -0.60001\n",
      "2.0         -0.571507\n",
      "3.0         -0.172665\n",
      "4.0         -0.92413\n",
      "5.0          0.77245\n",
      "6.0          0.130982\n",
      "...\n",
      "93.0        -0.0817746\n",
      "94.0         0.785706\n",
      "95.0        -0.291795\n",
      "96.0         0.141899\n",
      "97.0         0.334036\n",
      "98.0         0.744388\n",
      "99.0         0.83886\n",
      "dtype: float64, shape: (100,)\n"
     ]
    }
   ],
   "source": [
    "print(np.mean(tsd2, 1))"
   ]
  },
  {
   "cell_type": "markdown",
   "id": "37dc8381",
   "metadata": {},
   "source": [
    "Notice how the output in the second case is still a pynapple object.\n",
    "In most cases, applying a numpy function will return a pynapple object if the time index is preserved.\n",
    "\n",
    "## Slicing pynapple objects \n",
    "\n",
    "Multiple methods exists to slice pynapple object. This parts reviews them.\n",
    "\n",
    "`IntervalSet` also behaves like numpy array.\n",
    "\n",
    "<div class=\"render-all\">\n",
    "\n",
    "**Question:** Can you extract the first and last epoch of `ep` in a new `IntervalSet`?\n",
    "</div>"
   ]
  },
  {
   "cell_type": "code",
   "execution_count": 26,
   "id": "3cdadcdf",
   "metadata": {},
   "outputs": [
    {
     "name": "stdout",
     "output_type": "stream",
     "text": [
      "  index    start    end\n",
      "      0       10     20\n",
      "      1       90     95\n",
      "shape: (2, 2), time unit: sec.\n"
     ]
    }
   ],
   "source": [
    "print(ep[[0,2]])"
   ]
  },
  {
   "cell_type": "markdown",
   "id": "80dd2ad8",
   "metadata": {},
   "source": [
    "<div class=\"render-all\">\n",
    "\n",
    "Sometimes you want to get a data point as close as possible in time to another timestamps.\n",
    "\n",
    "**Question:** Using the `get` method, can you get the data point from `tsd3` as close as possible to the time 50.1 seconds?\n",
    "\n",
    "</div>"
   ]
  },
  {
   "cell_type": "code",
   "execution_count": 27,
   "id": "26652f8d",
   "metadata": {},
   "outputs": [
    {
     "name": "stdout",
     "output_type": "stream",
     "text": [
      "[[ 0.08352735 -1.12983986  1.30781808 -0.01904838 -0.30538619]\n",
      " [-0.48254184  2.03151853  0.36879669  1.12057643 -0.20189989]\n",
      " [-0.01076454  0.22067091 -0.14597076 -0.99818046 -0.91833465]\n",
      " [ 0.56967342 -0.35468796  0.66580719  3.43562803 -0.51249259]]\n"
     ]
    }
   ],
   "source": [
    "print(tsd3.get(50.1))"
   ]
  },
  {
   "cell_type": "markdown",
   "id": "ac581612",
   "metadata": {},
   "source": [
    "## Metadata\n",
    "\n",
    "<div class=\"render-all\">\n",
    "\n",
    "Metadata are ubiquitous in neuroscience. They can be added to 3 pynapple objects :\n",
    "\n",
    "- `TsGroup` : to label neurons in electrophysiology\n",
    "- `IntervalSet` : to label intervals\n",
    "- `TsdFrame` : to label neurons in calcium imaging\n",
    "\n",
    "\n",
    "**Question:** Can you run the following command `tsgroup['planet'] = ['mars', 'venus', 'saturn']`\n",
    "</div>"
   ]
  },
  {
   "cell_type": "code",
   "execution_count": 28,
   "id": "a7281c23",
   "metadata": {},
   "outputs": [],
   "source": [
    "tsgroup['planet'] = ['mars', 'venus', 'saturn']"
   ]
  },
  {
   "cell_type": "markdown",
   "id": "d37a7ce6",
   "metadata": {},
   "source": [
    "<div class=\"render-all\">\n",
    "\n",
    "**Question:** ... and print it?\n",
    "</div>"
   ]
  },
  {
   "cell_type": "code",
   "execution_count": 29,
   "id": "9e8c3975",
   "metadata": {},
   "outputs": [
    {
     "name": "stdout",
     "output_type": "stream",
     "text": [
      "  Index    rate  planet\n",
      "-------  ------  --------\n",
      "      0    0.03  mars\n",
      "      1    1     venus\n",
      "      2    1     saturn\n"
     ]
    }
   ],
   "source": [
    "print(tsgroup)"
   ]
  },
  {
   "cell_type": "markdown",
   "id": "dd17d32a",
   "metadata": {},
   "source": [
    "<div class=\"render-all\">\n",
    "\n",
    "The object `ep` has 3 epochs labelled `['left', 'right', 'left']`. \n",
    "\n",
    "**Question:** Can you add them as a metadata column called `direction`?\n",
    "\n",
    "</div>"
   ]
  },
  {
   "cell_type": "code",
   "execution_count": 30,
   "id": "6f9e03ca",
   "metadata": {},
   "outputs": [
    {
     "name": "stdout",
     "output_type": "stream",
     "text": [
      "  index    start    end  direction\n",
      "      0       10     20  left\n",
      "      1       60     80  right\n",
      "      2       90     95  left\n",
      "shape: (3, 2), time unit: sec.\n"
     ]
    }
   ],
   "source": [
    "ep['direction'] = ['left', 'right', 'left']\n",
    "print(ep)"
   ]
  },
  {
   "cell_type": "markdown",
   "id": "a4f40d02",
   "metadata": {},
   "source": [
    "<div class=\"render-all\">\n",
    "\n",
    "The object `tsd2` has 3 columns. Each column correspond to the rgb colors `[(0,0,1), (0.5, 0.5, 1), (0.1, 0.2, 0.3)]`. \n",
    "\n",
    "**Question:** Can you add them as metadata of `tsd2`?\n",
    "</div>"
   ]
  },
  {
   "cell_type": "code",
   "execution_count": 31,
   "id": "9c276740",
   "metadata": {},
   "outputs": [
    {
     "name": "stdout",
     "output_type": "stream",
     "text": [
      "Time (s)    pineapple    banana         tomato\n",
      "----------  -----------  -------------  ---------------\n",
      "0.0         -0.16008     -0.16467       -1.55792\n",
      "1.0         0.07389      -0.37121       -1.5027\n",
      "2.0         0.67231      -0.40303       -1.98381\n",
      "3.0         0.17873      0.04138        -0.7381\n",
      "4.0         -0.58583     -1.18687       -0.99969\n",
      "5.0         2.23034      1.04542        -0.95841\n",
      "6.0         -0.58179     0.12827        0.84646\n",
      "...         ...          ...            ...\n",
      "93.0        0.45044      0.58543        -1.2812\n",
      "94.0        -0.25131     0.24594        2.36248\n",
      "95.0        -0.93021     -0.25047       0.3053\n",
      "96.0        0.41452      -0.51393       0.5251\n",
      "97.0        0.14909      0.55242        0.3006\n",
      "98.0        1.60397      1.2947         -0.66551\n",
      "99.0        1.58099      1.29545        -0.35986\n",
      "Metadata\n",
      "--------    --------     --------       --------\n",
      "colors      (0, 0, 1)    (0.5, 0.5, 1)  (0.1, 0.2, 0.3)\n",
      "\n",
      "dtype: float64, shape: (100, 3)\n"
     ]
    }
   ],
   "source": [
    "tsd2['colors'] = [(0,0,1), (0.5, 0.5, 1), (0.1, 0.2, 0.3)]\n",
    "print(tsd2)"
   ]
  },
  {
   "cell_type": "markdown",
   "id": "e7e7938b",
   "metadata": {},
   "source": [
    "<div class=\"render-all\">\n",
    "\n",
    "You can also add metadata at initialization as a dictionnary using the keyword argument `metadata` : \n",
    "</div>"
   ]
  },
  {
   "cell_type": "code",
   "execution_count": 32,
   "id": "e493da51",
   "metadata": {
    "tags": [
     "render-all"
    ]
   },
   "outputs": [
    {
     "name": "stdout",
     "output_type": "stream",
     "text": [
      "  Index     rate  planet\n",
      "-------  -------  --------\n",
      "      0  0.03908  mars\n",
      "      1  0.05211  venus\n",
      "      2  1.30264  saturn\n"
     ]
    }
   ],
   "source": [
    "tsgroup = nap.TsGroup({0:ts1, 1:ts2, 2:ts3}, metadata={'planet':['mars','venus', 'saturn']})\n",
    "\n",
    "print(tsgroup)"
   ]
  },
  {
   "cell_type": "markdown",
   "id": "4b96ca48",
   "metadata": {},
   "source": [
    "<div class=\"render-all\">\n",
    "\n",
    "Metadata are accessible either as attributes (i.e. `tsgroup.planet`) or as dictionnary-like keys (i.e. `ep['direction']`).\n",
    "\n",
    "They can be used to slice objects. \n",
    "\n",
    "**Question:** Can you select only the elements of `tsgroup` with rate below 1Hz?\n",
    "</div>"
   ]
  },
  {
   "cell_type": "code",
   "execution_count": 33,
   "id": "217a352f",
   "metadata": {},
   "outputs": [
    {
     "name": "stdout",
     "output_type": "stream",
     "text": [
      "  Index     rate  planet\n",
      "-------  -------  --------\n",
      "      0  0.03908  mars\n",
      "      1  0.05211  venus\n",
      "  Index     rate  planet\n",
      "-------  -------  --------\n",
      "      0  0.03908  mars\n",
      "      1  0.05211  venus\n",
      "  Index     rate  planet\n",
      "-------  -------  --------\n",
      "      0  0.03908  mars\n",
      "      1  0.05211  venus\n"
     ]
    }
   ],
   "source": [
    "print(tsgroup[tsgroup.rate<1.0])\n",
    "\n",
    "print(tsgroup[tsgroup['rate']<1.0])\n",
    "\n",
    "print(tsgroup.getby_threshold(\"rate\", 1, \"<\"))\n"
   ]
  },
  {
   "cell_type": "markdown",
   "id": "c3e81e1c",
   "metadata": {},
   "source": [
    "<div class=\"render-all\">\n",
    "\n",
    "**Question:** Can you select the intervals in `ep` labelled as `'left'`?\n",
    "</div>"
   ]
  },
  {
   "cell_type": "code",
   "execution_count": 34,
   "id": "901be697",
   "metadata": {},
   "outputs": [
    {
     "name": "stdout",
     "output_type": "stream",
     "text": [
      "  index    start    end  direction\n",
      "      0       10     20  left\n",
      "      1       90     95  left\n",
      "shape: (2, 2), time unit: sec.\n"
     ]
    }
   ],
   "source": [
    "print(ep[ep.direction=='left'])"
   ]
  },
  {
   "cell_type": "markdown",
   "id": "31b3c05d",
   "metadata": {},
   "source": [
    "### Special case of slicing : `TsdFrame`"
   ]
  },
  {
   "cell_type": "code",
   "execution_count": 35,
   "id": "6452b879",
   "metadata": {
    "tags": [
     "render-all"
    ]
   },
   "outputs": [
    {
     "name": "stdout",
     "output_type": "stream",
     "text": [
      "Time (s)    12        0         1\n",
      "----------  --------  --------  --------\n",
      "0.0         -0.12089  -0.56039  0.95167\n",
      "1.0         -0.47458  -0.44013  -0.38289\n",
      "2.0         -0.23389  2.1199    -1.36495\n",
      "3.0         -0.98341  -1.19486  0.58875\n",
      "Metadata\n",
      "--------    --------  --------  --------\n",
      "alpha       2         1         0\n",
      "\n",
      "dtype: float64, shape: (4, 3)\n"
     ]
    }
   ],
   "source": [
    "tsdframe = nap.TsdFrame(t=np.arange(4), d=np.random.randn(4,3),\n",
    "  columns = [12, 0, 1], metadata={'alpha':[2,1,0]})\n",
    "\n",
    "print(tsdframe)"
   ]
  },
  {
   "cell_type": "markdown",
   "id": "3868de8c",
   "metadata": {},
   "source": [
    "<div class=\"render-all\">\n",
    "\n",
    "**Question:** What happen when you do `tsdframe[0]` vs `tsdframe[:,0]` vs `tsdframe[[12,1]]`\n",
    "</div>"
   ]
  },
  {
   "cell_type": "code",
   "execution_count": 36,
   "id": "12e5d144",
   "metadata": {},
   "outputs": [
    {
     "name": "stdout",
     "output_type": "stream",
     "text": [
      "[-0.12088677 -0.56039181  0.95166899]\n"
     ]
    }
   ],
   "source": [
    "print(tsdframe[0])"
   ]
  },
  {
   "cell_type": "markdown",
   "id": "b3838183",
   "metadata": {},
   "source": [
    "<div class=\"render-all\">\n",
    "\n",
    "**Question:** What happen when you do `tsdframe.loc[0]` and `tsdframe.loc[[0,1]]`\n",
    "</div>"
   ]
  },
  {
   "cell_type": "code",
   "execution_count": 37,
   "id": "3b9b0291",
   "metadata": {},
   "outputs": [
    {
     "name": "stdout",
     "output_type": "stream",
     "text": [
      "Time (s)\n",
      "----------  ---------\n",
      "0           -0.560392\n",
      "1           -0.440127\n",
      "2            2.1199\n",
      "3           -1.19486\n",
      "dtype: float64, shape: (4,)\n",
      "Time (s)    0         1\n",
      "----------  --------  --------\n",
      "0.0         -0.56039  0.95167\n",
      "1.0         -0.44013  -0.38289\n",
      "2.0         2.1199    -1.36495\n",
      "3.0         -1.19486  0.58875\n",
      "Metadata\n",
      "--------    --------  --------\n",
      "alpha       1         0\n",
      "\n",
      "dtype: float64, shape: (4, 2)\n"
     ]
    }
   ],
   "source": [
    "print(tsdframe.loc[0])\n",
    "print(tsdframe.loc[[0,1]])"
   ]
  },
  {
   "cell_type": "markdown",
   "id": "00502df6",
   "metadata": {},
   "source": [
    "<div class=\"render-all\">\n",
    "\n",
    "**Question:** What happen when you do `tsdframe[tsdframe.alpha==2]`\n",
    "\n",
    "</div>"
   ]
  },
  {
   "cell_type": "code",
   "execution_count": 38,
   "id": "c27fcda3",
   "metadata": {},
   "outputs": [
    {
     "name": "stdout",
     "output_type": "stream",
     "text": [
      "Time (s)    12\n",
      "----------  --------\n",
      "0.0         -0.12089\n",
      "1.0         -0.47458\n",
      "2.0         -0.23389\n",
      "3.0         -0.98341\n",
      "Metadata\n",
      "--------    --------\n",
      "alpha       2\n",
      "\n",
      "dtype: float64, shape: (4, 1)\n"
     ]
    }
   ],
   "source": [
    "print(tsdframe[tsdframe.alpha==2])"
   ]
  },
  {
   "cell_type": "markdown",
   "id": "1bd8525b",
   "metadata": {},
   "source": [
    "## Core functions of pynapple \n",
    "\n",
    "<div class=\"render-all\">\n",
    "\n",
    "This part focuses on the most important core functions of pynapple.\n",
    "\n",
    "**Question:** Using the `count` function, can you count the number of events within 1 second bins for `tsgroup` over the `ep_signal` intervals?\n",
    "</div>"
   ]
  },
  {
   "cell_type": "code",
   "execution_count": 39,
   "id": "d6068a5f",
   "metadata": {},
   "outputs": [
    {
     "name": "stdout",
     "output_type": "stream",
     "text": [
      "Time (s)    0    1    2\n",
      "----------  ---  ---  ---\n",
      "10.5        0.0  1.0  1.0\n",
      "11.5        0.0  0.0  0.0\n",
      "12.5        0.0  0.0  3.0\n",
      "13.5        0.0  0.0  0.0\n",
      "14.5        0.0  0.0  2.0\n",
      "15.5        0.0  0.0  2.0\n",
      "16.5        0.0  0.0  1.0\n",
      "...         ...  ...  ...\n",
      "93.5        0.0  0.0  0.0\n",
      "94.5        0.0  0.0  0.0\n",
      "95.5        0.0  0.0  0.0\n",
      "96.5        0.0  0.0  0.0\n",
      "97.5        0.0  0.0  0.0\n",
      "98.5        0.0  0.0  0.0\n",
      "99.5        0.0  0.0  0.0\n",
      "dtype: float64, shape: (70, 3)\n"
     ]
    }
   ],
   "source": [
    "count = tsgroup.count(1, ep_signal)\n",
    "print(count)"
   ]
  },
  {
   "cell_type": "markdown",
   "id": "a57a9668",
   "metadata": {},
   "source": [
    "Pynapple works directly with matplotlib. Passing a time series object to `plt.plot` will display the figure with the correct time axis.\n",
    "\n",
    "**Question:** In two subplots, can you show the count and events over time?"
   ]
  },
  {
   "cell_type": "code",
   "execution_count": 40,
   "id": "ed63cf76",
   "metadata": {},
   "outputs": [
    {
     "data": {
      "text/plain": [
       "[<matplotlib.lines.Line2D at 0x7f24545bb010>]"
      ]
     },
     "execution_count": 40,
     "metadata": {},
     "output_type": "execute_result"
    },
    {
     "data": {
      "image/png": "[encoded data removed]",
      "text/plain": [
       "<Figure size 640x480 with 2 Axes>"
      ]
     },
     "metadata": {},
     "output_type": "display_data"
    }
   ],
   "source": [
    "plt.figure()\n",
    "ax = plt.subplot(211)\n",
    "plt.plot(count, 'o-')\n",
    "plt.subplot(212, sharex=ax)\n",
    "plt.plot(tsgroup.restrict(ep_signal).to_tsd(), '|')"
   ]
  },
  {
   "cell_type": "markdown",
   "id": "978900d5",
   "metadata": {},
   "source": [
    "<div class=\"render-all\">\n",
    "\n",
    "From a set of timestamps, you want to assign them a set of values with the closest point in time of another time series.\n",
    "\n",
    "**Question:** Using the function `value_from`, can you assign values to `ts2` from the `tsd1` time series and call the output `new_tsd`?\n",
    "\n",
    "</div>"
   ]
  },
  {
   "cell_type": "code",
   "execution_count": 41,
   "id": "2116479f",
   "metadata": {},
   "outputs": [],
   "source": [
    "new_tsd = ts2.value_from(tsd1)"
   ]
  },
  {
   "cell_type": "markdown",
   "id": "fe4d2007",
   "metadata": {},
   "source": [
    "<div class=\"render-all\">\n",
    "\n",
    "**Question:** Can you plot together `tsd1`, `ts2` and `new_tsd`?\n",
    "\n",
    "</div>"
   ]
  },
  {
   "cell_type": "code",
   "execution_count": 42,
   "id": "be3d5a6f",
   "metadata": {},
   "outputs": [
    {
     "data": {
      "text/plain": [
       "[<matplotlib.lines.Line2D at 0x7f2454387410>]"
      ]
     },
     "execution_count": 42,
     "metadata": {},
     "output_type": "execute_result"
    },
    {
     "data": {
      "image/png": "[encoded data removed]",
      "text/plain": [
       "<Figure size 640x480 with 1 Axes>"
      ]
     },
     "metadata": {},
     "output_type": "display_data"
    }
   ],
   "source": [
    "plt.figure()\n",
    "plt.plot(tsd1)\n",
    "plt.plot(new_tsd, 'o-')\n",
    "plt.plot(ts2.fillna(0), 'o')"
   ]
  },
  {
   "cell_type": "markdown",
   "id": "70824676",
   "metadata": {},
   "source": [
    "<div class=\"render-all\">\n",
    "\n",
    "One important aspect of data analysis is to bring data to the same size. Pynapple provides the `bin_average` function to downsample data.\n",
    "\n",
    "**Question:** Can you downsample `tsd2` to one time point every 5 seconds?\n",
    "\n",
    "</div>"
   ]
  },
  {
   "cell_type": "code",
   "execution_count": 43,
   "id": "08816dad",
   "metadata": {},
   "outputs": [],
   "source": [
    "new_tsd2 = tsd2.bin_average(5.0)"
   ]
  },
  {
   "cell_type": "markdown",
   "id": "92dc0b9a",
   "metadata": {},
   "source": [
    "<div class=\"render-all\">\n",
    "\n",
    "**Question:** Can you plot the `tomato` column from `tsd2` as well as the downsampled version?\n",
    "\n",
    "</div>"
   ]
  },
  {
   "cell_type": "code",
   "execution_count": 44,
   "id": "50f1232a",
   "metadata": {},
   "outputs": [
    {
     "data": {
      "text/plain": [
       "[<matplotlib.lines.Line2D at 0x7f2494317e10>]"
      ]
     },
     "execution_count": 44,
     "metadata": {},
     "output_type": "execute_result"
    },
    {
     "data": {
      "image/png": "[encoded data removed]",
      "text/plain": [
       "<Figure size 640x480 with 1 Axes>"
      ]
     },
     "metadata": {},
     "output_type": "display_data"
    }
   ],
   "source": [
    "plt.figure()\n",
    "plt.plot(tsd2['tomato'])\n",
    "plt.plot(new_tsd2['tomato'], 'o-')"
   ]
  },
  {
   "cell_type": "markdown",
   "id": "dd142cb7",
   "metadata": {},
   "source": [
    "<div class=\"render-all\">\n",
    "\n",
    "For `tsd1`, you want to find all the epochs for which the value is above 0.0. Pynapple provides the function `threshold` to get 1 dimensional time series above or below a certain value.\n",
    "\n",
    "**Question**: Can you print the epochs for which `tsd1` is above 0.0?\n",
    "</div>"
   ]
  },
  {
   "cell_type": "code",
   "execution_count": 45,
   "id": "680bd1af",
   "metadata": {},
   "outputs": [
    {
     "name": "stdout",
     "output_type": "stream",
     "text": [
      "index    start    end\n",
      "0        11.5     13.5\n",
      "1        14.5     15.5\n",
      "2        17.5     20.5\n",
      "3        23.5     24.5\n",
      "4        25.5     27.5\n",
      "5        50.5     51.5\n",
      "6        52.5     53.5\n",
      "...      ...      ...\n",
      "9        11.5     13.5\n",
      "10       14.5     15.5\n",
      "11       17.5     20.5\n",
      "12       23.5     24.5\n",
      "13       25.5     27.5\n",
      "14       50.5     51.5\n",
      "15       52.5     53.5\n",
      "shape: (16, 2), time unit: sec.\n"
     ]
    }
   ],
   "source": [
    "ep_above = tsd1.threshold(0.0).time_support\n",
    "\n",
    "print(ep_above)"
   ]
  },
  {
   "cell_type": "markdown",
   "id": "d5152fdb",
   "metadata": {},
   "source": [
    "<div class=\"render-all\">\n",
    "\n",
    "**Question**: can you plot `tsd1` as well as the epochs for which `tsd1` is above 0.0?\n",
    "</div>"
   ]
  },
  {
   "cell_type": "code",
   "execution_count": 46,
   "id": "03628bd9",
   "metadata": {},
   "outputs": [
    {
     "data": {
      "text/plain": [
       "[<matplotlib.patches.Rectangle at 0x7f247c138c50>,\n",
       " <matplotlib.patches.Rectangle at 0x7f247c1ea0d0>,\n",
       " <matplotlib.patches.Rectangle at 0x7f247c6d5810>,\n",
       " <matplotlib.patches.Rectangle at 0x7f247c2c0c50>,\n",
       " <matplotlib.patches.Rectangle at 0x7f247c3e7c10>,\n",
       " <matplotlib.patches.Rectangle at 0x7f2420172090>,\n",
       " <matplotlib.patches.Rectangle at 0x7f2420172b10>,\n",
       " <matplotlib.patches.Rectangle at 0x7f2420173490>,\n",
       " <matplotlib.patches.Rectangle at 0x7f2420173cd0>,\n",
       " <matplotlib.patches.Rectangle at 0x7f2420174550>,\n",
       " <matplotlib.patches.Rectangle at 0x7f24201747d0>,\n",
       " <matplotlib.patches.Rectangle at 0x7f24201753d0>,\n",
       " <matplotlib.patches.Rectangle at 0x7f2454254e10>,\n",
       " <matplotlib.patches.Rectangle at 0x7f2420175e90>,\n",
       " <matplotlib.patches.Rectangle at 0x7f2420174050>,\n",
       " <matplotlib.patches.Rectangle at 0x7f2420177350>]"
      ]
     },
     "execution_count": 46,
     "metadata": {},
     "output_type": "execute_result"
    },
    {
     "data": {
      "image/png": "[encoded data removed]",
      "text/plain": [
       "<Figure size 640x480 with 1 Axes>"
      ]
     },
     "metadata": {},
     "output_type": "display_data"
    }
   ],
   "source": [
    "plt.figure()\n",
    "plt.plot(tsd1)\n",
    "plt.plot(tsd1.threshold(0.0), 'o-')\n",
    "[plt.axvspan(s, e, alpha=0.2) for s,e in ep_above.values]"
   ]
  },
  {
   "cell_type": "markdown",
   "id": "952b676a",
   "metadata": {},
   "source": [
    "## Important\n",
    "\n",
    "<div class=\"render-all\">\n",
    "\n",
    "**Question:** Does this work?\n",
    "If not, please ask a TA.\n",
    "\n",
    "</div>"
   ]
  },
  {
   "cell_type": "code",
   "execution_count": 47,
   "id": "81bbcc98",
   "metadata": {
    "tags": [
     "render-all"
    ]
   },
   "outputs": [
    {
     "name": "stderr",
     "output_type": "stream",
     "text": [
      "Downloading file 'Mouse32-140822.nwb' from 'https://osf.io/jb2gd/download' to '/home/agent/workspace/rorse_ccn-software-jan-2025_main/lib/python3.11/data'.\n"
     ]
    },
    {
     "name": "stdout",
     "output_type": "stream",
     "text": [
      "/home/agent/workspace/rorse_ccn-software-jan-2025_main/lib/python3.11/data/Mouse32-140822.nwb\n"
     ]
    }
   ],
   "source": [
    "import workshop_utils\n",
    "path = workshop_utils.fetch_data(\"Mouse32-140822.nwb\")\n",
    "print(path)"
   ]
  }
 ],
 "metadata": {
  "jupytext": {
   "text_representation": {
    "extension": ".md",
    "format_name": "myst",
    "format_version": 0.13,
    "jupytext_version": "1.16.6"
   }
  },
  "kernelspec": {
   "display_name": "Python 3",
   "language": "python",
   "name": "python3"
  },
  "language_info": {
   "codemirror_mode": {
    "name": "ipython",
    "version": 3
   },
   "file_extension": ".py",
   "mimetype": "text/x-python",
   "name": "python",
   "nbconvert_exporter": "python",
   "pygments_lexer": "ipython3",
   "version": "3.11.0rc1"
  },
  "source_map": [
   14,
   17,
   50,
   56,
   61,
   79,
   94,
   98,
   106,
   108,
   116,
   118,
   126,
   128,
   136,
   139,
   149,
   153,
   163,
   165,
   173,
   175,
   187,
   189,
   199,
   201,
   209,
   212,
   222,
   226,
   233,
   238,
   242,
   249,
   251,
   257,
   260,
   267,
   269,
   276,
   278,
   285,
   287,
   294,
   296,
   317,
   319,
   326,
   328,
   344,
   346,
   357,
   359,
   375,
   377,
   384,
   386,
   396,
   399,
   408,
   411,
   418,
   424,
   435,
   442,
   449,
   451,
   455,
   462,
   469,
   471,
   478,
   481,
   489,
   491,
   503,
   506,
   513,
   519,
   530,
   532,
   540,
   545,
   555,
   557,
   565,
   569,
   578,
   582,
   589,
   594,
   606
  ]
 },
 "nbformat": 4,
 "nbformat_minor": 5
}