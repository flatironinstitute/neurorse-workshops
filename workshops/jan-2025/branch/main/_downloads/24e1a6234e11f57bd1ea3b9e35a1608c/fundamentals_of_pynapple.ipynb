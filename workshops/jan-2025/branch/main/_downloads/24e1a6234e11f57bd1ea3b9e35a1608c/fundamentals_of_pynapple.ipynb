{
 "cells": [
  {
   "cell_type": "code",
   "execution_count": 1,
   "id": "dad0052b",
   "metadata": {
    "tags": [
     "render-all"
    ]
   },
   "outputs": [],
   "source": [
    "%matplotlib inline"
   ]
  },
  {
   "cell_type": "markdown",
   "id": "3ed666ad",
   "metadata": {},
   "source": [
    ":::{admonition} Download\n",
    ":class: important render-all\n",
    "\n",
    "This notebook can be downloaded as **{nb-download}`fundamentals_of_pynapple.ipynb`**. See the button at the top right to download as markdown or pdf.\n",
    ":::\n",
    "\n",
    "\n",
    "<div class=\"render-all\">\n",
    "\n",
    "# Learning the fundamentals of pynapple\n",
    "\n",
    "## Learning objectives\n",
    "\n",
    "\n",
    "- Instantiate the pynapple objects\n",
    "- Make the pynapple objects interact\n",
    "- Use numpy with pynapple\n",
    "- Slicing pynapple objects\n",
    "- Adding metadata to pynapple objects\n",
    "- Learn the core functions of pynapple\n",
    "\n",
    "The pynapple documentation can be found [here](https://pynapple.org).\n",
    "\n",
    "The documentation for objects and method of the core of pynapple is [here](https://pynapple.org/api.html).\n",
    "\n",
    "\n",
    "Let's start by importing the pynapple package and matplotlib to see if everything is correctly installed.\n",
    "If an import fails, you can do `!pip install pynapple matplotlib` in a cell to fix it.\n",
    "\n",
    "</div>"
   ]
  },
  {
   "cell_type": "code",
   "execution_count": 2,
   "id": "eb583161",
   "metadata": {
    "tags": [
     "render-all"
    ]
   },
   "outputs": [
    {
     "name": "stderr",
     "output_type": "stream",
     "text": [
      "WARNING:2025-02-04 19:31:17,438:jax._src.xla_bridge:987: An NVIDIA GPU may be present on this machine, but a CUDA-enabled jaxlib is not installed. Falling back to cpu.\n"
     ]
    },
    {
     "name": "stderr",
     "output_type": "stream",
     "text": [
      "/home/agent/workspace/rorse_ccn-software-jan-2025_main/lib/python3.11/site-packages/nemos/_documentation_utils/plotting.py:38: UserWarning: plotting functions contained within `_documentation_utils` are intended for nemos's documentation. Feel free to use them, but they will probably not work as intended with other datasets / in other contexts.\n",
      "  warnings.warn(\n"
     ]
    }
   ],
   "source": [
    "import pynapple as nap\n",
    "import matplotlib.pyplot as plt\n",
    "import numpy as np\n",
    "import workshop_utils"
   ]
  },
  {
   "cell_type": "markdown",
   "id": "0ab7001c",
   "metadata": {},
   "source": [
    "For this notebook we will work with fake data. The following cells generate a set of variables that we will use to create the different pynapple objects."
   ]
  },
  {
   "cell_type": "code",
   "execution_count": 3,
   "id": "a300faad",
   "metadata": {
    "tags": [
     "render-all"
    ]
   },
   "outputs": [],
   "source": [
    "var1 = np.random.randn(100) # Variable 1\n",
    "tsp1 = np.arange(100) # The timesteps of variable 1\n",
    "\n",
    "var2 = np.random.randn(100, 3) # Variable 2\n",
    "tsp2 = np.arange(0, 100, 1) # The timesteps of variable 2\n",
    "col2 = ['pineapple', 'banana', 'tomato'] # The name of each columns of var2\n",
    "\n",
    "var3 = np.random.randn(1000, 4, 5) # Variable 3\n",
    "tsp3 = np.arange(0, 100, 0.1) # The timesteps of variable 3\n",
    "\n",
    "random_times_1 = np.array([3.14, 37.0, 42.0])\n",
    "random_times_2 = np.array([10, 25, 50, 70])\n",
    "random_times_3 = np.sort(np.random.uniform(10, 80, 100))\n",
    "\n",
    "starts_1 = np.array([10000, 60000, 90000]) # starts of an epoch in `ms`\n",
    "ends_1 = np.array([20000, 80000, 95000]) # ends in `ms`"
   ]
  },
  {
   "cell_type": "markdown",
   "id": "624c16fd",
   "metadata": {},
   "source": [
    "## Instantiate pynapple objects \n",
    "\n",
    "This is a lot of variables to carry around. pynapple can help reduce the size of the workspace. Here we will instantiate all the different pynapple objects with the variables created above.\n",
    "\n",
    "Let's start with the simple ones.\n",
    "\n",
    "<div class=\"render-all\">\n",
    "\n",
    "**Question:** Can you instantiate the right pynapple objects for `var1`, `var2` and `var3`? Objects should be named respectively `tsd1`, `tsd2` and `tsd3`. Don't forget the column name for `var2`.\n",
    "\n",
    "</div>"
   ]
  },
  {
   "cell_type": "code",
   "execution_count": 4,
   "id": "ad6d0147",
   "metadata": {},
   "outputs": [],
   "source": [
    "tsd1 = nap.Tsd(t=tsp1, d=var1)\n",
    "tsd2 = nap.TsdFrame(t=tsp2, d=var2, columns = col2)\n",
    "tsd3 = nap.TsdTensor(t=tsp3, d=var3)"
   ]
  },
  {
   "cell_type": "markdown",
   "id": "bfe05cae",
   "metadata": {},
   "source": [
    "<div class=\"render-all\">\n",
    "\n",
    "**Question:** Can you print `tsd1`?\n",
    "\n",
    "</div>"
   ]
  },
  {
   "cell_type": "code",
   "execution_count": 5,
   "id": "5b713956",
   "metadata": {},
   "outputs": [
    {
     "name": "stdout",
     "output_type": "stream",
     "text": [
      "Time (s)\n",
      "----------  ----------\n",
      "0.0          0.414295\n",
      "1.0         -0.498169\n",
      "2.0          0.612998\n",
      "3.0         -0.387052\n",
      "4.0          0.0192042\n",
      "5.0         -0.118413\n",
      "6.0          0.470946\n",
      "...\n",
      "93.0         0.645261\n",
      "94.0        -0.815741\n",
      "95.0        -1.10668\n",
      "96.0         0.312556\n",
      "97.0        -0.861115\n",
      "98.0        -0.561451\n",
      "99.0         0.800876\n",
      "dtype: float64, shape: (100,)\n"
     ]
    }
   ],
   "source": [
    "print(tsd1)"
   ]
  },
  {
   "cell_type": "markdown",
   "id": "81f4a029",
   "metadata": {},
   "source": [
    "<div class=\"render-all\">\n",
    "\n",
    "**Question:** Can you print `tsd2`?\n",
    "\n",
    "</div>"
   ]
  },
  {
   "cell_type": "code",
   "execution_count": 6,
   "id": "265ff006",
   "metadata": {},
   "outputs": [
    {
     "name": "stdout",
     "output_type": "stream",
     "text": [
      "Time (s)    pineapple    banana    tomato\n",
      "----------  -----------  --------  --------\n",
      "0.0         2.15885      -0.15103  0.28947\n",
      "1.0         -3.45377     0.04976   1.39076\n",
      "2.0         -0.42374     -0.16957  -0.40881\n",
      "3.0         -0.38455     1.79036   0.59326\n",
      "4.0         0.73103      -0.70372  1.48036\n",
      "5.0         -0.04752     -0.24763  -0.23105\n",
      "6.0         0.23251      -0.96934  -0.48325\n",
      "...         ...          ...       ...\n",
      "93.0        0.51631      -0.5443   0.35771\n",
      "94.0        -0.40864     0.56009   1.7266\n",
      "95.0        0.15226      -2.40364  -0.39512\n",
      "96.0        -0.29181     2.00801   0.56663\n",
      "97.0        -0.45344     -1.04243  0.89887\n",
      "98.0        -0.05768     1.15317   0.08583\n",
      "99.0        1.03635      2.82941   0.92098\n",
      "dtype: float64, shape: (100, 3)\n"
     ]
    }
   ],
   "source": [
    "print(tsd2)"
   ]
  },
  {
   "cell_type": "markdown",
   "id": "8ed911ee",
   "metadata": {},
   "source": [
    "<div class=\"render-all\">\n",
    "\n",
    "**Question:** Can you print `tsd3`?\n",
    "\n",
    "</div>"
   ]
  },
  {
   "cell_type": "code",
   "execution_count": 7,
   "id": "7522607c",
   "metadata": {},
   "outputs": [
    {
     "name": "stdout",
     "output_type": "stream",
     "text": [
      "Time (s)\n",
      "----------  -------------------------------\n",
      "0.0         [[-0.27444  ... -0.242992] ...]\n",
      "0.1         [[-2.053107 ... -1.819694] ...]\n",
      "0.2         [[1.56034  ... 1.165979] ...]\n",
      "0.3         [[-0.259274 ...  0.944568] ...]\n",
      "0.4         [[-1.098585 ... -0.612027] ...]\n",
      "0.5         [[-0.584139 ...  2.774802] ...]\n",
      "0.6         [[ 1.61469  ... -0.922198] ...]\n",
      "...\n",
      "99.3        [[-0.505612 ... -0.587023] ...]\n",
      "99.4        [[-0.290228 ... -0.349736] ...]\n",
      "99.5        [[0.824908 ... 1.9689  ] ...]\n",
      "99.6        [[ 1.32366  ... -1.084538] ...]\n",
      "99.7        [[0.4267   ... 1.179362] ...]\n",
      "99.8        [[-1.205506 ... -1.352063] ...]\n",
      "99.9        [[ 0.656868 ... -0.046613] ...]\n",
      "dtype: float64, shape: (1000, 4, 5)\n"
     ]
    }
   ],
   "source": [
    "print(tsd3)"
   ]
  },
  {
   "cell_type": "markdown",
   "id": "49dc0e65",
   "metadata": {},
   "source": [
    "<div class=\"render-all\">\n",
    "\n",
    "**Question:** Can you create an `IntervalSet` called `ep` out of `starts_1` and `ends_1` and print it? Be careful, times given above are in `ms`.\n",
    "\n",
    "</div>"
   ]
  },
  {
   "cell_type": "code",
   "execution_count": 8,
   "id": "ed6e76be",
   "metadata": {},
   "outputs": [
    {
     "name": "stdout",
     "output_type": "stream",
     "text": [
      "  index    start    end\n",
      "      0       10     20\n",
      "      1       60     80\n",
      "      2       90     95\n",
      "shape: (3, 2), time unit: sec.\n"
     ]
    }
   ],
   "source": [
    "ep = nap.IntervalSet(start=starts_1, end=ends_1, time_units='ms')\n",
    "print(ep)"
   ]
  },
  {
   "cell_type": "markdown",
   "id": "42c65118",
   "metadata": {},
   "source": [
    "<div class=\"render-all\">\n",
    "\n",
    "The experiment generated a set of timestamps from 3 different channels.\n",
    "\n",
    "**Question:** Can you instantiate the corresponding pynapple object (`ts1`, `ts2`, `ts3`) for each one of them?\n",
    "\n",
    "</div>"
   ]
  },
  {
   "cell_type": "code",
   "execution_count": 9,
   "id": "77b98583",
   "metadata": {},
   "outputs": [],
   "source": [
    "ts1 = nap.Ts(t=random_times_1)\n",
    "ts2 = nap.Ts(t=random_times_2)\n",
    "ts3 = nap.Ts(t=random_times_3)"
   ]
  },
  {
   "cell_type": "markdown",
   "id": "0509280a",
   "metadata": {},
   "source": [
    "<div class=\"render-all\">\n",
    "\n",
    "This is a lot of timestamps to carry around as well.\n",
    "\n",
    "**Question:** Can you instantiate the right pynapple object (call it `tsgroup`) to group them together?\n",
    "\n",
    "</div>"
   ]
  },
  {
   "cell_type": "code",
   "execution_count": 10,
   "id": "0850e077",
   "metadata": {},
   "outputs": [],
   "source": [
    "tsgroup = nap.TsGroup({0:ts1, 1:ts2, 2:ts3})"
   ]
  },
  {
   "cell_type": "markdown",
   "id": "b0839a8c",
   "metadata": {},
   "source": [
    "<div class=\"render-all\">\n",
    "\n",
    "**Question:** ... and print it?\n",
    "\n",
    "</div>"
   ]
  },
  {
   "cell_type": "code",
   "execution_count": 11,
   "id": "452a34dd",
   "metadata": {},
   "outputs": [
    {
     "name": "stdout",
     "output_type": "stream",
     "text": [
      "  Index     rate\n",
      "-------  -------\n",
      "      0  0.03918\n",
      "      1  0.05224\n",
      "      2  1.30598\n"
     ]
    }
   ],
   "source": [
    "print(tsgroup)"
   ]
  },
  {
   "cell_type": "markdown",
   "id": "669480e3",
   "metadata": {},
   "source": [
    "## Interaction between pynapple objects \n",
    "\n",
    "We reduced 12 variables in our workspace to 5 using pynapple. Now we can see how the objects interact.\n",
    "\n",
    "<div class=\"render-all\">\n",
    "\n",
    "**Question:** Can you print the `time_support` of `tsgroup`?\n",
    "\n",
    "</div>"
   ]
  },
  {
   "cell_type": "code",
   "execution_count": 12,
   "id": "f44ef9d1",
   "metadata": {},
   "outputs": [
    {
     "name": "stdout",
     "output_type": "stream",
     "text": [
      "  index    start      end\n",
      "      0     3.14  79.7107\n",
      "shape: (1, 2), time unit: sec.\n"
     ]
    }
   ],
   "source": [
    "print(tsgroup.time_support)"
   ]
  },
  {
   "cell_type": "markdown",
   "id": "ada399c3",
   "metadata": {},
   "source": [
    "The experiment ran from 0 to 100 seconds and as you can see, the `TsGroup` object shows the rate. But the rate is not accurate as it was computed over the default `time_support`.\n",
    "\n",
    "<div class=\"render-all\">\n",
    "\n",
    "**Question:** can you recreate the `tsgroup` object passing the right `time_support` during initialisation?\n",
    "\n",
    "</div>"
   ]
  },
  {
   "cell_type": "code",
   "execution_count": 13,
   "id": "bc820a01",
   "metadata": {},
   "outputs": [],
   "source": [
    "tsgroup = nap.TsGroup({0:ts1, 1:tsd2, 2:ts3}, time_support = nap.IntervalSet(0, 100))"
   ]
  },
  {
   "cell_type": "markdown",
   "id": "bdbea202",
   "metadata": {},
   "source": [
    "<div class=\"render-all\">\n",
    "\n",
    "**Question:** Can you print the `time_support` and `rate` to see how they changed?\n",
    "\n",
    "</div>"
   ]
  },
  {
   "cell_type": "code",
   "execution_count": 14,
   "id": "efab0cc4",
   "metadata": {},
   "outputs": [
    {
     "name": "stdout",
     "output_type": "stream",
     "text": [
      "  index    start    end\n",
      "      0        0    100\n",
      "shape: (1, 2), time unit: sec.\n",
      "0    0.03\n",
      "1    1.00\n",
      "2    1.00\n",
      "Name: rate, dtype: float64\n"
     ]
    }
   ],
   "source": [
    "print(tsgroup.time_support)\n",
    "print(tsgroup.rate)"
   ]
  },
  {
   "cell_type": "markdown",
   "id": "4e81604c",
   "metadata": {},
   "source": [
    "<div class=\"render-all\">\n",
    "\n",
    "Now you realized the variable `tsd1` has some noise. The good signal is between 10 and 30 seconds and  50 and 100.\n",
    "\n",
    "**Question:** Can you create an `IntervalSet` object called `ep_signal` and use it to restrict the variable `tsd1`?\n",
    "\n",
    "</div>"
   ]
  },
  {
   "cell_type": "code",
   "execution_count": 15,
   "id": "8818bda1",
   "metadata": {},
   "outputs": [],
   "source": [
    "ep_signal = nap.IntervalSet(start=[10, 50], end=[30, 100])\n",
    "\n",
    "tsd1 = tsd1.restrict(ep_signal)"
   ]
  },
  {
   "cell_type": "markdown",
   "id": "04eee32b",
   "metadata": {},
   "source": [
    "<div class=\"render-all\">\n",
    "You can print `tsd1` to check that the timestamps are in fact within `ep`.\n",
    "You can also check the `time_support` of `tsd1` to see that it has been updated.\n",
    "</div>"
   ]
  },
  {
   "cell_type": "code",
   "execution_count": 16,
   "id": "e1fb7be5",
   "metadata": {},
   "outputs": [
    {
     "name": "stdout",
     "output_type": "stream",
     "text": [
      "Time (s)\n",
      "----------  ----------\n",
      "10.0        -2.2004\n",
      "11.0         0.511708\n",
      "12.0         0.0792929\n",
      "13.0         1.81573\n",
      "14.0        -2.32427\n",
      "15.0         0.134434\n",
      "16.0         1.00891\n",
      "...\n",
      "93.0         0.645261\n",
      "94.0        -0.815741\n",
      "95.0        -1.10668\n",
      "96.0         0.312556\n",
      "97.0        -0.861115\n",
      "98.0        -0.561451\n",
      "99.0         0.800876\n",
      "dtype: float64, shape: (71,)\n",
      "  index    start    end\n",
      "      0       10     30\n",
      "      1       50    100\n",
      "shape: (2, 2), time unit: sec.\n"
     ]
    }
   ],
   "source": [
    "print(tsd1)\n",
    "print(tsd1.time_support)"
   ]
  },
  {
   "cell_type": "code",
   "execution_count": 17,
   "id": "999dd73d",
   "metadata": {
    "tags": [
     "render-all"
    ]
   },
   "outputs": [
    {
     "name": "stdout",
     "output_type": "stream",
     "text": [
      "  index     start       end\n",
      "      0   6.1913    6.75218\n",
      "      1   8.37167  14.9699\n",
      "      2  16.5965   19.4499\n",
      "      3  22.8951   24.2491\n",
      "      4  32.9202   41.3465\n",
      "      5  44.3758   52.4088\n",
      "      6  70.8312   79.492\n",
      "      7  80.3772   80.6149\n",
      "      8  84.4306   90.7292\n",
      "      9  92.14     98.9179\n",
      "shape: (10, 2), time unit: sec.\n"
     ]
    }
   ],
   "source": [
    "ep_tmp = nap.IntervalSet(np.sort(np.random.uniform(0, 100, 20)))\n",
    "print(ep_tmp)"
   ]
  },
  {
   "cell_type": "markdown",
   "id": "5532d31b",
   "metadata": {},
   "source": [
    "<div class=\"render-all\">\n",
    "\n",
    "**Question:** Can you do the intersection of `ep_signal` and `ep_tmp`?\n",
    "</div>"
   ]
  },
  {
   "cell_type": "code",
   "execution_count": 18,
   "id": "75589ef3",
   "metadata": {},
   "outputs": [
    {
     "name": "stdout",
     "output_type": "stream",
     "text": [
      "  index    start      end\n",
      "      0  10       14.9699\n",
      "      1  16.5965  19.4499\n",
      "      2  22.8951  24.2491\n",
      "      3  50       52.4088\n",
      "      4  70.8312  79.492\n",
      "      5  80.3772  80.6149\n",
      "      6  84.4306  90.7292\n",
      "      7  92.14    98.9179\n",
      "shape: (8, 2), time unit: sec.\n"
     ]
    }
   ],
   "source": [
    "print(ep_signal.intersect(ep_tmp))"
   ]
  },
  {
   "cell_type": "markdown",
   "id": "638fedef",
   "metadata": {},
   "source": [
    "<div class=\"render-all\">\n",
    "You can visualize IntervalSet using the function `workshop_utils.visualize_intervals` we provide.\n",
    "</div>"
   ]
  },
  {
   "cell_type": "code",
   "execution_count": 19,
   "id": "2ebb364a",
   "metadata": {
    "tags": [
     "render-all"
    ]
   },
   "outputs": [
    {
     "data": {
      "image/png": "[encoded data removed]",
      "text/plain": [
       "<Figure size 600x300 with 1 Axes>"
      ]
     },
     "metadata": {},
     "output_type": "display_data"
    }
   ],
   "source": [
    "workshop_utils.visualize_intervals([ep_signal, ep_tmp, ep_signal.intersect(ep_tmp)])"
   ]
  },
  {
   "cell_type": "markdown",
   "id": "dc9dfc94",
   "metadata": {},
   "source": [
    "<div class=\"render-all\">\n",
    "\n",
    "**Question:** Can you do the union of `ep_signal` and `ep_tmp`?\n",
    "</div>"
   ]
  },
  {
   "cell_type": "code",
   "execution_count": 20,
   "id": "92101d07",
   "metadata": {},
   "outputs": [
    {
     "name": "stdout",
     "output_type": "stream",
     "text": [
      "  index     start        end\n",
      "      0   6.1913     6.75218\n",
      "      1   8.37167   30\n",
      "      2  32.9202    41.3465\n",
      "      3  44.3758   100\n",
      "shape: (4, 2), time unit: sec.\n"
     ]
    }
   ],
   "source": [
    "print(ep_signal.union(ep_tmp))"
   ]
  },
  {
   "cell_type": "markdown",
   "id": "8a070721",
   "metadata": {},
   "source": [
    "<div class=\"render-all\">\n",
    "\n",
    "**Question:** ... and visualize it?\n",
    "</div>"
   ]
  },
  {
   "cell_type": "code",
   "execution_count": 21,
   "id": "c7a869fd",
   "metadata": {},
   "outputs": [
    {
     "data": {
      "image/png": "[encoded data removed]",
      "text/plain": [
       "<Figure size 600x300 with 1 Axes>"
      ]
     },
     "metadata": {},
     "output_type": "display_data"
    }
   ],
   "source": [
    "workshop_utils.visualize_intervals([ep_signal, ep_tmp, ep_signal.union(ep_tmp)])"
   ]
  },
  {
   "cell_type": "markdown",
   "id": "070ab394",
   "metadata": {},
   "source": [
    "<div class=\"render-all\">\n",
    "\n",
    "**Question:** Can you do the difference of `ep_signal` and `ep_tmp`?\n",
    "</div>"
   ]
  },
  {
   "cell_type": "code",
   "execution_count": 22,
   "id": "76f352ee",
   "metadata": {},
   "outputs": [
    {
     "name": "stdout",
     "output_type": "stream",
     "text": [
      "  index    start       end\n",
      "      0  14.9699   16.5965\n",
      "      1  19.4499   22.8951\n",
      "      2  24.2491   30\n",
      "      3  52.4088   70.8312\n",
      "      4  79.492    80.3772\n",
      "      5  80.6149   84.4306\n",
      "      6  90.7292   92.14\n",
      "      7  98.9179  100\n",
      "shape: (8, 2), time unit: sec.\n"
     ]
    }
   ],
   "source": [
    "print(ep_signal.set_diff(ep_tmp))"
   ]
  },
  {
   "cell_type": "markdown",
   "id": "5fa1f45b",
   "metadata": {},
   "source": [
    "<div class=\"render-all\">\n",
    "\n",
    "**Question:** ... and visualize it?\n",
    "</div>"
   ]
  },
  {
   "cell_type": "code",
   "execution_count": 23,
   "id": "5a10112e",
   "metadata": {},
   "outputs": [
    {
     "data": {
      "image/png": "[encoded data removed]",
      "text/plain": [
       "<Figure size 600x300 with 1 Axes>"
      ]
     },
     "metadata": {},
     "output_type": "display_data"
    }
   ],
   "source": [
    "workshop_utils.visualize_intervals([ep_signal, ep_tmp, ep_signal.set_diff(ep_tmp)])"
   ]
  },
  {
   "cell_type": "markdown",
   "id": "62ed5b17",
   "metadata": {},
   "source": [
    "## Numpy & pynapple\n",
    "\n",
    "<div class=\"render-all\">\n",
    "\n",
    "Pynapple objects behaves very similarly like numpy array. They can be sliced with the following syntax :\n",
    "\n",
    "  `tsd[0:10] # First 10 elements`\n",
    "\n",
    "Arithmetical operations are available as well :\n",
    "\n",
    "  `tsd = tsd + 1`\n",
    "\n",
    "Finally numpy functions works directly. Let's imagine `tsd3` is a movie with frame size (4,5).\n",
    "\n",
    "**Question:** Can you compute the average frame along the time axis using `np.mean` and print the result?\n",
    "\n",
    "</div>"
   ]
  },
  {
   "cell_type": "code",
   "execution_count": 24,
   "id": "86032094",
   "metadata": {},
   "outputs": [
    {
     "name": "stdout",
     "output_type": "stream",
     "text": [
      "[[-0.01834914 -0.0614865  -0.0048229  -0.01447412  0.00099555]\n",
      " [ 0.02441297  0.0793515  -0.03486014 -0.02372436 -0.00060716]\n",
      " [-0.07160526  0.03830993  0.03153605 -0.03500346  0.06647013]\n",
      " [ 0.00748903 -0.03747333 -0.00241568  0.00525445  0.01553654]]\n"
     ]
    }
   ],
   "source": [
    "print(np.mean(tsd3, 0))"
   ]
  },
  {
   "cell_type": "markdown",
   "id": "d7e817e7",
   "metadata": {},
   "source": [
    "<div class=\"render-all\">\n",
    "\n",
    "**Question:**: can you compute the average of `tsd2` for each timestamps and print it?\n",
    "</div>"
   ]
  },
  {
   "cell_type": "code",
   "execution_count": 25,
   "id": "08b40860",
   "metadata": {},
   "outputs": [
    {
     "name": "stdout",
     "output_type": "stream",
     "text": [
      "Time (s)\n",
      "----------  ---------\n",
      "0.0          0.765761\n",
      "1.0         -0.671084\n",
      "2.0         -0.334039\n",
      "3.0          0.666356\n",
      "4.0          0.502559\n",
      "5.0         -0.175404\n",
      "6.0         -0.406694\n",
      "...\n",
      "93.0         0.109905\n",
      "94.0         0.626014\n",
      "95.0        -0.882166\n",
      "96.0         0.760946\n",
      "97.0        -0.199\n",
      "98.0         0.393773\n",
      "99.0         1.59558\n",
      "dtype: float64, shape: (100,)\n"
     ]
    }
   ],
   "source": [
    "print(np.mean(tsd2, 1))"
   ]
  },
  {
   "cell_type": "markdown",
   "id": "40ed59d8",
   "metadata": {},
   "source": [
    "Notice how the output in the second case is still a pynapple object.\n",
    "In most cases, applying a numpy function will return a pynapple object if the time index is preserved.\n",
    "\n",
    "## Slicing pynapple objects \n",
    "\n",
    "Multiple methods exists to slice pynapple object. This parts reviews them.\n",
    "\n",
    "`IntervalSet` also behaves like numpy array.\n",
    "\n",
    "<div class=\"render-all\">\n",
    "\n",
    "**Question:** Can you extract the first and last epoch of `ep` in a new `IntervalSet`?\n",
    "</div>"
   ]
  },
  {
   "cell_type": "code",
   "execution_count": 26,
   "id": "06164a5e",
   "metadata": {},
   "outputs": [
    {
     "name": "stdout",
     "output_type": "stream",
     "text": [
      "  index    start    end\n",
      "      0       10     20\n",
      "      1       90     95\n",
      "shape: (2, 2), time unit: sec.\n"
     ]
    }
   ],
   "source": [
    "print(ep[[0,2]])"
   ]
  },
  {
   "cell_type": "markdown",
   "id": "b592e447",
   "metadata": {},
   "source": [
    "<div class=\"render-all\">\n",
    "\n",
    "Sometimes you want to get a data point as close as possible in time to another timestamps.\n",
    "\n",
    "**Question:** Using the `get` method, can you get the data point from `tsd3` as close as possible to the time 50.1 seconds?\n",
    "\n",
    "</div>"
   ]
  },
  {
   "cell_type": "code",
   "execution_count": 27,
   "id": "c2d272fc",
   "metadata": {},
   "outputs": [
    {
     "name": "stdout",
     "output_type": "stream",
     "text": [
      "[[-2.58293688  0.5770245  -1.05523772 -0.31062255 -0.79834456]\n",
      " [-0.70037823  0.66168131 -0.28896602 -0.89508804  0.69986547]\n",
      " [ 1.8913538  -0.74794689 -0.09183473 -0.37394185  0.28022383]\n",
      " [-0.34678062 -0.30930667  1.140357    0.09151186 -0.30037648]]\n"
     ]
    }
   ],
   "source": [
    "print(tsd3.get(50.1))"
   ]
  },
  {
   "cell_type": "markdown",
   "id": "0c9bf067",
   "metadata": {},
   "source": [
    "## Metadata\n",
    "\n",
    "<div class=\"render-all\">\n",
    "\n",
    "Metadata are ubiquitous in neuroscience. They can be added to 3 pynapple objects :\n",
    "\n",
    "- `TsGroup` : to label neurons in electrophysiology\n",
    "- `IntervalSet` : to label intervals\n",
    "- `TsdFrame` : to label neurons in calcium imaging\n",
    "\n",
    "\n",
    "**Question:** Can you run the following command `tsgroup['planet'] = ['mars', 'venus', 'saturn']`\n",
    "</div>"
   ]
  },
  {
   "cell_type": "code",
   "execution_count": 28,
   "id": "5891964a",
   "metadata": {},
   "outputs": [],
   "source": [
    "tsgroup['planet'] = ['mars', 'venus', 'saturn']"
   ]
  },
  {
   "cell_type": "markdown",
   "id": "f460e07c",
   "metadata": {},
   "source": [
    "<div class=\"render-all\">\n",
    "\n",
    "**Question:** ... and print it?\n",
    "</div>"
   ]
  },
  {
   "cell_type": "code",
   "execution_count": 29,
   "id": "f1606a94",
   "metadata": {},
   "outputs": [
    {
     "name": "stdout",
     "output_type": "stream",
     "text": [
      "  Index    rate  planet\n",
      "-------  ------  --------\n",
      "      0    0.03  mars\n",
      "      1    1     venus\n",
      "      2    1     saturn\n"
     ]
    }
   ],
   "source": [
    "print(tsgroup)"
   ]
  },
  {
   "cell_type": "markdown",
   "id": "80edfb8c",
   "metadata": {},
   "source": [
    "<div class=\"render-all\">\n",
    "\n",
    "The object `ep` has 3 epochs labelled `['left', 'right', 'left']`. \n",
    "\n",
    "**Question:** Can you add them as a metadata column called `direction`?\n",
    "\n",
    "</div>"
   ]
  },
  {
   "cell_type": "code",
   "execution_count": 30,
   "id": "00862fb1",
   "metadata": {},
   "outputs": [
    {
     "name": "stdout",
     "output_type": "stream",
     "text": [
      "  index    start    end  direction\n",
      "      0       10     20  left\n",
      "      1       60     80  right\n",
      "      2       90     95  left\n",
      "shape: (3, 2), time unit: sec.\n"
     ]
    }
   ],
   "source": [
    "ep['direction'] = ['left', 'right', 'left']\n",
    "print(ep)"
   ]
  },
  {
   "cell_type": "markdown",
   "id": "828a6f99",
   "metadata": {},
   "source": [
    "<div class=\"render-all\">\n",
    "\n",
    "The object `tsd2` has 3 columns. Each column correspond to the rgb colors `[(0,0,1), (0.5, 0.5, 1), (0.1, 0.2, 0.3)]`. \n",
    "\n",
    "**Question:** Can you add them as metadata of `tsd2`?\n",
    "</div>"
   ]
  },
  {
   "cell_type": "code",
   "execution_count": 31,
   "id": "c686c57a",
   "metadata": {},
   "outputs": [
    {
     "name": "stdout",
     "output_type": "stream",
     "text": [
      "Time (s)    pineapple    banana         tomato\n",
      "----------  -----------  -------------  ---------------\n",
      "0.0         2.15885      -0.15103       0.28947\n",
      "1.0         -3.45377     0.04976        1.39076\n",
      "2.0         -0.42374     -0.16957       -0.40881\n",
      "3.0         -0.38455     1.79036        0.59326\n",
      "4.0         0.73103      -0.70372       1.48036\n",
      "5.0         -0.04752     -0.24763       -0.23105\n",
      "6.0         0.23251      -0.96934       -0.48325\n",
      "...         ...          ...            ...\n",
      "93.0        0.51631      -0.5443        0.35771\n",
      "94.0        -0.40864     0.56009        1.7266\n",
      "95.0        0.15226      -2.40364       -0.39512\n",
      "96.0        -0.29181     2.00801        0.56663\n",
      "97.0        -0.45344     -1.04243       0.89887\n",
      "98.0        -0.05768     1.15317        0.08583\n",
      "99.0        1.03635      2.82941        0.92098\n",
      "Metadata\n",
      "--------    --------     --------       --------\n",
      "colors      (0, 0, 1)    (0.5, 0.5, 1)  (0.1, 0.2, 0.3)\n",
      "\n",
      "dtype: float64, shape: (100, 3)\n"
     ]
    }
   ],
   "source": [
    "tsd2['colors'] = [(0,0,1), (0.5, 0.5, 1), (0.1, 0.2, 0.3)]\n",
    "print(tsd2)"
   ]
  },
  {
   "cell_type": "markdown",
   "id": "95d47be7",
   "metadata": {},
   "source": [
    "<div class=\"render-all\">\n",
    "\n",
    "You can also add metadata at initialization as a dictionnary using the keyword argument `metadata` : \n",
    "</div>"
   ]
  },
  {
   "cell_type": "code",
   "execution_count": 32,
   "id": "41e47d71",
   "metadata": {
    "tags": [
     "render-all"
    ]
   },
   "outputs": [
    {
     "name": "stdout",
     "output_type": "stream",
     "text": [
      "  Index     rate  planet\n",
      "-------  -------  --------\n",
      "      0  0.03918  mars\n",
      "      1  0.05224  venus\n",
      "      2  1.30598  saturn\n"
     ]
    }
   ],
   "source": [
    "tsgroup = nap.TsGroup({0:ts1, 1:ts2, 2:ts3}, metadata={'planet':['mars','venus', 'saturn']})\n",
    "\n",
    "print(tsgroup)"
   ]
  },
  {
   "cell_type": "markdown",
   "id": "a6891e67",
   "metadata": {},
   "source": [
    "<div class=\"render-all\">\n",
    "\n",
    "Metadata are accessible either as attributes (i.e. `tsgroup.planet`) or as dictionnary-like keys (i.e. `ep['direction']`).\n",
    "\n",
    "They can be used to slice objects. \n",
    "\n",
    "**Question:** Can you select only the elements of `tsgroup` with rate below 1Hz?\n",
    "</div>"
   ]
  },
  {
   "cell_type": "code",
   "execution_count": 33,
   "id": "08cf9292",
   "metadata": {},
   "outputs": [
    {
     "name": "stdout",
     "output_type": "stream",
     "text": [
      "  Index     rate  planet\n",
      "-------  -------  --------\n",
      "      0  0.03918  mars\n",
      "      1  0.05224  venus\n",
      "  Index     rate  planet\n",
      "-------  -------  --------\n",
      "      0  0.03918  mars\n",
      "      1  0.05224  venus\n",
      "  Index     rate  planet\n",
      "-------  -------  --------\n",
      "      0  0.03918  mars\n",
      "      1  0.05224  venus\n"
     ]
    }
   ],
   "source": [
    "print(tsgroup[tsgroup.rate<1.0])\n",
    "\n",
    "print(tsgroup[tsgroup['rate']<1.0])\n",
    "\n",
    "print(tsgroup.getby_threshold(\"rate\", 1, \"<\"))\n"
   ]
  },
  {
   "cell_type": "markdown",
   "id": "041e14d2",
   "metadata": {},
   "source": [
    "<div class=\"render-all\">\n",
    "\n",
    "**Question:** Can you select the intervals in `ep` labelled as `'left'`?\n",
    "</div>"
   ]
  },
  {
   "cell_type": "code",
   "execution_count": 34,
   "id": "8d9f4e45",
   "metadata": {},
   "outputs": [
    {
     "name": "stdout",
     "output_type": "stream",
     "text": [
      "  index    start    end  direction\n",
      "      0       10     20  left\n",
      "      1       90     95  left\n",
      "shape: (2, 2), time unit: sec.\n"
     ]
    }
   ],
   "source": [
    "print(ep[ep.direction=='left'])"
   ]
  },
  {
   "cell_type": "markdown",
   "id": "5fdf41aa",
   "metadata": {},
   "source": [
    "### Special case of slicing : `TsdFrame`"
   ]
  },
  {
   "cell_type": "code",
   "execution_count": 35,
   "id": "7846ad04",
   "metadata": {
    "tags": [
     "render-all"
    ]
   },
   "outputs": [
    {
     "name": "stdout",
     "output_type": "stream",
     "text": [
      "Time (s)    12        0         1\n",
      "----------  --------  --------  --------\n",
      "0.0         0.94358   1.4343    -1.32661\n",
      "1.0         1.32038   0.25369   0.74346\n",
      "2.0         -0.92539  0.50768   -2.78253\n",
      "3.0         -0.34531  -0.72982  0.05274\n",
      "Metadata\n",
      "--------    --------  --------  --------\n",
      "alpha       2         1         0\n",
      "\n",
      "dtype: float64, shape: (4, 3)\n"
     ]
    }
   ],
   "source": [
    "tsdframe = nap.TsdFrame(t=np.arange(4), d=np.random.randn(4,3),\n",
    "  columns = [12, 0, 1], metadata={'alpha':[2,1,0]})\n",
    "\n",
    "print(tsdframe)"
   ]
  },
  {
   "cell_type": "markdown",
   "id": "87b1721d",
   "metadata": {},
   "source": [
    "<div class=\"render-all\">\n",
    "\n",
    "**Question:** What happen when you do `tsdframe[0]` vs `tsdframe[:,0]` vs `tsdframe[[12,1]]`\n",
    "</div>"
   ]
  },
  {
   "cell_type": "code",
   "execution_count": 36,
   "id": "db69aa7d",
   "metadata": {},
   "outputs": [
    {
     "name": "stdout",
     "output_type": "stream",
     "text": [
      "[ 0.94357806  1.43430298 -1.3266078 ]\n"
     ]
    }
   ],
   "source": [
    "print(tsdframe[0])"
   ]
  },
  {
   "cell_type": "markdown",
   "id": "3c763cb5",
   "metadata": {},
   "source": [
    "<div class=\"render-all\">\n",
    "\n",
    "**Question:** What happen when you do `tsdframe.loc[0]` and `tsdframe.loc[[0,1]]`\n",
    "</div>"
   ]
  },
  {
   "cell_type": "code",
   "execution_count": 37,
   "id": "c4469577",
   "metadata": {},
   "outputs": [
    {
     "name": "stdout",
     "output_type": "stream",
     "text": [
      "Time (s)\n",
      "----------  ---------\n",
      "0            1.4343\n",
      "1            0.253687\n",
      "2            0.50768\n",
      "3           -0.729825\n",
      "dtype: float64, shape: (4,)\n",
      "Time (s)    0         1\n",
      "----------  --------  --------\n",
      "0.0         1.4343    -1.32661\n",
      "1.0         0.25369   0.74346\n",
      "2.0         0.50768   -2.78253\n",
      "3.0         -0.72982  0.05274\n",
      "Metadata\n",
      "--------    --------  --------\n",
      "alpha       1         0\n",
      "\n",
      "dtype: float64, shape: (4, 2)\n"
     ]
    }
   ],
   "source": [
    "print(tsdframe.loc[0])\n",
    "print(tsdframe.loc[[0,1]])"
   ]
  },
  {
   "cell_type": "markdown",
   "id": "17bd4611",
   "metadata": {},
   "source": [
    "<div class=\"render-all\">\n",
    "\n",
    "**Question:** What happen when you do `tsdframe[tsdframe.alpha==2]`\n",
    "\n",
    "</div>"
   ]
  },
  {
   "cell_type": "code",
   "execution_count": 38,
   "id": "e0f15dfa",
   "metadata": {},
   "outputs": [
    {
     "name": "stdout",
     "output_type": "stream",
     "text": [
      "Time (s)    12\n",
      "----------  --------\n",
      "0.0         0.94358\n",
      "1.0         1.32038\n",
      "2.0         -0.92539\n",
      "3.0         -0.34531\n",
      "Metadata\n",
      "--------    --------\n",
      "alpha       2\n",
      "\n",
      "dtype: float64, shape: (4, 1)\n"
     ]
    }
   ],
   "source": [
    "print(tsdframe[tsdframe.alpha==2])"
   ]
  },
  {
   "cell_type": "markdown",
   "id": "3894846b",
   "metadata": {},
   "source": [
    "## Core functions of pynapple \n",
    "\n",
    "<div class=\"render-all\">\n",
    "\n",
    "This part focuses on the most important core functions of pynapple.\n",
    "\n",
    "**Question:** Using the `count` function, can you count the number of events within 1 second bins for `tsgroup` over the `ep_signal` intervals?\n",
    "</div>"
   ]
  },
  {
   "cell_type": "code",
   "execution_count": 39,
   "id": "974f3f7b",
   "metadata": {},
   "outputs": [
    {
     "name": "stdout",
     "output_type": "stream",
     "text": [
      "Time (s)    0    1    2\n",
      "----------  ---  ---  ---\n",
      "10.5        0.0  1.0  2.0\n",
      "11.5        0.0  0.0  1.0\n",
      "12.5        0.0  0.0  0.0\n",
      "13.5        0.0  0.0  0.0\n",
      "14.5        0.0  0.0  2.0\n",
      "15.5        0.0  0.0  1.0\n",
      "16.5        0.0  0.0  0.0\n",
      "...         ...  ...  ...\n",
      "93.5        0.0  0.0  0.0\n",
      "94.5        0.0  0.0  0.0\n",
      "95.5        0.0  0.0  0.0\n",
      "96.5        0.0  0.0  0.0\n",
      "97.5        0.0  0.0  0.0\n",
      "98.5        0.0  0.0  0.0\n",
      "99.5        0.0  0.0  0.0\n",
      "dtype: float64, shape: (70, 3)\n"
     ]
    }
   ],
   "source": [
    "count = tsgroup.count(1, ep_signal)\n",
    "print(count)"
   ]
  },
  {
   "cell_type": "markdown",
   "id": "4871105c",
   "metadata": {},
   "source": [
    "Pynapple works directly with matplotlib. Passing a time series object to `plt.plot` will display the figure with the correct time axis.\n",
    "\n",
    "**Question:** In two subplots, can you show the count and events over time?"
   ]
  },
  {
   "cell_type": "code",
   "execution_count": 40,
   "id": "210f8bdc",
   "metadata": {},
   "outputs": [
    {
     "data": {
      "text/plain": [
       "[<matplotlib.lines.Line2D at 0x7f66285ef810>]"
      ]
     },
     "execution_count": 40,
     "metadata": {},
     "output_type": "execute_result"
    },
    {
     "data": {
      "image/png": "[encoded data removed]",
      "text/plain": [
       "<Figure size 640x480 with 2 Axes>"
      ]
     },
     "metadata": {},
     "output_type": "display_data"
    }
   ],
   "source": [
    "plt.figure()\n",
    "ax = plt.subplot(211)\n",
    "plt.plot(count, 'o-')\n",
    "plt.subplot(212, sharex=ax)\n",
    "plt.plot(tsgroup.restrict(ep_signal).to_tsd(), '|')"
   ]
  },
  {
   "cell_type": "markdown",
   "id": "ce96fcac",
   "metadata": {},
   "source": [
    "<div class=\"render-all\">\n",
    "\n",
    "From a set of timestamps, you want to assign them a set of values with the closest point in time of another time series.\n",
    "\n",
    "**Question:** Using the function `value_from`, can you assign values to `ts2` from the `tsd1` time series and call the output `new_tsd`?\n",
    "\n",
    "</div>"
   ]
  },
  {
   "cell_type": "code",
   "execution_count": 41,
   "id": "f15c8981",
   "metadata": {},
   "outputs": [],
   "source": [
    "new_tsd = ts2.value_from(tsd1)"
   ]
  },
  {
   "cell_type": "markdown",
   "id": "b4a0c539",
   "metadata": {},
   "source": [
    "<div class=\"render-all\">\n",
    "\n",
    "**Question:** Can you plot together `tsd1`, `ts2` and `new_tsd`?\n",
    "\n",
    "</div>"
   ]
  },
  {
   "cell_type": "code",
   "execution_count": 42,
   "id": "ee99cd50",
   "metadata": {},
   "outputs": [
    {
     "data": {
      "text/plain": [
       "[<matplotlib.lines.Line2D at 0x7f66283b2950>]"
      ]
     },
     "execution_count": 42,
     "metadata": {},
     "output_type": "execute_result"
    },
    {
     "data": {
      "image/png": "[encoded data removed]",
      "text/plain": [
       "<Figure size 640x480 with 1 Axes>"
      ]
     },
     "metadata": {},
     "output_type": "display_data"
    }
   ],
   "source": [
    "plt.figure()\n",
    "plt.plot(tsd1)\n",
    "plt.plot(new_tsd, 'o-')\n",
    "plt.plot(ts2.fillna(0), 'o')"
   ]
  },
  {
   "cell_type": "markdown",
   "id": "2d39253c",
   "metadata": {},
   "source": [
    "<div class=\"render-all\">\n",
    "\n",
    "One important aspect of data analysis is to bring data to the same size. Pynapple provides the `bin_average` function to downsample data.\n",
    "\n",
    "**Question:** Can you downsample `tsd2` to one time point every 5 seconds?\n",
    "\n",
    "</div>"
   ]
  },
  {
   "cell_type": "code",
   "execution_count": 43,
   "id": "1792da20",
   "metadata": {},
   "outputs": [],
   "source": [
    "new_tsd2 = tsd2.bin_average(5.0)"
   ]
  },
  {
   "cell_type": "markdown",
   "id": "78912d27",
   "metadata": {},
   "source": [
    "<div class=\"render-all\">\n",
    "\n",
    "**Question:** Can you plot the `tomato` column from `tsd2` as well as the downsampled version?\n",
    "\n",
    "</div>"
   ]
  },
  {
   "cell_type": "code",
   "execution_count": 44,
   "id": "53b38142",
   "metadata": {},
   "outputs": [
    {
     "data": {
      "text/plain": [
       "[<matplotlib.lines.Line2D at 0x7f6610391810>]"
      ]
     },
     "execution_count": 44,
     "metadata": {},
     "output_type": "execute_result"
    },
    {
     "data": {
      "image/png": "[encoded data removed]",
      "text/plain": [
       "<Figure size 640x480 with 1 Axes>"
      ]
     },
     "metadata": {},
     "output_type": "display_data"
    }
   ],
   "source": [
    "plt.figure()\n",
    "plt.plot(tsd2['tomato'])\n",
    "plt.plot(new_tsd2['tomato'], 'o-')"
   ]
  },
  {
   "cell_type": "markdown",
   "id": "6d394a72",
   "metadata": {},
   "source": [
    "<div class=\"render-all\">\n",
    "\n",
    "For `tsd1`, you want to find all the epochs for which the value is above 0.0. Pynapple provides the function `threshold` to get 1 dimensional time series above or below a certain value.\n",
    "\n",
    "**Question**: Can you print the epochs for which `tsd1` is above 0.0?\n",
    "</div>"
   ]
  },
  {
   "cell_type": "code",
   "execution_count": 45,
   "id": "42c28047",
   "metadata": {},
   "outputs": [
    {
     "name": "stdout",
     "output_type": "stream",
     "text": [
      "index    start    end\n",
      "0        10.5     13.5\n",
      "1        14.5     16.5\n",
      "2        18.5     19.5\n",
      "3        21.5     22.5\n",
      "4        26.5     30.0\n",
      "5        50.0     50.5\n",
      "6        51.5     53.5\n",
      "...      ...      ...\n",
      "10       10.5     13.5\n",
      "11       14.5     16.5\n",
      "12       18.5     19.5\n",
      "13       21.5     22.5\n",
      "14       26.5     30.0\n",
      "15       50.0     50.5\n",
      "16       51.5     53.5\n",
      "shape: (17, 2), time unit: sec.\n"
     ]
    }
   ],
   "source": [
    "ep_above = tsd1.threshold(0.0).time_support\n",
    "\n",
    "print(ep_above)"
   ]
  },
  {
   "cell_type": "markdown",
   "id": "1f85c53d",
   "metadata": {},
   "source": [
    "<div class=\"render-all\">\n",
    "\n",
    "**Question**: can you plot `tsd1` as well as the epochs for which `tsd1` is above 0.0?\n",
    "</div>"
   ]
  },
  {
   "cell_type": "code",
   "execution_count": 46,
   "id": "4ea88573",
   "metadata": {},
   "outputs": [
    {
     "data": {
      "text/plain": [
       "[<matplotlib.patches.Rectangle at 0x7f65cc78f390>,\n",
       " <matplotlib.patches.Rectangle at 0x7f662836e0d0>,\n",
       " <matplotlib.patches.Rectangle at 0x7f65cc7a2350>,\n",
       " <matplotlib.patches.Rectangle at 0x7f65cc7a2fd0>,\n",
       " <matplotlib.patches.Rectangle at 0x7f65cc7a3e10>,\n",
       " <matplotlib.patches.Rectangle at 0x7f65f867a050>,\n",
       " <matplotlib.patches.Rectangle at 0x7f65cc7a9690>,\n",
       " <matplotlib.patches.Rectangle at 0x7f65cc7aa210>,\n",
       " <matplotlib.patches.Rectangle at 0x7f65cc7aad10>,\n",
       " <matplotlib.patches.Rectangle at 0x7f65cc7ab790>,\n",
       " <matplotlib.patches.Rectangle at 0x7f65cc7abd50>,\n",
       " <matplotlib.patches.Rectangle at 0x7f65cc7b0b90>,\n",
       " <matplotlib.patches.Rectangle at 0x7f65cc7b1590>,\n",
       " <matplotlib.patches.Rectangle at 0x7f65cc7b2050>,\n",
       " <matplotlib.patches.Rectangle at 0x7f65cc7b29d0>,\n",
       " <matplotlib.patches.Rectangle at 0x7f65cc7b3350>,\n",
       " <matplotlib.patches.Rectangle at 0x7f65cc7b3e50>]"
      ]
     },
     "execution_count": 46,
     "metadata": {},
     "output_type": "execute_result"
    },
    {
     "data": {
      "image/png": "[encoded data removed]",
      "text/plain": [
       "<Figure size 640x480 with 1 Axes>"
      ]
     },
     "metadata": {},
     "output_type": "display_data"
    }
   ],
   "source": [
    "plt.figure()\n",
    "plt.plot(tsd1)\n",
    "plt.plot(tsd1.threshold(0.0), 'o-')\n",
    "[plt.axvspan(s, e, alpha=0.2) for s,e in ep_above.values]"
   ]
  },
  {
   "cell_type": "markdown",
   "id": "95c5deef",
   "metadata": {},
   "source": [
    "## Important\n",
    "\n",
    "<div class=\"render-all\">\n",
    "\n",
    "**Question:** Does this work?\n",
    "If not, please ask a TA.\n",
    "\n",
    "</div>"
   ]
  },
  {
   "cell_type": "code",
   "execution_count": 47,
   "id": "134090c6",
   "metadata": {
    "tags": [
     "render-all"
    ]
   },
   "outputs": [
    {
     "name": "stderr",
     "output_type": "stream",
     "text": [
      "Downloading file 'Mouse32-140822.nwb' from 'https://osf.io/jb2gd/download' to '/home/agent/workspace/rorse_ccn-software-jan-2025_main/lib/python3.11/data'.\n"
     ]
    },
    {
     "name": "stdout",
     "output_type": "stream",
     "text": [
      "/home/agent/workspace/rorse_ccn-software-jan-2025_main/lib/python3.11/data/Mouse32-140822.nwb\n"
     ]
    }
   ],
   "source": [
    "import workshop_utils\n",
    "path = workshop_utils.fetch_data(\"Mouse32-140822.nwb\")\n",
    "print(path)"
   ]
  }
 ],
 "metadata": {
  "jupytext": {
   "text_representation": {
    "extension": ".md",
    "format_name": "myst",
    "format_version": 0.13,
    "jupytext_version": "1.16.6"
   }
  },
  "kernelspec": {
   "display_name": "Python 3",
   "language": "python",
   "name": "python3"
  },
  "language_info": {
   "codemirror_mode": {
    "name": "ipython",
    "version": 3
   },
   "file_extension": ".py",
   "mimetype": "text/x-python",
   "name": "python",
   "nbconvert_exporter": "python",
   "pygments_lexer": "ipython3",
   "version": "3.11.0rc1"
  },
  "source_map": [
   14,
   17,
   50,
   56,
   61,
   79,
   94,
   98,
   106,
   108,
   116,
   118,
   126,
   128,
   136,
   139,
   149,
   153,
   163,
   165,
   173,
   175,
   187,
   189,
   199,
   201,
   209,
   212,
   222,
   226,
   233,
   238,
   242,
   249,
   251,
   257,
   260,
   267,
   269,
   276,
   278,
   285,
   287,
   294,
   296,
   317,
   319,
   326,
   328,
   344,
   346,
   357,
   359,
   375,
   377,
   384,
   386,
   396,
   399,
   408,
   411,
   418,
   424,
   435,
   442,
   449,
   451,
   455,
   462,
   469,
   471,
   478,
   481,
   489,
   491,
   503,
   506,
   513,
   519,
   530,
   532,
   540,
   545,
   555,
   557,
   565,
   569,
   578,
   582,
   589,
   594,
   606
  ]
 },
 "nbformat": 4,
 "nbformat_minor": 5
}