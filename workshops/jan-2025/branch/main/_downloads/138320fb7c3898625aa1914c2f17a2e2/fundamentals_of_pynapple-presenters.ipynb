{
 "cells": [
  {
   "cell_type": "code",
   "execution_count": null,
   "id": "f05041ed",
   "metadata": {
    "tags": [
     "render-all"
    ]
   },
   "outputs": [],
   "source": [
    "%matplotlib inline"
   ]
  },
  {
   "cell_type": "markdown",
   "id": "8911b12e",
   "metadata": {},
   "source": [
    ":::{admonition} Download\n",
    ":class: important render-all\n",
    "\n",
    "This notebook can be downloaded as **{nb-download}`fundamentals_of_pynapple-presenters.ipynb`**. See the button at the top right to download as markdown or pdf.\n",
    ":::\n",
    "\n",
    "\n",
    "# Learning the fundamentals of pynapple\n",
    "This notebook has had all its explanatory text removed and has not been run.\n",
    " It is intended to be downloaded and run locally (or on the provided binder)\n",
    " while listening to the presenter's explanation. In order to see the fully\n",
    " rendered of this notebook, go [here](../../full/day1/fundamentals_of_pynapple.md)\n",
    "\n",
    "## Learning objectives\n",
    "\n",
    "\n",
    "- Instantiate the pynapple objects\n",
    "- Make the pynapple objects interact\n",
    "- Use numpy with pynapple\n",
    "- Slicing pynapple objects\n",
    "- Adding metadata to pynapple objects\n",
    "- Learn the core functions of pynapple\n",
    "\n",
    "The pynapple documentation can be found [here](https://pynapple.org).\n",
    "\n",
    "The documentation for objects and method of the core of pynapple is [here](https://pynapple.org/api.html).\n",
    "\n",
    "\n",
    "Let's start by importing the pynapple package and matplotlib to see if everything is correctly installed.\n",
    "If an import fails, you can do `!pip install pynapple matplotlib` in a cell to fix it."
   ]
  },
  {
   "cell_type": "code",
   "execution_count": null,
   "id": "7f3a7d68",
   "metadata": {
    "tags": [
     "render-all"
    ]
   },
   "outputs": [],
   "source": [
    "import pynapple as nap\n",
    "import matplotlib.pyplot as plt\n",
    "import numpy as np\n",
    "import workshop_utils"
   ]
  },
  {
   "cell_type": "code",
   "execution_count": null,
   "id": "f695da68",
   "metadata": {
    "tags": [
     "render-all"
    ]
   },
   "outputs": [],
   "source": [
    "var1 = np.random.randn(100) # Variable 1\n",
    "tsp1 = np.arange(100) # The timesteps of variable 1\n",
    "\n",
    "var2 = np.random.randn(100, 3) # Variable 2\n",
    "tsp2 = np.arange(0, 100, 1) # The timesteps of variable 2\n",
    "col2 = ['pineapple', 'banana', 'tomato'] # The name of each columns of var2\n",
    "\n",
    "var3 = np.random.randn(1000, 4, 5) # Variable 3\n",
    "tsp3 = np.arange(0, 100, 0.1) # The timesteps of variable 3\n",
    "\n",
    "random_times_1 = np.array([3.14, 37.0, 42.0])\n",
    "random_times_2 = np.array([10, 25, 50, 70])\n",
    "random_times_3 = np.sort(np.random.uniform(10, 80, 100))\n",
    "\n",
    "starts_1 = np.array([10000, 60000, 90000]) # starts of an epoch in `ms`\n",
    "ends_1 = np.array([20000, 80000, 95000]) # ends in `ms`"
   ]
  },
  {
   "cell_type": "markdown",
   "id": "13f81616",
   "metadata": {},
   "source": [
    "## Instantiate pynapple objects \n",
    "\n",
    "\n",
    "**Question:** Can you instantiate the right pynapple objects for `var1`, `var2` and `var3`? Objects should be named respectively `tsd1`, `tsd2` and `tsd3`. Don't forget the column name for `var2`."
   ]
  },
  {
   "cell_type": "code",
   "execution_count": null,
   "id": "00e41200",
   "metadata": {},
   "outputs": [],
   "source": [
    "tsd1 = nap.Tsd(t=tsp1, d=var1)\n",
    "tsd2 = nap.TsdFrame(t=tsp2, d=var2, columns = col2)\n",
    "tsd3 = nap.TsdTensor(t=tsp3, d=var3)"
   ]
  },
  {
   "cell_type": "markdown",
   "id": "93153940",
   "metadata": {},
   "source": [
    "**Question:** Can you print `tsd1`?"
   ]
  },
  {
   "cell_type": "code",
   "execution_count": null,
   "id": "e3fb052f",
   "metadata": {},
   "outputs": [],
   "source": [
    "print(tsd1)"
   ]
  },
  {
   "cell_type": "markdown",
   "id": "f7728201",
   "metadata": {},
   "source": [
    "**Question:** Can you print `tsd2`?"
   ]
  },
  {
   "cell_type": "code",
   "execution_count": null,
   "id": "c94735e4",
   "metadata": {},
   "outputs": [],
   "source": [
    "print(tsd2)"
   ]
  },
  {
   "cell_type": "markdown",
   "id": "3191df5c",
   "metadata": {},
   "source": [
    "**Question:** Can you print `tsd3`?"
   ]
  },
  {
   "cell_type": "code",
   "execution_count": null,
   "id": "717fa199",
   "metadata": {},
   "outputs": [],
   "source": [
    "print(tsd3)"
   ]
  },
  {
   "cell_type": "markdown",
   "id": "91f40454",
   "metadata": {},
   "source": [
    "**Question:** Can you create an `IntervalSet` called `ep` out of `starts_1` and `ends_1` and print it? Be careful, times given above are in `ms`."
   ]
  },
  {
   "cell_type": "code",
   "execution_count": null,
   "id": "298b77d1",
   "metadata": {},
   "outputs": [],
   "source": [
    "ep = nap.IntervalSet(start=starts_1, end=ends_1, time_units='ms')\n",
    "print(ep)"
   ]
  },
  {
   "cell_type": "markdown",
   "id": "d127ed32",
   "metadata": {},
   "source": [
    "The experiment generated a set of timestamps from 3 different channels.\n",
    "\n",
    "**Question:** Can you instantiate the corresponding pynapple object (`ts1`, `ts2`, `ts3`) for each one of them?"
   ]
  },
  {
   "cell_type": "code",
   "execution_count": null,
   "id": "a121b27f",
   "metadata": {},
   "outputs": [],
   "source": [
    "ts1 = nap.Ts(t=random_times_1)\n",
    "ts2 = nap.Ts(t=random_times_2)\n",
    "ts3 = nap.Ts(t=random_times_3)"
   ]
  },
  {
   "cell_type": "markdown",
   "id": "6badefea",
   "metadata": {},
   "source": [
    "This is a lot of timestamps to carry around as well.\n",
    "\n",
    "**Question:** Can you instantiate the right pynapple object (call it `tsgroup`) to group them together?"
   ]
  },
  {
   "cell_type": "code",
   "execution_count": null,
   "id": "e453e964",
   "metadata": {},
   "outputs": [],
   "source": [
    "tsgroup = nap.TsGroup({0:ts1, 1:ts2, 2:ts3})"
   ]
  },
  {
   "cell_type": "markdown",
   "id": "de30e7a1",
   "metadata": {},
   "source": [
    "**Question:** ... and print it?"
   ]
  },
  {
   "cell_type": "code",
   "execution_count": null,
   "id": "37b53d80",
   "metadata": {},
   "outputs": [],
   "source": [
    "print(tsgroup)"
   ]
  },
  {
   "cell_type": "markdown",
   "id": "763db67b",
   "metadata": {},
   "source": [
    "## Interaction between pynapple objects \n",
    "\n",
    "\n",
    "**Question:** Can you print the `time_support` of `tsgroup`?"
   ]
  },
  {
   "cell_type": "code",
   "execution_count": null,
   "id": "50315687",
   "metadata": {},
   "outputs": [],
   "source": [
    "print(tsgroup.time_support)"
   ]
  },
  {
   "cell_type": "markdown",
   "id": "793a32b1",
   "metadata": {},
   "source": [
    "**Question:** can you recreate the `tsgroup` object passing the right `time_support` during initialisation?"
   ]
  },
  {
   "cell_type": "code",
   "execution_count": null,
   "id": "4d25629e",
   "metadata": {},
   "outputs": [],
   "source": [
    "tsgroup = nap.TsGroup({0:ts1, 1:tsd2, 2:ts3}, time_support = nap.IntervalSet(0, 100))"
   ]
  },
  {
   "cell_type": "markdown",
   "id": "99b972ca",
   "metadata": {},
   "source": [
    "**Question:** Can you print the `time_support` and `rate` to see how they changed?"
   ]
  },
  {
   "cell_type": "code",
   "execution_count": null,
   "id": "1249c92d",
   "metadata": {},
   "outputs": [],
   "source": [
    "print(tsgroup.time_support)\n",
    "print(tsgroup.rate)"
   ]
  },
  {
   "cell_type": "markdown",
   "id": "9ab46851",
   "metadata": {},
   "source": [
    "Now you realized the variable `tsd1` has some noise. The good signal is between 10 and 30 seconds and  50 and 100.\n",
    "\n",
    "**Question:** Can you create an `IntervalSet` object called `ep_signal` and use it to restrict the variable `tsd1`?"
   ]
  },
  {
   "cell_type": "code",
   "execution_count": null,
   "id": "ff2dae19",
   "metadata": {},
   "outputs": [],
   "source": [
    "ep_signal = nap.IntervalSet(start=[10, 50], end=[30, 100])\n",
    "\n",
    "tsd1 = tsd1.restrict(ep_signal)"
   ]
  },
  {
   "cell_type": "markdown",
   "id": "f180992d",
   "metadata": {},
   "source": [
    "You can print `tsd1` to check that the timestamps are in fact within `ep`.\n",
    "You can also check the `time_support` of `tsd1` to see that it has been updated."
   ]
  },
  {
   "cell_type": "code",
   "execution_count": null,
   "id": "be971017",
   "metadata": {},
   "outputs": [],
   "source": [
    "print(tsd1)\n",
    "print(tsd1.time_support)"
   ]
  },
  {
   "cell_type": "code",
   "execution_count": null,
   "id": "a77eeb2a",
   "metadata": {
    "tags": [
     "render-all"
    ]
   },
   "outputs": [],
   "source": [
    "ep_tmp = nap.IntervalSet(np.sort(np.random.uniform(0, 100, 20)))\n",
    "print(ep_tmp)"
   ]
  },
  {
   "cell_type": "markdown",
   "id": "6cc2e29a",
   "metadata": {},
   "source": [
    "**Question:** Can you do the intersection of `ep_signal` and `ep_tmp`?"
   ]
  },
  {
   "cell_type": "code",
   "execution_count": null,
   "id": "21b99ef8",
   "metadata": {},
   "outputs": [],
   "source": [
    "print(ep_signal.intersect(ep_tmp))"
   ]
  },
  {
   "cell_type": "markdown",
   "id": "544d5564",
   "metadata": {},
   "source": [
    "You can visualize IntervalSet using the function `workshop_utils.visualize_intervals` we provide."
   ]
  },
  {
   "cell_type": "code",
   "execution_count": null,
   "id": "63fccad0",
   "metadata": {
    "tags": [
     "render-all"
    ]
   },
   "outputs": [],
   "source": [
    "workshop_utils.visualize_intervals([ep_signal, ep_tmp, ep_signal.intersect(ep_tmp)])"
   ]
  },
  {
   "cell_type": "markdown",
   "id": "c8e42fac",
   "metadata": {},
   "source": [
    "**Question:** Can you do the union of `ep_signal` and `ep_tmp`?"
   ]
  },
  {
   "cell_type": "code",
   "execution_count": null,
   "id": "f12aec34",
   "metadata": {},
   "outputs": [],
   "source": [
    "print(ep_signal.union(ep_tmp))"
   ]
  },
  {
   "cell_type": "markdown",
   "id": "60778a93",
   "metadata": {},
   "source": [
    "**Question:** ... and visualize it?"
   ]
  },
  {
   "cell_type": "code",
   "execution_count": null,
   "id": "a743b595",
   "metadata": {},
   "outputs": [],
   "source": [
    "workshop_utils.visualize_intervals([ep_signal, ep_tmp, ep_signal.union(ep_tmp)])"
   ]
  },
  {
   "cell_type": "markdown",
   "id": "937ee680",
   "metadata": {},
   "source": [
    "**Question:** Can you do the difference of `ep_signal` and `ep_tmp`?"
   ]
  },
  {
   "cell_type": "code",
   "execution_count": null,
   "id": "08a00ec7",
   "metadata": {},
   "outputs": [],
   "source": [
    "print(ep_signal.set_diff(ep_tmp))"
   ]
  },
  {
   "cell_type": "markdown",
   "id": "d43080cd",
   "metadata": {},
   "source": [
    "**Question:** ... and visualize it?"
   ]
  },
  {
   "cell_type": "code",
   "execution_count": null,
   "id": "34152134",
   "metadata": {},
   "outputs": [],
   "source": [
    "workshop_utils.visualize_intervals([ep_signal, ep_tmp, ep_signal.set_diff(ep_tmp)])"
   ]
  },
  {
   "cell_type": "markdown",
   "id": "e38ada55",
   "metadata": {},
   "source": [
    "## Numpy & pynapple\n",
    "\n",
    "\n",
    "Pynapple objects behaves very similarly like numpy array. They can be sliced with the following syntax :\n",
    "\n",
    "  `tsd[0:10] # First 10 elements`\n",
    "\n",
    "Arithmetical operations are available as well :\n",
    "\n",
    "  `tsd = tsd + 1`\n",
    "\n",
    "Finally numpy functions works directly. Let's imagine `tsd3` is a movie with frame size (4,5).\n",
    "\n",
    "**Question:** Can you compute the average frame along the time axis using `np.mean` and print the result?"
   ]
  },
  {
   "cell_type": "code",
   "execution_count": null,
   "id": "438147a9",
   "metadata": {},
   "outputs": [],
   "source": [
    "print(np.mean(tsd3, 0))"
   ]
  },
  {
   "cell_type": "markdown",
   "id": "d9c6f81d",
   "metadata": {},
   "source": [
    "**Question:**: can you compute the average of `tsd2` for each timestamps and print it?"
   ]
  },
  {
   "cell_type": "code",
   "execution_count": null,
   "id": "df242b05",
   "metadata": {},
   "outputs": [],
   "source": [
    "print(np.mean(tsd2, 1))"
   ]
  },
  {
   "cell_type": "markdown",
   "id": "351448cd",
   "metadata": {},
   "source": [
    "## Slicing pynapple objects \n",
    "\n",
    "\n",
    "**Question:** Can you extract the first and last epoch of `ep` in a new `IntervalSet`?"
   ]
  },
  {
   "cell_type": "code",
   "execution_count": null,
   "id": "9347a1c2",
   "metadata": {},
   "outputs": [],
   "source": [
    "print(ep[[0,2]])"
   ]
  },
  {
   "cell_type": "markdown",
   "id": "fd05ac66",
   "metadata": {},
   "source": [
    "Sometimes you want to get a data point as close as possible in time to another timestamps.\n",
    "\n",
    "**Question:** Using the `get` method, can you get the data point from `tsd3` as close as possible to the time 50.1 seconds?"
   ]
  },
  {
   "cell_type": "code",
   "execution_count": null,
   "id": "b814f14e",
   "metadata": {},
   "outputs": [],
   "source": [
    "print(tsd3.get(50.1))"
   ]
  },
  {
   "cell_type": "markdown",
   "id": "bd82e921",
   "metadata": {},
   "source": [
    "## Metadata\n",
    "\n",
    "\n",
    "Metadata are ubiquitous in neuroscience. They can be added to 3 pynapple objects :\n",
    "\n",
    "- `TsGroup` : to label neurons in electrophysiology\n",
    "- `IntervalSet` : to label intervals\n",
    "- `TsdFrame` : to label neurons in calcium imaging\n",
    "\n",
    "\n",
    "**Question:** Can you run the following command `tsgroup['planet'] = ['mars', 'venus', 'saturn']`"
   ]
  },
  {
   "cell_type": "code",
   "execution_count": null,
   "id": "23ef8fb8",
   "metadata": {},
   "outputs": [],
   "source": [
    "tsgroup['planet'] = ['mars', 'venus', 'saturn']"
   ]
  },
  {
   "cell_type": "markdown",
   "id": "bbb23180",
   "metadata": {},
   "source": [
    "**Question:** ... and print it?"
   ]
  },
  {
   "cell_type": "code",
   "execution_count": null,
   "id": "799c025e",
   "metadata": {},
   "outputs": [],
   "source": [
    "print(tsgroup)"
   ]
  },
  {
   "cell_type": "markdown",
   "id": "de7a9a05",
   "metadata": {},
   "source": [
    "The object `ep` has 3 epochs labelled `['left', 'right', 'left']`. \n",
    "\n",
    "**Question:** Can you add them as a metadata column called `direction`?"
   ]
  },
  {
   "cell_type": "code",
   "execution_count": null,
   "id": "3d28ebce",
   "metadata": {},
   "outputs": [],
   "source": [
    "ep['direction'] = ['left', 'right', 'left']\n",
    "print(ep)"
   ]
  },
  {
   "cell_type": "markdown",
   "id": "dead60e5",
   "metadata": {},
   "source": [
    "The object `tsd2` has 3 columns. Each column correspond to the rgb colors `[(0,0,1), (0.5, 0.5, 1), (0.1, 0.2, 0.3)]`. \n",
    "\n",
    "**Question:** Can you add them as metadata of `tsd2`?"
   ]
  },
  {
   "cell_type": "code",
   "execution_count": null,
   "id": "db74f502",
   "metadata": {},
   "outputs": [],
   "source": [
    "tsd2['colors'] = [(0,0,1), (0.5, 0.5, 1), (0.1, 0.2, 0.3)]\n",
    "print(tsd2)"
   ]
  },
  {
   "cell_type": "markdown",
   "id": "14f16b80",
   "metadata": {},
   "source": [
    "You can also add metadata at initialization as a dictionnary using the keyword argument `metadata` :"
   ]
  },
  {
   "cell_type": "code",
   "execution_count": null,
   "id": "411df0e6",
   "metadata": {
    "tags": [
     "render-all"
    ]
   },
   "outputs": [],
   "source": [
    "tsgroup = nap.TsGroup({0:ts1, 1:ts2, 2:ts3}, metadata={'planet':['mars','venus', 'saturn']})\n",
    "\n",
    "print(tsgroup)"
   ]
  },
  {
   "cell_type": "markdown",
   "id": "41c7333c",
   "metadata": {},
   "source": [
    "Metadata are accessible either as attributes (i.e. `tsgroup.planet`) or as dictionnary-like keys (i.e. `ep['direction']`).\n",
    "\n",
    "They can be used to slice objects. \n",
    "\n",
    "**Question:** Can you select only the elements of `tsgroup` with rate below 1Hz?"
   ]
  },
  {
   "cell_type": "code",
   "execution_count": null,
   "id": "3b254e44",
   "metadata": {},
   "outputs": [],
   "source": [
    "print(tsgroup[tsgroup.rate<1.0])\n",
    "\n",
    "print(tsgroup[tsgroup['rate']<1.0])\n",
    "\n",
    "print(tsgroup.getby_threshold(\"rate\", 1, \"<\"))\n"
   ]
  },
  {
   "cell_type": "markdown",
   "id": "172329da",
   "metadata": {},
   "source": [
    "**Question:** Can you select the intervals in `ep` labelled as `'left'`?"
   ]
  },
  {
   "cell_type": "code",
   "execution_count": null,
   "id": "7c9fb366",
   "metadata": {},
   "outputs": [],
   "source": [
    "print(ep[ep.direction=='left'])"
   ]
  },
  {
   "cell_type": "markdown",
   "id": "3f16bb9b",
   "metadata": {},
   "source": [
    "### Special case of slicing : `TsdFrame`"
   ]
  },
  {
   "cell_type": "code",
   "execution_count": null,
   "id": "0d204e60",
   "metadata": {
    "tags": [
     "render-all"
    ]
   },
   "outputs": [],
   "source": [
    "tsdframe = nap.TsdFrame(t=np.arange(4), d=np.random.randn(4,3),\n",
    "  columns = [12, 0, 1], metadata={'alpha':[2,1,0]})\n",
    "\n",
    "print(tsdframe)"
   ]
  },
  {
   "cell_type": "markdown",
   "id": "6bb3eda5",
   "metadata": {},
   "source": [
    "**Question:** What happen when you do `tsdframe[0]` vs `tsdframe[:,0]` vs `tsdframe[[12,1]]`"
   ]
  },
  {
   "cell_type": "code",
   "execution_count": null,
   "id": "13856e41",
   "metadata": {},
   "outputs": [],
   "source": [
    "print(tsdframe[0])"
   ]
  },
  {
   "cell_type": "markdown",
   "id": "7b722230",
   "metadata": {},
   "source": [
    "**Question:** What happen when you do `tsdframe.loc[0]` and `tsdframe.loc[[0,1]]`"
   ]
  },
  {
   "cell_type": "code",
   "execution_count": null,
   "id": "5e99bdf7",
   "metadata": {},
   "outputs": [],
   "source": [
    "print(tsdframe.loc[0])\n",
    "print(tsdframe.loc[[0,1]])"
   ]
  },
  {
   "cell_type": "markdown",
   "id": "9aad9cf0",
   "metadata": {},
   "source": [
    "**Question:** What happen when you do `tsdframe[tsdframe.alpha==2]`"
   ]
  },
  {
   "cell_type": "code",
   "execution_count": null,
   "id": "7c7cba85",
   "metadata": {},
   "outputs": [],
   "source": [
    "print(tsdframe[tsdframe.alpha==2])"
   ]
  },
  {
   "cell_type": "markdown",
   "id": "e7f19d5b",
   "metadata": {},
   "source": [
    "## Core functions of pynapple \n",
    "\n",
    "\n",
    "This part focuses on the most important core functions of pynapple.\n",
    "\n",
    "**Question:** Using the `count` function, can you count the number of events within 1 second bins for `tsgroup` over the `ep_signal` intervals?"
   ]
  },
  {
   "cell_type": "code",
   "execution_count": null,
   "id": "4a635910",
   "metadata": {},
   "outputs": [],
   "source": [
    "count = tsgroup.count(1, ep_signal)\n",
    "print(count)"
   ]
  },
  {
   "cell_type": "code",
   "execution_count": null,
   "id": "fb9d11c5",
   "metadata": {},
   "outputs": [],
   "source": [
    "plt.figure()\n",
    "ax = plt.subplot(211)\n",
    "plt.plot(count, 'o-')\n",
    "plt.subplot(212, sharex=ax)\n",
    "plt.plot(tsgroup.restrict(ep_signal).to_tsd(), '|')"
   ]
  },
  {
   "cell_type": "markdown",
   "id": "a6b8602a",
   "metadata": {},
   "source": [
    "From a set of timestamps, you want to assign them a set of values with the closest point in time of another time series.\n",
    "\n",
    "**Question:** Using the function `value_from`, can you assign values to `ts2` from the `tsd1` time series and call the output `new_tsd`?"
   ]
  },
  {
   "cell_type": "code",
   "execution_count": null,
   "id": "6982827f",
   "metadata": {},
   "outputs": [],
   "source": [
    "new_tsd = ts2.value_from(tsd1)"
   ]
  },
  {
   "cell_type": "markdown",
   "id": "c838e198",
   "metadata": {},
   "source": [
    "**Question:** Can you plot together `tsd1`, `ts2` and `new_tsd`?"
   ]
  },
  {
   "cell_type": "code",
   "execution_count": null,
   "id": "dc31fd77",
   "metadata": {},
   "outputs": [],
   "source": [
    "plt.figure()\n",
    "plt.plot(tsd1)\n",
    "plt.plot(new_tsd, 'o-')\n",
    "plt.plot(ts2.fillna(0), 'o')"
   ]
  },
  {
   "cell_type": "markdown",
   "id": "224037c2",
   "metadata": {},
   "source": [
    "One important aspect of data analysis is to bring data to the same size. Pynapple provides the `bin_average` function to downsample data.\n",
    "\n",
    "**Question:** Can you downsample `tsd2` to one time point every 5 seconds?"
   ]
  },
  {
   "cell_type": "code",
   "execution_count": null,
   "id": "e8abe4a0",
   "metadata": {},
   "outputs": [],
   "source": [
    "new_tsd2 = tsd2.bin_average(5.0)"
   ]
  },
  {
   "cell_type": "markdown",
   "id": "6a65e5a2",
   "metadata": {},
   "source": [
    "**Question:** Can you plot the `tomato` column from `tsd2` as well as the downsampled version?"
   ]
  },
  {
   "cell_type": "code",
   "execution_count": null,
   "id": "c2dfea6a",
   "metadata": {},
   "outputs": [],
   "source": [
    "plt.figure()\n",
    "plt.plot(tsd2['tomato'])\n",
    "plt.plot(new_tsd2['tomato'], 'o-')"
   ]
  },
  {
   "cell_type": "markdown",
   "id": "3c1ad979",
   "metadata": {},
   "source": [
    "For `tsd1`, you want to find all the epochs for which the value is above 0.0. Pynapple provides the function `threshold` to get 1 dimensional time series above or below a certain value.\n",
    "\n",
    "**Question**: Can you print the epochs for which `tsd1` is above 0.0?"
   ]
  },
  {
   "cell_type": "code",
   "execution_count": null,
   "id": "be70a3da",
   "metadata": {},
   "outputs": [],
   "source": [
    "ep_above = tsd1.threshold(0.0).time_support\n",
    "\n",
    "print(ep_above)"
   ]
  },
  {
   "cell_type": "markdown",
   "id": "34a0b542",
   "metadata": {},
   "source": [
    "**Question**: can you plot `tsd1` as well as the epochs for which `tsd1` is above 0.0?"
   ]
  },
  {
   "cell_type": "code",
   "execution_count": null,
   "id": "dcbc1dbc",
   "metadata": {},
   "outputs": [],
   "source": [
    "plt.figure()\n",
    "plt.plot(tsd1)\n",
    "plt.plot(tsd1.threshold(0.0), 'o-')\n",
    "[plt.axvspan(s, e, alpha=0.2) for s,e in ep_above.values]"
   ]
  },
  {
   "cell_type": "markdown",
   "id": "59c157d2",
   "metadata": {},
   "source": [
    "## Important\n",
    "\n",
    "\n",
    "**Question:** Does this work?\n",
    "If not, please ask a TA."
   ]
  },
  {
   "cell_type": "code",
   "execution_count": null,
   "id": "14a2f33c",
   "metadata": {
    "tags": [
     "render-all"
    ]
   },
   "outputs": [],
   "source": [
    "import workshop_utils\n",
    "path = workshop_utils.fetch_data(\"Mouse32-140822.nwb\")\n",
    "print(path)"
   ]
  }
 ],
 "metadata": {
  "jupytext": {
   "text_representation": {
    "extension": ".md",
    "format_name": "myst",
    "format_version": 0.13,
    "jupytext_version": "1.16.6"
   }
  },
  "kernelspec": {
   "display_name": "Python 3",
   "language": "python",
   "name": "python3"
  },
  "source_map": [
   13,
   16,
   49,
   56,
   74,
   81,
   85,
   91,
   93,
   99,
   101,
   107,
   109,
   115,
   118,
   126,
   130,
   138,
   140,
   146,
   148,
   155,
   157,
   163,
   165,
   171,
   174,
   182,
   186,
   191,
   195,
   199,
   204,
   206,
   210,
   213,
   218,
   220,
   225,
   227,
   232,
   234,
   239,
   241,
   258,
   260,
   265,
   267,
   273,
   275,
   283,
   285,
   298,
   300,
   305,
   307,
   315,
   318,
   325,
   328,
   333,
   339,
   348,
   355,
   360,
   362,
   364,
   371,
   376,
   378,
   383,
   386,
   392,
   394,
   402,
   406,
   412,
   420,
   422,
   428,
   433,
   441,
   443,
   449,
   453,
   460,
   464,
   469,
   474,
   482
  ]
 },
 "nbformat": 4,
 "nbformat_minor": 5
}