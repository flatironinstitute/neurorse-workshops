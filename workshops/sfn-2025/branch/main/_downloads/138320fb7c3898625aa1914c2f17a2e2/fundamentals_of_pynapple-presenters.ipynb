{
 "cells": [
  {
   "cell_type": "code",
   "execution_count": null,
   "id": "bf21ed25",
   "metadata": {
    "tags": [
     "render-all"
    ]
   },
   "outputs": [],
   "source": [
    "%matplotlib inline"
   ]
  },
  {
   "cell_type": "markdown",
   "id": "6e383f87",
   "metadata": {},
   "source": [
    ":::{admonition} Download\n",
    ":class: important render-all\n",
    "\n",
    "This notebook can be downloaded as **{nb-download}`fundamentals_of_pynapple-presenters.ipynb`**. See the button at the top right to download as markdown or pdf.\n",
    ":::\n",
    "\n",
    "\n",
    "\n",
    "# Learning the fundamentals of pynapple\n",
    "This notebook has had all its explanatory text removed and has not been run.\n",
    " It is intended to be downloaded and run locally (or on the provided binder)\n",
    " while listening to the presenter's explanation. In order to see the fully\n",
    " rendered of this notebook, go [here](../../full/day1/fundamentals_of_pynapple.md)\n",
    "\n",
    "## Learning objectives\n",
    "\n",
    "\n",
    "- Instantiate the pynapple objects\n",
    "- Make the pynapple objects interact\n",
    "- Use numpy with pynapple\n",
    "- Slicing pynapple objects\n",
    "- Adding metadata to pynapple objects\n",
    "- Learn the core functions of pynapple\n",
    "\n",
    "The pynapple documentation can be found [here](https://pynapple.org).\n",
    "\n",
    "The documentation for objects and method of the core of pynapple is [here](https://pynapple.org/api.html).\n",
    "\n",
    "\n",
    "Let's start by importing the pynapple package and matplotlib to see if everything is correctly installed.\n",
    "If an import fails, you can do `!pip install pynapple matplotlib` in a cell to fix it."
   ]
  },
  {
   "cell_type": "code",
   "execution_count": null,
   "id": "f87e0059",
   "metadata": {
    "tags": [
     "render-all"
    ]
   },
   "outputs": [],
   "source": [
    "import pynapple as nap\n",
    "import matplotlib.pyplot as plt\n",
    "import numpy as np\n",
    "import workshop_utils"
   ]
  },
  {
   "cell_type": "code",
   "execution_count": null,
   "id": "8a194873",
   "metadata": {
    "tags": [
     "render-all"
    ]
   },
   "outputs": [],
   "source": [
    "var1 = np.random.randn(100) # Variable 1\n",
    "tsp1 = np.arange(100) # The timesteps of variable 1\n",
    "\n",
    "var2 = np.random.randn(100, 3) # Variable 2\n",
    "tsp2 = np.arange(0, 100, 1) # The timesteps of variable 2\n",
    "col2 = ['pineapple', 'banana', 'tomato'] # The name of each columns of var2\n",
    "\n",
    "var3 = np.random.randn(1000, 4, 5) # Variable 3\n",
    "tsp3 = np.arange(0, 100, 0.1) # The timesteps of variable 3\n",
    "\n",
    "random_times_1 = np.array([3.14, 37.0, 42.0])\n",
    "random_times_2 = np.array([10, 25, 50, 70])\n",
    "random_times_3 = np.sort(np.random.uniform(10, 80, 100))\n",
    "\n",
    "starts_1 = np.array([10000, 60000, 90000]) # starts of an epoch in `ms`\n",
    "ends_1 = np.array([20000, 80000, 95000]) # ends in `ms`"
   ]
  },
  {
   "cell_type": "markdown",
   "id": "294dbcec",
   "metadata": {},
   "source": [
    "## Instantiate pynapple objects \n",
    "\n",
    "\n",
    "\n",
    "**Question:** Can you instantiate the right pynapple objects for `var1`, `var2` and `var3`? Objects should be named respectively `tsd1`, `tsd2` and `tsd3`. Don't forget the column name for `var2`."
   ]
  },
  {
   "cell_type": "code",
   "execution_count": null,
   "id": "631e05d4",
   "metadata": {},
   "outputs": [],
   "source": [
    "tsd1 = nap.Tsd(t=tsp1, d=var1)\n",
    "tsd2 = nap.TsdFrame(t=tsp2, d=var2, columns = col2)\n",
    "tsd3 = nap.TsdTensor(t=tsp3, d=var3)"
   ]
  },
  {
   "cell_type": "markdown",
   "id": "6a99557f",
   "metadata": {},
   "source": [
    "**Question:** Can you print `tsd1`?"
   ]
  },
  {
   "cell_type": "code",
   "execution_count": null,
   "id": "32c39cde",
   "metadata": {},
   "outputs": [],
   "source": [
    "print(tsd1)"
   ]
  },
  {
   "cell_type": "markdown",
   "id": "e6babe4e",
   "metadata": {},
   "source": [
    "**Question:** Can you print `tsd2`?"
   ]
  },
  {
   "cell_type": "code",
   "execution_count": null,
   "id": "54563588",
   "metadata": {},
   "outputs": [],
   "source": [
    "print(tsd2)"
   ]
  },
  {
   "cell_type": "markdown",
   "id": "f9ab9aff",
   "metadata": {},
   "source": [
    "**Question:** Can you print `tsd3`?"
   ]
  },
  {
   "cell_type": "code",
   "execution_count": null,
   "id": "06756054",
   "metadata": {},
   "outputs": [],
   "source": [
    "print(tsd3)"
   ]
  },
  {
   "cell_type": "markdown",
   "id": "5ec1adc5",
   "metadata": {},
   "source": [
    "**Question:** Can you create an `IntervalSet` called `ep` out of `starts_1` and `ends_1` and print it? Be careful, times given above are in `ms`."
   ]
  },
  {
   "cell_type": "code",
   "execution_count": null,
   "id": "3aa575c6",
   "metadata": {},
   "outputs": [],
   "source": [
    "ep = nap.IntervalSet(start=starts_1, end=ends_1, time_units='ms')\n",
    "print(ep)"
   ]
  },
  {
   "cell_type": "markdown",
   "id": "3649ff36",
   "metadata": {},
   "source": [
    "The experiment generated a set of timestamps from 3 different channels.\n",
    "\n",
    "**Question:** Can you instantiate the corresponding pynapple object (`ts1`, `ts2`, `ts3`) for each one of them?"
   ]
  },
  {
   "cell_type": "code",
   "execution_count": null,
   "id": "1d5ddf8c",
   "metadata": {},
   "outputs": [],
   "source": [
    "ts1 = nap.Ts(t=random_times_1)\n",
    "ts2 = nap.Ts(t=random_times_2)\n",
    "ts3 = nap.Ts(t=random_times_3)"
   ]
  },
  {
   "cell_type": "markdown",
   "id": "f11d200f",
   "metadata": {},
   "source": [
    "This is a lot of timestamps to carry around as well.\n",
    "\n",
    "**Question:** Can you instantiate the right pynapple object (call it `tsgroup`) to group them together?"
   ]
  },
  {
   "cell_type": "code",
   "execution_count": null,
   "id": "6ccad160",
   "metadata": {},
   "outputs": [],
   "source": [
    "tsgroup = nap.TsGroup({0:ts1, 1:ts2, 2:ts3})"
   ]
  },
  {
   "cell_type": "markdown",
   "id": "d0d8b944",
   "metadata": {},
   "source": [
    "**Question:** ... and print it?"
   ]
  },
  {
   "cell_type": "code",
   "execution_count": null,
   "id": "9e2dec85",
   "metadata": {},
   "outputs": [],
   "source": [
    "print(tsgroup)"
   ]
  },
  {
   "cell_type": "markdown",
   "id": "d4296e2d",
   "metadata": {},
   "source": [
    "## Interaction between pynapple objects \n",
    "\n",
    "\n",
    "\n",
    "**Question:** Can you print the `time_support` of `tsgroup`?"
   ]
  },
  {
   "cell_type": "code",
   "execution_count": null,
   "id": "d7c71b11",
   "metadata": {},
   "outputs": [],
   "source": [
    "print(tsgroup.time_support)"
   ]
  },
  {
   "cell_type": "markdown",
   "id": "911eb234",
   "metadata": {},
   "source": [
    "**Question:** can you recreate the `tsgroup` object passing the right `time_support` during initialisation?"
   ]
  },
  {
   "cell_type": "code",
   "execution_count": null,
   "id": "cc906477",
   "metadata": {},
   "outputs": [],
   "source": [
    "tsgroup = nap.TsGroup({0:ts1, 1:tsd2, 2:ts3}, time_support = nap.IntervalSet(0, 100))"
   ]
  },
  {
   "cell_type": "markdown",
   "id": "ae469872",
   "metadata": {},
   "source": [
    "**Question:** Can you print the `time_support` and `rate` to see how they changed?"
   ]
  },
  {
   "cell_type": "code",
   "execution_count": null,
   "id": "02760be2",
   "metadata": {},
   "outputs": [],
   "source": [
    "print(tsgroup.time_support)\n",
    "print(tsgroup.rate)"
   ]
  },
  {
   "cell_type": "markdown",
   "id": "43919d69",
   "metadata": {},
   "source": [
    "Now you realized the variable `tsd1` has some noise. The good signal is between 10 and 30 seconds and  50 and 100.\n",
    "\n",
    "**Question:** Can you create an `IntervalSet` object called `ep_signal` and use it to restrict the variable `tsd1`?"
   ]
  },
  {
   "cell_type": "code",
   "execution_count": null,
   "id": "bbb263bf",
   "metadata": {},
   "outputs": [],
   "source": [
    "ep_signal = nap.IntervalSet(start=[10, 50], end=[30, 100])\n",
    "\n",
    "tsd1 = tsd1.restrict(ep_signal)"
   ]
  },
  {
   "cell_type": "markdown",
   "id": "754ed05f",
   "metadata": {},
   "source": [
    "You can print `tsd1` to check that the timestamps are in fact within `ep`.\n",
    "You can also check the `time_support` of `tsd1` to see that it has been updated."
   ]
  },
  {
   "cell_type": "code",
   "execution_count": null,
   "id": "71ba7480",
   "metadata": {},
   "outputs": [],
   "source": [
    "print(tsd1)\n",
    "print(tsd1.time_support)"
   ]
  },
  {
   "cell_type": "code",
   "execution_count": null,
   "id": "ff350446",
   "metadata": {
    "tags": [
     "render-all"
    ]
   },
   "outputs": [],
   "source": [
    "ep_tmp = nap.IntervalSet(np.sort(np.random.uniform(0, 100, 20)))\n",
    "print(ep_tmp)"
   ]
  },
  {
   "cell_type": "markdown",
   "id": "20dedb50",
   "metadata": {},
   "source": [
    "**Question:** Can you do the intersection of `ep_signal` and `ep_tmp`?"
   ]
  },
  {
   "cell_type": "code",
   "execution_count": null,
   "id": "0eef4570",
   "metadata": {},
   "outputs": [],
   "source": [
    "print(ep_signal.intersect(ep_tmp))"
   ]
  },
  {
   "cell_type": "markdown",
   "id": "0d434c11",
   "metadata": {},
   "source": [
    "You can visualize IntervalSet using the function `workshop_utils.visualize_intervals` we provide."
   ]
  },
  {
   "cell_type": "code",
   "execution_count": null,
   "id": "8890b482",
   "metadata": {
    "tags": [
     "render-all"
    ]
   },
   "outputs": [],
   "source": [
    "workshop_utils.visualize_intervals([ep_signal, ep_tmp, ep_signal.intersect(ep_tmp)])"
   ]
  },
  {
   "cell_type": "markdown",
   "id": "80b4541f",
   "metadata": {},
   "source": [
    "**Question:** Can you do the union of `ep_signal` and `ep_tmp`?"
   ]
  },
  {
   "cell_type": "code",
   "execution_count": null,
   "id": "6d457b77",
   "metadata": {},
   "outputs": [],
   "source": [
    "print(ep_signal.union(ep_tmp))"
   ]
  },
  {
   "cell_type": "markdown",
   "id": "4f08edde",
   "metadata": {},
   "source": [
    "**Question:** ... and visualize it?"
   ]
  },
  {
   "cell_type": "code",
   "execution_count": null,
   "id": "4ce756ae",
   "metadata": {},
   "outputs": [],
   "source": [
    "workshop_utils.visualize_intervals([ep_signal, ep_tmp, ep_signal.union(ep_tmp)])"
   ]
  },
  {
   "cell_type": "markdown",
   "id": "53de88f8",
   "metadata": {},
   "source": [
    "**Question:** Can you do the difference of `ep_signal` and `ep_tmp`?"
   ]
  },
  {
   "cell_type": "code",
   "execution_count": null,
   "id": "1dcac2a1",
   "metadata": {},
   "outputs": [],
   "source": [
    "print(ep_signal.set_diff(ep_tmp))"
   ]
  },
  {
   "cell_type": "markdown",
   "id": "331279bf",
   "metadata": {},
   "source": [
    "**Question:** ... and visualize it?"
   ]
  },
  {
   "cell_type": "code",
   "execution_count": null,
   "id": "4460deab",
   "metadata": {},
   "outputs": [],
   "source": [
    "workshop_utils.visualize_intervals([ep_signal, ep_tmp, ep_signal.set_diff(ep_tmp)])"
   ]
  },
  {
   "cell_type": "markdown",
   "id": "ab48e8f7",
   "metadata": {},
   "source": [
    "## Numpy & pynapple\n",
    "\n",
    "\n",
    "\n",
    "Pynapple objects behaves very similarly like numpy array. They can be sliced with the following syntax :\n",
    "\n",
    "  `tsd[0:10] # First 10 elements`\n",
    "\n",
    "Arithmetical operations are available as well :\n",
    "\n",
    "  `tsd = tsd + 1`\n",
    "\n",
    "Finally numpy functions works directly. Let's imagine `tsd3` is a movie with frame size (4,5).\n",
    "\n",
    "**Question:** Can you compute the average frame along the time axis using `np.mean` and print the result?"
   ]
  },
  {
   "cell_type": "code",
   "execution_count": null,
   "id": "fbe39220",
   "metadata": {},
   "outputs": [],
   "source": [
    "print(np.mean(tsd3, 0))"
   ]
  },
  {
   "cell_type": "markdown",
   "id": "b183f8a9",
   "metadata": {},
   "source": [
    "**Question:**: can you compute the average of `tsd2` for each timestamps and print it?"
   ]
  },
  {
   "cell_type": "code",
   "execution_count": null,
   "id": "f5ceb6c7",
   "metadata": {},
   "outputs": [],
   "source": [
    "print(np.mean(tsd2, 1))"
   ]
  },
  {
   "cell_type": "markdown",
   "id": "411132c8",
   "metadata": {},
   "source": [
    "## Slicing pynapple objects \n",
    "\n",
    "\n",
    "\n",
    "**Question:** Can you extract the first and last epoch of `ep` in a new `IntervalSet`?"
   ]
  },
  {
   "cell_type": "code",
   "execution_count": null,
   "id": "af03bd82",
   "metadata": {},
   "outputs": [],
   "source": [
    "print(ep[[0,2]])"
   ]
  },
  {
   "cell_type": "markdown",
   "id": "256308fb",
   "metadata": {},
   "source": [
    "Sometimes you want to get a data point as close as possible in time to another timestamps.\n",
    "\n",
    "**Question:** Using the `get` method, can you get the data point from `tsd3` as close as possible to the time 50.1 seconds?"
   ]
  },
  {
   "cell_type": "code",
   "execution_count": null,
   "id": "874c393c",
   "metadata": {},
   "outputs": [],
   "source": [
    "print(tsd3.get(50.1))"
   ]
  },
  {
   "cell_type": "markdown",
   "id": "35b68633",
   "metadata": {},
   "source": [
    "## Metadata\n",
    "\n",
    "\n",
    "\n",
    "Metadata are ubiquitous in neuroscience. They can be added to 3 pynapple objects :\n",
    "\n",
    "- `TsGroup` : to label neurons in electrophysiology\n",
    "- `IntervalSet` : to label intervals\n",
    "- `TsdFrame` : to label neurons in calcium imaging\n",
    "\n",
    "\n",
    "**Question:** Can you run the following command `tsgroup['planet'] = ['mars', 'venus', 'saturn']`"
   ]
  },
  {
   "cell_type": "code",
   "execution_count": null,
   "id": "86551c0a",
   "metadata": {},
   "outputs": [],
   "source": [
    "tsgroup['planet'] = ['mars', 'venus', 'saturn']"
   ]
  },
  {
   "cell_type": "markdown",
   "id": "3ae57387",
   "metadata": {},
   "source": [
    "**Question:** ... and print it?"
   ]
  },
  {
   "cell_type": "code",
   "execution_count": null,
   "id": "86de0d53",
   "metadata": {},
   "outputs": [],
   "source": [
    "print(tsgroup)"
   ]
  },
  {
   "cell_type": "markdown",
   "id": "b72e4ca6",
   "metadata": {},
   "source": [
    "The object `ep` has 3 epochs labelled `['left', 'right', 'left']`. \n",
    "\n",
    "**Question:** Can you add them as a metadata column called `direction`?"
   ]
  },
  {
   "cell_type": "code",
   "execution_count": null,
   "id": "bab402f1",
   "metadata": {},
   "outputs": [],
   "source": [
    "ep['direction'] = ['left', 'right', 'left']\n",
    "print(ep)"
   ]
  },
  {
   "cell_type": "markdown",
   "id": "548422fe",
   "metadata": {},
   "source": [
    "The object `tsd2` has 3 columns. Each column correspond to the rgb colors `[(0,0,1), (0.5, 0.5, 1), (0.1, 0.2, 0.3)]`. \n",
    "\n",
    "**Question:** Can you add them as metadata of `tsd2`?"
   ]
  },
  {
   "cell_type": "code",
   "execution_count": null,
   "id": "12105b23",
   "metadata": {},
   "outputs": [],
   "source": [
    "tsd2['colors'] = [(0,0,1), (0.5, 0.5, 1), (0.1, 0.2, 0.3)]\n",
    "print(tsd2)"
   ]
  },
  {
   "cell_type": "markdown",
   "id": "7e4afb44",
   "metadata": {},
   "source": [
    "You can also add metadata at initialization as a dictionnary using the keyword argument `metadata` :"
   ]
  },
  {
   "cell_type": "code",
   "execution_count": null,
   "id": "addfe7f6",
   "metadata": {
    "tags": [
     "render-all"
    ]
   },
   "outputs": [],
   "source": [
    "tsgroup = nap.TsGroup({0:ts1, 1:ts2, 2:ts3}, metadata={'planet':['mars','venus', 'saturn']})\n",
    "\n",
    "print(tsgroup)"
   ]
  },
  {
   "cell_type": "markdown",
   "id": "12cbb83b",
   "metadata": {},
   "source": [
    "Metadata are accessible either as attributes (i.e. `tsgroup.planet`) or as dictionnary-like keys (i.e. `ep['direction']`).\n",
    "\n",
    "They can be used to slice objects. \n",
    "\n",
    "**Question:** Can you select only the elements of `tsgroup` with rate below 1Hz?"
   ]
  },
  {
   "cell_type": "code",
   "execution_count": null,
   "id": "51fed7a4",
   "metadata": {},
   "outputs": [],
   "source": [
    "print(tsgroup[tsgroup.rate<1.0])\n",
    "\n",
    "print(tsgroup[tsgroup['rate']<1.0])\n",
    "\n",
    "print(tsgroup.getby_threshold(\"rate\", 1, \"<\"))"
   ]
  },
  {
   "cell_type": "markdown",
   "id": "b39f7e6e",
   "metadata": {},
   "source": [
    "**Question:** Can you select the intervals in `ep` labelled as `'left'`?"
   ]
  },
  {
   "cell_type": "code",
   "execution_count": null,
   "id": "34f6839d",
   "metadata": {},
   "outputs": [],
   "source": [
    "print(ep[ep.direction=='left'])"
   ]
  },
  {
   "cell_type": "markdown",
   "id": "552614e7",
   "metadata": {},
   "source": [
    "### Special case of slicing : `TsdFrame`"
   ]
  },
  {
   "cell_type": "code",
   "execution_count": null,
   "id": "12d6e5b2",
   "metadata": {
    "tags": [
     "render-all"
    ]
   },
   "outputs": [],
   "source": [
    "tsdframe = nap.TsdFrame(t=np.arange(4), d=np.random.randn(4,3),\n",
    "  columns = [12, 0, 1], metadata={'alpha':[2,1,0]})\n",
    "\n",
    "print(tsdframe)"
   ]
  },
  {
   "cell_type": "markdown",
   "id": "cb00bd8a",
   "metadata": {},
   "source": [
    "**Question:** What happen when you do `tsdframe[0]` vs `tsdframe[:,0]` vs `tsdframe[[12,1]]`"
   ]
  },
  {
   "cell_type": "code",
   "execution_count": null,
   "id": "5ead5cba",
   "metadata": {},
   "outputs": [],
   "source": [
    "print(tsdframe[0])"
   ]
  },
  {
   "cell_type": "markdown",
   "id": "d79935fc",
   "metadata": {},
   "source": [
    "**Question:** What happen when you do `tsdframe.loc[0]` and `tsdframe.loc[[0,1]]`"
   ]
  },
  {
   "cell_type": "code",
   "execution_count": null,
   "id": "61eb894e",
   "metadata": {},
   "outputs": [],
   "source": [
    "print(tsdframe.loc[0])\n",
    "print(tsdframe.loc[[0,1]])"
   ]
  },
  {
   "cell_type": "markdown",
   "id": "40147584",
   "metadata": {},
   "source": [
    "**Question:** What happen when you do `tsdframe[:,tsdframe.alpha==2]`"
   ]
  },
  {
   "cell_type": "code",
   "execution_count": null,
   "id": "927bb222",
   "metadata": {},
   "outputs": [],
   "source": [
    "print(tsdframe[:,tsdframe.alpha==2])"
   ]
  },
  {
   "cell_type": "markdown",
   "id": "b8c0cbe6",
   "metadata": {},
   "source": [
    "## Core functions of pynapple \n",
    "\n",
    "\n",
    "\n",
    "This part focuses on the most important core functions of pynapple.\n",
    "\n",
    "**Question:** Using the `count` function, can you count the number of events within 1 second bins for `tsgroup` over the `ep_signal` intervals?"
   ]
  },
  {
   "cell_type": "code",
   "execution_count": null,
   "id": "f4818abe",
   "metadata": {},
   "outputs": [],
   "source": [
    "count = tsgroup.count(1, ep_signal)\n",
    "print(count)"
   ]
  },
  {
   "cell_type": "code",
   "execution_count": null,
   "id": "f4e0bf3d",
   "metadata": {},
   "outputs": [],
   "source": [
    "plt.figure()\n",
    "ax = plt.subplot(211)\n",
    "plt.plot(count, 'o-')\n",
    "plt.subplot(212, sharex=ax)\n",
    "plt.plot(tsgroup.restrict(ep_signal).to_tsd(), '|')"
   ]
  },
  {
   "cell_type": "markdown",
   "id": "9c58ec97",
   "metadata": {},
   "source": [
    "From a set of timestamps, you want to assign them a set of values with the closest point in time of another time series.\n",
    "\n",
    "**Question:** Using the function `value_from`, can you assign values to `ts2` from the `tsd1` time series and call the output `new_tsd`?"
   ]
  },
  {
   "cell_type": "code",
   "execution_count": null,
   "id": "2187518c",
   "metadata": {},
   "outputs": [],
   "source": [
    "new_tsd = ts2.value_from(tsd1)"
   ]
  },
  {
   "cell_type": "markdown",
   "id": "52f26720",
   "metadata": {},
   "source": [
    "**Question:** Can you plot together `tsd1`, `ts2` and `new_tsd`?"
   ]
  },
  {
   "cell_type": "code",
   "execution_count": null,
   "id": "bd22015d",
   "metadata": {},
   "outputs": [],
   "source": [
    "plt.figure()\n",
    "plt.plot(tsd1)\n",
    "plt.plot(new_tsd, 'o-')\n",
    "plt.plot(ts2.fillna(0), 'o')"
   ]
  },
  {
   "cell_type": "markdown",
   "id": "30be9b09",
   "metadata": {},
   "source": [
    "One important aspect of data analysis is to bring data to the same size. Pynapple provides the `bin_average` function to downsample data.\n",
    "\n",
    "**Question:** Can you downsample `tsd2` to one time point every 5 seconds?"
   ]
  },
  {
   "cell_type": "code",
   "execution_count": null,
   "id": "1d6afb3d",
   "metadata": {},
   "outputs": [],
   "source": [
    "new_tsd2 = tsd2.bin_average(5.0)"
   ]
  },
  {
   "cell_type": "markdown",
   "id": "cf85fc29",
   "metadata": {},
   "source": [
    "**Question:** Can you plot the `tomato` column from `tsd2` as well as the downsampled version?"
   ]
  },
  {
   "cell_type": "code",
   "execution_count": null,
   "id": "c1c1911d",
   "metadata": {},
   "outputs": [],
   "source": [
    "plt.figure()\n",
    "plt.plot(tsd2['tomato'])\n",
    "plt.plot(new_tsd2['tomato'], 'o-')"
   ]
  },
  {
   "cell_type": "markdown",
   "id": "92cfd0bd",
   "metadata": {},
   "source": [
    "For `tsd1`, you want to find all the epochs for which the value is above 0.0. Pynapple provides the function `threshold` to get 1 dimensional time series above or below a certain value.\n",
    "\n",
    "**Question**: Can you print the epochs for which `tsd1` is above 0.0?"
   ]
  },
  {
   "cell_type": "code",
   "execution_count": null,
   "id": "09f81bd2",
   "metadata": {},
   "outputs": [],
   "source": [
    "ep_above = tsd1.threshold(0.0).time_support\n",
    "\n",
    "print(ep_above)"
   ]
  },
  {
   "cell_type": "markdown",
   "id": "01f9621c",
   "metadata": {},
   "source": [
    "**Question**: can you plot `tsd1` as well as the epochs for which `tsd1` is above 0.0?"
   ]
  },
  {
   "cell_type": "code",
   "execution_count": null,
   "id": "feb9cb4e",
   "metadata": {},
   "outputs": [],
   "source": [
    "plt.figure()\n",
    "plt.plot(tsd1)\n",
    "plt.plot(tsd1.threshold(0.0), 'o-')\n",
    "[plt.axvspan(s, e, alpha=0.2) for s,e in ep_above.values]"
   ]
  },
  {
   "cell_type": "markdown",
   "id": "2272179f",
   "metadata": {},
   "source": [
    "## First high level function : `compute_tuning_curves`\n",
    "\n",
    "\n",
    "\n",
    "Pynapple provides functions for standard analysis in systems neuroscience. The first function we will try is `compute_tuning_curves` that calculate the response of a cell to a particular feature. \n",
    "\n",
    "A good practice when using a function for the first time is to check the docstrings to learn how to pass the argument.\n",
    "\n",
    "**Question**: can you examine the docstring of `nap.compute_tuning_curves`?"
   ]
  },
  {
   "cell_type": "code",
   "execution_count": null,
   "id": "1fbd0125",
   "metadata": {},
   "outputs": [],
   "source": [
    "print(nap.compute_tuning_curves.__doc__)"
   ]
  },
  {
   "cell_type": "markdown",
   "id": "46b570bd",
   "metadata": {},
   "source": [
    "**Question**: Can you compute the response (i.e. firing rate) of the units in `tsgroup` as function of the feature `tsd1` using the function `nap.compute_tuning_curves`?"
   ]
  },
  {
   "cell_type": "code",
   "execution_count": null,
   "id": "a3918791",
   "metadata": {},
   "outputs": [],
   "source": [
    "tc = nap.compute_tuning_curves(tsgroup, tsd1, bins=5, feature_names=[\"feat1\"])\n",
    "tc"
   ]
  },
  {
   "cell_type": "markdown",
   "id": "096692cb",
   "metadata": {},
   "source": [
    "The output is an [xarray](https://docs.xarray.dev/en/stable/) object. It is a wrapper of numpy array with extra attributes. It allows to give coordinates to each dimensions as well as attaching attributes. We can make the output look better by labelling the feature we used.\n",
    "\n",
    "The coordinates can be accessed with the `coords` attribute. The feature position (i.e. center of the bin) can be accessed with the attribute.\n",
    "\n",
    "**Question**: Can you print the underlying the units number, bin center and bin edges of the tuning curve xarray object?"
   ]
  },
  {
   "cell_type": "code",
   "execution_count": null,
   "id": "fe604310",
   "metadata": {},
   "outputs": [],
   "source": [
    "print(tc.unit.values)\n",
    "print(tc.feat1.values)\n",
    "print(tc.occupancy)\n",
    "print(tc.bin_edges)\n",
    "print(tc.fs)"
   ]
  },
  {
   "cell_type": "markdown",
   "id": "4421f678",
   "metadata": {},
   "source": [
    "**Question**: Can you plot the tuning curves for all units?"
   ]
  },
  {
   "cell_type": "code",
   "execution_count": null,
   "id": "7a703d9c",
   "metadata": {},
   "outputs": [],
   "source": [
    "# tc.plot()\n",
    "# tc.plot(row=\"unit\")\n",
    "# tc.plot(col=\"unit\")\n",
    "# tc[1].plot()\n",
    "# plt.plot(tc[1].feat1, tc[1].values)\n",
    "plt.plot(tc.feat1, tc.values.T)\n"
   ]
  },
  {
   "cell_type": "markdown",
   "id": "a912d244",
   "metadata": {},
   "source": [
    "## Important\n",
    "\n",
    "\n",
    "\n",
    "**Question:** Does this work?\n",
    "If not, please ask a TA."
   ]
  },
  {
   "cell_type": "code",
   "execution_count": null,
   "id": "c9f38789",
   "metadata": {
    "tags": [
     "render-all"
    ]
   },
   "outputs": [],
   "source": [
    "import workshop_utils\n",
    "path = workshop_utils.fetch_data(\"Mouse32-140822.nwb\")\n",
    "print(path)"
   ]
  }
 ],
 "metadata": {
  "jupytext": {
   "text_representation": {
    "extension": ".md",
    "format_name": "myst",
    "format_version": 0.13,
    "jupytext_version": "1.18.1"
   }
  },
  "kernelspec": {
   "display_name": "Python 3 (ipykernel)",
   "language": "python",
   "name": "python3"
  },
  "source_map": [
   14,
   18,
   54,
   63,
   82,
   92,
   96,
   104,
   106,
   114,
   116,
   124,
   126,
   134,
   137,
   147,
   151,
   161,
   163,
   171,
   173,
   183,
   185,
   193,
   195,
   203,
   206,
   216,
   220,
   227,
   232,
   237,
   244,
   246,
   252,
   256,
   263,
   265,
   272,
   274,
   281,
   283,
   290,
   292,
   312,
   314,
   321,
   323,
   332,
   334,
   344,
   346,
   362,
   364,
   371,
   373,
   383,
   386,
   395,
   398,
   405,
   411,
   422,
   428,
   435,
   437,
   441,
   448,
   455,
   457,
   464,
   467,
   475,
   477,
   488,
   493,
   499,
   509,
   511,
   519,
   524,
   534,
   536,
   544,
   548,
   557,
   561,
   568,
   573,
   587,
   589,
   597,
   600,
   612,
   618,
   626,
   634,
   645
  ]
 },
 "nbformat": 4,
 "nbformat_minor": 5
}