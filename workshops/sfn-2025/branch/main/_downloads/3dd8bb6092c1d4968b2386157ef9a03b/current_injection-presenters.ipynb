{
 "cells": [
  {
   "cell_type": "code",
   "execution_count": null,
   "id": "da4dd606",
   "metadata": {
    "tags": [
     "hide-input",
     "render-all"
    ]
   },
   "outputs": [],
   "source": [
    "%matplotlib inline\n",
    "%load_ext autoreload\n",
    "%autoreload 2\n",
    "import warnings\n",
    "\n",
    "warnings.filterwarnings(\n",
    "    \"ignore\",\n",
    "    message=\"plotting functions contained within `_documentation_utils` are intended for nemos's documentation.\",\n",
    "    category=UserWarning,\n",
    ")\n",
    "\n",
    "warnings.filterwarnings(\n",
    "    \"ignore\",\n",
    "    message=\"Ignoring cached namespace 'core'\",\n",
    "    category=UserWarning,\n",
    ")\n",
    "\n",
    "warnings.filterwarnings(\n",
    "    \"ignore\",\n",
    "    message=(\n",
    "        \"invalid value encountered in div \"\n",
    "    ),\n",
    "    category=RuntimeWarning,\n",
    ")"
   ]
  },
  {
   "cell_type": "markdown",
   "id": "b8631217",
   "metadata": {},
   "source": [
    ":::{admonition} Download\n",
    ":class: important render-all\n",
    "\n",
    "This notebook can be downloaded as **{nb-download}`current_injection-presenters.ipynb`**. See the button at the top right to download as markdown or pdf.\n",
    ":::\n",
    "\n",
    "# Introduction to GLM\n",
    "This notebook has had all its explanatory text removed and has not been run.\n",
    " It is intended to be downloaded and run locally (or on the provided binder)\n",
    " while listening to the presenter's explanation. In order to see the fully\n",
    " rendered of this notebook, go [here](../../full/day2/current_injection.md)\n",
    "\n",
    "\n",
    "Data for this notebook is a patch clamp experiment with a mouse V1 neuron, from the [Allen Brain Atlas](https://celltypes.brain-map.org/experiment/electrophysiology/478498617)\n",
    "\n",
    "\n",
    "\n",
    "\n",
    "![Allen Brain Atlas view of the data we will analyze.](../../_static/allen_data.png)\n",
    "\n",
    "\n",
    "\n",
    "\n",
    "\n",
    "## Learning objectives \n",
    "\n",
    "- Learn how to explore spiking data and do basic analyses using pynapple\n",
    "- Learn how to structure data for NeMoS\n",
    "- Learn how to fit a basic Generalized Linear Model using NeMoS\n",
    "- Learn how to retrieve the parameters and predictions from a fit GLM for\n",
    "  intrepetation."
   ]
  },
  {
   "cell_type": "code",
   "execution_count": null,
   "id": "90b1fc3a",
   "metadata": {
    "tags": [
     "render-all"
    ]
   },
   "outputs": [],
   "source": [
    "# Import everything\n",
    "import jax\n",
    "import matplotlib.pyplot as plt\n",
    "import numpy as np\n",
    "import pynapple as nap\n",
    "\n",
    "import nemos as nmo\n",
    "\n",
    "# some helper plotting functions\n",
    "from nemos import _documentation_utils as doc_plots\n",
    "import workshop_utils\n",
    "\n",
    "# configure plots some\n",
    "plt.style.use(nmo.styles.plot_style)"
   ]
  },
  {
   "cell_type": "markdown",
   "id": "c4b7d97b",
   "metadata": {},
   "source": [
    "## Data Streaming\n",
    "\n",
    "\n",
    "- Stream the data. Format is [Neurodata Without Borders (NWB) standard](https://nwb-overview.readthedocs.io/en/latest/)"
   ]
  },
  {
   "cell_type": "code",
   "execution_count": null,
   "id": "1b28b11c",
   "metadata": {
    "tags": [
     "render-all"
    ]
   },
   "outputs": [],
   "source": [
    "path = workshop_utils.fetch_data(\"allen_478498617.nwb\")"
   ]
  },
  {
   "cell_type": "markdown",
   "id": "b1d2c3c8",
   "metadata": {},
   "source": [
    "## Pynapple\n",
    "\n",
    "### Data structures and preparation\n",
    "\n",
    "\n",
    "- Open the NWB file with [pynapple](https://pynapple.org)"
   ]
  },
  {
   "cell_type": "code",
   "execution_count": null,
   "id": "802facf6",
   "metadata": {
    "tags": [
     "render-all"
    ]
   },
   "outputs": [],
   "source": [
    "data = nap.load_file(path)\n",
    "print(data)"
   ]
  },
  {
   "cell_type": "markdown",
   "id": "3c48fb57",
   "metadata": {},
   "source": [
    "![Annotated view of the data we will analyze.](../../_static/allen_data_annotated.gif)\n",
    "<!-- this gif created with the following imagemagick command: convert -layers OptimizePlus -delay 100 allen_data_annotated-units.svg allen_data_annotated-epochs.svg allen_data_annotated-stimulus.svg allen_data_annotated-response.svg -loop 0 allen_data_annotated.gif -->\n",
    "\n",
    "- `stimulus`: injected current, in Amperes, sampled at 20k Hz.\n",
    "- `response`: the neuron's intracellular voltage, sampled at 20k Hz. We will not use this info in this example.\n",
    "- `units`: dictionary of neurons, holding each neuron's spike timestamps.\n",
    "- `epochs`: start and end times of different intervals, defining the experimental structure, specifying when each stimulation protocol began and ended."
   ]
  },
  {
   "cell_type": "code",
   "execution_count": null,
   "id": "0c50ebb7",
   "metadata": {
    "tags": [
     "render-all"
    ]
   },
   "outputs": [],
   "source": [
    "trial_interval_set = data[\"epochs\"]\n",
    "\n",
    "current = data[\"stimulus\"]\n",
    "spikes = data[\"units\"]"
   ]
  },
  {
   "cell_type": "code",
   "execution_count": null,
   "id": "77bb80cb",
   "metadata": {
    "tags": [
     "render-all"
    ]
   },
   "outputs": [],
   "source": [
    "trial_interval_set"
   ]
  },
  {
   "cell_type": "markdown",
   "id": "689c3f33",
   "metadata": {},
   "source": [
    "- `Noise 1`: epochs of random noise"
   ]
  },
  {
   "cell_type": "code",
   "execution_count": null,
   "id": "a82f98f6",
   "metadata": {
    "tags": [
     "render-all"
    ]
   },
   "outputs": [],
   "source": [
    "noise_interval = trial_interval_set[trial_interval_set.tags == \"Noise 1\"]\n",
    "noise_interval"
   ]
  },
  {
   "cell_type": "markdown",
   "id": "fc72d9eb",
   "metadata": {},
   "source": [
    "- Let's focus on the first epoch."
   ]
  },
  {
   "cell_type": "code",
   "execution_count": null,
   "id": "9a581fb0",
   "metadata": {
    "tags": [
     "render-all"
    ]
   },
   "outputs": [],
   "source": [
    "noise_interval = noise_interval[0]\n",
    "noise_interval"
   ]
  },
  {
   "cell_type": "markdown",
   "id": "2cc61dc5",
   "metadata": {},
   "source": [
    "- `current` : Tsd (TimeSeriesData) : time index + data"
   ]
  },
  {
   "cell_type": "code",
   "execution_count": null,
   "id": "8e7e7bfb",
   "metadata": {
    "tags": [
     "render-all"
    ]
   },
   "outputs": [],
   "source": [
    "current"
   ]
  },
  {
   "cell_type": "markdown",
   "id": "bf3bc0f0",
   "metadata": {},
   "source": [
    "- `restrict` : restricts a time series object to a set of time intervals delimited by an IntervalSet object"
   ]
  },
  {
   "cell_type": "code",
   "execution_count": null,
   "id": "b98ed69f",
   "metadata": {
    "tags": [
     "render-all"
    ]
   },
   "outputs": [],
   "source": [
    "current = current.restrict(noise_interval)\n",
    "# convert current from Ampere to pico-amperes, to match the above visualization\n",
    "# and move the values to a more reasonable range.\n",
    "current = current * 1e12\n",
    "current"
   ]
  },
  {
   "cell_type": "markdown",
   "id": "cfbb8cf5",
   "metadata": {},
   "source": [
    "- `TsGroup` : a dictionary-like object holding multiple `Ts` (timeseries) objects with potentially different time indices."
   ]
  },
  {
   "cell_type": "code",
   "execution_count": null,
   "id": "95824781",
   "metadata": {
    "tags": [
     "render-all"
    ]
   },
   "outputs": [],
   "source": [
    "spikes"
   ]
  },
  {
   "cell_type": "markdown",
   "id": "e3aee92a",
   "metadata": {},
   "source": [
    "We can index into the `TsGroup` to see the timestamps for this neuron's spikes:"
   ]
  },
  {
   "cell_type": "code",
   "execution_count": null,
   "id": "1530ce37",
   "metadata": {
    "tags": [
     "render-all"
    ]
   },
   "outputs": [],
   "source": [
    "spikes[0]"
   ]
  },
  {
   "cell_type": "markdown",
   "id": "a7585a50",
   "metadata": {},
   "source": [
    "Let's restrict to the same epoch `noise_interval`:"
   ]
  },
  {
   "cell_type": "code",
   "execution_count": null,
   "id": "6f461e07",
   "metadata": {
    "tags": [
     "render-all"
    ]
   },
   "outputs": [],
   "source": [
    "spikes = spikes.restrict(noise_interval)\n",
    "print(spikes)\n",
    "spikes[0]"
   ]
  },
  {
   "cell_type": "markdown",
   "id": "5ac1c90d",
   "metadata": {},
   "source": [
    "Let's visualize the data from this trial:"
   ]
  },
  {
   "cell_type": "code",
   "execution_count": null,
   "id": "47b493d9",
   "metadata": {
    "tags": [
     "render-all"
    ]
   },
   "outputs": [],
   "source": [
    "fig, ax = plt.subplots(1, 1, figsize=(8, 2))\n",
    "ax.plot(current, \"grey\")\n",
    "ax.plot(spikes.to_tsd([-5]), \"|\", color=\"k\", ms = 10)\n",
    "ax.set_ylabel(\"Current (pA)\")\n",
    "ax.set_xlabel(\"Time (s)\")"
   ]
  },
  {
   "cell_type": "markdown",
   "id": "9af8e2ae",
   "metadata": {},
   "source": [
    "### Basic analyses\n",
    "\n",
    "\n",
    "The Generalized Linear Model gives a predicted firing rate. First we can use pynapple to visualize this firing rate for a single trial.\n",
    "\n",
    "- `count` : count the number of events within `bin_size`"
   ]
  },
  {
   "cell_type": "code",
   "execution_count": null,
   "id": "2cfc652f",
   "metadata": {
    "tags": [
     "render-all"
    ]
   },
   "outputs": [],
   "source": [
    "# bin size in seconds\n",
    "bin_size = 0.001\n",
    "# Get spikes for neuron 0\n",
    "count = spikes[0].count(bin_size)\n",
    "count"
   ]
  },
  {
   "cell_type": "markdown",
   "id": "814671bf",
   "metadata": {},
   "source": [
    "Let's convert the spike counts to firing rate :\n",
    "\n",
    "- `smooth` : convolve with a Gaussian kernel"
   ]
  },
  {
   "cell_type": "code",
   "execution_count": null,
   "id": "ff7fc329",
   "metadata": {
    "tags": [
     "render-all"
    ]
   },
   "outputs": [],
   "source": [
    "# the inputs to this function are the standard deviation of the gaussian in seconds and\n",
    "# the full width of the window, in standard deviations. So std=.05 and size_factor=20\n",
    "# gives a total filter size of 0.05 sec * 20 = 1 sec.\n",
    "firing_rate = count.smooth(std=0.05, size_factor=20)\n",
    "# convert from spikes per bin to spikes per second (Hz)\n",
    "firing_rate = firing_rate / bin_size"
   ]
  },
  {
   "cell_type": "code",
   "execution_count": null,
   "id": "86216f46",
   "metadata": {
    "tags": [
     "render-all"
    ]
   },
   "outputs": [],
   "source": [
    "print(type(firing_rate))"
   ]
  },
  {
   "cell_type": "code",
   "execution_count": null,
   "id": "433d1db4",
   "metadata": {
    "tags": [
     "render-all"
    ]
   },
   "outputs": [],
   "source": [
    "doc_plots.current_injection_plot(current, spikes, firing_rate);"
   ]
  },
  {
   "cell_type": "markdown",
   "id": "922c8f6f",
   "metadata": {},
   "source": [
    "What is the relationship between the current and the spiking activity?\n",
    "[`compute_tuning_curves`](https://pynapple.org/generated/pynapple.process.tuning_curves.html#pynapple.process.tuning_curves.compute_tuning_curves) : compute the firing rate as a function of some feature(s)."
   ]
  },
  {
   "cell_type": "code",
   "execution_count": null,
   "id": "292cc805",
   "metadata": {
    "tags": [
     "render-all"
    ]
   },
   "outputs": [],
   "source": [
    "tuning_curve = nap.compute_tuning_curves(spikes, current, bins=15, feature_names=[\"current\"])\n",
    "tuning_curve"
   ]
  },
  {
   "cell_type": "markdown",
   "id": "02e843e2",
   "metadata": {},
   "source": [
    "Let's plot the tuning curve of the neuron."
   ]
  },
  {
   "cell_type": "code",
   "execution_count": null,
   "id": "638af324",
   "metadata": {
    "tags": [
     "render-all"
    ]
   },
   "outputs": [],
   "source": [
    "doc_plots.tuning_curve_plot(tuning_curve);"
   ]
  },
  {
   "cell_type": "markdown",
   "id": "4af44063",
   "metadata": {},
   "source": [
    "## NeMoS \n",
    "\n",
    "### Preparing data\n",
    "\n",
    "\n",
    "Get data from pynapple to NeMoS-ready format:\n",
    "\n",
    "- predictors and spikes must have same number of time points"
   ]
  },
  {
   "cell_type": "code",
   "execution_count": null,
   "id": "a9b16d7d",
   "metadata": {},
   "outputs": [],
   "source": [
    "binned_current = current.bin_average(bin_size)\n",
    "\n",
    "print(f\"current shape: {binned_current.shape}\")\n",
    "# rate is in Hz, convert to KHz\n",
    "print(f\"current sampling rate: {binned_current.rate/1000.:.02f} KHz\")\n",
    "\n",
    "print(f\"\\ncount shape: {count.shape}\")\n",
    "print(f\"count sampling rate: {count.rate/1000:.02f} KHz\")"
   ]
  },
  {
   "cell_type": "markdown",
   "id": "3d2d74c2",
   "metadata": {},
   "source": [
    "- predictors must be 2d, spikes 1d"
   ]
  },
  {
   "cell_type": "code",
   "execution_count": null,
   "id": "be8b7c51",
   "metadata": {},
   "outputs": [],
   "source": [
    "predictor = np.expand_dims(binned_current, 1)\n",
    "\n",
    "# check that the dimensionality matches NeMoS expectation\n",
    "print(f\"predictor shape: {predictor.shape}\")\n",
    "print(f\"count shape: {count.shape}\")"
   ]
  },
  {
   "cell_type": "markdown",
   "id": "9676a02c",
   "metadata": {},
   "source": [
    "### Fitting the model\n",
    "\n",
    "\n",
    "- GLM objects need regularizers and observation models"
   ]
  },
  {
   "cell_type": "code",
   "execution_count": null,
   "id": "efcd5217",
   "metadata": {},
   "outputs": [],
   "source": [
    "# Initialize the model, specifying the solver. we'll accept the defaults\n",
    "# for everything else.\n",
    "model = nmo.glm.GLM(solver_name=\"LBFGS\")"
   ]
  },
  {
   "cell_type": "markdown",
   "id": "01834488",
   "metadata": {},
   "source": [
    "- call fit and retrieve parameters"
   ]
  },
  {
   "cell_type": "code",
   "execution_count": null,
   "id": "0d8a6dfa",
   "metadata": {},
   "outputs": [],
   "source": [
    "model.fit(predictor, count)"
   ]
  },
  {
   "cell_type": "code",
   "execution_count": null,
   "id": "94d568b6",
   "metadata": {},
   "outputs": [],
   "source": [
    "print(f\"firing_rate(t) = exp({model.coef_} * current(t) + {model.intercept_})\")"
   ]
  },
  {
   "cell_type": "code",
   "execution_count": null,
   "id": "dc8477ff",
   "metadata": {},
   "outputs": [],
   "source": [
    "print(f\"coef_ shape: {model.coef_.shape}\")\n",
    "print(f\"intercept_ shape: {model.intercept_.shape}\")"
   ]
  },
  {
   "cell_type": "markdown",
   "id": "871ef38f",
   "metadata": {},
   "source": [
    "- generate and examine model predictions."
   ]
  },
  {
   "cell_type": "code",
   "execution_count": null,
   "id": "6a7bd3e8",
   "metadata": {},
   "outputs": [],
   "source": [
    "predicted_fr = model.predict(predictor)\n",
    "# convert units from spikes/bin to spikes/sec\n",
    "predicted_fr = predicted_fr / bin_size\n",
    "\n",
    "\n",
    "# and let's smooth the firing rate the same way that we smoothed the firing rate\n",
    "smooth_predicted_fr = predicted_fr.smooth(0.05, size_factor=20)\n",
    "\n",
    "# and plot!\n",
    "fig = doc_plots.current_injection_plot(current, spikes, firing_rate,\n",
    "                                 # plot the predicted firing rate that has\n",
    "                                 # been smoothed the same way as the\n",
    "                                 # smoothed spike train\n",
    "                                 predicted_firing_rates=smooth_predicted_fr)"
   ]
  },
  {
   "cell_type": "markdown",
   "id": "0a8c9cdd",
   "metadata": {},
   "source": [
    "- what do we see?"
   ]
  },
  {
   "cell_type": "code",
   "execution_count": null,
   "id": "a3ad22ca",
   "metadata": {},
   "outputs": [],
   "source": [
    "# compare observed mean firing rate with the model predicted one\n",
    "print(f\"Observed mean firing rate: {np.mean(count) / bin_size} Hz\")\n",
    "print(f\"Predicted mean firing rate: {np.mean(predicted_fr)} Hz\")"
   ]
  },
  {
   "cell_type": "markdown",
   "id": "cd4b8769",
   "metadata": {},
   "source": [
    "- examine tuning curve &mdash; what do we see?"
   ]
  },
  {
   "cell_type": "code",
   "execution_count": null,
   "id": "c69cb37a",
   "metadata": {},
   "outputs": [],
   "source": [
    "# pynapple expects the input to this function to be 2d,\n",
    "# so let's add a singleton dimension\n",
    "tuning_curve_model = nap.compute_tuning_curves(predicted_fr[:, np.newaxis], current, bins=15, feature_names=[\"current\"])\n",
    "fig = doc_plots.tuning_curve_plot(tuning_curve)\n",
    "tuning_curve_model.plot(color=\"tomato\", label=\"glm\")\n",
    "fig.axes[0].legend()"
   ]
  },
  {
   "cell_type": "markdown",
   "id": "4345e74d",
   "metadata": {},
   "source": [
    "### Extending the model to use injection history\n",
    "\n",
    "\n",
    "  - choose a length of time over which the neuron integrates the input current"
   ]
  },
  {
   "cell_type": "code",
   "execution_count": null,
   "id": "748f5c5c",
   "metadata": {},
   "outputs": [],
   "source": [
    "current_history_duration_sec = .2\n",
    "# convert this from sec to bins\n",
    "current_history_duration = int(current_history_duration_sec / bin_size)"
   ]
  },
  {
   "cell_type": "code",
   "execution_count": null,
   "id": "10177ae0",
   "metadata": {},
   "outputs": [],
   "source": [
    "binned_current[1:]\n",
    "binned_current[2:]\n",
    "# etc"
   ]
  },
  {
   "cell_type": "code",
   "execution_count": null,
   "id": "6ad32bdb",
   "metadata": {
    "tags": [
     "render-all"
    ]
   },
   "outputs": [],
   "source": [
    "doc_plots.plot_basis();"
   ]
  },
  {
   "cell_type": "markdown",
   "id": "1c6cdc64",
   "metadata": {},
   "source": [
    "  - define a basis object"
   ]
  },
  {
   "cell_type": "code",
   "execution_count": null,
   "id": "4004ef6b",
   "metadata": {},
   "outputs": [],
   "source": [
    "basis = nmo.basis.RaisedCosineLogConv(\n",
    "    n_basis_funcs=8, window_size=current_history_duration,\n",
    ")"
   ]
  },
  {
   "cell_type": "markdown",
   "id": "82339362",
   "metadata": {},
   "source": [
    "  - create the design matrix\n",
    "  - examine the features it contains"
   ]
  },
  {
   "cell_type": "code",
   "execution_count": null,
   "id": "578e7077",
   "metadata": {},
   "outputs": [],
   "source": [
    "# under the hood, this convolves the input with the filter bank visualized above\n",
    "current_history = basis.compute_features(binned_current)\n",
    "print(current_history)"
   ]
  },
  {
   "cell_type": "code",
   "execution_count": null,
   "id": "713a7d6e",
   "metadata": {
    "tags": [
     "render-all"
    ]
   },
   "outputs": [],
   "source": [
    "# in this plot, we're normalizing the amplitudes to make the comparison easier --\n",
    "# the amplitude of these features will be fit by the model, so their un-scaled\n",
    "# amplitudes is not informative\n",
    "workshop_utils.plot_current_history_features(binned_current, current_history, basis,\n",
    "                                             current_history_duration_sec)"
   ]
  },
  {
   "cell_type": "markdown",
   "id": "99f2e89f",
   "metadata": {},
   "source": [
    "  - create and fit the GLM\n",
    "  - examine the parameters"
   ]
  },
  {
   "cell_type": "code",
   "execution_count": null,
   "id": "3bbbd4d9",
   "metadata": {},
   "outputs": [],
   "source": [
    "history_model = nmo.glm.GLM(solver_name=\"LBFGS\")\n",
    "history_model.fit(current_history, count)"
   ]
  },
  {
   "cell_type": "code",
   "execution_count": null,
   "id": "71f0b7a9",
   "metadata": {
    "tags": [
     "render-all"
    ]
   },
   "outputs": [],
   "source": [
    "print(f\"firing_rate(t) = exp({history_model.coef_} * current(t) + {history_model.intercept_})\")"
   ]
  },
  {
   "cell_type": "code",
   "execution_count": null,
   "id": "07ec2a45",
   "metadata": {},
   "outputs": [],
   "source": [
    "print(history_model.coef_.shape)\n",
    "print(history_model.intercept_.shape)"
   ]
  },
  {
   "cell_type": "markdown",
   "id": "ca2524b9",
   "metadata": {},
   "source": [
    "- Visualize the current history model's learned filter.\n",
    "- This filter is convolved with the input current and used to predict the firing\n",
    "  rate."
   ]
  },
  {
   "cell_type": "code",
   "execution_count": null,
   "id": "64a67f65",
   "metadata": {
    "tags": [
     "render-all"
    ]
   },
   "outputs": [],
   "source": [
    "workshop_utils.plot_basis_filter(basis, history_model)"
   ]
  },
  {
   "cell_type": "markdown",
   "id": "0f4f71b4",
   "metadata": {},
   "source": [
    "  - compare the predicted firing rate to the data and the old model\n",
    "  - what do we see?"
   ]
  },
  {
   "cell_type": "code",
   "execution_count": null,
   "id": "644b14f8",
   "metadata": {
    "tags": [
     "render-all"
    ]
   },
   "outputs": [],
   "source": [
    "# all this code is the same as above\n",
    "history_pred_fr = history_model.predict(current_history)\n",
    "history_pred_fr = history_pred_fr / bin_size\n",
    "smooth_history_pred_fr = history_pred_fr.dropna().smooth(.05, size_factor=20)\n",
    "workshop_utils.current_injection_plot(current, spikes, firing_rate,\n",
    "                                      # compare against the old firing rate\n",
    "                                      smooth_history_pred_fr, smooth_predicted_fr)"
   ]
  },
  {
   "cell_type": "markdown",
   "id": "182afd7d",
   "metadata": {},
   "source": [
    "  - examine the predicted average firing rate and tuning curve\n",
    "  - what do we see?"
   ]
  },
  {
   "cell_type": "code",
   "execution_count": null,
   "id": "7e806a48",
   "metadata": {},
   "outputs": [],
   "source": [
    "# compare observed mean firing rate with the history_model predicted one\n",
    "print(f\"Observed mean firing rate: {np.mean(count) / bin_size} Hz\")\n",
    "print(f\"Predicted mean firing rate (instantaneous current): {np.nanmean(predicted_fr)} Hz\")\n",
    "print(f\"Predicted mean firing rate (current history): {np.nanmean(smooth_history_pred_fr)} Hz\")"
   ]
  },
  {
   "cell_type": "code",
   "execution_count": null,
   "id": "0da041e9",
   "metadata": {
    "tags": [
     "render-all"
    ]
   },
   "outputs": [],
   "source": [
    "# Visualize tuning curve\n",
    "tuning_curve_history_model = nap.compute_tuning_curves(smooth_history_pred_fr, current, bins=15, feature_names=[\"current\"])\n",
    "fig = doc_plots.tuning_curve_plot(tuning_curve)\n",
    "tuning_curve_history_model.plot(color=\"tomato\", label=\"glm (current history)\")\n",
    "tuning_curve_model.plot(color=\"tomato\", linestyle='--', label=\"glm (instantaneous current)\")\n",
    "fig.axes[0].legend()"
   ]
  },
  {
   "cell_type": "markdown",
   "id": "359b6b0f",
   "metadata": {},
   "source": [
    "  - use log-likelihood to compare models"
   ]
  },
  {
   "cell_type": "code",
   "execution_count": null,
   "id": "61ead020",
   "metadata": {},
   "outputs": [],
   "source": [
    "log_likelihood = model.score(predictor, count, score_type=\"log-likelihood\")\n",
    "print(f\"log-likelihood (instantaneous current): {log_likelihood}\")\n",
    "log_likelihood = history_model.score(current_history, count, score_type=\"log-likelihood\")\n",
    "print(f\"log-likelihood (current history): {log_likelihood}\")"
   ]
  },
  {
   "cell_type": "markdown",
   "id": "ded56639",
   "metadata": {},
   "source": [
    "### Finishing up\n",
    "\n",
    "\n",
    "  - what if you want to compare models across datasets?"
   ]
  },
  {
   "cell_type": "code",
   "execution_count": null,
   "id": "7add4083",
   "metadata": {},
   "outputs": [],
   "source": [
    "r2 = model.score(predictor, count, score_type='pseudo-r2-Cohen')\n",
    "print(f\"pseudo-r2 (instantaneous current): {r2}\")\n",
    "r2 = history_model.score(current_history, count, score_type='pseudo-r2-Cohen')\n",
    "print(f\"pseudo-r2 (current history): {r2}\")"
   ]
  },
  {
   "cell_type": "markdown",
   "id": "0a952285",
   "metadata": {},
   "source": [
    "## Further Exercises \n",
    "\n",
    "\n",
    "- what else can we do?\n",
    "\n",
    "\n",
    "\n",
    "\n",
    "### Data citation\n",
    "\n",
    "The data used in this tutorial is from the **Allen Brain Map**, with the [following citation](https://knowledge.brain-map.org/data/1HEYEW7GMUKWIQW37BO/summary):\n",
    "\n",
    "**Contributors:** Agata Budzillo, Bosiljka Tasic, Brian R. Lee, Fahimeh Baftizadeh, Gabe Murphy, Hongkui Zeng, Jim Berg, Nathan Gouwens, Rachel Dalley, Staci A. Sorensen, Tim Jarsky, Uygar Sümbül Zizhen Yao\n",
    "\n",
    "**Dataset:** Allen Institute for Brain Science (2020). Allen Cell Types Database -- Mouse Patch-seq [dataset]. Available from brain-map.org/explore/classes/multimodal-characterization.\n",
    "\n",
    "**Primary publication:** Gouwens, N.W., Sorensen, S.A., et al. (2020). Integrated morphoelectric and transcriptomic classification of cortical GABAergic cells. Cell, 183(4), 935-953.E19. https://doi.org/10.1016/j.cell.2020.09.057\n",
    "\n",
    "**Patch-seq protocol:** Lee, B. R., Budzillo, A., et al. (2021). Scaled, high fidelity electrophysiological, morphological, and transcriptomic cell characterization. eLife, 2021;10:e65482. https://doi.org/10.7554/eLife.65482"
   ]
  }
 ],
 "metadata": {
  "jupytext": {
   "text_representation": {
    "extension": ".md",
    "format_name": "myst",
    "format_version": 0.13,
    "jupytext_version": "1.18.1"
   }
  },
  "kernelspec": {
   "display_name": "Python 3 (ipykernel)",
   "language": "python",
   "name": "python3"
  },
  "source_map": [
   14,
   41,
   76,
   93,
   101,
   105,
   115,
   120,
   133,
   142,
   146,
   152,
   157,
   163,
   168,
   174,
   178,
   184,
   192,
   198,
   202,
   208,
   212,
   218,
   224,
   230,
   238,
   248,
   256,
   264,
   275,
   281,
   285,
   292,
   297,
   303,
   307,
   319,
   328,
   334,
   340,
   348,
   352,
   358,
   362,
   366,
   369,
   375,
   390,
   396,
   400,
   406,
   413,
   421,
   427,
   433,
   437,
   443,
   447,
   454,
   460,
   468,
   475,
   480,
   486,
   489,
   499,
   503,
   511,
   521,
   528,
   535,
   544,
   550,
   555,
   563,
   568
  ]
 },
 "nbformat": 4,
 "nbformat_minor": 5
}