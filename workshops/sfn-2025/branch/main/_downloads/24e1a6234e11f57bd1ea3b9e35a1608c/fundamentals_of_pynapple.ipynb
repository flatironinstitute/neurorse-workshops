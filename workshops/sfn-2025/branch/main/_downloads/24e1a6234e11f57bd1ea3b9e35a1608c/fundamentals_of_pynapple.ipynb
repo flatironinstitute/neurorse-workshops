{
 "cells": [
  {
   "cell_type": "code",
   "execution_count": 1,
   "id": "d0ec9ab4",
   "metadata": {
    "tags": [
     "render-all"
    ]
   },
   "outputs": [],
   "source": [
    "%matplotlib inline"
   ]
  },
  {
   "cell_type": "markdown",
   "id": "06433c99",
   "metadata": {},
   "source": [
    ":::{admonition} Download\n",
    ":class: important render-all\n",
    "\n",
    "This notebook can be downloaded as **{nb-download}`fundamentals_of_pynapple.ipynb`**. See the button at the top right to download as markdown or pdf.\n",
    ":::\n",
    "\n",
    "\n",
    "<div class=\"render-all\">\n",
    "\n",
    "# Learning the fundamentals of pynapple\n",
    "\n",
    "## Learning objectives\n",
    "\n",
    "\n",
    "- Instantiate the pynapple objects\n",
    "- Make the pynapple objects interact\n",
    "- Use numpy with pynapple\n",
    "- Slicing pynapple objects\n",
    "- Adding metadata to pynapple objects\n",
    "- Learn the core functions of pynapple\n",
    "\n",
    "The pynapple documentation can be found [here](https://pynapple.org).\n",
    "\n",
    "The documentation for objects and method of the core of pynapple is [here](https://pynapple.org/api.html).\n",
    "\n",
    "\n",
    "Let's start by importing the pynapple package and matplotlib to see if everything is correctly installed.\n",
    "If an import fails, you can do `!pip install pynapple matplotlib` in a cell to fix it.\n",
    "\n",
    "</div>"
   ]
  },
  {
   "cell_type": "code",
   "execution_count": 2,
   "id": "164f3767",
   "metadata": {
    "tags": [
     "render-all"
    ]
   },
   "outputs": [
    {
     "name": "stderr",
     "output_type": "stream",
     "text": [
      "WARNING:2025-10-23 16:48:52,040:jax._src.xla_bridge:850: An NVIDIA GPU may be present on this machine, but a CUDA-enabled jaxlib is not installed. Falling back to cpu.\n"
     ]
    },
    {
     "name": "stderr",
     "output_type": "stream",
     "text": [
      "/home/agent/workspace/rorse_ccn-software-sfn-2025_main/lib/python3.12/site-packages/nemos/_documentation_utils/plotting.py:39: UserWarning: plotting functions contained within `_documentation_utils` are intended for nemos's documentation. Feel free to use them, but they will probably not work as intended with other datasets / in other contexts.\n",
      "  warnings.warn(\n"
     ]
    }
   ],
   "source": [
    "import pynapple as nap\n",
    "import matplotlib.pyplot as plt\n",
    "import numpy as np\n",
    "import workshop_utils"
   ]
  },
  {
   "cell_type": "markdown",
   "id": "8fabc802",
   "metadata": {},
   "source": [
    "For this notebook we will work with fake data. The following cells generate a set of variables that we will use to create the different pynapple objects."
   ]
  },
  {
   "cell_type": "code",
   "execution_count": 3,
   "id": "db40fb81",
   "metadata": {
    "tags": [
     "render-all"
    ]
   },
   "outputs": [],
   "source": [
    "var1 = np.random.randn(100) # Variable 1\n",
    "tsp1 = np.arange(100) # The timesteps of variable 1\n",
    "\n",
    "var2 = np.random.randn(100, 3) # Variable 2\n",
    "tsp2 = np.arange(0, 100, 1) # The timesteps of variable 2\n",
    "col2 = ['pineapple', 'banana', 'tomato'] # The name of each columns of var2\n",
    "\n",
    "var3 = np.random.randn(1000, 4, 5) # Variable 3\n",
    "tsp3 = np.arange(0, 100, 0.1) # The timesteps of variable 3\n",
    "\n",
    "random_times_1 = np.array([3.14, 37.0, 42.0])\n",
    "random_times_2 = np.array([10, 25, 50, 70])\n",
    "random_times_3 = np.sort(np.random.uniform(10, 80, 100))\n",
    "\n",
    "starts_1 = np.array([10000, 60000, 90000]) # starts of an epoch in `ms`\n",
    "ends_1 = np.array([20000, 80000, 95000]) # ends in `ms`"
   ]
  },
  {
   "cell_type": "markdown",
   "id": "e0288626",
   "metadata": {},
   "source": [
    "## Instantiate pynapple objects \n",
    "\n",
    "This is a lot of variables to carry around. pynapple can help reduce the size of the workspace. Here we will instantiate all the different pynapple objects with the variables created above.\n",
    "\n",
    "Let's start with the simple ones.\n",
    "\n",
    "<div class=\"render-all\">\n",
    "\n",
    "**Question:** Can you instantiate the right pynapple objects for `var1`, `var2` and `var3`? Objects should be named respectively `tsd1`, `tsd2` and `tsd3`. Don't forget the column name for `var2`.\n",
    "\n",
    "</div>"
   ]
  },
  {
   "cell_type": "code",
   "execution_count": 4,
   "id": "262cdd06",
   "metadata": {},
   "outputs": [],
   "source": [
    "tsd1 = nap.Tsd(t=tsp1, d=var1)\n",
    "tsd2 = nap.TsdFrame(t=tsp2, d=var2, columns = col2)\n",
    "tsd3 = nap.TsdTensor(t=tsp3, d=var3)"
   ]
  },
  {
   "cell_type": "markdown",
   "id": "84c14fec",
   "metadata": {},
   "source": [
    "<div class=\"render-all\">\n",
    "\n",
    "**Question:** Can you print `tsd1`?\n",
    "\n",
    "</div>"
   ]
  },
  {
   "cell_type": "code",
   "execution_count": 5,
   "id": "c648ce7a",
   "metadata": {},
   "outputs": [
    {
     "name": "stdout",
     "output_type": "stream",
     "text": [
      "Time (s)\n",
      "----------  ---------\n",
      "0.0         -0.970864\n",
      "1.0         -1.28296\n",
      "2.0         -1.15705\n",
      "3.0          1.75065\n",
      "4.0          1.024\n",
      "5.0         -0.657167\n",
      "6.0         -0.346258\n",
      "...\n",
      "93.0         0.982239\n",
      "94.0         1.97685\n",
      "95.0        -2.06948\n",
      "96.0         0.881675\n",
      "97.0         1.58952\n",
      "98.0         1.0692\n",
      "99.0        -0.541765\n",
      "dtype: float64, shape: (100,)\n"
     ]
    }
   ],
   "source": [
    "print(tsd1)"
   ]
  },
  {
   "cell_type": "markdown",
   "id": "2efaa3c3",
   "metadata": {},
   "source": [
    "<div class=\"render-all\">\n",
    "\n",
    "**Question:** Can you print `tsd2`?\n",
    "\n",
    "</div>"
   ]
  },
  {
   "cell_type": "code",
   "execution_count": 6,
   "id": "1fa7634d",
   "metadata": {},
   "outputs": [
    {
     "name": "stdout",
     "output_type": "stream",
     "text": [
      "Time (s)      pineapple      banana      tomato\n",
      "----------  -----------  ----------  ----------\n",
      "0.0          -0.0546567  -0.670668    1.19444\n",
      "1.0          -1.27606     0.880551    1.46951\n",
      "2.0          -1.51485     0.100562   -0.911316\n",
      "3.0          -0.367121   -0.480931    0.808813\n",
      "4.0          -1.35264     0.91139    -1.42035\n",
      "5.0          -0.837766   -1.03555     1.12686\n",
      "6.0          -0.200257    1.02303    -0.726268\n",
      "...\n",
      "93.0          1.94176     0.0770869   0.682347\n",
      "94.0          0.446101    1.11638     0.393515\n",
      "95.0         -0.619065    0.504345    0.944426\n",
      "96.0         -0.0434128   1.3217      0.0382972\n",
      "97.0         -0.801049   -1.49096    -0.585243\n",
      "98.0         -0.487962   -0.560534   -0.897839\n",
      "99.0          0.57651    -1.4269      1.56615\n",
      "dtype: float64, shape: (100, 3)\n"
     ]
    }
   ],
   "source": [
    "print(tsd2)"
   ]
  },
  {
   "cell_type": "markdown",
   "id": "9cc8c5f5",
   "metadata": {},
   "source": [
    "<div class=\"render-all\">\n",
    "\n",
    "**Question:** Can you print `tsd3`?\n",
    "\n",
    "</div>"
   ]
  },
  {
   "cell_type": "code",
   "execution_count": 7,
   "id": "c3659e2e",
   "metadata": {},
   "outputs": [
    {
     "name": "stdout",
     "output_type": "stream",
     "text": [
      "Time (s)\n",
      "----------  -------------------------------\n",
      "0.0         [[0.364538 ... 1.270283] ...]\n",
      "0.1         [[-0.521739 ...  0.422826] ...]\n",
      "0.2         [[ 0.356511 ... -0.005187] ...]\n",
      "0.3         [[ 1.083515 ... -1.28692 ] ...]\n",
      "0.4         [[-1.184734 ... -1.547737] ...]\n",
      "0.5         [[ 0.635732 ... -1.035988] ...]\n",
      "0.6         [[ 0.495043 ... -1.600711] ...]\n",
      "...\n",
      "99.3        [[-0.350334 ... -0.966421] ...]\n",
      "99.4        [[-0.780731 ...  0.435703] ...]\n",
      "99.5        [[-0.99433  ...  1.629664] ...]\n",
      "99.6        [[-1.115138 ... -0.323632] ...]\n",
      "99.7        [[-0.429142 ...  1.435563] ...]\n",
      "99.8        [[ 0.361844 ... -0.673391] ...]\n",
      "99.9        [[-1.47236  ... -0.213665] ...]\n",
      "dtype: float64, shape: (1000, 4, 5)\n"
     ]
    }
   ],
   "source": [
    "print(tsd3)"
   ]
  },
  {
   "cell_type": "markdown",
   "id": "a36a9d1e",
   "metadata": {},
   "source": [
    "<div class=\"render-all\">\n",
    "\n",
    "**Question:** Can you create an `IntervalSet` called `ep` out of `starts_1` and `ends_1` and print it? Be careful, times given above are in `ms`.\n",
    "\n",
    "</div>"
   ]
  },
  {
   "cell_type": "code",
   "execution_count": 8,
   "id": "c3da5922",
   "metadata": {},
   "outputs": [
    {
     "name": "stdout",
     "output_type": "stream",
     "text": [
      "  index    start    end\n",
      "      0       10     20\n",
      "      1       60     80\n",
      "      2       90     95\n",
      "shape: (3, 2), time unit: sec.\n"
     ]
    }
   ],
   "source": [
    "ep = nap.IntervalSet(start=starts_1, end=ends_1, time_units='ms')\n",
    "print(ep)"
   ]
  },
  {
   "cell_type": "markdown",
   "id": "fd656e69",
   "metadata": {},
   "source": [
    "<div class=\"render-all\">\n",
    "\n",
    "The experiment generated a set of timestamps from 3 different channels.\n",
    "\n",
    "**Question:** Can you instantiate the corresponding pynapple object (`ts1`, `ts2`, `ts3`) for each one of them?\n",
    "\n",
    "</div>"
   ]
  },
  {
   "cell_type": "code",
   "execution_count": 9,
   "id": "adbe4d09",
   "metadata": {},
   "outputs": [],
   "source": [
    "ts1 = nap.Ts(t=random_times_1)\n",
    "ts2 = nap.Ts(t=random_times_2)\n",
    "ts3 = nap.Ts(t=random_times_3)"
   ]
  },
  {
   "cell_type": "markdown",
   "id": "31ae57ea",
   "metadata": {},
   "source": [
    "<div class=\"render-all\">\n",
    "\n",
    "This is a lot of timestamps to carry around as well.\n",
    "\n",
    "**Question:** Can you instantiate the right pynapple object (call it `tsgroup`) to group them together?\n",
    "\n",
    "</div>"
   ]
  },
  {
   "cell_type": "code",
   "execution_count": 10,
   "id": "a31c3e66",
   "metadata": {},
   "outputs": [],
   "source": [
    "tsgroup = nap.TsGroup({0:ts1, 1:ts2, 2:ts3})"
   ]
  },
  {
   "cell_type": "markdown",
   "id": "36921a2e",
   "metadata": {},
   "source": [
    "<div class=\"render-all\">\n",
    "\n",
    "**Question:** ... and print it?\n",
    "\n",
    "</div>"
   ]
  },
  {
   "cell_type": "code",
   "execution_count": 11,
   "id": "3bfc867b",
   "metadata": {},
   "outputs": [
    {
     "name": "stdout",
     "output_type": "stream",
     "text": [
      "  Index     rate\n",
      "-------  -------\n",
      "      0  0.04002\n",
      "      1  0.05335\n",
      "      2  1.33385\n"
     ]
    }
   ],
   "source": [
    "print(tsgroup)"
   ]
  },
  {
   "cell_type": "markdown",
   "id": "7b4913ba",
   "metadata": {},
   "source": [
    "## Interaction between pynapple objects \n",
    "\n",
    "We reduced 12 variables in our workspace to 5 using pynapple. Now we can see how the objects interact.\n",
    "\n",
    "<div class=\"render-all\">\n",
    "\n",
    "**Question:** Can you print the `time_support` of `tsgroup`?\n",
    "\n",
    "</div>"
   ]
  },
  {
   "cell_type": "code",
   "execution_count": 12,
   "id": "4e329290",
   "metadata": {},
   "outputs": [
    {
     "name": "stdout",
     "output_type": "stream",
     "text": [
      "  index    start      end\n",
      "      0     3.14  78.1107\n",
      "shape: (1, 2), time unit: sec.\n"
     ]
    }
   ],
   "source": [
    "print(tsgroup.time_support)"
   ]
  },
  {
   "cell_type": "markdown",
   "id": "06dd8bf5",
   "metadata": {},
   "source": [
    "The experiment ran from 0 to 100 seconds and as you can see, the `TsGroup` object shows the rate. But the rate is not accurate as it was computed over the default `time_support`.\n",
    "\n",
    "<div class=\"render-all\">\n",
    "\n",
    "**Question:** can you recreate the `tsgroup` object passing the right `time_support` during initialisation?\n",
    "\n",
    "</div>"
   ]
  },
  {
   "cell_type": "code",
   "execution_count": 13,
   "id": "1c33e5b4",
   "metadata": {},
   "outputs": [],
   "source": [
    "tsgroup = nap.TsGroup({0:ts1, 1:tsd2, 2:ts3}, time_support = nap.IntervalSet(0, 100))"
   ]
  },
  {
   "cell_type": "markdown",
   "id": "090530bf",
   "metadata": {},
   "source": [
    "<div class=\"render-all\">\n",
    "\n",
    "**Question:** Can you print the `time_support` and `rate` to see how they changed?\n",
    "\n",
    "</div>"
   ]
  },
  {
   "cell_type": "code",
   "execution_count": 14,
   "id": "a3ba1445",
   "metadata": {},
   "outputs": [
    {
     "name": "stdout",
     "output_type": "stream",
     "text": [
      "  index    start    end\n",
      "      0        0    100\n",
      "shape: (1, 2), time unit: sec.\n",
      "0    0.03\n",
      "1    1.00\n",
      "2    1.00\n",
      "Name: rate, dtype: float64\n"
     ]
    }
   ],
   "source": [
    "print(tsgroup.time_support)\n",
    "print(tsgroup.rate)"
   ]
  },
  {
   "cell_type": "markdown",
   "id": "f9f5fa16",
   "metadata": {},
   "source": [
    "<div class=\"render-all\">\n",
    "\n",
    "Now you realized the variable `tsd1` has some noise. The good signal is between 10 and 30 seconds and  50 and 100.\n",
    "\n",
    "**Question:** Can you create an `IntervalSet` object called `ep_signal` and use it to restrict the variable `tsd1`?\n",
    "\n",
    "</div>"
   ]
  },
  {
   "cell_type": "code",
   "execution_count": 15,
   "id": "e66c30a0",
   "metadata": {},
   "outputs": [],
   "source": [
    "ep_signal = nap.IntervalSet(start=[10, 50], end=[30, 100])\n",
    "\n",
    "tsd1 = tsd1.restrict(ep_signal)"
   ]
  },
  {
   "cell_type": "markdown",
   "id": "4d95735e",
   "metadata": {},
   "source": [
    "<div class=\"render-all\">\n",
    "You can print `tsd1` to check that the timestamps are in fact within `ep`.\n",
    "You can also check the `time_support` of `tsd1` to see that it has been updated.\n",
    "</div>"
   ]
  },
  {
   "cell_type": "code",
   "execution_count": 16,
   "id": "0d7073a4",
   "metadata": {},
   "outputs": [
    {
     "name": "stdout",
     "output_type": "stream",
     "text": [
      "Time (s)\n",
      "----------  ----------\n",
      "10.0        -0.0441381\n",
      "11.0         1.73751\n",
      "12.0         0.818859\n",
      "13.0         0.358108\n",
      "14.0        -1.28246\n",
      "15.0        -0.0257201\n",
      "16.0         0.0581005\n",
      "...\n",
      "93.0         0.982239\n",
      "94.0         1.97685\n",
      "95.0        -2.06948\n",
      "96.0         0.881675\n",
      "97.0         1.58952\n",
      "98.0         1.0692\n",
      "99.0        -0.541765\n",
      "dtype: float64, shape: (71,)\n",
      "  index    start    end\n",
      "      0       10     30\n",
      "      1       50    100\n",
      "shape: (2, 2), time unit: sec.\n"
     ]
    }
   ],
   "source": [
    "print(tsd1)\n",
    "print(tsd1.time_support)"
   ]
  },
  {
   "cell_type": "code",
   "execution_count": 17,
   "id": "199ce169",
   "metadata": {
    "tags": [
     "render-all"
    ]
   },
   "outputs": [
    {
     "name": "stdout",
     "output_type": "stream",
     "text": [
      "  index     start       end\n",
      "      0   1.89989   3.45255\n",
      "      1   4.84488   5.83978\n",
      "      2   6.30372  13.2422\n",
      "      3  15.9392   17.4519\n",
      "      4  18.4245   24.6764\n",
      "      5  25.9034   27.8424\n",
      "      6  39.9778   41.8473\n",
      "      7  61.6761   66.3641\n",
      "      8  85.9508   90.4161\n",
      "      9  91.1928   91.6159\n",
      "shape: (10, 2), time unit: sec.\n"
     ]
    }
   ],
   "source": [
    "ep_tmp = nap.IntervalSet(np.sort(np.random.uniform(0, 100, 20)))\n",
    "print(ep_tmp)"
   ]
  },
  {
   "cell_type": "markdown",
   "id": "1bdf5833",
   "metadata": {},
   "source": [
    "<div class=\"render-all\">\n",
    "\n",
    "**Question:** Can you do the intersection of `ep_signal` and `ep_tmp`?\n",
    "</div>"
   ]
  },
  {
   "cell_type": "code",
   "execution_count": 18,
   "id": "47cb8cd6",
   "metadata": {},
   "outputs": [
    {
     "name": "stdout",
     "output_type": "stream",
     "text": [
      "  index    start      end\n",
      "      0  10       13.2422\n",
      "      1  15.9392  17.4519\n",
      "      2  18.4245  24.6764\n",
      "      3  25.9034  27.8424\n",
      "      4  61.6761  66.3641\n",
      "      5  85.9508  90.4161\n",
      "      6  91.1928  91.6159\n",
      "shape: (7, 2), time unit: sec.\n"
     ]
    }
   ],
   "source": [
    "print(ep_signal.intersect(ep_tmp))"
   ]
  },
  {
   "cell_type": "markdown",
   "id": "11779d96",
   "metadata": {},
   "source": [
    "<div class=\"render-all\">\n",
    "You can visualize IntervalSet using the function `workshop_utils.visualize_intervals` we provide.\n",
    "</div>"
   ]
  },
  {
   "cell_type": "code",
   "execution_count": 19,
   "id": "caeaca28",
   "metadata": {
    "tags": [
     "render-all"
    ]
   },
   "outputs": [
    {
     "data": {
      "image/png": "[encoded data removed]",
      "text/plain": [
       "<Figure size 600x300 with 1 Axes>"
      ]
     },
     "metadata": {},
     "output_type": "display_data"
    }
   ],
   "source": [
    "workshop_utils.visualize_intervals([ep_signal, ep_tmp, ep_signal.intersect(ep_tmp)])"
   ]
  },
  {
   "cell_type": "markdown",
   "id": "2611fe44",
   "metadata": {},
   "source": [
    "<div class=\"render-all\">\n",
    "\n",
    "**Question:** Can you do the union of `ep_signal` and `ep_tmp`?\n",
    "</div>"
   ]
  },
  {
   "cell_type": "code",
   "execution_count": 20,
   "id": "25cdcb76",
   "metadata": {},
   "outputs": [
    {
     "name": "stdout",
     "output_type": "stream",
     "text": [
      "  index     start        end\n",
      "      0   1.89989    3.45255\n",
      "      1   4.84488    5.83978\n",
      "      2   6.30372   30\n",
      "      3  39.9778    41.8473\n",
      "      4  50        100\n",
      "shape: (5, 2), time unit: sec.\n"
     ]
    }
   ],
   "source": [
    "print(ep_signal.union(ep_tmp))"
   ]
  },
  {
   "cell_type": "markdown",
   "id": "6bb41aee",
   "metadata": {},
   "source": [
    "<div class=\"render-all\">\n",
    "\n",
    "**Question:** ... and visualize it?\n",
    "</div>"
   ]
  },
  {
   "cell_type": "code",
   "execution_count": 21,
   "id": "c02e57f8",
   "metadata": {},
   "outputs": [
    {
     "data": {
      "image/png": "[encoded data removed]",
      "text/plain": [
       "<Figure size 600x300 with 1 Axes>"
      ]
     },
     "metadata": {},
     "output_type": "display_data"
    }
   ],
   "source": [
    "workshop_utils.visualize_intervals([ep_signal, ep_tmp, ep_signal.union(ep_tmp)])"
   ]
  },
  {
   "cell_type": "markdown",
   "id": "173fcbdf",
   "metadata": {},
   "source": [
    "<div class=\"render-all\">\n",
    "\n",
    "**Question:** Can you do the difference of `ep_signal` and `ep_tmp`?\n",
    "</div>"
   ]
  },
  {
   "cell_type": "code",
   "execution_count": 22,
   "id": "90ea970b",
   "metadata": {},
   "outputs": [
    {
     "name": "stdout",
     "output_type": "stream",
     "text": [
      "  index    start       end\n",
      "      0  13.2422   15.9392\n",
      "      1  17.4519   18.4245\n",
      "      2  24.6764   25.9034\n",
      "      3  27.8424   30\n",
      "      4  50        61.6761\n",
      "      5  66.3641   85.9508\n",
      "      6  90.4161   91.1928\n",
      "      7  91.6159  100\n",
      "shape: (8, 2), time unit: sec.\n"
     ]
    }
   ],
   "source": [
    "print(ep_signal.set_diff(ep_tmp))"
   ]
  },
  {
   "cell_type": "markdown",
   "id": "e3c88777",
   "metadata": {},
   "source": [
    "<div class=\"render-all\">\n",
    "\n",
    "**Question:** ... and visualize it?\n",
    "</div>"
   ]
  },
  {
   "cell_type": "code",
   "execution_count": 23,
   "id": "b8794feb",
   "metadata": {},
   "outputs": [
    {
     "data": {
      "image/png": "[encoded data removed]",
      "text/plain": [
       "<Figure size 600x300 with 1 Axes>"
      ]
     },
     "metadata": {},
     "output_type": "display_data"
    }
   ],
   "source": [
    "workshop_utils.visualize_intervals([ep_signal, ep_tmp, ep_signal.set_diff(ep_tmp)])"
   ]
  },
  {
   "cell_type": "markdown",
   "id": "72828e3c",
   "metadata": {},
   "source": [
    "## Numpy & pynapple\n",
    "\n",
    "<div class=\"render-all\">\n",
    "\n",
    "Pynapple objects behaves very similarly like numpy array. They can be sliced with the following syntax :\n",
    "\n",
    "  `tsd[0:10] # First 10 elements`\n",
    "\n",
    "Arithmetical operations are available as well :\n",
    "\n",
    "  `tsd = tsd + 1`\n",
    "\n",
    "Finally numpy functions works directly. Let's imagine `tsd3` is a movie with frame size (4,5).\n",
    "\n",
    "**Question:** Can you compute the average frame along the time axis using `np.mean` and print the result?\n",
    "\n",
    "</div>"
   ]
  },
  {
   "cell_type": "code",
   "execution_count": 24,
   "id": "531785dc",
   "metadata": {},
   "outputs": [
    {
     "name": "stdout",
     "output_type": "stream",
     "text": [
      "[[-0.07555292 -0.04017614 -0.05301951  0.01746602  0.0058922 ]\n",
      " [-0.00324604  0.00094704  0.02294463  0.00380179 -0.00658049]\n",
      " [-0.00647891  0.00310406  0.00329083  0.05062797  0.0264366 ]\n",
      " [ 0.05788062 -0.02270673 -0.02779032  0.0330108  -0.01782266]]\n"
     ]
    }
   ],
   "source": [
    "print(np.mean(tsd3, 0))"
   ]
  },
  {
   "cell_type": "markdown",
   "id": "ca188b95",
   "metadata": {},
   "source": [
    "<div class=\"render-all\">\n",
    "\n",
    "**Question:**: can you compute the average of `tsd2` for each timestamps and print it?\n",
    "</div>"
   ]
  },
  {
   "cell_type": "code",
   "execution_count": 25,
   "id": "ad2dfb7f",
   "metadata": {},
   "outputs": [
    {
     "name": "stdout",
     "output_type": "stream",
     "text": [
      "Time (s)\n",
      "----------  ----------\n",
      "0.0          0.156372\n",
      "1.0          0.357999\n",
      "2.0         -0.775203\n",
      "3.0         -0.0130797\n",
      "4.0         -0.620531\n",
      "5.0         -0.248821\n",
      "6.0          0.0321684\n",
      "...\n",
      "93.0         0.900399\n",
      "94.0         0.651999\n",
      "95.0         0.276569\n",
      "96.0         0.438862\n",
      "97.0        -0.959084\n",
      "98.0        -0.648778\n",
      "99.0         0.238584\n",
      "dtype: float64, shape: (100,)\n"
     ]
    }
   ],
   "source": [
    "print(np.mean(tsd2, 1))"
   ]
  },
  {
   "cell_type": "markdown",
   "id": "7f0ab451",
   "metadata": {},
   "source": [
    "Notice how the output in the second case is still a pynapple object.\n",
    "In most cases, applying a numpy function will return a pynapple object if the time index is preserved.\n",
    "\n",
    "## Slicing pynapple objects \n",
    "\n",
    "Multiple methods exists to slice pynapple object. This parts reviews them.\n",
    "\n",
    "`IntervalSet` also behaves like numpy array.\n",
    "\n",
    "<div class=\"render-all\">\n",
    "\n",
    "**Question:** Can you extract the first and last epoch of `ep` in a new `IntervalSet`?\n",
    "</div>"
   ]
  },
  {
   "cell_type": "code",
   "execution_count": 26,
   "id": "dd37c075",
   "metadata": {},
   "outputs": [
    {
     "name": "stdout",
     "output_type": "stream",
     "text": [
      "  index    start    end\n",
      "      0       10     20\n",
      "      1       90     95\n",
      "shape: (2, 2), time unit: sec.\n"
     ]
    }
   ],
   "source": [
    "print(ep[[0,2]])"
   ]
  },
  {
   "cell_type": "markdown",
   "id": "b866d504",
   "metadata": {},
   "source": [
    "<div class=\"render-all\">\n",
    "\n",
    "Sometimes you want to get a data point as close as possible in time to another timestamps.\n",
    "\n",
    "**Question:** Using the `get` method, can you get the data point from `tsd3` as close as possible to the time 50.1 seconds?\n",
    "\n",
    "</div>"
   ]
  },
  {
   "cell_type": "code",
   "execution_count": 27,
   "id": "258e6217",
   "metadata": {},
   "outputs": [
    {
     "name": "stdout",
     "output_type": "stream",
     "text": [
      "[[ 2.23882591 -1.08429267  0.36834759 -0.41645505  0.4840616 ]\n",
      " [ 0.13096049 -1.40249253 -0.36389769  0.09742041  0.74181069]\n",
      " [-0.22469526  0.74292238 -0.82760241 -0.04786306  1.23253774]\n",
      " [-1.2272659  -0.34373555 -1.72987802 -0.12618094  0.33914361]]\n"
     ]
    }
   ],
   "source": [
    "print(tsd3.get(50.1))"
   ]
  },
  {
   "cell_type": "markdown",
   "id": "c50953d0",
   "metadata": {},
   "source": [
    "## Metadata\n",
    "\n",
    "<div class=\"render-all\">\n",
    "\n",
    "Metadata are ubiquitous in neuroscience. They can be added to 3 pynapple objects :\n",
    "\n",
    "- `TsGroup` : to label neurons in electrophysiology\n",
    "- `IntervalSet` : to label intervals\n",
    "- `TsdFrame` : to label neurons in calcium imaging\n",
    "\n",
    "\n",
    "**Question:** Can you run the following command `tsgroup['planet'] = ['mars', 'venus', 'saturn']`\n",
    "</div>"
   ]
  },
  {
   "cell_type": "code",
   "execution_count": 28,
   "id": "33cf0f0d",
   "metadata": {},
   "outputs": [],
   "source": [
    "tsgroup['planet'] = ['mars', 'venus', 'saturn']"
   ]
  },
  {
   "cell_type": "markdown",
   "id": "48e81579",
   "metadata": {},
   "source": [
    "<div class=\"render-all\">\n",
    "\n",
    "**Question:** ... and print it?\n",
    "</div>"
   ]
  },
  {
   "cell_type": "code",
   "execution_count": 29,
   "id": "c5fbe8c5",
   "metadata": {},
   "outputs": [
    {
     "name": "stdout",
     "output_type": "stream",
     "text": [
      "  Index    rate  planet\n",
      "-------  ------  --------\n",
      "      0    0.03  mars\n",
      "      1    1     venus\n",
      "      2    1     saturn\n"
     ]
    }
   ],
   "source": [
    "print(tsgroup)"
   ]
  },
  {
   "cell_type": "markdown",
   "id": "b88ac5a2",
   "metadata": {},
   "source": [
    "<div class=\"render-all\">\n",
    "\n",
    "The object `ep` has 3 epochs labelled `['left', 'right', 'left']`. \n",
    "\n",
    "**Question:** Can you add them as a metadata column called `direction`?\n",
    "\n",
    "</div>"
   ]
  },
  {
   "cell_type": "code",
   "execution_count": 30,
   "id": "16dc4c7e",
   "metadata": {},
   "outputs": [
    {
     "name": "stdout",
     "output_type": "stream",
     "text": [
      "  index    start    end  direction\n",
      "      0       10     20  left\n",
      "      1       60     80  right\n",
      "      2       90     95  left\n",
      "shape: (3, 2), time unit: sec.\n"
     ]
    }
   ],
   "source": [
    "ep['direction'] = ['left', 'right', 'left']\n",
    "print(ep)"
   ]
  },
  {
   "cell_type": "markdown",
   "id": "646bd290",
   "metadata": {},
   "source": [
    "<div class=\"render-all\">\n",
    "\n",
    "The object `tsd2` has 3 columns. Each column correspond to the rgb colors `[(0,0,1), (0.5, 0.5, 1), (0.1, 0.2, 0.3)]`. \n",
    "\n",
    "**Question:** Can you add them as metadata of `tsd2`?\n",
    "</div>"
   ]
  },
  {
   "cell_type": "code",
   "execution_count": 31,
   "id": "5177cc7e",
   "metadata": {},
   "outputs": [
    {
     "name": "stdout",
     "output_type": "stream",
     "text": [
      "Time (s)    pineapple              banana               tomato\n",
      "----------  ---------------------  -------------------  --------------------\n",
      "0.0         -0.05465667596415442   -0.6706680253930318  1.1944412958092108\n",
      "1.0         -1.2760636531335507    0.8805513563646098   1.4695095780082146\n",
      "2.0         -1.5148540516749436    0.10056206867201706  -0.9113157404198673\n",
      "3.0         -0.367121059174191     -0.4809314403048137  0.808813457400616\n",
      "4.0         -1.352636939860163     0.9113899357786702   -1.4203466349497038\n",
      "5.0         -0.8377659085373763    -1.0355534895944514  1.1268564823802494\n",
      "6.0         -0.20025701314567693   1.0230305466080578   -0.7262682613977087\n",
      "...\n",
      "93.0        1.941761940837071      0.07708692026178308  0.682347269943078\n",
      "94.0        0.446100832553125      1.116379742290183    0.39351515261040876\n",
      "95.0        -0.6190649223395698    0.5043450180950204   0.9444263990616899\n",
      "96.0        -0.043412826714039454  1.321700536536084    0.038297154637744114\n",
      "97.0        -0.8010488479530811    -1.4909609236753085  -0.5852428233001435\n",
      "98.0        -0.48796170424519425   -0.5605337726809281  -0.8978387676670591\n",
      "99.0        0.5765100138787077     -1.426904125310958   1.5661474369514243\n",
      "Metadata\n",
      "colors      [0. 0. 1.]             [0.5 0.5 1. ]        [0.1 0.2 0.3]\n",
      "dtype: float64, shape: (100, 3)\n"
     ]
    }
   ],
   "source": [
    "tsd2['colors'] = [(0,0,1), (0.5, 0.5, 1), (0.1, 0.2, 0.3)]\n",
    "print(tsd2)"
   ]
  },
  {
   "cell_type": "markdown",
   "id": "9af80fff",
   "metadata": {},
   "source": [
    "<div class=\"render-all\">\n",
    "\n",
    "You can also add metadata at initialization as a dictionnary using the keyword argument `metadata` : \n",
    "</div>"
   ]
  },
  {
   "cell_type": "code",
   "execution_count": 32,
   "id": "b39f4e4a",
   "metadata": {
    "tags": [
     "render-all"
    ]
   },
   "outputs": [
    {
     "name": "stdout",
     "output_type": "stream",
     "text": [
      "  Index     rate  planet\n",
      "-------  -------  --------\n",
      "      0  0.04002  mars\n",
      "      1  0.05335  venus\n",
      "      2  1.33385  saturn\n"
     ]
    }
   ],
   "source": [
    "tsgroup = nap.TsGroup({0:ts1, 1:ts2, 2:ts3}, metadata={'planet':['mars','venus', 'saturn']})\n",
    "\n",
    "print(tsgroup)"
   ]
  },
  {
   "cell_type": "markdown",
   "id": "a512741c",
   "metadata": {},
   "source": [
    "<div class=\"render-all\">\n",
    "\n",
    "Metadata are accessible either as attributes (i.e. `tsgroup.planet`) or as dictionnary-like keys (i.e. `ep['direction']`).\n",
    "\n",
    "They can be used to slice objects. \n",
    "\n",
    "**Question:** Can you select only the elements of `tsgroup` with rate below 1Hz?\n",
    "</div>"
   ]
  },
  {
   "cell_type": "code",
   "execution_count": 33,
   "id": "1958c463",
   "metadata": {},
   "outputs": [
    {
     "name": "stdout",
     "output_type": "stream",
     "text": [
      "  Index     rate  planet\n",
      "-------  -------  --------\n",
      "      0  0.04002  mars\n",
      "      1  0.05335  venus\n",
      "  Index     rate  planet\n",
      "-------  -------  --------\n",
      "      0  0.04002  mars\n",
      "      1  0.05335  venus\n",
      "  Index     rate  planet\n",
      "-------  -------  --------\n",
      "      0  0.04002  mars\n",
      "      1  0.05335  venus\n"
     ]
    }
   ],
   "source": [
    "print(tsgroup[tsgroup.rate<1.0])\n",
    "\n",
    "print(tsgroup[tsgroup['rate']<1.0])\n",
    "\n",
    "print(tsgroup.getby_threshold(\"rate\", 1, \"<\"))"
   ]
  },
  {
   "cell_type": "markdown",
   "id": "f6e4d7e2",
   "metadata": {},
   "source": [
    "<div class=\"render-all\">\n",
    "\n",
    "**Question:** Can you select the intervals in `ep` labelled as `'left'`?\n",
    "</div>"
   ]
  },
  {
   "cell_type": "code",
   "execution_count": 34,
   "id": "5a7bd069",
   "metadata": {},
   "outputs": [
    {
     "name": "stdout",
     "output_type": "stream",
     "text": [
      "  index    start    end  direction\n",
      "      0       10     20  left\n",
      "      1       90     95  left\n",
      "shape: (2, 2), time unit: sec.\n"
     ]
    }
   ],
   "source": [
    "print(ep[ep.direction=='left'])"
   ]
  },
  {
   "cell_type": "markdown",
   "id": "0b9f52ce",
   "metadata": {},
   "source": [
    "### Special case of slicing : `TsdFrame`"
   ]
  },
  {
   "cell_type": "code",
   "execution_count": 35,
   "id": "6494d376",
   "metadata": {
    "tags": [
     "render-all"
    ]
   },
   "outputs": [
    {
     "name": "stdout",
     "output_type": "stream",
     "text": [
      "Time (s)    12                    0                     1\n",
      "----------  --------------------  --------------------  --------------------\n",
      "0.0         -1.0839926752572169   0.4467945116348366    -0.11540238320982019\n",
      "1.0         -0.9823939174815296   -0.774337241653844    1.0319243382766332\n",
      "2.0         -0.12115616397817819  0.9938577073999705    -1.9384031071996448\n",
      "3.0         0.2704457045834966    -0.24180576160697287  0.21381845218158418\n",
      "Metadata\n",
      "alpha       2                     1                     0\n",
      "dtype: float64, shape: (4, 3)\n"
     ]
    }
   ],
   "source": [
    "tsdframe = nap.TsdFrame(t=np.arange(4), d=np.random.randn(4,3),\n",
    "  columns = [12, 0, 1], metadata={'alpha':[2,1,0]})\n",
    "\n",
    "print(tsdframe)"
   ]
  },
  {
   "cell_type": "markdown",
   "id": "6b472863",
   "metadata": {},
   "source": [
    "<div class=\"render-all\">\n",
    "\n",
    "**Question:** What happen when you do `tsdframe[0]` vs `tsdframe[:,0]` vs `tsdframe[[12,1]]`\n",
    "</div>"
   ]
  },
  {
   "cell_type": "code",
   "execution_count": 36,
   "id": "2aee5677",
   "metadata": {},
   "outputs": [
    {
     "name": "stdout",
     "output_type": "stream",
     "text": [
      "[-1.08399268  0.44679451 -0.11540238]\n"
     ]
    }
   ],
   "source": [
    "print(tsdframe[0])"
   ]
  },
  {
   "cell_type": "markdown",
   "id": "e172b467",
   "metadata": {},
   "source": [
    "<div class=\"render-all\">\n",
    "\n",
    "**Question:** What happen when you do `tsdframe.loc[0]` and `tsdframe.loc[[0,1]]`\n",
    "</div>"
   ]
  },
  {
   "cell_type": "code",
   "execution_count": 37,
   "id": "bc3c87d2",
   "metadata": {},
   "outputs": [
    {
     "name": "stdout",
     "output_type": "stream",
     "text": [
      "Time (s)\n",
      "----------  ---------\n",
      "0            0.446795\n",
      "1           -0.774337\n",
      "2            0.993858\n",
      "3           -0.241806\n",
      "dtype: float64, shape: (4,)\n",
      "Time (s)    0                     1\n",
      "----------  --------------------  --------------------\n",
      "0.0         0.4467945116348366    -0.11540238320982019\n",
      "1.0         -0.774337241653844    1.0319243382766332\n",
      "2.0         0.9938577073999705    -1.9384031071996448\n",
      "3.0         -0.24180576160697287  0.21381845218158418\n",
      "Metadata\n",
      "alpha       1                     0\n",
      "dtype: float64, shape: (4, 2)\n"
     ]
    }
   ],
   "source": [
    "print(tsdframe.loc[0])\n",
    "print(tsdframe.loc[[0,1]])"
   ]
  },
  {
   "cell_type": "markdown",
   "id": "3dc12297",
   "metadata": {},
   "source": [
    "<div class=\"render-all\">\n",
    "\n",
    "**Question:** What happen when you do `tsdframe[:,tsdframe.alpha==2]`\n",
    "\n",
    "</div>"
   ]
  },
  {
   "cell_type": "code",
   "execution_count": 38,
   "id": "f91453c0",
   "metadata": {},
   "outputs": [
    {
     "name": "stdout",
     "output_type": "stream",
     "text": [
      "Time (s)    12\n",
      "----------  --------------------\n",
      "0.0         -1.0839926752572169\n",
      "1.0         -0.9823939174815296\n",
      "2.0         -0.12115616397817819\n",
      "3.0         0.2704457045834966\n",
      "Metadata\n",
      "alpha       2\n",
      "dtype: float64, shape: (4, 1)\n"
     ]
    }
   ],
   "source": [
    "print(tsdframe[:,tsdframe.alpha==2])"
   ]
  },
  {
   "cell_type": "markdown",
   "id": "7f9328f5",
   "metadata": {},
   "source": [
    "## Core functions of pynapple \n",
    "\n",
    "<div class=\"render-all\">\n",
    "\n",
    "This part focuses on the most important core functions of pynapple.\n",
    "\n",
    "**Question:** Using the `count` function, can you count the number of events within 1 second bins for `tsgroup` over the `ep_signal` intervals?\n",
    "</div>"
   ]
  },
  {
   "cell_type": "code",
   "execution_count": 39,
   "id": "3468aa52",
   "metadata": {},
   "outputs": [
    {
     "name": "stdout",
     "output_type": "stream",
     "text": [
      "Time (s)    0     1      2\n",
      "----------  ----  -----  ------\n",
      "10.5        0     1      3\n",
      "11.5        0     0      2\n",
      "12.5        0     0      0\n",
      "13.5        0     0      1\n",
      "14.5        0     0      1\n",
      "15.5        0     0      3\n",
      "16.5        0     0      3\n",
      "...\n",
      "93.5        0     0      0\n",
      "94.5        0     0      0\n",
      "95.5        0     0      0\n",
      "96.5        0     0      0\n",
      "97.5        0     0      0\n",
      "98.5        0     0      0\n",
      "99.5        0     0      0\n",
      "Metadata\n",
      "planet      mars  venus  saturn\n",
      "dtype: int64, shape: (70, 3)\n"
     ]
    }
   ],
   "source": [
    "count = tsgroup.count(1, ep_signal)\n",
    "print(count)"
   ]
  },
  {
   "cell_type": "markdown",
   "id": "ab961785",
   "metadata": {},
   "source": [
    "Pynapple works directly with matplotlib. Passing a time series object to `plt.plot` will display the figure with the correct time axis.\n",
    "\n",
    "**Question:** In two subplots, can you show the count and events over time?"
   ]
  },
  {
   "cell_type": "code",
   "execution_count": 40,
   "id": "ee758437",
   "metadata": {},
   "outputs": [
    {
     "data": {
      "text/plain": [
       "[<matplotlib.lines.Line2D at 0x7fc748213650>]"
      ]
     },
     "execution_count": 40,
     "metadata": {},
     "output_type": "execute_result"
    },
    {
     "data": {
      "image/png": "[encoded data removed]",
      "text/plain": [
       "<Figure size 640x480 with 2 Axes>"
      ]
     },
     "metadata": {},
     "output_type": "display_data"
    }
   ],
   "source": [
    "plt.figure()\n",
    "ax = plt.subplot(211)\n",
    "plt.plot(count, 'o-')\n",
    "plt.subplot(212, sharex=ax)\n",
    "plt.plot(tsgroup.restrict(ep_signal).to_tsd(), '|')"
   ]
  },
  {
   "cell_type": "markdown",
   "id": "57023974",
   "metadata": {},
   "source": [
    "<div class=\"render-all\">\n",
    "\n",
    "From a set of timestamps, you want to assign them a set of values with the closest point in time of another time series.\n",
    "\n",
    "**Question:** Using the function `value_from`, can you assign values to `ts2` from the `tsd1` time series and call the output `new_tsd`?\n",
    "\n",
    "</div>"
   ]
  },
  {
   "cell_type": "code",
   "execution_count": 41,
   "id": "a2add077",
   "metadata": {},
   "outputs": [],
   "source": [
    "new_tsd = ts2.value_from(tsd1)"
   ]
  },
  {
   "cell_type": "markdown",
   "id": "362767a6",
   "metadata": {},
   "source": [
    "<div class=\"render-all\">\n",
    "\n",
    "**Question:** Can you plot together `tsd1`, `ts2` and `new_tsd`?\n",
    "\n",
    "</div>"
   ]
  },
  {
   "cell_type": "code",
   "execution_count": 42,
   "id": "54cdfc0e",
   "metadata": {},
   "outputs": [
    {
     "data": {
      "text/plain": [
       "[<matplotlib.lines.Line2D at 0x7fc74822f9b0>]"
      ]
     },
     "execution_count": 42,
     "metadata": {},
     "output_type": "execute_result"
    },
    {
     "data": {
      "image/png": "[encoded data removed]",
      "text/plain": [
       "<Figure size 640x480 with 1 Axes>"
      ]
     },
     "metadata": {},
     "output_type": "display_data"
    }
   ],
   "source": [
    "plt.figure()\n",
    "plt.plot(tsd1)\n",
    "plt.plot(new_tsd, 'o-')\n",
    "plt.plot(ts2.fillna(0), 'o')"
   ]
  },
  {
   "cell_type": "markdown",
   "id": "602560b3",
   "metadata": {},
   "source": [
    "<div class=\"render-all\">\n",
    "\n",
    "One important aspect of data analysis is to bring data to the same size. Pynapple provides the `bin_average` function to downsample data.\n",
    "\n",
    "**Question:** Can you downsample `tsd2` to one time point every 5 seconds?\n",
    "\n",
    "</div>"
   ]
  },
  {
   "cell_type": "code",
   "execution_count": 43,
   "id": "3618dd08",
   "metadata": {},
   "outputs": [],
   "source": [
    "new_tsd2 = tsd2.bin_average(5.0)"
   ]
  },
  {
   "cell_type": "markdown",
   "id": "e9be50de",
   "metadata": {},
   "source": [
    "<div class=\"render-all\">\n",
    "\n",
    "**Question:** Can you plot the `tomato` column from `tsd2` as well as the downsampled version?\n",
    "\n",
    "</div>"
   ]
  },
  {
   "cell_type": "code",
   "execution_count": 44,
   "id": "8824ae1a",
   "metadata": {},
   "outputs": [
    {
     "data": {
      "text/plain": [
       "[<matplotlib.lines.Line2D at 0x7fc6f42a6f30>]"
      ]
     },
     "execution_count": 44,
     "metadata": {},
     "output_type": "execute_result"
    },
    {
     "data": {
      "image/png": "[encoded data removed]",
      "text/plain": [
       "<Figure size 640x480 with 1 Axes>"
      ]
     },
     "metadata": {},
     "output_type": "display_data"
    }
   ],
   "source": [
    "plt.figure()\n",
    "plt.plot(tsd2['tomato'])\n",
    "plt.plot(new_tsd2['tomato'], 'o-')"
   ]
  },
  {
   "cell_type": "markdown",
   "id": "e5b5e573",
   "metadata": {},
   "source": [
    "<div class=\"render-all\">\n",
    "\n",
    "For `tsd1`, you want to find all the epochs for which the value is above 0.0. Pynapple provides the function `threshold` to get 1 dimensional time series above or below a certain value.\n",
    "\n",
    "**Question**: Can you print the epochs for which `tsd1` is above 0.0?\n",
    "</div>"
   ]
  },
  {
   "cell_type": "code",
   "execution_count": 45,
   "id": "767f2b72",
   "metadata": {},
   "outputs": [
    {
     "name": "stdout",
     "output_type": "stream",
     "text": [
      "index    start    end\n",
      "0        10.5     13.5\n",
      "1        15.5     18.5\n",
      "2        19.5     23.5\n",
      "3        29.5     30.0\n",
      "4        50.0     50.5\n",
      "5        51.5     54.5\n",
      "6        57.5     59.5\n",
      "...      ...      ...\n",
      "8        69.5     70.5\n",
      "9        71.5     72.5\n",
      "10       75.5     78.5\n",
      "11       82.5     84.5\n",
      "12       85.5     88.5\n",
      "13       92.5     94.5\n",
      "14       95.5     98.5\n",
      "shape: (15, 2), time unit: sec.\n"
     ]
    }
   ],
   "source": [
    "ep_above = tsd1.threshold(0.0).time_support\n",
    "\n",
    "print(ep_above)"
   ]
  },
  {
   "cell_type": "markdown",
   "id": "b64d1a06",
   "metadata": {},
   "source": [
    "<div class=\"render-all\">\n",
    "\n",
    "**Question**: can you plot `tsd1` as well as the epochs for which `tsd1` is above 0.0?\n",
    "</div>"
   ]
  },
  {
   "cell_type": "code",
   "execution_count": 46,
   "id": "a908a130",
   "metadata": {},
   "outputs": [
    {
     "data": {
      "text/plain": [
       "[<matplotlib.patches.Rectangle at 0x7fc674185910>,\n",
       " <matplotlib.patches.Rectangle at 0x7fc6f42a2270>,\n",
       " <matplotlib.patches.Rectangle at 0x7fc6741e8dd0>,\n",
       " <matplotlib.patches.Rectangle at 0x7fc674357170>,\n",
       " <matplotlib.patches.Rectangle at 0x7fc6f42bf500>,\n",
       " <matplotlib.patches.Rectangle at 0x7fc68c309910>,\n",
       " <matplotlib.patches.Rectangle at 0x7fc6740fbf20>,\n",
       " <matplotlib.patches.Rectangle at 0x7fc6741933b0>,\n",
       " <matplotlib.patches.Rectangle at 0x7fc6581273e0>,\n",
       " <matplotlib.patches.Rectangle at 0x7fc658148440>,\n",
       " <matplotlib.patches.Rectangle at 0x7fc6741922d0>,\n",
       " <matplotlib.patches.Rectangle at 0x7fc62c33c1a0>,\n",
       " <matplotlib.patches.Rectangle at 0x7fc62c33dee0>,\n",
       " <matplotlib.patches.Rectangle at 0x7fc658175790>,\n",
       " <matplotlib.patches.Rectangle at 0x7fc65819c6e0>]"
      ]
     },
     "execution_count": 46,
     "metadata": {},
     "output_type": "execute_result"
    },
    {
     "data": {
      "image/png": "[encoded data removed]",
      "text/plain": [
       "<Figure size 640x480 with 1 Axes>"
      ]
     },
     "metadata": {},
     "output_type": "display_data"
    }
   ],
   "source": [
    "plt.figure()\n",
    "plt.plot(tsd1)\n",
    "plt.plot(tsd1.threshold(0.0), 'o-')\n",
    "[plt.axvspan(s, e, alpha=0.2) for s,e in ep_above.values]"
   ]
  },
  {
   "cell_type": "markdown",
   "id": "5157a544",
   "metadata": {},
   "source": [
    "## First high level function : `compute_tuning_curves`\n",
    "\n",
    "<div class=\"render-all\">\n",
    "\n",
    "Pynapple provides functions for standard analysis in systems neuroscience. The first function we will try is `compute_tuning_curves` that calculate the response of a cell to a particular feature. \n",
    "\n",
    "A good practice when using a function for the first time is to check the docstrings to learn how to pass the argument.\n",
    "\n",
    "**Question**: can you examine the docstring of `nap.compute_tuning_curves`?\n",
    "\n",
    "</div>"
   ]
  },
  {
   "cell_type": "code",
   "execution_count": 47,
   "id": "909b17f1",
   "metadata": {},
   "outputs": [
    {
     "name": "stdout",
     "output_type": "stream",
     "text": [
      "\n",
      "    Computes n-dimensional tuning curves relative to n features.\n",
      "\n",
      "    Parameters\n",
      "    ----------\n",
      "    data : TsGroup, TsdFrame, Ts, Tsd\n",
      "        The data for which the tuning curves will be computed. This usually corresponds to the activity of the\n",
      "        neurons, either as spike times (TsGroup or Ts) or continuous values (TsdFrame or Tsd).\n",
      "    features : Tsd, TsdFrame\n",
      "        The features (i.e. one column per feature). This usually corresponds to behavioral variables such as\n",
      "        position, head direction, speed, etc.\n",
      "    bins : sequence or int\n",
      "        The bin specification:\n",
      "\n",
      "        * A sequence of arrays describing the monotonically increasing bin\n",
      "          edges along each dimension.\n",
      "        * The number of bins for each dimension (nx, ny, ... =bins)\n",
      "        * The number of bins for all dimensions (nx=ny=...=bins).\n",
      "    range : sequence, optional\n",
      "        A sequence of entries per feature, each an optional (lower, upper) tuple giving\n",
      "        the outer bin edges to be used if the edges are not given explicitly in\n",
      "        `bins`.\n",
      "        An entry of None in the sequence results in the minimum and maximum\n",
      "        values being used for the corresponding dimension.\n",
      "        The default, None, is equivalent to passing a tuple of D None values.\n",
      "    epochs : IntervalSet, optional\n",
      "        The epochs on which tuning curves are computed.\n",
      "        If None, the epochs are the time support of the features.\n",
      "    fs : float, optional\n",
      "        The exact sampling frequency of the features used to normalise the tuning curves.\n",
      "        Unit should match that of the features. If not passed, it is estimated.\n",
      "    feature_names : list, optional\n",
      "        A list of feature names. If not passed, the column names in `features` are used.\n",
      "    return_pandas : bool, optional\n",
      "        If True, the function returns a pandas.DataFrame instead of an xarray.DataArray.\n",
      "        Note that this will not work if the features are not 1D and that occupancy and bin edges\n",
      "        will not be stored as attributes.\n",
      "    return_counts : bool, optional\n",
      "        If True, does not divide the spike counts by occupancy, but returns the counts directly.\n",
      "        The occupancy is stored in the xarray attributes, so the division can be performed after any\n",
      "        particular processing steps.\n",
      "        If the input is a TsdFrame, this does not do anything.\n",
      "\n",
      "    Returns\n",
      "    -------\n",
      "    xarray.DataArray\n",
      "        A tensor containing the tuning curves with labeled bin centres.\n",
      "        The bin edges and occupancy are stored as attributes.\n",
      "\n",
      "    Examples\n",
      "    --------\n",
      "    In the simplest case, we can pass a group of spikes per neuron and a single feature:\n",
      "\n",
      "        >>> import pynapple as nap\n",
      "        >>> import numpy as np; np.random.seed(42)\n",
      "        >>> group = nap.TsGroup({\n",
      "        ...     1: nap.Ts(np.arange(0, 100, 0.1)),\n",
      "        ...     2: nap.Ts(np.arange(0, 100, 0.2))\n",
      "        ... })\n",
      "        >>> feature = nap.Tsd(d=np.arange(0, 100, 0.1) % 1, t=np.arange(0, 100, 0.1))\n",
      "        >>> tcs = nap.compute_tuning_curves(group, feature, bins=10)\n",
      "        >>> tcs\n",
      "        <xarray.DataArray (unit: 2, 0: 10)> Size: 160B\n",
      "        array([[10., 10., 10., 10., 10., 10., 10., 10., 10., 10.],\n",
      "               [10.,  0., 10.,  0., 10.,  0., 10.,  0., 10.,  0.]])\n",
      "        Coordinates:\n",
      "          * unit     (unit) int64 16B 1 2\n",
      "          * 0        (0) float64 80B 0.045 0.135 0.225 0.315 ... 0.585 0.675 0.765 0.855\n",
      "        Attributes:\n",
      "            occupancy:  [100. 100. 100. 100. 100. 100. 100. 100. 100. 100.]\n",
      "            bin_edges:  [array([0.  , 0.09, 0.18, 0.27, 0.36, 0.45, 0.54, 0.63, 0.72,...\n",
      "\n",
      "    The function can also take multiple features, in which case it computes n-dimensional tuning curves.\n",
      "    We can specify the number of bins for each feature:\n",
      "\n",
      "        >>> features = nap.TsdFrame(\n",
      "        ...     d=np.stack(\n",
      "        ...         [\n",
      "        ...             np.arange(0, 100, 0.1) % 1,\n",
      "        ...             np.arange(0, 100, 0.1) % 2\n",
      "        ...         ],\n",
      "        ...         axis=1\n",
      "        ...     ),\n",
      "        ...     t=np.arange(0, 100, 0.1)\n",
      "        ... )\n",
      "        >>> tcs = nap.compute_tuning_curves(group, features, bins=[5, 3])\n",
      "        >>> tcs\n",
      "        <xarray.DataArray (unit: 2, 0: 5, 1: 3)> Size: 240B\n",
      "        array([[[10., 10., nan],\n",
      "                [10., 10., 10.],\n",
      "                [10., nan, 10.],\n",
      "                [10., 10., 10.],\n",
      "                [nan, 10., 10.]],\n",
      "        ...\n",
      "               [[ 5.,  5., nan],\n",
      "                [ 5., 10.,  0.],\n",
      "                [ 5., nan,  5.],\n",
      "                [10.,  0.,  5.],\n",
      "                [nan,  5.,  5.]]])\n",
      "        Coordinates:\n",
      "          * unit     (unit) int64 16B 1 2\n",
      "          * 0        (0) float64 40B 0.09 0.27 0.45 0.63 0.81\n",
      "          * 1        (1) float64 24B 0.3167 0.95 1.583\n",
      "        Attributes:\n",
      "            occupancy:  [[100. 100.  nan]\\n [100.  50.  50.]\\n [100.  nan 100.]\\n [ 5...\n",
      "            bin_edges:  [array([0.  , 0.18, 0.36, 0.54, 0.72, 0.9 ]), array([0.      ...\n",
      "\n",
      "    Or even specify the bin edges directly:\n",
      "\n",
      "        >>> tcs = nap.compute_tuning_curves(\n",
      "        ...     group,\n",
      "        ...     features,\n",
      "        ...     bins=[np.linspace(0, 1, 5), np.linspace(0, 2, 3)]\n",
      "        ... )\n",
      "        >>> tcs\n",
      "        <xarray.DataArray (unit: 2, 0: 4, 1: 2)> Size: 128B\n",
      "        array([[[10.        , 10.        ],\n",
      "                [10.        , 10.        ],\n",
      "                [10.        , 10.        ],\n",
      "                [10.        , 10.        ]],\n",
      "        ...\n",
      "               [[ 6.66666667,  6.66666667],\n",
      "                [ 5.        ,  5.        ],\n",
      "                [ 3.33333333,  3.33333333],\n",
      "                [ 5.        ,  5.        ]]])\n",
      "        Coordinates:\n",
      "          * unit     (unit) int64 16B 1 2\n",
      "          * 0        (0) float64 32B 0.125 0.375 0.625 0.875\n",
      "          * 1        (1) float64 16B 0.5 1.5\n",
      "        Attributes:\n",
      "            occupancy:  [[150. 150.]\\n [100. 100.]\\n [150. 150.]\\n [100. 100.]]\n",
      "            bin_edges:  [array([0.  , 0.25, 0.5 , 0.75, 1.  ]), array([0., 1., 2.])]\n",
      "\n",
      "    In all of these cases, it is also possible to pass continuous values instead of spikes (e.g. calcium imaging data), in that case the mean response is computed:\n",
      "\n",
      "        >>> frame = nap.TsdFrame(d=np.random.rand(2000, 3), t=np.arange(0, 100, 0.05))\n",
      "        >>> tcs = nap.compute_tuning_curves(frame, feature, bins=10)\n",
      "        >>> tcs\n",
      "        <xarray.DataArray (unit: 3, 0: 10)> Size: 240B\n",
      "        array([[0.49147343, 0.50190395, 0.50971339, 0.50128013, 0.54332711,\n",
      "                0.49712328, 0.49594611, 0.5110517 , 0.52247351, 0.52057658],\n",
      "               [0.51132036, 0.46410557, 0.47732505, 0.49830908, 0.53523019,\n",
      "                0.53099429, 0.48668499, 0.44198555, 0.49222208, 0.47453398],\n",
      "               [0.46591801, 0.50662914, 0.46875882, 0.48734997, 0.51836574,\n",
      "                0.50722266, 0.48943577, 0.49730095, 0.47944075, 0.48623693]])\n",
      "        Coordinates:\n",
      "          * unit     (unit) int64 24B 0 1 2\n",
      "          * 0        (0) float64 80B 0.045 0.135 0.225 0.315 ... 0.585 0.675 0.765 0.855\n",
      "        Attributes:\n",
      "            occupancy:  [100. 100. 100. 100. 100. 100. 100. 100. 100. 100.]\n",
      "            bin_edges:  [array([0.  , 0.09, 0.18, 0.27, 0.36, 0.45, 0.54, 0.63, 0.72,...\n",
      "    \n"
     ]
    }
   ],
   "source": [
    "print(nap.compute_tuning_curves.__doc__)"
   ]
  },
  {
   "cell_type": "markdown",
   "id": "62cf922a",
   "metadata": {},
   "source": [
    "<div class=\"render-all\">\n",
    "\n",
    "**Question**: Can you compute the response (i.e. firing rate) of the units in `tsgroup` as function of the feature `tsd1` using the function `nap.compute_tuning_curves`?\n",
    "\n",
    "</div>"
   ]
  },
  {
   "cell_type": "code",
   "execution_count": 48,
   "id": "52eb93a8",
   "metadata": {},
   "outputs": [
    {
     "data": {
      "text/html": [
       "<div><svg style=\"position: absolute; width: 0; height: 0; overflow: hidden\">\n",
       "<defs>\n",
       "<symbol id=\"icon-database\" viewBox=\"0 0 32 32\">\n",
       "<path d=\"M16 0c-8.837 0-16 2.239-16 5v4c0 2.761 7.163 5 16 5s16-2.239 16-5v-4c0-2.761-7.163-5-16-5z\"></path>\n",
       "<path d=\"M16 17c-8.837 0-16-2.239-16-5v6c0 2.761 7.163 5 16 5s16-2.239 16-5v-6c0 2.761-7.163 5-16 5z\"></path>\n",
       "<path d=\"M16 26c-8.837 0-16-2.239-16-5v6c0 2.761 7.163 5 16 5s16-2.239 16-5v-6c0 2.761-7.163 5-16 5z\"></path>\n",
       "</symbol>\n",
       "<symbol id=\"icon-file-text2\" viewBox=\"0 0 32 32\">\n",
       "<path d=\"M28.681 7.159c-0.694-0.947-1.662-2.053-2.724-3.116s-2.169-2.030-3.116-2.724c-1.612-1.182-2.393-1.319-2.841-1.319h-15.5c-1.378 0-2.5 1.121-2.5 2.5v27c0 1.378 1.122 2.5 2.5 2.5h23c1.378 0 2.5-1.122 2.5-2.5v-19.5c0-0.448-0.137-1.23-1.319-2.841zM24.543 5.457c0.959 0.959 1.712 1.825 2.268 2.543h-4.811v-4.811c0.718 0.556 1.584 1.309 2.543 2.268zM28 29.5c0 0.271-0.229 0.5-0.5 0.5h-23c-0.271 0-0.5-0.229-0.5-0.5v-27c0-0.271 0.229-0.5 0.5-0.5 0 0 15.499-0 15.5 0v7c0 0.552 0.448 1 1 1h7v19.5z\"></path>\n",
       "<path d=\"M23 26h-14c-0.552 0-1-0.448-1-1s0.448-1 1-1h14c0.552 0 1 0.448 1 1s-0.448 1-1 1z\"></path>\n",
       "<path d=\"M23 22h-14c-0.552 0-1-0.448-1-1s0.448-1 1-1h14c0.552 0 1 0.448 1 1s-0.448 1-1 1z\"></path>\n",
       "<path d=\"M23 18h-14c-0.552 0-1-0.448-1-1s0.448-1 1-1h14c0.552 0 1 0.448 1 1s-0.448 1-1 1z\"></path>\n",
       "</symbol>\n",
       "</defs>\n",
       "</svg>\n",
       "<style>/* CSS stylesheet for displaying xarray objects in notebooks */\n",
       "\n",
       ":root {\n",
       "  --xr-font-color0: var(\n",
       "    --jp-content-font-color0,\n",
       "    var(--pst-color-text-base rgba(0, 0, 0, 1))\n",
       "  );\n",
       "  --xr-font-color2: var(\n",
       "    --jp-content-font-color2,\n",
       "    var(--pst-color-text-base, rgba(0, 0, 0, 0.54))\n",
       "  );\n",
       "  --xr-font-color3: var(\n",
       "    --jp-content-font-color3,\n",
       "    var(--pst-color-text-base, rgba(0, 0, 0, 0.38))\n",
       "  );\n",
       "  --xr-border-color: var(\n",
       "    --jp-border-color2,\n",
       "    hsl(from var(--pst-color-on-background, white) h s calc(l - 10))\n",
       "  );\n",
       "  --xr-disabled-color: var(\n",
       "    --jp-layout-color3,\n",
       "    hsl(from var(--pst-color-on-background, white) h s calc(l - 40))\n",
       "  );\n",
       "  --xr-background-color: var(\n",
       "    --jp-layout-color0,\n",
       "    var(--pst-color-on-background, white)\n",
       "  );\n",
       "  --xr-background-color-row-even: var(\n",
       "    --jp-layout-color1,\n",
       "    hsl(from var(--pst-color-on-background, white) h s calc(l - 5))\n",
       "  );\n",
       "  --xr-background-color-row-odd: var(\n",
       "    --jp-layout-color2,\n",
       "    hsl(from var(--pst-color-on-background, white) h s calc(l - 15))\n",
       "  );\n",
       "}\n",
       "\n",
       "html[theme=\"dark\"],\n",
       "html[data-theme=\"dark\"],\n",
       "body[data-theme=\"dark\"],\n",
       "body.vscode-dark {\n",
       "  --xr-font-color0: var(\n",
       "    --jp-content-font-color0,\n",
       "    var(--pst-color-text-base, rgba(255, 255, 255, 1))\n",
       "  );\n",
       "  --xr-font-color2: var(\n",
       "    --jp-content-font-color2,\n",
       "    var(--pst-color-text-base, rgba(255, 255, 255, 0.54))\n",
       "  );\n",
       "  --xr-font-color3: var(\n",
       "    --jp-content-font-color3,\n",
       "    var(--pst-color-text-base, rgba(255, 255, 255, 0.38))\n",
       "  );\n",
       "  --xr-border-color: var(\n",
       "    --jp-border-color2,\n",
       "    hsl(from var(--pst-color-on-background, #111111) h s calc(l + 10))\n",
       "  );\n",
       "  --xr-disabled-color: var(\n",
       "    --jp-layout-color3,\n",
       "    hsl(from var(--pst-color-on-background, #111111) h s calc(l + 40))\n",
       "  );\n",
       "  --xr-background-color: var(\n",
       "    --jp-layout-color0,\n",
       "    var(--pst-color-on-background, #111111)\n",
       "  );\n",
       "  --xr-background-color-row-even: var(\n",
       "    --jp-layout-color1,\n",
       "    hsl(from var(--pst-color-on-background, #111111) h s calc(l + 5))\n",
       "  );\n",
       "  --xr-background-color-row-odd: var(\n",
       "    --jp-layout-color2,\n",
       "    hsl(from var(--pst-color-on-background, #111111) h s calc(l + 15))\n",
       "  );\n",
       "}\n",
       "\n",
       ".xr-wrap {\n",
       "  display: block !important;\n",
       "  min-width: 300px;\n",
       "  max-width: 700px;\n",
       "  line-height: 1.6;\n",
       "}\n",
       "\n",
       ".xr-text-repr-fallback {\n",
       "  /* fallback to plain text repr when CSS is not injected (untrusted notebook) */\n",
       "  display: none;\n",
       "}\n",
       "\n",
       ".xr-header {\n",
       "  padding-top: 6px;\n",
       "  padding-bottom: 6px;\n",
       "  margin-bottom: 4px;\n",
       "  border-bottom: solid 1px var(--xr-border-color);\n",
       "}\n",
       "\n",
       ".xr-header > div,\n",
       ".xr-header > ul {\n",
       "  display: inline;\n",
       "  margin-top: 0;\n",
       "  margin-bottom: 0;\n",
       "}\n",
       "\n",
       ".xr-obj-type,\n",
       ".xr-obj-name,\n",
       ".xr-group-name {\n",
       "  margin-left: 2px;\n",
       "  margin-right: 10px;\n",
       "}\n",
       "\n",
       ".xr-group-name::before {\n",
       "  content: \"📁\";\n",
       "  padding-right: 0.3em;\n",
       "}\n",
       "\n",
       ".xr-group-name,\n",
       ".xr-obj-type {\n",
       "  color: var(--xr-font-color2);\n",
       "}\n",
       "\n",
       ".xr-sections {\n",
       "  padding-left: 0 !important;\n",
       "  display: grid;\n",
       "  grid-template-columns: 150px auto auto 1fr 0 20px 0 20px;\n",
       "  margin-block-start: 0;\n",
       "  margin-block-end: 0;\n",
       "}\n",
       "\n",
       ".xr-section-item {\n",
       "  display: contents;\n",
       "}\n",
       "\n",
       ".xr-section-item input {\n",
       "  display: inline-block;\n",
       "  opacity: 0;\n",
       "  height: 0;\n",
       "  margin: 0;\n",
       "}\n",
       "\n",
       ".xr-section-item input + label {\n",
       "  color: var(--xr-disabled-color);\n",
       "  border: 2px solid transparent !important;\n",
       "}\n",
       "\n",
       ".xr-section-item input:enabled + label {\n",
       "  cursor: pointer;\n",
       "  color: var(--xr-font-color2);\n",
       "}\n",
       "\n",
       ".xr-section-item input:focus + label {\n",
       "  border: 2px solid var(--xr-font-color0) !important;\n",
       "}\n",
       "\n",
       ".xr-section-item input:enabled + label:hover {\n",
       "  color: var(--xr-font-color0);\n",
       "}\n",
       "\n",
       ".xr-section-summary {\n",
       "  grid-column: 1;\n",
       "  color: var(--xr-font-color2);\n",
       "  font-weight: 500;\n",
       "}\n",
       "\n",
       ".xr-section-summary > span {\n",
       "  display: inline-block;\n",
       "  padding-left: 0.5em;\n",
       "}\n",
       "\n",
       ".xr-section-summary-in:disabled + label {\n",
       "  color: var(--xr-font-color2);\n",
       "}\n",
       "\n",
       ".xr-section-summary-in + label:before {\n",
       "  display: inline-block;\n",
       "  content: \"►\";\n",
       "  font-size: 11px;\n",
       "  width: 15px;\n",
       "  text-align: center;\n",
       "}\n",
       "\n",
       ".xr-section-summary-in:disabled + label:before {\n",
       "  color: var(--xr-disabled-color);\n",
       "}\n",
       "\n",
       ".xr-section-summary-in:checked + label:before {\n",
       "  content: \"▼\";\n",
       "}\n",
       "\n",
       ".xr-section-summary-in:checked + label > span {\n",
       "  display: none;\n",
       "}\n",
       "\n",
       ".xr-section-summary,\n",
       ".xr-section-inline-details {\n",
       "  padding-top: 4px;\n",
       "}\n",
       "\n",
       ".xr-section-inline-details {\n",
       "  grid-column: 2 / -1;\n",
       "}\n",
       "\n",
       ".xr-section-details {\n",
       "  display: none;\n",
       "  grid-column: 1 / -1;\n",
       "  margin-top: 4px;\n",
       "  margin-bottom: 5px;\n",
       "}\n",
       "\n",
       ".xr-section-summary-in:checked ~ .xr-section-details {\n",
       "  display: contents;\n",
       "}\n",
       "\n",
       ".xr-group-box {\n",
       "  display: inline-grid;\n",
       "  grid-template-columns: 0px 20px auto;\n",
       "  width: 100%;\n",
       "}\n",
       "\n",
       ".xr-group-box-vline {\n",
       "  grid-column-start: 1;\n",
       "  border-right: 0.2em solid;\n",
       "  border-color: var(--xr-border-color);\n",
       "  width: 0px;\n",
       "}\n",
       "\n",
       ".xr-group-box-hline {\n",
       "  grid-column-start: 2;\n",
       "  grid-row-start: 1;\n",
       "  height: 1em;\n",
       "  width: 20px;\n",
       "  border-bottom: 0.2em solid;\n",
       "  border-color: var(--xr-border-color);\n",
       "}\n",
       "\n",
       ".xr-group-box-contents {\n",
       "  grid-column-start: 3;\n",
       "}\n",
       "\n",
       ".xr-array-wrap {\n",
       "  grid-column: 1 / -1;\n",
       "  display: grid;\n",
       "  grid-template-columns: 20px auto;\n",
       "}\n",
       "\n",
       ".xr-array-wrap > label {\n",
       "  grid-column: 1;\n",
       "  vertical-align: top;\n",
       "}\n",
       "\n",
       ".xr-preview {\n",
       "  color: var(--xr-font-color3);\n",
       "}\n",
       "\n",
       ".xr-array-preview,\n",
       ".xr-array-data {\n",
       "  padding: 0 5px !important;\n",
       "  grid-column: 2;\n",
       "}\n",
       "\n",
       ".xr-array-data,\n",
       ".xr-array-in:checked ~ .xr-array-preview {\n",
       "  display: none;\n",
       "}\n",
       "\n",
       ".xr-array-in:checked ~ .xr-array-data,\n",
       ".xr-array-preview {\n",
       "  display: inline-block;\n",
       "}\n",
       "\n",
       ".xr-dim-list {\n",
       "  display: inline-block !important;\n",
       "  list-style: none;\n",
       "  padding: 0 !important;\n",
       "  margin: 0;\n",
       "}\n",
       "\n",
       ".xr-dim-list li {\n",
       "  display: inline-block;\n",
       "  padding: 0;\n",
       "  margin: 0;\n",
       "}\n",
       "\n",
       ".xr-dim-list:before {\n",
       "  content: \"(\";\n",
       "}\n",
       "\n",
       ".xr-dim-list:after {\n",
       "  content: \")\";\n",
       "}\n",
       "\n",
       ".xr-dim-list li:not(:last-child):after {\n",
       "  content: \",\";\n",
       "  padding-right: 5px;\n",
       "}\n",
       "\n",
       ".xr-has-index {\n",
       "  font-weight: bold;\n",
       "}\n",
       "\n",
       ".xr-var-list,\n",
       ".xr-var-item {\n",
       "  display: contents;\n",
       "}\n",
       "\n",
       ".xr-var-item > div,\n",
       ".xr-var-item label,\n",
       ".xr-var-item > .xr-var-name span {\n",
       "  background-color: var(--xr-background-color-row-even);\n",
       "  border-color: var(--xr-background-color-row-odd);\n",
       "  margin-bottom: 0;\n",
       "  padding-top: 2px;\n",
       "}\n",
       "\n",
       ".xr-var-item > .xr-var-name:hover span {\n",
       "  padding-right: 5px;\n",
       "}\n",
       "\n",
       ".xr-var-list > li:nth-child(odd) > div,\n",
       ".xr-var-list > li:nth-child(odd) > label,\n",
       ".xr-var-list > li:nth-child(odd) > .xr-var-name span {\n",
       "  background-color: var(--xr-background-color-row-odd);\n",
       "  border-color: var(--xr-background-color-row-even);\n",
       "}\n",
       "\n",
       ".xr-var-name {\n",
       "  grid-column: 1;\n",
       "}\n",
       "\n",
       ".xr-var-dims {\n",
       "  grid-column: 2;\n",
       "}\n",
       "\n",
       ".xr-var-dtype {\n",
       "  grid-column: 3;\n",
       "  text-align: right;\n",
       "  color: var(--xr-font-color2);\n",
       "}\n",
       "\n",
       ".xr-var-preview {\n",
       "  grid-column: 4;\n",
       "}\n",
       "\n",
       ".xr-index-preview {\n",
       "  grid-column: 2 / 5;\n",
       "  color: var(--xr-font-color2);\n",
       "}\n",
       "\n",
       ".xr-var-name,\n",
       ".xr-var-dims,\n",
       ".xr-var-dtype,\n",
       ".xr-preview,\n",
       ".xr-attrs dt {\n",
       "  white-space: nowrap;\n",
       "  overflow: hidden;\n",
       "  text-overflow: ellipsis;\n",
       "  padding-right: 10px;\n",
       "}\n",
       "\n",
       ".xr-var-name:hover,\n",
       ".xr-var-dims:hover,\n",
       ".xr-var-dtype:hover,\n",
       ".xr-attrs dt:hover {\n",
       "  overflow: visible;\n",
       "  width: auto;\n",
       "  z-index: 1;\n",
       "}\n",
       "\n",
       ".xr-var-attrs,\n",
       ".xr-var-data,\n",
       ".xr-index-data {\n",
       "  display: none;\n",
       "  border-top: 2px dotted var(--xr-background-color);\n",
       "  padding-bottom: 20px !important;\n",
       "  padding-top: 10px !important;\n",
       "}\n",
       "\n",
       ".xr-var-attrs-in + label,\n",
       ".xr-var-data-in + label,\n",
       ".xr-index-data-in + label {\n",
       "  padding: 0 1px;\n",
       "}\n",
       "\n",
       ".xr-var-attrs-in:checked ~ .xr-var-attrs,\n",
       ".xr-var-data-in:checked ~ .xr-var-data,\n",
       ".xr-index-data-in:checked ~ .xr-index-data {\n",
       "  display: block;\n",
       "}\n",
       "\n",
       ".xr-var-data > table {\n",
       "  float: right;\n",
       "}\n",
       "\n",
       ".xr-var-data > pre,\n",
       ".xr-index-data > pre,\n",
       ".xr-var-data > table > tbody > tr {\n",
       "  background-color: transparent !important;\n",
       "}\n",
       "\n",
       ".xr-var-name span,\n",
       ".xr-var-data,\n",
       ".xr-index-name div,\n",
       ".xr-index-data,\n",
       ".xr-attrs {\n",
       "  padding-left: 25px !important;\n",
       "}\n",
       "\n",
       ".xr-attrs,\n",
       ".xr-var-attrs,\n",
       ".xr-var-data,\n",
       ".xr-index-data {\n",
       "  grid-column: 1 / -1;\n",
       "}\n",
       "\n",
       "dl.xr-attrs {\n",
       "  padding: 0;\n",
       "  margin: 0;\n",
       "  display: grid;\n",
       "  grid-template-columns: 125px auto;\n",
       "}\n",
       "\n",
       ".xr-attrs dt,\n",
       ".xr-attrs dd {\n",
       "  padding: 0;\n",
       "  margin: 0;\n",
       "  float: left;\n",
       "  padding-right: 10px;\n",
       "  width: auto;\n",
       "}\n",
       "\n",
       ".xr-attrs dt {\n",
       "  font-weight: normal;\n",
       "  grid-column: 1;\n",
       "}\n",
       "\n",
       ".xr-attrs dt:hover span {\n",
       "  display: inline-block;\n",
       "  background: var(--xr-background-color);\n",
       "  padding-right: 10px;\n",
       "}\n",
       "\n",
       ".xr-attrs dd {\n",
       "  grid-column: 2;\n",
       "  white-space: pre-wrap;\n",
       "  word-break: break-all;\n",
       "}\n",
       "\n",
       ".xr-icon-database,\n",
       ".xr-icon-file-text2,\n",
       ".xr-no-icon {\n",
       "  display: inline-block;\n",
       "  vertical-align: middle;\n",
       "  width: 1em;\n",
       "  height: 1.5em !important;\n",
       "  stroke-width: 0;\n",
       "  stroke: currentColor;\n",
       "  fill: currentColor;\n",
       "}\n",
       "\n",
       ".xr-var-attrs-in:checked + label > .xr-icon-file-text2,\n",
       ".xr-var-data-in:checked + label > .xr-icon-database,\n",
       ".xr-index-data-in:checked + label > .xr-icon-database {\n",
       "  color: var(--xr-font-color0);\n",
       "  filter: drop-shadow(1px 1px 5px var(--xr-font-color2));\n",
       "  stroke-width: 0.8px;\n",
       "}\n",
       "</style><pre class='xr-text-repr-fallback'>&lt;xarray.DataArray (unit: 3, feat1: 5)&gt; Size: 120B\n",
       "array([[0.        , 0.        , 0.        , 0.        , 0.        ],\n",
       "       [0.        , 0.        , 0.11538462, 0.07142857, 0.        ],\n",
       "       [1.6       , 0.86363636, 1.        , 0.78571429, 1.5       ]])\n",
       "Coordinates:\n",
       "  * unit     (unit) int64 24B 0 1 2\n",
       "  * feat1    (feat1) float64 40B -1.609 -0.6891 0.2312 1.151 2.072\n",
       "Attributes:\n",
       "    occupancy:  [ 5. 22. 26. 14.  4.]\n",
       "    bin_edges:  [array([-2.06947857, -1.14922416, -0.22896976,  0.69128464,  ...\n",
       "    fs:         1.0</pre><div class='xr-wrap' style='display:none'><div class='xr-header'><div class='xr-obj-type'>xarray.DataArray</div><div class='xr-obj-name'></div><ul class='xr-dim-list'><li><span class='xr-has-index'>unit</span>: 3</li><li><span class='xr-has-index'>feat1</span>: 5</li></ul></div><ul class='xr-sections'><li class='xr-section-item'><div class='xr-array-wrap'><input id='section-243fdfcc-c2af-49b1-a447-df4376a06f6f' class='xr-array-in' type='checkbox' checked><label for='section-243fdfcc-c2af-49b1-a447-df4376a06f6f' title='Show/hide data repr'><svg class='icon xr-icon-database'><use xlink:href='#icon-database'></use></svg></label><div class='xr-array-preview xr-preview'><span>0.0 0.0 0.0 0.0 0.0 0.0 0.0 ... 0.07143 0.0 1.6 0.8636 1.0 0.7857 1.5</span></div><div class='xr-array-data'><pre>array([[0.        , 0.        , 0.        , 0.        , 0.        ],\n",
       "       [0.        , 0.        , 0.11538462, 0.07142857, 0.        ],\n",
       "       [1.6       , 0.86363636, 1.        , 0.78571429, 1.5       ]])</pre></div></div></li><li class='xr-section-item'><input id='section-74d8f2b0-e11b-4962-9c8d-0484578ab10c' class='xr-section-summary-in' type='checkbox'  checked><label for='section-74d8f2b0-e11b-4962-9c8d-0484578ab10c' class='xr-section-summary' >Coordinates: <span>(2)</span></label><div class='xr-section-inline-details'></div><div class='xr-section-details'><ul class='xr-var-list'><li class='xr-var-item'><div class='xr-var-name'><span class='xr-has-index'>unit</span></div><div class='xr-var-dims'>(unit)</div><div class='xr-var-dtype'>int64</div><div class='xr-var-preview xr-preview'>0 1 2</div><input id='attrs-27368d62-4a0c-4e69-b9ad-932433f9dde9' class='xr-var-attrs-in' type='checkbox' disabled><label for='attrs-27368d62-4a0c-4e69-b9ad-932433f9dde9' title='Show/Hide attributes'><svg class='icon xr-icon-file-text2'><use xlink:href='#icon-file-text2'></use></svg></label><input id='data-e5985ab2-660e-4772-9e1f-0921460bf495' class='xr-var-data-in' type='checkbox'><label for='data-e5985ab2-660e-4772-9e1f-0921460bf495' title='Show/Hide data repr'><svg class='icon xr-icon-database'><use xlink:href='#icon-database'></use></svg></label><div class='xr-var-attrs'><dl class='xr-attrs'></dl></div><div class='xr-var-data'><pre>array([0, 1, 2])</pre></div></li><li class='xr-var-item'><div class='xr-var-name'><span class='xr-has-index'>feat1</span></div><div class='xr-var-dims'>(feat1)</div><div class='xr-var-dtype'>float64</div><div class='xr-var-preview xr-preview'>-1.609 -0.6891 0.2312 1.151 2.072</div><input id='attrs-290675d9-7c80-4a88-924e-375ed384ffa7' class='xr-var-attrs-in' type='checkbox' disabled><label for='attrs-290675d9-7c80-4a88-924e-375ed384ffa7' title='Show/Hide attributes'><svg class='icon xr-icon-file-text2'><use xlink:href='#icon-file-text2'></use></svg></label><input id='data-183b7bf6-7802-43bf-914b-327b15b11e40' class='xr-var-data-in' type='checkbox'><label for='data-183b7bf6-7802-43bf-914b-327b15b11e40' title='Show/Hide data repr'><svg class='icon xr-icon-database'><use xlink:href='#icon-database'></use></svg></label><div class='xr-var-attrs'><dl class='xr-attrs'></dl></div><div class='xr-var-data'><pre>array([-1.609351, -0.689097,  0.231157,  1.151412,  2.071666])</pre></div></li></ul></div></li><li class='xr-section-item'><input id='section-16f323fe-bc57-432f-947a-99c0c66436ca' class='xr-section-summary-in' type='checkbox'  checked><label for='section-16f323fe-bc57-432f-947a-99c0c66436ca' class='xr-section-summary' >Attributes: <span>(3)</span></label><div class='xr-section-inline-details'></div><div class='xr-section-details'><dl class='xr-attrs'><dt><span>occupancy :</span></dt><dd>[ 5. 22. 26. 14.  4.]</dd><dt><span>bin_edges :</span></dt><dd>[array([-2.06947857, -1.14922416, -0.22896976,  0.69128464,  1.61153905,\n",
       "        2.53179345])]</dd><dt><span>fs :</span></dt><dd>1.0</dd></dl></div></li></ul></div></div>"
      ],
      "text/plain": [
       "<xarray.DataArray (unit: 3, feat1: 5)> Size: 120B\n",
       "array([[0.        , 0.        , 0.        , 0.        , 0.        ],\n",
       "       [0.        , 0.        , 0.11538462, 0.07142857, 0.        ],\n",
       "       [1.6       , 0.86363636, 1.        , 0.78571429, 1.5       ]])\n",
       "Coordinates:\n",
       "  * unit     (unit) int64 24B 0 1 2\n",
       "  * feat1    (feat1) float64 40B -1.609 -0.6891 0.2312 1.151 2.072\n",
       "Attributes:\n",
       "    occupancy:  [ 5. 22. 26. 14.  4.]\n",
       "    bin_edges:  [array([-2.06947857, -1.14922416, -0.22896976,  0.69128464,  ...\n",
       "    fs:         1.0"
      ]
     },
     "execution_count": 48,
     "metadata": {},
     "output_type": "execute_result"
    }
   ],
   "source": [
    "tc = nap.compute_tuning_curves(tsgroup, tsd1, bins=5, feature_names=[\"feat1\"])\n",
    "tc"
   ]
  },
  {
   "cell_type": "markdown",
   "id": "f801db5b",
   "metadata": {},
   "source": [
    "<div class=\"render-all\">\n",
    "\n",
    "The output is an [xarray](https://docs.xarray.dev/en/stable/) object. It is a wrapper of numpy array with extra attributes. It allows to give coordinates to each dimensions as well as attaching attributes. We can make the output look better by labelling the feature we used.\n",
    "\n",
    "The coordinates can be accessed with the `coords` attribute. The feature position (i.e. center of the bin) can be accessed with the attribute.\n",
    "\n",
    "**Question**: Can you print the underlying the units number, bin center and bin edges of the tuning curve xarray object?\n",
    "\n",
    "</div>"
   ]
  },
  {
   "cell_type": "code",
   "execution_count": 49,
   "id": "99fec9d5",
   "metadata": {},
   "outputs": [
    {
     "name": "stdout",
     "output_type": "stream",
     "text": [
      "[0 1 2]\n",
      "[-1.60935137 -0.68909696  0.23115744  1.15141185  2.07166625]\n",
      "[ 5. 22. 26. 14.  4.]\n",
      "[array([-2.06947857, -1.14922416, -0.22896976,  0.69128464,  1.61153905,\n",
      "        2.53179345])]\n",
      "1.0\n"
     ]
    }
   ],
   "source": [
    "print(tc.unit.values)\n",
    "print(tc.feat1.values)\n",
    "print(tc.occupancy)\n",
    "print(tc.bin_edges)\n",
    "print(tc.fs)"
   ]
  },
  {
   "cell_type": "markdown",
   "id": "2d57e9d9",
   "metadata": {},
   "source": [
    "<div class=\"render-all\">\n",
    "\n",
    "**Question**: Can you plot the tuning curves for all units?\n",
    "\n",
    "</div>"
   ]
  },
  {
   "cell_type": "code",
   "execution_count": 50,
   "id": "738dac44",
   "metadata": {},
   "outputs": [
    {
     "data": {
      "text/plain": [
       "[<matplotlib.lines.Line2D at 0x7fc6f43412b0>,\n",
       " <matplotlib.lines.Line2D at 0x7fc6743b04d0>,\n",
       " <matplotlib.lines.Line2D at 0x7fc6f4343380>]"
      ]
     },
     "execution_count": 50,
     "metadata": {},
     "output_type": "execute_result"
    },
    {
     "data": {
      "image/png": "[encoded data removed]",
      "text/plain": [
       "<Figure size 640x480 with 1 Axes>"
      ]
     },
     "metadata": {},
     "output_type": "display_data"
    }
   ],
   "source": [
    "# tc.plot()\n",
    "# tc.plot(row=\"unit\")\n",
    "# tc.plot(col=\"unit\")\n",
    "# tc[1].plot()\n",
    "# plt.plot(tc[1].feat1, tc[1].values)\n",
    "plt.plot(tc.feat1, tc.values.T)\n"
   ]
  },
  {
   "cell_type": "markdown",
   "id": "3bb4e0c6",
   "metadata": {},
   "source": [
    "## Important\n",
    "\n",
    "<div class=\"render-all\">\n",
    "\n",
    "**Question:** Does this work?\n",
    "If not, please ask a TA.\n",
    "\n",
    "</div>"
   ]
  },
  {
   "cell_type": "code",
   "execution_count": 51,
   "id": "63422576",
   "metadata": {
    "tags": [
     "render-all"
    ]
   },
   "outputs": [
    {
     "name": "stderr",
     "output_type": "stream",
     "text": [
      "Downloading file 'Mouse32-140822.nwb' from 'https://osf.io/download/jb2gd/' to '/home/agent/workspace/rorse_ccn-software-sfn-2025_main/lib/python3.12/data'.\n"
     ]
    },
    {
     "name": "stdout",
     "output_type": "stream",
     "text": [
      "/home/agent/workspace/rorse_ccn-software-sfn-2025_main/lib/python3.12/data/Mouse32-140822.nwb\n"
     ]
    }
   ],
   "source": [
    "import workshop_utils\n",
    "path = workshop_utils.fetch_data(\"Mouse32-140822.nwb\")\n",
    "print(path)"
   ]
  }
 ],
 "metadata": {
  "jupytext": {
   "text_representation": {
    "extension": ".md",
    "format_name": "myst",
    "format_version": 0.13,
    "jupytext_version": "1.18.1"
   }
  },
  "kernelspec": {
   "display_name": "Python 3 (ipykernel)",
   "language": "python",
   "name": "python3"
  },
  "language_info": {
   "codemirror_mode": {
    "name": "ipython",
    "version": 3
   },
   "file_extension": ".py",
   "mimetype": "text/x-python",
   "name": "python",
   "nbconvert_exporter": "python",
   "pygments_lexer": "ipython3",
   "version": "3.12.3"
  },
  "source_map": [
   14,
   18,
   51,
   58,
   62,
   81,
   95,
   99,
   107,
   109,
   117,
   119,
   127,
   129,
   137,
   140,
   150,
   154,
   164,
   166,
   174,
   176,
   188,
   190,
   200,
   202,
   210,
   213,
   223,
   227,
   234,
   239,
   244,
   251,
   253,
   259,
   263,
   270,
   272,
   279,
   281,
   288,
   290,
   297,
   299,
   319,
   321,
   328,
   330,
   346,
   348,
   358,
   360,
   376,
   378,
   385,
   387,
   397,
   400,
   409,
   412,
   419,
   425,
   436,
   442,
   449,
   451,
   455,
   462,
   469,
   471,
   478,
   481,
   489,
   491,
   502,
   505,
   511,
   517,
   527,
   529,
   537,
   542,
   552,
   554,
   562,
   566,
   575,
   579,
   586,
   591,
   605,
   607,
   615,
   618,
   630,
   636,
   644,
   652,
   663
  ]
 },
 "nbformat": 4,
 "nbformat_minor": 5
}