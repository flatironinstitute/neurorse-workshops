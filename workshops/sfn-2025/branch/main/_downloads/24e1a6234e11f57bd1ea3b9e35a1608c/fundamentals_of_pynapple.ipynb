{
 "cells": [
  {
   "cell_type": "code",
   "execution_count": 1,
   "id": "6fcbe53a",
   "metadata": {
    "tags": [
     "render-all"
    ]
   },
   "outputs": [],
   "source": [
    "%matplotlib inline"
   ]
  },
  {
   "cell_type": "markdown",
   "id": "d3ccb1ed",
   "metadata": {},
   "source": [
    ":::{admonition} Download\n",
    ":class: important render-all\n",
    "\n",
    "This notebook can be downloaded as **{nb-download}`fundamentals_of_pynapple.ipynb`**. See the button at the top right to download as markdown or pdf.\n",
    ":::\n",
    "\n",
    "\n",
    "<div class=\"render-all\">\n",
    "\n",
    "# Learning the fundamentals of pynapple\n",
    "\n",
    "## Learning objectives\n",
    "\n",
    "\n",
    "- Instantiate the pynapple objects\n",
    "- Make the pynapple objects interact\n",
    "- Use numpy with pynapple\n",
    "- Slicing pynapple objects\n",
    "- Adding metadata to pynapple objects\n",
    "- Learn the core functions of pynapple\n",
    "\n",
    "The pynapple documentation can be found [here](https://pynapple.org).\n",
    "\n",
    "The documentation for objects and method of the core of pynapple is [here](https://pynapple.org/api.html).\n",
    "\n",
    "\n",
    "Let's start by importing the pynapple package and matplotlib to see if everything is correctly installed.\n",
    "If an import fails, you can do `!pip install pynapple matplotlib` in a cell to fix it.\n",
    "\n",
    "</div>"
   ]
  },
  {
   "cell_type": "code",
   "execution_count": 2,
   "id": "22b831fe",
   "metadata": {
    "tags": [
     "render-all"
    ]
   },
   "outputs": [
    {
     "name": "stderr",
     "output_type": "stream",
     "text": [
      "WARNING:2025-10-30 20:11:02,679:jax._src.xla_bridge:850: An NVIDIA GPU may be present on this machine, but a CUDA-enabled jaxlib is not installed. Falling back to cpu.\n"
     ]
    },
    {
     "name": "stderr",
     "output_type": "stream",
     "text": [
      "/home/agent/workspace/rorse_ccn-software-sfn-2025_main/lib/python3.12/site-packages/nemos/_documentation_utils/plotting.py:39: UserWarning: plotting functions contained within `_documentation_utils` are intended for nemos's documentation. Feel free to use them, but they will probably not work as intended with other datasets / in other contexts.\n",
      "  warnings.warn(\n"
     ]
    }
   ],
   "source": [
    "import pynapple as nap\n",
    "import matplotlib.pyplot as plt\n",
    "import numpy as np\n",
    "import workshop_utils"
   ]
  },
  {
   "cell_type": "markdown",
   "id": "6c9d1eab",
   "metadata": {},
   "source": [
    "For this notebook we will work with fake data. The following cells generate a set of variables that we will use to create the different pynapple objects."
   ]
  },
  {
   "cell_type": "code",
   "execution_count": 3,
   "id": "fab9f09c",
   "metadata": {
    "tags": [
     "render-all"
    ]
   },
   "outputs": [],
   "source": [
    "var1 = np.random.randn(100) # Variable 1\n",
    "tsp1 = np.arange(100) # The timesteps of variable 1\n",
    "\n",
    "var2 = np.random.randn(100, 3) # Variable 2\n",
    "tsp2 = np.arange(0, 100, 1) # The timesteps of variable 2\n",
    "col2 = ['pineapple', 'banana', 'tomato'] # The name of each columns of var2\n",
    "\n",
    "var3 = np.random.randn(1000, 4, 5) # Variable 3\n",
    "tsp3 = np.arange(0, 100, 0.1) # The timesteps of variable 3\n",
    "\n",
    "random_times_1 = np.array([3.14, 37.0, 42.0])\n",
    "random_times_2 = np.array([10, 25, 50, 70])\n",
    "random_times_3 = np.sort(np.random.uniform(10, 80, 100))\n",
    "\n",
    "starts_1 = np.array([10000, 60000, 90000]) # starts of an epoch in `ms`\n",
    "ends_1 = np.array([20000, 80000, 95000]) # ends in `ms`"
   ]
  },
  {
   "cell_type": "markdown",
   "id": "96e5af3b",
   "metadata": {},
   "source": [
    "## Instantiate pynapple objects \n",
    "\n",
    "This is a lot of variables to carry around. pynapple can help reduce the size of the workspace. Here we will instantiate all the different pynapple objects with the variables created above.\n",
    "\n",
    "Let's start with the simple ones.\n",
    "\n",
    "<div class=\"render-all\">\n",
    "\n",
    "**Question:** Can you instantiate the right pynapple objects for `var1`, `var2` and `var3`? Objects should be named respectively `tsd1`, `tsd2` and `tsd3`. Don't forget the column name for `var2`.\n",
    "\n",
    "</div>"
   ]
  },
  {
   "cell_type": "code",
   "execution_count": 4,
   "id": "bef53a5a",
   "metadata": {},
   "outputs": [],
   "source": [
    "tsd1 = nap.Tsd(t=tsp1, d=var1)\n",
    "tsd2 = nap.TsdFrame(t=tsp2, d=var2, columns = col2)\n",
    "tsd3 = nap.TsdTensor(t=tsp3, d=var3)"
   ]
  },
  {
   "cell_type": "markdown",
   "id": "0888f33d",
   "metadata": {},
   "source": [
    "<div class=\"render-all\">\n",
    "\n",
    "**Question:** Can you print `tsd1`?\n",
    "\n",
    "</div>"
   ]
  },
  {
   "cell_type": "code",
   "execution_count": 5,
   "id": "d2a5cce9",
   "metadata": {},
   "outputs": [
    {
     "name": "stdout",
     "output_type": "stream",
     "text": [
      "Time (s)\n",
      "----------  -----------\n",
      "0.0          0.160469\n",
      "1.0         -0.706723\n",
      "2.0         -0.054591\n",
      "3.0         -0.355368\n",
      "4.0          2.95019\n",
      "5.0         -2.90054\n",
      "6.0         -0.0959175\n",
      "...\n",
      "93.0         0.00356826\n",
      "94.0         0.89547\n",
      "95.0         0.972098\n",
      "96.0        -0.827093\n",
      "97.0         0.0238298\n",
      "98.0        -0.985306\n",
      "99.0         1.34717\n",
      "dtype: float64, shape: (100,)\n"
     ]
    }
   ],
   "source": [
    "print(tsd1)"
   ]
  },
  {
   "cell_type": "markdown",
   "id": "2c0414d4",
   "metadata": {},
   "source": [
    "<div class=\"render-all\">\n",
    "\n",
    "**Question:** Can you print `tsd2`?\n",
    "\n",
    "</div>"
   ]
  },
  {
   "cell_type": "code",
   "execution_count": 6,
   "id": "76a13518",
   "metadata": {},
   "outputs": [
    {
     "name": "stdout",
     "output_type": "stream",
     "text": [
      "Time (s)      pineapple       banana      tomato\n",
      "----------  -----------  -----------  ----------\n",
      "0.0           0.368834   -2.35755     -1.54051\n",
      "1.0          -0.235243    0.974776     1.33573\n",
      "2.0          -0.564759   -0.362716    -1.63992\n",
      "3.0          -0.209212   -0.00326554  -0.535518\n",
      "4.0           0.434599   -1.58148     -1.13251\n",
      "5.0          -0.990773    1.3833       0.0257729\n",
      "6.0          -0.799113   -0.903168     0.458069\n",
      "...\n",
      "93.0          0.0769912  -1.37349     -0.543324\n",
      "94.0          1.91517    -0.553143     2.74032\n",
      "95.0          0.333111    0.332221    -1.0007\n",
      "96.0         -0.627296    0.60287     -0.76471\n",
      "97.0          0.285677    2.11861      0.357007\n",
      "98.0          1.15187     2.82259     -1.47441\n",
      "99.0          1.7013      1.17669     -0.349156\n",
      "dtype: float64, shape: (100, 3)\n"
     ]
    }
   ],
   "source": [
    "print(tsd2)"
   ]
  },
  {
   "cell_type": "markdown",
   "id": "a40b73cf",
   "metadata": {},
   "source": [
    "<div class=\"render-all\">\n",
    "\n",
    "**Question:** Can you print `tsd3`?\n",
    "\n",
    "</div>"
   ]
  },
  {
   "cell_type": "code",
   "execution_count": 7,
   "id": "bf160e98",
   "metadata": {},
   "outputs": [
    {
     "name": "stdout",
     "output_type": "stream",
     "text": [
      "Time (s)\n",
      "----------  -------------------------------\n",
      "0.0         [[0.778185 ... 0.50695 ] ...]\n",
      "0.1         [[0.884643 ... 1.036657] ...]\n",
      "0.2         [[0.880755 ... 0.660158] ...]\n",
      "0.3         [[2.177612 ... 0.537348] ...]\n",
      "0.4         [[ 1.3303   ... -0.263166] ...]\n",
      "0.5         [[2.05329  ... 1.805468] ...]\n",
      "0.6         [[-0.004823 ... -0.519887] ...]\n",
      "...\n",
      "99.3        [[-0.539315 ... -1.16312 ] ...]\n",
      "99.4        [[ 0.097741 ... -1.233353] ...]\n",
      "99.5        [[ 0.091302 ... -0.731372] ...]\n",
      "99.6        [[-0.954082 ... -0.107949] ...]\n",
      "99.7        [[0.212003 ... 1.247529] ...]\n",
      "99.8        [[ 0.247837 ... -1.187591] ...]\n",
      "99.9        [[-1.394929 ...  1.938041] ...]\n",
      "dtype: float64, shape: (1000, 4, 5)\n"
     ]
    }
   ],
   "source": [
    "print(tsd3)"
   ]
  },
  {
   "cell_type": "markdown",
   "id": "bda65b3f",
   "metadata": {},
   "source": [
    "<div class=\"render-all\">\n",
    "\n",
    "**Question:** Can you create an `IntervalSet` called `ep` out of `starts_1` and `ends_1` and print it? Be careful, times given above are in `ms`.\n",
    "\n",
    "</div>"
   ]
  },
  {
   "cell_type": "code",
   "execution_count": 8,
   "id": "fcf6eac4",
   "metadata": {},
   "outputs": [
    {
     "name": "stdout",
     "output_type": "stream",
     "text": [
      "  index    start    end\n",
      "      0       10     20\n",
      "      1       60     80\n",
      "      2       90     95\n",
      "shape: (3, 2), time unit: sec.\n"
     ]
    }
   ],
   "source": [
    "ep = nap.IntervalSet(start=starts_1, end=ends_1, time_units='ms')\n",
    "print(ep)"
   ]
  },
  {
   "cell_type": "markdown",
   "id": "0c1cf22e",
   "metadata": {},
   "source": [
    "<div class=\"render-all\">\n",
    "\n",
    "The experiment generated a set of timestamps from 3 different channels.\n",
    "\n",
    "**Question:** Can you instantiate the corresponding pynapple object (`ts1`, `ts2`, `ts3`) for each one of them?\n",
    "\n",
    "</div>"
   ]
  },
  {
   "cell_type": "code",
   "execution_count": 9,
   "id": "89eded87",
   "metadata": {},
   "outputs": [],
   "source": [
    "ts1 = nap.Ts(t=random_times_1)\n",
    "ts2 = nap.Ts(t=random_times_2)\n",
    "ts3 = nap.Ts(t=random_times_3)"
   ]
  },
  {
   "cell_type": "markdown",
   "id": "3c6a328d",
   "metadata": {},
   "source": [
    "<div class=\"render-all\">\n",
    "\n",
    "This is a lot of timestamps to carry around as well.\n",
    "\n",
    "**Question:** Can you instantiate the right pynapple object (call it `tsgroup`) to group them together?\n",
    "\n",
    "</div>"
   ]
  },
  {
   "cell_type": "code",
   "execution_count": 10,
   "id": "94cf36ba",
   "metadata": {},
   "outputs": [],
   "source": [
    "tsgroup = nap.TsGroup({0:ts1, 1:ts2, 2:ts3})"
   ]
  },
  {
   "cell_type": "markdown",
   "id": "fc5a89b2",
   "metadata": {},
   "source": [
    "<div class=\"render-all\">\n",
    "\n",
    "**Question:** ... and print it?\n",
    "\n",
    "</div>"
   ]
  },
  {
   "cell_type": "code",
   "execution_count": 11,
   "id": "8d80dcbd",
   "metadata": {},
   "outputs": [
    {
     "name": "stdout",
     "output_type": "stream",
     "text": [
      "  Index     rate\n",
      "-------  -------\n",
      "      0  0.03921\n",
      "      1  0.05227\n",
      "      2  1.30686\n"
     ]
    }
   ],
   "source": [
    "print(tsgroup)"
   ]
  },
  {
   "cell_type": "markdown",
   "id": "d6270687",
   "metadata": {},
   "source": [
    "## Interaction between pynapple objects \n",
    "\n",
    "We reduced 12 variables in our workspace to 5 using pynapple. Now we can see how the objects interact.\n",
    "\n",
    "<div class=\"render-all\">\n",
    "\n",
    "**Question:** Can you print the `time_support` of `tsgroup`?\n",
    "\n",
    "</div>"
   ]
  },
  {
   "cell_type": "code",
   "execution_count": 12,
   "id": "14b2907e",
   "metadata": {},
   "outputs": [
    {
     "name": "stdout",
     "output_type": "stream",
     "text": [
      "  index    start      end\n",
      "      0     3.14  79.6593\n",
      "shape: (1, 2), time unit: sec.\n"
     ]
    }
   ],
   "source": [
    "print(tsgroup.time_support)"
   ]
  },
  {
   "cell_type": "markdown",
   "id": "07b3e32b",
   "metadata": {},
   "source": [
    "The experiment ran from 0 to 100 seconds and as you can see, the `TsGroup` object shows the rate. But the rate is not accurate as it was computed over the default `time_support`.\n",
    "\n",
    "<div class=\"render-all\">\n",
    "\n",
    "**Question:** can you recreate the `tsgroup` object passing the right `time_support` during initialisation?\n",
    "\n",
    "</div>"
   ]
  },
  {
   "cell_type": "code",
   "execution_count": 13,
   "id": "527bbe0b",
   "metadata": {},
   "outputs": [],
   "source": [
    "tsgroup = nap.TsGroup({0:ts1, 1:tsd2, 2:ts3}, time_support = nap.IntervalSet(0, 100))"
   ]
  },
  {
   "cell_type": "markdown",
   "id": "1cb56bf9",
   "metadata": {},
   "source": [
    "<div class=\"render-all\">\n",
    "\n",
    "**Question:** Can you print the `time_support` and `rate` to see how they changed?\n",
    "\n",
    "</div>"
   ]
  },
  {
   "cell_type": "code",
   "execution_count": 14,
   "id": "a8510f09",
   "metadata": {},
   "outputs": [
    {
     "name": "stdout",
     "output_type": "stream",
     "text": [
      "  index    start    end\n",
      "      0        0    100\n",
      "shape: (1, 2), time unit: sec.\n",
      "0    0.03\n",
      "1    1.00\n",
      "2    1.00\n",
      "Name: rate, dtype: float64\n"
     ]
    }
   ],
   "source": [
    "print(tsgroup.time_support)\n",
    "print(tsgroup.rate)"
   ]
  },
  {
   "cell_type": "markdown",
   "id": "8e26a824",
   "metadata": {},
   "source": [
    "<div class=\"render-all\">\n",
    "\n",
    "Now you realized the variable `tsd1` has some noise. The good signal is between 10 and 30 seconds and  50 and 100.\n",
    "\n",
    "**Question:** Can you create an `IntervalSet` object called `ep_signal` and use it to restrict the variable `tsd1`?\n",
    "\n",
    "</div>"
   ]
  },
  {
   "cell_type": "code",
   "execution_count": 15,
   "id": "273c9add",
   "metadata": {},
   "outputs": [],
   "source": [
    "ep_signal = nap.IntervalSet(start=[10, 50], end=[30, 100])\n",
    "\n",
    "tsd1 = tsd1.restrict(ep_signal)"
   ]
  },
  {
   "cell_type": "markdown",
   "id": "28d58c59",
   "metadata": {},
   "source": [
    "<div class=\"render-all\">\n",
    "You can print `tsd1` to check that the timestamps are in fact within `ep`.\n",
    "You can also check the `time_support` of `tsd1` to see that it has been updated.\n",
    "</div>"
   ]
  },
  {
   "cell_type": "code",
   "execution_count": 16,
   "id": "f61a6018",
   "metadata": {},
   "outputs": [
    {
     "name": "stdout",
     "output_type": "stream",
     "text": [
      "Time (s)\n",
      "----------  -----------\n",
      "10.0        -1.11438\n",
      "11.0         2.03516\n",
      "12.0        -1.76639\n",
      "13.0         0.610948\n",
      "14.0        -1.37578\n",
      "15.0        -1.48208\n",
      "16.0        -1.06138\n",
      "...\n",
      "93.0         0.00356826\n",
      "94.0         0.89547\n",
      "95.0         0.972098\n",
      "96.0        -0.827093\n",
      "97.0         0.0238298\n",
      "98.0        -0.985306\n",
      "99.0         1.34717\n",
      "dtype: float64, shape: (71,)\n",
      "  index    start    end\n",
      "      0       10     30\n",
      "      1       50    100\n",
      "shape: (2, 2), time unit: sec.\n"
     ]
    }
   ],
   "source": [
    "print(tsd1)\n",
    "print(tsd1.time_support)"
   ]
  },
  {
   "cell_type": "code",
   "execution_count": 17,
   "id": "6a1c7dbb",
   "metadata": {
    "tags": [
     "render-all"
    ]
   },
   "outputs": [
    {
     "name": "stdout",
     "output_type": "stream",
     "text": [
      "  index     start       end\n",
      "      0   3.61095   5.71302\n",
      "      1   6.29962   8.13454\n",
      "      2   8.9607   22.3273\n",
      "      3  32.2575   36.8183\n",
      "      4  50.8112   51.2613\n",
      "      5  58.4164   58.5709\n",
      "      6  59.5274   63.152\n",
      "      7  67.8041   77.0662\n",
      "      8  79.4862   83.3638\n",
      "      9  88.1147   98.9837\n",
      "shape: (10, 2), time unit: sec.\n"
     ]
    }
   ],
   "source": [
    "ep_tmp = nap.IntervalSet(np.sort(np.random.uniform(0, 100, 20)))\n",
    "print(ep_tmp)"
   ]
  },
  {
   "cell_type": "markdown",
   "id": "bb2fe0f6",
   "metadata": {},
   "source": [
    "<div class=\"render-all\">\n",
    "\n",
    "**Question:** Can you do the intersection of `ep_signal` and `ep_tmp`?\n",
    "</div>"
   ]
  },
  {
   "cell_type": "code",
   "execution_count": 18,
   "id": "f11317c3",
   "metadata": {},
   "outputs": [
    {
     "name": "stdout",
     "output_type": "stream",
     "text": [
      "  index    start      end\n",
      "      0  10       22.3273\n",
      "      1  50.8112  51.2613\n",
      "      2  58.4164  58.5709\n",
      "      3  59.5274  63.152\n",
      "      4  67.8041  77.0662\n",
      "      5  79.4862  83.3638\n",
      "      6  88.1147  98.9837\n",
      "shape: (7, 2), time unit: sec.\n"
     ]
    }
   ],
   "source": [
    "print(ep_signal.intersect(ep_tmp))"
   ]
  },
  {
   "cell_type": "markdown",
   "id": "c926ac46",
   "metadata": {},
   "source": [
    "<div class=\"render-all\">\n",
    "You can visualize IntervalSet using the function `workshop_utils.visualize_intervals` we provide.\n",
    "</div>"
   ]
  },
  {
   "cell_type": "code",
   "execution_count": 19,
   "id": "94b12a3d",
   "metadata": {
    "tags": [
     "render-all"
    ]
   },
   "outputs": [
    {
     "data": {
      "image/png": "[encoded data removed]",
      "text/plain": [
       "<Figure size 600x300 with 1 Axes>"
      ]
     },
     "metadata": {},
     "output_type": "display_data"
    }
   ],
   "source": [
    "workshop_utils.visualize_intervals([ep_signal, ep_tmp, ep_signal.intersect(ep_tmp)])"
   ]
  },
  {
   "cell_type": "markdown",
   "id": "a704a0e6",
   "metadata": {},
   "source": [
    "<div class=\"render-all\">\n",
    "\n",
    "**Question:** Can you do the union of `ep_signal` and `ep_tmp`?\n",
    "</div>"
   ]
  },
  {
   "cell_type": "code",
   "execution_count": 20,
   "id": "277b2983",
   "metadata": {},
   "outputs": [
    {
     "name": "stdout",
     "output_type": "stream",
     "text": [
      "  index     start        end\n",
      "      0   3.61095    5.71302\n",
      "      1   6.29962    8.13454\n",
      "      2   8.9607    30\n",
      "      3  32.2575    36.8183\n",
      "      4  50        100\n",
      "shape: (5, 2), time unit: sec.\n"
     ]
    }
   ],
   "source": [
    "print(ep_signal.union(ep_tmp))"
   ]
  },
  {
   "cell_type": "markdown",
   "id": "8e3c5194",
   "metadata": {},
   "source": [
    "<div class=\"render-all\">\n",
    "\n",
    "**Question:** ... and visualize it?\n",
    "</div>"
   ]
  },
  {
   "cell_type": "code",
   "execution_count": 21,
   "id": "748cae51",
   "metadata": {},
   "outputs": [
    {
     "data": {
      "image/png": "[encoded data removed]",
      "text/plain": [
       "<Figure size 600x300 with 1 Axes>"
      ]
     },
     "metadata": {},
     "output_type": "display_data"
    }
   ],
   "source": [
    "workshop_utils.visualize_intervals([ep_signal, ep_tmp, ep_signal.union(ep_tmp)])"
   ]
  },
  {
   "cell_type": "markdown",
   "id": "1b06a5d1",
   "metadata": {},
   "source": [
    "<div class=\"render-all\">\n",
    "\n",
    "**Question:** Can you do the difference of `ep_signal` and `ep_tmp`?\n",
    "</div>"
   ]
  },
  {
   "cell_type": "code",
   "execution_count": 22,
   "id": "0938b3cf",
   "metadata": {},
   "outputs": [
    {
     "name": "stdout",
     "output_type": "stream",
     "text": [
      "  index    start       end\n",
      "      0  22.3273   30\n",
      "      1  50        50.8112\n",
      "      2  51.2613   58.4164\n",
      "      3  58.5709   59.5274\n",
      "      4  63.152    67.8041\n",
      "      5  77.0662   79.4862\n",
      "      6  83.3638   88.1147\n",
      "      7  98.9837  100\n",
      "shape: (8, 2), time unit: sec.\n"
     ]
    }
   ],
   "source": [
    "print(ep_signal.set_diff(ep_tmp))"
   ]
  },
  {
   "cell_type": "markdown",
   "id": "3edcc0cf",
   "metadata": {},
   "source": [
    "<div class=\"render-all\">\n",
    "\n",
    "**Question:** ... and visualize it?\n",
    "</div>"
   ]
  },
  {
   "cell_type": "code",
   "execution_count": 23,
   "id": "f4e0c495",
   "metadata": {},
   "outputs": [
    {
     "data": {
      "image/png": "[encoded data removed]",
      "text/plain": [
       "<Figure size 600x300 with 1 Axes>"
      ]
     },
     "metadata": {},
     "output_type": "display_data"
    }
   ],
   "source": [
    "workshop_utils.visualize_intervals([ep_signal, ep_tmp, ep_signal.set_diff(ep_tmp)])"
   ]
  },
  {
   "cell_type": "markdown",
   "id": "5b4a79dc",
   "metadata": {},
   "source": [
    "## Numpy & pynapple\n",
    "\n",
    "<div class=\"render-all\">\n",
    "\n",
    "Pynapple objects behaves very similarly like numpy array. They can be sliced with the following syntax :\n",
    "\n",
    "  `tsd[0:10] # First 10 elements`\n",
    "\n",
    "Arithmetical operations are available as well :\n",
    "\n",
    "  `tsd = tsd + 1`\n",
    "\n",
    "Finally numpy functions works directly. Let's imagine `tsd3` is a movie with frame size (4,5).\n",
    "\n",
    "**Question:** Can you compute the average frame along the time axis using `np.mean` and print the result?\n",
    "\n",
    "</div>"
   ]
  },
  {
   "cell_type": "code",
   "execution_count": 24,
   "id": "3073cf2b",
   "metadata": {},
   "outputs": [
    {
     "name": "stdout",
     "output_type": "stream",
     "text": [
      "[[ 0.01316477 -0.02204738 -0.05258987 -0.0315323   0.00746789]\n",
      " [-0.00772068  0.00759804  0.03102658 -0.02636697 -0.02729113]\n",
      " [-0.05003322 -0.03353408  0.00450756 -0.00504027 -0.01343957]\n",
      " [ 0.03939143  0.0343191  -0.02708205 -0.03182238 -0.01717789]]\n"
     ]
    }
   ],
   "source": [
    "print(np.mean(tsd3, 0))"
   ]
  },
  {
   "cell_type": "markdown",
   "id": "b931af29",
   "metadata": {},
   "source": [
    "<div class=\"render-all\">\n",
    "\n",
    "**Question:**: can you compute the average of `tsd2` for each timestamps and print it?\n",
    "</div>"
   ]
  },
  {
   "cell_type": "code",
   "execution_count": 25,
   "id": "5a55573c",
   "metadata": {},
   "outputs": [
    {
     "name": "stdout",
     "output_type": "stream",
     "text": [
      "Time (s)\n",
      "----------  ---------\n",
      "0.0         -1.17641\n",
      "1.0          0.691753\n",
      "2.0         -0.855797\n",
      "3.0         -0.249332\n",
      "4.0         -0.759797\n",
      "5.0          0.139432\n",
      "6.0         -0.414737\n",
      "...\n",
      "93.0        -0.613275\n",
      "94.0         1.36745\n",
      "95.0        -0.111789\n",
      "96.0        -0.263045\n",
      "97.0         0.92043\n",
      "98.0         0.833352\n",
      "99.0         0.842947\n",
      "dtype: float64, shape: (100,)\n"
     ]
    }
   ],
   "source": [
    "print(np.mean(tsd2, 1))"
   ]
  },
  {
   "cell_type": "markdown",
   "id": "a9584c94",
   "metadata": {},
   "source": [
    "Notice how the output in the second case is still a pynapple object.\n",
    "In most cases, applying a numpy function will return a pynapple object if the time index is preserved.\n",
    "\n",
    "## Slicing pynapple objects \n",
    "\n",
    "Multiple methods exists to slice pynapple object. This parts reviews them.\n",
    "\n",
    "`IntervalSet` also behaves like numpy array.\n",
    "\n",
    "<div class=\"render-all\">\n",
    "\n",
    "**Question:** Can you extract the first and last epoch of `ep` in a new `IntervalSet`?\n",
    "</div>"
   ]
  },
  {
   "cell_type": "code",
   "execution_count": 26,
   "id": "8c2710c1",
   "metadata": {},
   "outputs": [
    {
     "name": "stdout",
     "output_type": "stream",
     "text": [
      "  index    start    end\n",
      "      0       10     20\n",
      "      1       90     95\n",
      "shape: (2, 2), time unit: sec.\n"
     ]
    }
   ],
   "source": [
    "print(ep[[0,2]])"
   ]
  },
  {
   "cell_type": "markdown",
   "id": "7a5202bd",
   "metadata": {},
   "source": [
    "<div class=\"render-all\">\n",
    "\n",
    "Sometimes you want to get a data point as close as possible in time to another timestamps.\n",
    "\n",
    "**Question:** Using the `get` method, can you get the data point from `tsd3` as close as possible to the time 50.1 seconds?\n",
    "\n",
    "</div>"
   ]
  },
  {
   "cell_type": "code",
   "execution_count": 27,
   "id": "b61923c6",
   "metadata": {},
   "outputs": [
    {
     "name": "stdout",
     "output_type": "stream",
     "text": [
      "[[-0.79350592 -1.19608709  0.33560085 -1.808772    0.29553625]\n",
      " [-0.09799424 -1.19398624 -0.39914407  0.01177152 -0.6966451 ]\n",
      " [-0.19375424 -0.25276621  0.42460116 -0.28583667 -0.52376499]\n",
      " [-1.01115903 -1.62403282  0.28573719 -1.34158754  0.03659696]]\n"
     ]
    }
   ],
   "source": [
    "print(tsd3.get(50.1))"
   ]
  },
  {
   "cell_type": "markdown",
   "id": "52d25e60",
   "metadata": {},
   "source": [
    "## Metadata\n",
    "\n",
    "<div class=\"render-all\">\n",
    "\n",
    "Metadata are ubiquitous in neuroscience. They can be added to 3 pynapple objects :\n",
    "\n",
    "- `TsGroup` : to label neurons in electrophysiology\n",
    "- `IntervalSet` : to label intervals\n",
    "- `TsdFrame` : to label neurons in calcium imaging\n",
    "\n",
    "\n",
    "**Question:** Can you run the following command `tsgroup['planet'] = ['mars', 'venus', 'saturn']`\n",
    "</div>"
   ]
  },
  {
   "cell_type": "code",
   "execution_count": 28,
   "id": "f6870238",
   "metadata": {},
   "outputs": [],
   "source": [
    "tsgroup['planet'] = ['mars', 'venus', 'saturn']"
   ]
  },
  {
   "cell_type": "markdown",
   "id": "588ae15e",
   "metadata": {},
   "source": [
    "<div class=\"render-all\">\n",
    "\n",
    "**Question:** ... and print it?\n",
    "</div>"
   ]
  },
  {
   "cell_type": "code",
   "execution_count": 29,
   "id": "38bdcae7",
   "metadata": {},
   "outputs": [
    {
     "name": "stdout",
     "output_type": "stream",
     "text": [
      "  Index    rate  planet\n",
      "-------  ------  --------\n",
      "      0    0.03  mars\n",
      "      1    1     venus\n",
      "      2    1     saturn\n"
     ]
    }
   ],
   "source": [
    "print(tsgroup)"
   ]
  },
  {
   "cell_type": "markdown",
   "id": "5d0f41f1",
   "metadata": {},
   "source": [
    "<div class=\"render-all\">\n",
    "\n",
    "The object `ep` has 3 epochs labelled `['left', 'right', 'left']`. \n",
    "\n",
    "**Question:** Can you add them as a metadata column called `direction`?\n",
    "\n",
    "</div>"
   ]
  },
  {
   "cell_type": "code",
   "execution_count": 30,
   "id": "1dcb6ebe",
   "metadata": {},
   "outputs": [
    {
     "name": "stdout",
     "output_type": "stream",
     "text": [
      "  index    start    end  direction\n",
      "      0       10     20  left\n",
      "      1       60     80  right\n",
      "      2       90     95  left\n",
      "shape: (3, 2), time unit: sec.\n"
     ]
    }
   ],
   "source": [
    "ep['direction'] = ['left', 'right', 'left']\n",
    "print(ep)"
   ]
  },
  {
   "cell_type": "markdown",
   "id": "b852d417",
   "metadata": {},
   "source": [
    "<div class=\"render-all\">\n",
    "\n",
    "The object `tsd2` has 3 columns. Each column correspond to the rgb colors `[(0,0,1), (0.5, 0.5, 1), (0.1, 0.2, 0.3)]`. \n",
    "\n",
    "**Question:** Can you add them as metadata of `tsd2`?\n",
    "</div>"
   ]
  },
  {
   "cell_type": "code",
   "execution_count": 31,
   "id": "7ebfa70f",
   "metadata": {},
   "outputs": [
    {
     "name": "stdout",
     "output_type": "stream",
     "text": [
      "Time (s)    pineapple             banana                  tomato\n",
      "----------  --------------------  ----------------------  --------------------\n",
      "0.0         0.3688336586489103    -2.3575480843354493     -1.5405133867485932\n",
      "1.0         -0.23524330038874816  0.9747761799074546      1.3357272802518558\n",
      "2.0         -0.5647594854544975   -0.36271586459444555    -1.6399170178018236\n",
      "3.0         -0.20921234339192588  -0.0032655431798066696  -0.5355180892277139\n",
      "4.0         0.43459923207471296   -1.5814810806485549     -1.1325099732832218\n",
      "5.0         -0.9907733822133594   1.383296148013105       0.025772902840276148\n",
      "6.0         -0.7991128468172298   -0.9031681233433416     0.4580686906012593\n",
      "...\n",
      "93.0        0.07699123162896598   -1.3734922488144259     -0.5433240751285036\n",
      "94.0        1.9151660801535983    -0.5531434841093958     2.7403239630391063\n",
      "95.0        0.33311087242690285   0.33222126500302707     -1.000699045750833\n",
      "96.0        -0.6272959144614034   0.6028696022915108      -0.7647096760931217\n",
      "97.0        0.2856773355672433    2.1186070248438673      0.35700692769463227\n",
      "98.0        1.151873368623308     2.8225943659116997      -1.474412606109456\n",
      "99.0        1.7013037894312175    1.176694328288615       -0.34915641086007254\n",
      "Metadata\n",
      "colors      [0. 0. 1.]            [0.5 0.5 1. ]           [0.1 0.2 0.3]\n",
      "dtype: float64, shape: (100, 3)\n"
     ]
    }
   ],
   "source": [
    "tsd2['colors'] = [(0,0,1), (0.5, 0.5, 1), (0.1, 0.2, 0.3)]\n",
    "print(tsd2)"
   ]
  },
  {
   "cell_type": "markdown",
   "id": "4847042b",
   "metadata": {},
   "source": [
    "<div class=\"render-all\">\n",
    "\n",
    "You can also add metadata at initialization as a dictionnary using the keyword argument `metadata` : \n",
    "</div>"
   ]
  },
  {
   "cell_type": "code",
   "execution_count": 32,
   "id": "dbb0d0b5",
   "metadata": {
    "tags": [
     "render-all"
    ]
   },
   "outputs": [
    {
     "name": "stdout",
     "output_type": "stream",
     "text": [
      "  Index     rate  planet\n",
      "-------  -------  --------\n",
      "      0  0.03921  mars\n",
      "      1  0.05227  venus\n",
      "      2  1.30686  saturn\n"
     ]
    }
   ],
   "source": [
    "tsgroup = nap.TsGroup({0:ts1, 1:ts2, 2:ts3}, metadata={'planet':['mars','venus', 'saturn']})\n",
    "\n",
    "print(tsgroup)"
   ]
  },
  {
   "cell_type": "markdown",
   "id": "2f262ebf",
   "metadata": {},
   "source": [
    "<div class=\"render-all\">\n",
    "\n",
    "Metadata are accessible either as attributes (i.e. `tsgroup.planet`) or as dictionnary-like keys (i.e. `ep['direction']`).\n",
    "\n",
    "They can be used to slice objects. \n",
    "\n",
    "**Question:** Can you select only the elements of `tsgroup` with rate below 1Hz?\n",
    "</div>"
   ]
  },
  {
   "cell_type": "code",
   "execution_count": 33,
   "id": "a30da9f0",
   "metadata": {},
   "outputs": [
    {
     "name": "stdout",
     "output_type": "stream",
     "text": [
      "  Index     rate  planet\n",
      "-------  -------  --------\n",
      "      0  0.03921  mars\n",
      "      1  0.05227  venus\n",
      "  Index     rate  planet\n",
      "-------  -------  --------\n",
      "      0  0.03921  mars\n",
      "      1  0.05227  venus\n",
      "  Index     rate  planet\n",
      "-------  -------  --------\n",
      "      0  0.03921  mars\n",
      "      1  0.05227  venus\n"
     ]
    }
   ],
   "source": [
    "print(tsgroup[tsgroup.rate<1.0])\n",
    "\n",
    "print(tsgroup[tsgroup['rate']<1.0])\n",
    "\n",
    "print(tsgroup.getby_threshold(\"rate\", 1, \"<\"))"
   ]
  },
  {
   "cell_type": "markdown",
   "id": "f6df17b1",
   "metadata": {},
   "source": [
    "<div class=\"render-all\">\n",
    "\n",
    "**Question:** Can you select the intervals in `ep` labelled as `'left'`?\n",
    "</div>"
   ]
  },
  {
   "cell_type": "code",
   "execution_count": 34,
   "id": "4e8e64b1",
   "metadata": {},
   "outputs": [
    {
     "name": "stdout",
     "output_type": "stream",
     "text": [
      "  index    start    end  direction\n",
      "      0       10     20  left\n",
      "      1       90     95  left\n",
      "shape: (2, 2), time unit: sec.\n"
     ]
    }
   ],
   "source": [
    "print(ep[ep.direction=='left'])"
   ]
  },
  {
   "cell_type": "markdown",
   "id": "15bb8fbe",
   "metadata": {},
   "source": [
    "### Special case of slicing : `TsdFrame`"
   ]
  },
  {
   "cell_type": "code",
   "execution_count": 35,
   "id": "1415a2f2",
   "metadata": {
    "tags": [
     "render-all"
    ]
   },
   "outputs": [
    {
     "name": "stdout",
     "output_type": "stream",
     "text": [
      "Time (s)    12                   0                     1\n",
      "----------  -------------------  --------------------  --------------------\n",
      "0.0         0.24779319172318856  -0.5485529583985823   -2.193944552162906\n",
      "1.0         -0.6288051395944846  0.6359800301779037    -0.19272780531834466\n",
      "2.0         2.3833987939648686   -0.12175190492965235  2.8037193821602844\n",
      "3.0         -0.615085161258425   1.018890851339378     0.3705303782153755\n",
      "Metadata\n",
      "alpha       2                    1                     0\n",
      "dtype: float64, shape: (4, 3)\n"
     ]
    }
   ],
   "source": [
    "tsdframe = nap.TsdFrame(t=np.arange(4), d=np.random.randn(4,3),\n",
    "  columns = [12, 0, 1], metadata={'alpha':[2,1,0]})\n",
    "\n",
    "print(tsdframe)"
   ]
  },
  {
   "cell_type": "markdown",
   "id": "b04f4d7d",
   "metadata": {},
   "source": [
    "<div class=\"render-all\">\n",
    "\n",
    "**Question:** What happen when you do `tsdframe[0]` vs `tsdframe[:,0]` vs `tsdframe[[12,1]]`\n",
    "</div>"
   ]
  },
  {
   "cell_type": "code",
   "execution_count": 36,
   "id": "cc655abe",
   "metadata": {},
   "outputs": [
    {
     "name": "stdout",
     "output_type": "stream",
     "text": [
      "[ 0.24779319 -0.54855296 -2.19394455]\n"
     ]
    }
   ],
   "source": [
    "print(tsdframe[0])"
   ]
  },
  {
   "cell_type": "markdown",
   "id": "b97cd68c",
   "metadata": {},
   "source": [
    "<div class=\"render-all\">\n",
    "\n",
    "**Question:** What happen when you do `tsdframe.loc[0]` and `tsdframe.loc[[0,1]]`\n",
    "</div>"
   ]
  },
  {
   "cell_type": "code",
   "execution_count": 37,
   "id": "94c609ba",
   "metadata": {},
   "outputs": [
    {
     "name": "stdout",
     "output_type": "stream",
     "text": [
      "Time (s)\n",
      "----------  ---------\n",
      "0           -0.548553\n",
      "1            0.63598\n",
      "2           -0.121752\n",
      "3            1.01889\n",
      "dtype: float64, shape: (4,)\n",
      "Time (s)    0                     1\n",
      "----------  --------------------  --------------------\n",
      "0.0         -0.5485529583985823   -2.193944552162906\n",
      "1.0         0.6359800301779037    -0.19272780531834466\n",
      "2.0         -0.12175190492965235  2.8037193821602844\n",
      "3.0         1.018890851339378     0.3705303782153755\n",
      "Metadata\n",
      "alpha       1                     0\n",
      "dtype: float64, shape: (4, 2)\n"
     ]
    }
   ],
   "source": [
    "print(tsdframe.loc[0])\n",
    "print(tsdframe.loc[[0,1]])"
   ]
  },
  {
   "cell_type": "markdown",
   "id": "d2fd3889",
   "metadata": {},
   "source": [
    "<div class=\"render-all\">\n",
    "\n",
    "**Question:** What happen when you do `tsdframe[:,tsdframe.alpha==2]`\n",
    "\n",
    "</div>"
   ]
  },
  {
   "cell_type": "code",
   "execution_count": 38,
   "id": "fe17cb5d",
   "metadata": {},
   "outputs": [
    {
     "name": "stdout",
     "output_type": "stream",
     "text": [
      "Time (s)    12\n",
      "----------  -------------------\n",
      "0.0         0.24779319172318856\n",
      "1.0         -0.6288051395944846\n",
      "2.0         2.3833987939648686\n",
      "3.0         -0.615085161258425\n",
      "Metadata\n",
      "alpha       2\n",
      "dtype: float64, shape: (4, 1)\n"
     ]
    }
   ],
   "source": [
    "print(tsdframe[:,tsdframe.alpha==2])"
   ]
  },
  {
   "cell_type": "markdown",
   "id": "d7060575",
   "metadata": {},
   "source": [
    "## Core functions of pynapple \n",
    "\n",
    "<div class=\"render-all\">\n",
    "\n",
    "This part focuses on the most important core functions of pynapple.\n",
    "\n",
    "**Question:** Using the `count` function, can you count the number of events within 1 second bins for `tsgroup` over the `ep_signal` intervals?\n",
    "</div>"
   ]
  },
  {
   "cell_type": "code",
   "execution_count": 39,
   "id": "038bc638",
   "metadata": {},
   "outputs": [
    {
     "name": "stdout",
     "output_type": "stream",
     "text": [
      "Time (s)    0     1      2\n",
      "----------  ----  -----  ------\n",
      "10.5        0     1      3\n",
      "11.5        0     0      2\n",
      "12.5        0     0      3\n",
      "13.5        0     0      2\n",
      "14.5        0     0      1\n",
      "15.5        0     0      3\n",
      "16.5        0     0      2\n",
      "...\n",
      "93.5        0     0      0\n",
      "94.5        0     0      0\n",
      "95.5        0     0      0\n",
      "96.5        0     0      0\n",
      "97.5        0     0      0\n",
      "98.5        0     0      0\n",
      "99.5        0     0      0\n",
      "Metadata\n",
      "planet      mars  venus  saturn\n",
      "dtype: int64, shape: (70, 3)\n"
     ]
    }
   ],
   "source": [
    "count = tsgroup.count(1, ep_signal)\n",
    "print(count)"
   ]
  },
  {
   "cell_type": "markdown",
   "id": "13788921",
   "metadata": {},
   "source": [
    "Pynapple works directly with matplotlib. Passing a time series object to `plt.plot` will display the figure with the correct time axis.\n",
    "\n",
    "**Question:** In two subplots, can you show the count and events over time?"
   ]
  },
  {
   "cell_type": "code",
   "execution_count": 40,
   "id": "330954a1",
   "metadata": {},
   "outputs": [
    {
     "data": {
      "text/plain": [
       "[<matplotlib.lines.Line2D at 0x7fa0ac1fd850>]"
      ]
     },
     "execution_count": 40,
     "metadata": {},
     "output_type": "execute_result"
    },
    {
     "data": {
      "image/png": "[encoded data removed]",
      "text/plain": [
       "<Figure size 640x480 with 2 Axes>"
      ]
     },
     "metadata": {},
     "output_type": "display_data"
    }
   ],
   "source": [
    "plt.figure()\n",
    "ax = plt.subplot(211)\n",
    "plt.plot(count, 'o-')\n",
    "plt.subplot(212, sharex=ax)\n",
    "plt.plot(tsgroup.restrict(ep_signal).to_tsd(), '|')"
   ]
  },
  {
   "cell_type": "markdown",
   "id": "1e9cf218",
   "metadata": {},
   "source": [
    "<div class=\"render-all\">\n",
    "\n",
    "From a set of timestamps, you want to assign them a set of values with the closest point in time of another time series.\n",
    "\n",
    "**Question:** Using the function `value_from`, can you assign values to `ts2` from the `tsd1` time series and call the output `new_tsd`?\n",
    "\n",
    "</div>"
   ]
  },
  {
   "cell_type": "code",
   "execution_count": 41,
   "id": "3f1df3d0",
   "metadata": {},
   "outputs": [],
   "source": [
    "new_tsd = ts2.value_from(tsd1)"
   ]
  },
  {
   "cell_type": "markdown",
   "id": "f69e002e",
   "metadata": {},
   "source": [
    "<div class=\"render-all\">\n",
    "\n",
    "**Question:** Can you plot together `tsd1`, `ts2` and `new_tsd`?\n",
    "\n",
    "</div>"
   ]
  },
  {
   "cell_type": "code",
   "execution_count": 42,
   "id": "4c245d2a",
   "metadata": {},
   "outputs": [
    {
     "data": {
      "text/plain": [
       "[<matplotlib.lines.Line2D at 0x7fa07013eae0>]"
      ]
     },
     "execution_count": 42,
     "metadata": {},
     "output_type": "execute_result"
    },
    {
     "data": {
      "image/png": "[encoded data removed]",
      "text/plain": [
       "<Figure size 640x480 with 1 Axes>"
      ]
     },
     "metadata": {},
     "output_type": "display_data"
    }
   ],
   "source": [
    "plt.figure()\n",
    "plt.plot(tsd1)\n",
    "plt.plot(new_tsd, 'o-')\n",
    "plt.plot(ts2.fillna(0), 'o')"
   ]
  },
  {
   "cell_type": "markdown",
   "id": "879e5ef6",
   "metadata": {},
   "source": [
    "<div class=\"render-all\">\n",
    "\n",
    "One important aspect of data analysis is to bring data to the same size. Pynapple provides the `bin_average` function to downsample data.\n",
    "\n",
    "**Question:** Can you downsample `tsd2` to one time point every 5 seconds?\n",
    "\n",
    "</div>"
   ]
  },
  {
   "cell_type": "code",
   "execution_count": 43,
   "id": "24f2d7b2",
   "metadata": {},
   "outputs": [],
   "source": [
    "new_tsd2 = tsd2.bin_average(5.0)"
   ]
  },
  {
   "cell_type": "markdown",
   "id": "e9dd5bb4",
   "metadata": {},
   "source": [
    "<div class=\"render-all\">\n",
    "\n",
    "**Question:** Can you plot the `tomato` column from `tsd2` as well as the downsampled version?\n",
    "\n",
    "</div>"
   ]
  },
  {
   "cell_type": "code",
   "execution_count": 44,
   "id": "a98804ce",
   "metadata": {},
   "outputs": [
    {
     "data": {
      "text/plain": [
       "[<matplotlib.lines.Line2D at 0x7fa070190fb0>]"
      ]
     },
     "execution_count": 44,
     "metadata": {},
     "output_type": "execute_result"
    },
    {
     "data": {
      "image/png": "[encoded data removed]",
      "text/plain": [
       "<Figure size 640x480 with 1 Axes>"
      ]
     },
     "metadata": {},
     "output_type": "display_data"
    }
   ],
   "source": [
    "plt.figure()\n",
    "plt.plot(tsd2['tomato'])\n",
    "plt.plot(new_tsd2['tomato'], 'o-')"
   ]
  },
  {
   "cell_type": "markdown",
   "id": "858dc685",
   "metadata": {},
   "source": [
    "<div class=\"render-all\">\n",
    "\n",
    "For `tsd1`, you want to find all the epochs for which the value is above 0.0. Pynapple provides the function `threshold` to get 1 dimensional time series above or below a certain value.\n",
    "\n",
    "**Question**: Can you print the epochs for which `tsd1` is above 0.0?\n",
    "</div>"
   ]
  },
  {
   "cell_type": "code",
   "execution_count": 45,
   "id": "48596816",
   "metadata": {},
   "outputs": [
    {
     "name": "stdout",
     "output_type": "stream",
     "text": [
      "index    start    end\n",
      "0        10.5     11.5\n",
      "1        12.5     13.5\n",
      "2        17.5     18.5\n",
      "3        19.5     20.5\n",
      "4        24.5     26.5\n",
      "5        27.5     29.5\n",
      "6        50.0     53.5\n",
      "...      ...      ...\n",
      "12       73.5     74.5\n",
      "13       78.5     79.5\n",
      "14       80.5     81.5\n",
      "15       86.5     87.5\n",
      "16       92.5     95.5\n",
      "17       96.5     97.5\n",
      "18       98.5     99.0\n",
      "shape: (19, 2), time unit: sec.\n"
     ]
    }
   ],
   "source": [
    "ep_above = tsd1.threshold(0.0).time_support\n",
    "\n",
    "print(ep_above)"
   ]
  },
  {
   "cell_type": "markdown",
   "id": "5711d7a6",
   "metadata": {},
   "source": [
    "<div class=\"render-all\">\n",
    "\n",
    "**Question**: can you plot `tsd1` as well as the epochs for which `tsd1` is above 0.0?\n",
    "</div>"
   ]
  },
  {
   "cell_type": "code",
   "execution_count": 46,
   "id": "6237a23e",
   "metadata": {},
   "outputs": [
    {
     "data": {
      "text/plain": [
       "[<matplotlib.patches.Rectangle at 0x7fa0343c6360>,\n",
       " <matplotlib.patches.Rectangle at 0x7fa0343e0e00>,\n",
       " <matplotlib.patches.Rectangle at 0x7fa03435b680>,\n",
       " <matplotlib.patches.Rectangle at 0x7fa0ac26d490>,\n",
       " <matplotlib.patches.Rectangle at 0x7fa03434c1d0>,\n",
       " <matplotlib.patches.Rectangle at 0x7fa0f82e86e0>,\n",
       " <matplotlib.patches.Rectangle at 0x7fa0ac2b59d0>,\n",
       " <matplotlib.patches.Rectangle at 0x7fa0ec37e1e0>,\n",
       " <matplotlib.patches.Rectangle at 0x7fa0ec344c80>,\n",
       " <matplotlib.patches.Rectangle at 0x7fa0ac297bf0>,\n",
       " <matplotlib.patches.Rectangle at 0x7fa0ac351970>,\n",
       " <matplotlib.patches.Rectangle at 0x7fa0343d3200>,\n",
       " <matplotlib.patches.Rectangle at 0x7fa0503cc530>,\n",
       " <matplotlib.patches.Rectangle at 0x7fa0501feae0>,\n",
       " <matplotlib.patches.Rectangle at 0x7fa0f827b260>,\n",
       " <matplotlib.patches.Rectangle at 0x7fa0ac28e210>,\n",
       " <matplotlib.patches.Rectangle at 0x7fa0ac363c80>,\n",
       " <matplotlib.patches.Rectangle at 0x7fa050308fb0>,\n",
       " <matplotlib.patches.Rectangle at 0x7fa0343e25d0>]"
      ]
     },
     "execution_count": 46,
     "metadata": {},
     "output_type": "execute_result"
    },
    {
     "data": {
      "image/png": "[encoded data removed]",
      "text/plain": [
       "<Figure size 640x480 with 1 Axes>"
      ]
     },
     "metadata": {},
     "output_type": "display_data"
    }
   ],
   "source": [
    "plt.figure()\n",
    "plt.plot(tsd1)\n",
    "plt.plot(tsd1.threshold(0.0), 'o-')\n",
    "[plt.axvspan(s, e, alpha=0.2) for s,e in ep_above.values]"
   ]
  },
  {
   "cell_type": "markdown",
   "id": "cc8d4982",
   "metadata": {},
   "source": [
    "## First high level function : `compute_tuning_curves`\n",
    "\n",
    "<div class=\"render-all\">\n",
    "\n",
    "Pynapple provides functions for standard analysis in systems neuroscience. The first function we will try is `compute_tuning_curves` that calculate the response of a cell to a particular feature. \n",
    "\n",
    "A good practice when using a function for the first time is to check the docstrings to learn how to pass the argument.\n",
    "\n",
    "**Question**: can you examine the docstring of `nap.compute_tuning_curves`?\n",
    "\n",
    "</div>"
   ]
  },
  {
   "cell_type": "code",
   "execution_count": 47,
   "id": "90ea88d4",
   "metadata": {},
   "outputs": [
    {
     "name": "stdout",
     "output_type": "stream",
     "text": [
      "\n",
      "    Computes n-dimensional tuning curves relative to n features.\n",
      "\n",
      "    Parameters\n",
      "    ----------\n",
      "    data : TsGroup, TsdFrame, Ts, Tsd\n",
      "        The data for which the tuning curves will be computed. This usually corresponds to the activity of the\n",
      "        neurons, either as spike times (TsGroup or Ts) or continuous values (TsdFrame or Tsd).\n",
      "    features : Tsd, TsdFrame\n",
      "        The features (i.e. one column per feature). This usually corresponds to behavioral variables such as\n",
      "        position, head direction, speed, etc.\n",
      "    bins : sequence or int\n",
      "        The bin specification:\n",
      "\n",
      "        * A sequence of arrays describing the monotonically increasing bin\n",
      "          edges along each dimension.\n",
      "        * The number of bins for each dimension (nx, ny, ... =bins)\n",
      "        * The number of bins for all dimensions (nx=ny=...=bins).\n",
      "    range : sequence, optional\n",
      "        A sequence of entries per feature, each an optional (lower, upper) tuple giving\n",
      "        the outer bin edges to be used if the edges are not given explicitly in\n",
      "        `bins`.\n",
      "        An entry of None in the sequence results in the minimum and maximum\n",
      "        values being used for the corresponding dimension.\n",
      "        The default, None, is equivalent to passing a tuple of D None values.\n",
      "    epochs : IntervalSet, optional\n",
      "        The epochs on which tuning curves are computed.\n",
      "        If None, the epochs are the time support of the features.\n",
      "    fs : float, optional\n",
      "        The exact sampling frequency of the features used to normalise the tuning curves.\n",
      "        Unit should match that of the features. If not passed, it is estimated.\n",
      "    feature_names : list, optional\n",
      "        A list of feature names. If not passed, the column names in `features` are used.\n",
      "    return_pandas : bool, optional\n",
      "        If True, the function returns a pandas.DataFrame instead of an xarray.DataArray.\n",
      "        Note that this will not work if the features are not 1D and that occupancy and bin edges\n",
      "        will not be stored as attributes.\n",
      "    return_counts : bool, optional\n",
      "        If True, does not divide the spike counts by occupancy, but returns the counts directly.\n",
      "        The occupancy is stored in the xarray attributes, so the division can be performed after any\n",
      "        particular processing steps.\n",
      "        If the input is a TsdFrame, this does not do anything.\n",
      "\n",
      "    Returns\n",
      "    -------\n",
      "    xarray.DataArray\n",
      "        A tensor containing the tuning curves with labeled bin centres.\n",
      "        The bin edges and occupancy are stored as attributes.\n",
      "\n",
      "    Examples\n",
      "    --------\n",
      "    In the simplest case, we can pass a group of spikes per neuron and a single feature:\n",
      "\n",
      "        >>> import pynapple as nap\n",
      "        >>> import numpy as np; np.random.seed(42)\n",
      "        >>> group = nap.TsGroup({\n",
      "        ...     1: nap.Ts(np.arange(0, 100, 0.1)),\n",
      "        ...     2: nap.Ts(np.arange(0, 100, 0.2))\n",
      "        ... })\n",
      "        >>> feature = nap.Tsd(d=np.arange(0, 100, 0.1) % 1, t=np.arange(0, 100, 0.1))\n",
      "        >>> tcs = nap.compute_tuning_curves(group, feature, bins=10)\n",
      "        >>> tcs\n",
      "        <xarray.DataArray (unit: 2, 0: 10)> Size: 160B\n",
      "        array([[10., 10., 10., 10., 10., 10., 10., 10., 10., 10.],\n",
      "               [10.,  0., 10.,  0., 10.,  0., 10.,  0., 10.,  0.]])\n",
      "        Coordinates:\n",
      "          * unit     (unit) int64 16B 1 2\n",
      "          * 0        (0) float64 80B 0.045 0.135 0.225 0.315 ... 0.585 0.675 0.765 0.855\n",
      "        Attributes:\n",
      "            occupancy:  [100. 100. 100. 100. 100. 100. 100. 100. 100. 100.]\n",
      "            bin_edges:  [array([0.  , 0.09, 0.18, 0.27, 0.36, 0.45, 0.54, 0.63, 0.72,...\n",
      "\n",
      "    The function can also take multiple features, in which case it computes n-dimensional tuning curves.\n",
      "    We can specify the number of bins for each feature:\n",
      "\n",
      "        >>> features = nap.TsdFrame(\n",
      "        ...     d=np.stack(\n",
      "        ...         [\n",
      "        ...             np.arange(0, 100, 0.1) % 1,\n",
      "        ...             np.arange(0, 100, 0.1) % 2\n",
      "        ...         ],\n",
      "        ...         axis=1\n",
      "        ...     ),\n",
      "        ...     t=np.arange(0, 100, 0.1)\n",
      "        ... )\n",
      "        >>> tcs = nap.compute_tuning_curves(group, features, bins=[5, 3])\n",
      "        >>> tcs\n",
      "        <xarray.DataArray (unit: 2, 0: 5, 1: 3)> Size: 240B\n",
      "        array([[[10., 10., nan],\n",
      "                [10., 10., 10.],\n",
      "                [10., nan, 10.],\n",
      "                [10., 10., 10.],\n",
      "                [nan, 10., 10.]],\n",
      "        ...\n",
      "               [[ 5.,  5., nan],\n",
      "                [ 5., 10.,  0.],\n",
      "                [ 5., nan,  5.],\n",
      "                [10.,  0.,  5.],\n",
      "                [nan,  5.,  5.]]])\n",
      "        Coordinates:\n",
      "          * unit     (unit) int64 16B 1 2\n",
      "          * 0        (0) float64 40B 0.09 0.27 0.45 0.63 0.81\n",
      "          * 1        (1) float64 24B 0.3167 0.95 1.583\n",
      "        Attributes:\n",
      "            occupancy:  [[100. 100.  nan]\\n [100.  50.  50.]\\n [100.  nan 100.]\\n [ 5...\n",
      "            bin_edges:  [array([0.  , 0.18, 0.36, 0.54, 0.72, 0.9 ]), array([0.      ...\n",
      "\n",
      "    Or even specify the bin edges directly:\n",
      "\n",
      "        >>> tcs = nap.compute_tuning_curves(\n",
      "        ...     group,\n",
      "        ...     features,\n",
      "        ...     bins=[np.linspace(0, 1, 5), np.linspace(0, 2, 3)]\n",
      "        ... )\n",
      "        >>> tcs\n",
      "        <xarray.DataArray (unit: 2, 0: 4, 1: 2)> Size: 128B\n",
      "        array([[[10.        , 10.        ],\n",
      "                [10.        , 10.        ],\n",
      "                [10.        , 10.        ],\n",
      "                [10.        , 10.        ]],\n",
      "        ...\n",
      "               [[ 6.66666667,  6.66666667],\n",
      "                [ 5.        ,  5.        ],\n",
      "                [ 3.33333333,  3.33333333],\n",
      "                [ 5.        ,  5.        ]]])\n",
      "        Coordinates:\n",
      "          * unit     (unit) int64 16B 1 2\n",
      "          * 0        (0) float64 32B 0.125 0.375 0.625 0.875\n",
      "          * 1        (1) float64 16B 0.5 1.5\n",
      "        Attributes:\n",
      "            occupancy:  [[150. 150.]\\n [100. 100.]\\n [150. 150.]\\n [100. 100.]]\n",
      "            bin_edges:  [array([0.  , 0.25, 0.5 , 0.75, 1.  ]), array([0., 1., 2.])]\n",
      "\n",
      "    In all of these cases, it is also possible to pass continuous values instead of spikes (e.g. calcium imaging data), in that case the mean response is computed:\n",
      "\n",
      "        >>> frame = nap.TsdFrame(d=np.random.rand(2000, 3), t=np.arange(0, 100, 0.05))\n",
      "        >>> tcs = nap.compute_tuning_curves(frame, feature, bins=10)\n",
      "        >>> tcs\n",
      "        <xarray.DataArray (unit: 3, 0: 10)> Size: 240B\n",
      "        array([[0.49147343, 0.50190395, 0.50971339, 0.50128013, 0.54332711,\n",
      "                0.49712328, 0.49594611, 0.5110517 , 0.52247351, 0.52057658],\n",
      "               [0.51132036, 0.46410557, 0.47732505, 0.49830908, 0.53523019,\n",
      "                0.53099429, 0.48668499, 0.44198555, 0.49222208, 0.47453398],\n",
      "               [0.46591801, 0.50662914, 0.46875882, 0.48734997, 0.51836574,\n",
      "                0.50722266, 0.48943577, 0.49730095, 0.47944075, 0.48623693]])\n",
      "        Coordinates:\n",
      "          * unit     (unit) int64 24B 0 1 2\n",
      "          * 0        (0) float64 80B 0.045 0.135 0.225 0.315 ... 0.585 0.675 0.765 0.855\n",
      "        Attributes:\n",
      "            occupancy:  [100. 100. 100. 100. 100. 100. 100. 100. 100. 100.]\n",
      "            bin_edges:  [array([0.  , 0.09, 0.18, 0.27, 0.36, 0.45, 0.54, 0.63, 0.72,...\n",
      "    \n"
     ]
    }
   ],
   "source": [
    "print(nap.compute_tuning_curves.__doc__)"
   ]
  },
  {
   "cell_type": "markdown",
   "id": "47cab53c",
   "metadata": {},
   "source": [
    "<div class=\"render-all\">\n",
    "\n",
    "**Question**: Can you compute the response (i.e. firing rate) of the units in `tsgroup` as function of the feature `tsd1` using the function `nap.compute_tuning_curves`?\n",
    "\n",
    "</div>"
   ]
  },
  {
   "cell_type": "code",
   "execution_count": 48,
   "id": "b2a731a2",
   "metadata": {},
   "outputs": [
    {
     "data": {
      "text/html": [
       "<div><svg style=\"position: absolute; width: 0; height: 0; overflow: hidden\">\n",
       "<defs>\n",
       "<symbol id=\"icon-database\" viewBox=\"0 0 32 32\">\n",
       "<path d=\"M16 0c-8.837 0-16 2.239-16 5v4c0 2.761 7.163 5 16 5s16-2.239 16-5v-4c0-2.761-7.163-5-16-5z\"></path>\n",
       "<path d=\"M16 17c-8.837 0-16-2.239-16-5v6c0 2.761 7.163 5 16 5s16-2.239 16-5v-6c0 2.761-7.163 5-16 5z\"></path>\n",
       "<path d=\"M16 26c-8.837 0-16-2.239-16-5v6c0 2.761 7.163 5 16 5s16-2.239 16-5v-6c0 2.761-7.163 5-16 5z\"></path>\n",
       "</symbol>\n",
       "<symbol id=\"icon-file-text2\" viewBox=\"0 0 32 32\">\n",
       "<path d=\"M28.681 7.159c-0.694-0.947-1.662-2.053-2.724-3.116s-2.169-2.030-3.116-2.724c-1.612-1.182-2.393-1.319-2.841-1.319h-15.5c-1.378 0-2.5 1.121-2.5 2.5v27c0 1.378 1.122 2.5 2.5 2.5h23c1.378 0 2.5-1.122 2.5-2.5v-19.5c0-0.448-0.137-1.23-1.319-2.841zM24.543 5.457c0.959 0.959 1.712 1.825 2.268 2.543h-4.811v-4.811c0.718 0.556 1.584 1.309 2.543 2.268zM28 29.5c0 0.271-0.229 0.5-0.5 0.5h-23c-0.271 0-0.5-0.229-0.5-0.5v-27c0-0.271 0.229-0.5 0.5-0.5 0 0 15.499-0 15.5 0v7c0 0.552 0.448 1 1 1h7v19.5z\"></path>\n",
       "<path d=\"M23 26h-14c-0.552 0-1-0.448-1-1s0.448-1 1-1h14c0.552 0 1 0.448 1 1s-0.448 1-1 1z\"></path>\n",
       "<path d=\"M23 22h-14c-0.552 0-1-0.448-1-1s0.448-1 1-1h14c0.552 0 1 0.448 1 1s-0.448 1-1 1z\"></path>\n",
       "<path d=\"M23 18h-14c-0.552 0-1-0.448-1-1s0.448-1 1-1h14c0.552 0 1 0.448 1 1s-0.448 1-1 1z\"></path>\n",
       "</symbol>\n",
       "</defs>\n",
       "</svg>\n",
       "<style>/* CSS stylesheet for displaying xarray objects in notebooks */\n",
       "\n",
       ":root {\n",
       "  --xr-font-color0: var(\n",
       "    --jp-content-font-color0,\n",
       "    var(--pst-color-text-base rgba(0, 0, 0, 1))\n",
       "  );\n",
       "  --xr-font-color2: var(\n",
       "    --jp-content-font-color2,\n",
       "    var(--pst-color-text-base, rgba(0, 0, 0, 0.54))\n",
       "  );\n",
       "  --xr-font-color3: var(\n",
       "    --jp-content-font-color3,\n",
       "    var(--pst-color-text-base, rgba(0, 0, 0, 0.38))\n",
       "  );\n",
       "  --xr-border-color: var(\n",
       "    --jp-border-color2,\n",
       "    hsl(from var(--pst-color-on-background, white) h s calc(l - 10))\n",
       "  );\n",
       "  --xr-disabled-color: var(\n",
       "    --jp-layout-color3,\n",
       "    hsl(from var(--pst-color-on-background, white) h s calc(l - 40))\n",
       "  );\n",
       "  --xr-background-color: var(\n",
       "    --jp-layout-color0,\n",
       "    var(--pst-color-on-background, white)\n",
       "  );\n",
       "  --xr-background-color-row-even: var(\n",
       "    --jp-layout-color1,\n",
       "    hsl(from var(--pst-color-on-background, white) h s calc(l - 5))\n",
       "  );\n",
       "  --xr-background-color-row-odd: var(\n",
       "    --jp-layout-color2,\n",
       "    hsl(from var(--pst-color-on-background, white) h s calc(l - 15))\n",
       "  );\n",
       "}\n",
       "\n",
       "html[theme=\"dark\"],\n",
       "html[data-theme=\"dark\"],\n",
       "body[data-theme=\"dark\"],\n",
       "body.vscode-dark {\n",
       "  --xr-font-color0: var(\n",
       "    --jp-content-font-color0,\n",
       "    var(--pst-color-text-base, rgba(255, 255, 255, 1))\n",
       "  );\n",
       "  --xr-font-color2: var(\n",
       "    --jp-content-font-color2,\n",
       "    var(--pst-color-text-base, rgba(255, 255, 255, 0.54))\n",
       "  );\n",
       "  --xr-font-color3: var(\n",
       "    --jp-content-font-color3,\n",
       "    var(--pst-color-text-base, rgba(255, 255, 255, 0.38))\n",
       "  );\n",
       "  --xr-border-color: var(\n",
       "    --jp-border-color2,\n",
       "    hsl(from var(--pst-color-on-background, #111111) h s calc(l + 10))\n",
       "  );\n",
       "  --xr-disabled-color: var(\n",
       "    --jp-layout-color3,\n",
       "    hsl(from var(--pst-color-on-background, #111111) h s calc(l + 40))\n",
       "  );\n",
       "  --xr-background-color: var(\n",
       "    --jp-layout-color0,\n",
       "    var(--pst-color-on-background, #111111)\n",
       "  );\n",
       "  --xr-background-color-row-even: var(\n",
       "    --jp-layout-color1,\n",
       "    hsl(from var(--pst-color-on-background, #111111) h s calc(l + 5))\n",
       "  );\n",
       "  --xr-background-color-row-odd: var(\n",
       "    --jp-layout-color2,\n",
       "    hsl(from var(--pst-color-on-background, #111111) h s calc(l + 15))\n",
       "  );\n",
       "}\n",
       "\n",
       ".xr-wrap {\n",
       "  display: block !important;\n",
       "  min-width: 300px;\n",
       "  max-width: 700px;\n",
       "  line-height: 1.6;\n",
       "}\n",
       "\n",
       ".xr-text-repr-fallback {\n",
       "  /* fallback to plain text repr when CSS is not injected (untrusted notebook) */\n",
       "  display: none;\n",
       "}\n",
       "\n",
       ".xr-header {\n",
       "  padding-top: 6px;\n",
       "  padding-bottom: 6px;\n",
       "  margin-bottom: 4px;\n",
       "  border-bottom: solid 1px var(--xr-border-color);\n",
       "}\n",
       "\n",
       ".xr-header > div,\n",
       ".xr-header > ul {\n",
       "  display: inline;\n",
       "  margin-top: 0;\n",
       "  margin-bottom: 0;\n",
       "}\n",
       "\n",
       ".xr-obj-type,\n",
       ".xr-obj-name,\n",
       ".xr-group-name {\n",
       "  margin-left: 2px;\n",
       "  margin-right: 10px;\n",
       "}\n",
       "\n",
       ".xr-group-name::before {\n",
       "  content: \"📁\";\n",
       "  padding-right: 0.3em;\n",
       "}\n",
       "\n",
       ".xr-group-name,\n",
       ".xr-obj-type {\n",
       "  color: var(--xr-font-color2);\n",
       "}\n",
       "\n",
       ".xr-sections {\n",
       "  padding-left: 0 !important;\n",
       "  display: grid;\n",
       "  grid-template-columns: 150px auto auto 1fr 0 20px 0 20px;\n",
       "  margin-block-start: 0;\n",
       "  margin-block-end: 0;\n",
       "}\n",
       "\n",
       ".xr-section-item {\n",
       "  display: contents;\n",
       "}\n",
       "\n",
       ".xr-section-item input {\n",
       "  display: inline-block;\n",
       "  opacity: 0;\n",
       "  height: 0;\n",
       "  margin: 0;\n",
       "}\n",
       "\n",
       ".xr-section-item input + label {\n",
       "  color: var(--xr-disabled-color);\n",
       "  border: 2px solid transparent !important;\n",
       "}\n",
       "\n",
       ".xr-section-item input:enabled + label {\n",
       "  cursor: pointer;\n",
       "  color: var(--xr-font-color2);\n",
       "}\n",
       "\n",
       ".xr-section-item input:focus + label {\n",
       "  border: 2px solid var(--xr-font-color0) !important;\n",
       "}\n",
       "\n",
       ".xr-section-item input:enabled + label:hover {\n",
       "  color: var(--xr-font-color0);\n",
       "}\n",
       "\n",
       ".xr-section-summary {\n",
       "  grid-column: 1;\n",
       "  color: var(--xr-font-color2);\n",
       "  font-weight: 500;\n",
       "}\n",
       "\n",
       ".xr-section-summary > span {\n",
       "  display: inline-block;\n",
       "  padding-left: 0.5em;\n",
       "}\n",
       "\n",
       ".xr-section-summary-in:disabled + label {\n",
       "  color: var(--xr-font-color2);\n",
       "}\n",
       "\n",
       ".xr-section-summary-in + label:before {\n",
       "  display: inline-block;\n",
       "  content: \"►\";\n",
       "  font-size: 11px;\n",
       "  width: 15px;\n",
       "  text-align: center;\n",
       "}\n",
       "\n",
       ".xr-section-summary-in:disabled + label:before {\n",
       "  color: var(--xr-disabled-color);\n",
       "}\n",
       "\n",
       ".xr-section-summary-in:checked + label:before {\n",
       "  content: \"▼\";\n",
       "}\n",
       "\n",
       ".xr-section-summary-in:checked + label > span {\n",
       "  display: none;\n",
       "}\n",
       "\n",
       ".xr-section-summary,\n",
       ".xr-section-inline-details {\n",
       "  padding-top: 4px;\n",
       "}\n",
       "\n",
       ".xr-section-inline-details {\n",
       "  grid-column: 2 / -1;\n",
       "}\n",
       "\n",
       ".xr-section-details {\n",
       "  display: none;\n",
       "  grid-column: 1 / -1;\n",
       "  margin-top: 4px;\n",
       "  margin-bottom: 5px;\n",
       "}\n",
       "\n",
       ".xr-section-summary-in:checked ~ .xr-section-details {\n",
       "  display: contents;\n",
       "}\n",
       "\n",
       ".xr-group-box {\n",
       "  display: inline-grid;\n",
       "  grid-template-columns: 0px 20px auto;\n",
       "  width: 100%;\n",
       "}\n",
       "\n",
       ".xr-group-box-vline {\n",
       "  grid-column-start: 1;\n",
       "  border-right: 0.2em solid;\n",
       "  border-color: var(--xr-border-color);\n",
       "  width: 0px;\n",
       "}\n",
       "\n",
       ".xr-group-box-hline {\n",
       "  grid-column-start: 2;\n",
       "  grid-row-start: 1;\n",
       "  height: 1em;\n",
       "  width: 20px;\n",
       "  border-bottom: 0.2em solid;\n",
       "  border-color: var(--xr-border-color);\n",
       "}\n",
       "\n",
       ".xr-group-box-contents {\n",
       "  grid-column-start: 3;\n",
       "}\n",
       "\n",
       ".xr-array-wrap {\n",
       "  grid-column: 1 / -1;\n",
       "  display: grid;\n",
       "  grid-template-columns: 20px auto;\n",
       "}\n",
       "\n",
       ".xr-array-wrap > label {\n",
       "  grid-column: 1;\n",
       "  vertical-align: top;\n",
       "}\n",
       "\n",
       ".xr-preview {\n",
       "  color: var(--xr-font-color3);\n",
       "}\n",
       "\n",
       ".xr-array-preview,\n",
       ".xr-array-data {\n",
       "  padding: 0 5px !important;\n",
       "  grid-column: 2;\n",
       "}\n",
       "\n",
       ".xr-array-data,\n",
       ".xr-array-in:checked ~ .xr-array-preview {\n",
       "  display: none;\n",
       "}\n",
       "\n",
       ".xr-array-in:checked ~ .xr-array-data,\n",
       ".xr-array-preview {\n",
       "  display: inline-block;\n",
       "}\n",
       "\n",
       ".xr-dim-list {\n",
       "  display: inline-block !important;\n",
       "  list-style: none;\n",
       "  padding: 0 !important;\n",
       "  margin: 0;\n",
       "}\n",
       "\n",
       ".xr-dim-list li {\n",
       "  display: inline-block;\n",
       "  padding: 0;\n",
       "  margin: 0;\n",
       "}\n",
       "\n",
       ".xr-dim-list:before {\n",
       "  content: \"(\";\n",
       "}\n",
       "\n",
       ".xr-dim-list:after {\n",
       "  content: \")\";\n",
       "}\n",
       "\n",
       ".xr-dim-list li:not(:last-child):after {\n",
       "  content: \",\";\n",
       "  padding-right: 5px;\n",
       "}\n",
       "\n",
       ".xr-has-index {\n",
       "  font-weight: bold;\n",
       "}\n",
       "\n",
       ".xr-var-list,\n",
       ".xr-var-item {\n",
       "  display: contents;\n",
       "}\n",
       "\n",
       ".xr-var-item > div,\n",
       ".xr-var-item label,\n",
       ".xr-var-item > .xr-var-name span {\n",
       "  background-color: var(--xr-background-color-row-even);\n",
       "  border-color: var(--xr-background-color-row-odd);\n",
       "  margin-bottom: 0;\n",
       "  padding-top: 2px;\n",
       "}\n",
       "\n",
       ".xr-var-item > .xr-var-name:hover span {\n",
       "  padding-right: 5px;\n",
       "}\n",
       "\n",
       ".xr-var-list > li:nth-child(odd) > div,\n",
       ".xr-var-list > li:nth-child(odd) > label,\n",
       ".xr-var-list > li:nth-child(odd) > .xr-var-name span {\n",
       "  background-color: var(--xr-background-color-row-odd);\n",
       "  border-color: var(--xr-background-color-row-even);\n",
       "}\n",
       "\n",
       ".xr-var-name {\n",
       "  grid-column: 1;\n",
       "}\n",
       "\n",
       ".xr-var-dims {\n",
       "  grid-column: 2;\n",
       "}\n",
       "\n",
       ".xr-var-dtype {\n",
       "  grid-column: 3;\n",
       "  text-align: right;\n",
       "  color: var(--xr-font-color2);\n",
       "}\n",
       "\n",
       ".xr-var-preview {\n",
       "  grid-column: 4;\n",
       "}\n",
       "\n",
       ".xr-index-preview {\n",
       "  grid-column: 2 / 5;\n",
       "  color: var(--xr-font-color2);\n",
       "}\n",
       "\n",
       ".xr-var-name,\n",
       ".xr-var-dims,\n",
       ".xr-var-dtype,\n",
       ".xr-preview,\n",
       ".xr-attrs dt {\n",
       "  white-space: nowrap;\n",
       "  overflow: hidden;\n",
       "  text-overflow: ellipsis;\n",
       "  padding-right: 10px;\n",
       "}\n",
       "\n",
       ".xr-var-name:hover,\n",
       ".xr-var-dims:hover,\n",
       ".xr-var-dtype:hover,\n",
       ".xr-attrs dt:hover {\n",
       "  overflow: visible;\n",
       "  width: auto;\n",
       "  z-index: 1;\n",
       "}\n",
       "\n",
       ".xr-var-attrs,\n",
       ".xr-var-data,\n",
       ".xr-index-data {\n",
       "  display: none;\n",
       "  border-top: 2px dotted var(--xr-background-color);\n",
       "  padding-bottom: 20px !important;\n",
       "  padding-top: 10px !important;\n",
       "}\n",
       "\n",
       ".xr-var-attrs-in + label,\n",
       ".xr-var-data-in + label,\n",
       ".xr-index-data-in + label {\n",
       "  padding: 0 1px;\n",
       "}\n",
       "\n",
       ".xr-var-attrs-in:checked ~ .xr-var-attrs,\n",
       ".xr-var-data-in:checked ~ .xr-var-data,\n",
       ".xr-index-data-in:checked ~ .xr-index-data {\n",
       "  display: block;\n",
       "}\n",
       "\n",
       ".xr-var-data > table {\n",
       "  float: right;\n",
       "}\n",
       "\n",
       ".xr-var-data > pre,\n",
       ".xr-index-data > pre,\n",
       ".xr-var-data > table > tbody > tr {\n",
       "  background-color: transparent !important;\n",
       "}\n",
       "\n",
       ".xr-var-name span,\n",
       ".xr-var-data,\n",
       ".xr-index-name div,\n",
       ".xr-index-data,\n",
       ".xr-attrs {\n",
       "  padding-left: 25px !important;\n",
       "}\n",
       "\n",
       ".xr-attrs,\n",
       ".xr-var-attrs,\n",
       ".xr-var-data,\n",
       ".xr-index-data {\n",
       "  grid-column: 1 / -1;\n",
       "}\n",
       "\n",
       "dl.xr-attrs {\n",
       "  padding: 0;\n",
       "  margin: 0;\n",
       "  display: grid;\n",
       "  grid-template-columns: 125px auto;\n",
       "}\n",
       "\n",
       ".xr-attrs dt,\n",
       ".xr-attrs dd {\n",
       "  padding: 0;\n",
       "  margin: 0;\n",
       "  float: left;\n",
       "  padding-right: 10px;\n",
       "  width: auto;\n",
       "}\n",
       "\n",
       ".xr-attrs dt {\n",
       "  font-weight: normal;\n",
       "  grid-column: 1;\n",
       "}\n",
       "\n",
       ".xr-attrs dt:hover span {\n",
       "  display: inline-block;\n",
       "  background: var(--xr-background-color);\n",
       "  padding-right: 10px;\n",
       "}\n",
       "\n",
       ".xr-attrs dd {\n",
       "  grid-column: 2;\n",
       "  white-space: pre-wrap;\n",
       "  word-break: break-all;\n",
       "}\n",
       "\n",
       ".xr-icon-database,\n",
       ".xr-icon-file-text2,\n",
       ".xr-no-icon {\n",
       "  display: inline-block;\n",
       "  vertical-align: middle;\n",
       "  width: 1em;\n",
       "  height: 1.5em !important;\n",
       "  stroke-width: 0;\n",
       "  stroke: currentColor;\n",
       "  fill: currentColor;\n",
       "}\n",
       "\n",
       ".xr-var-attrs-in:checked + label > .xr-icon-file-text2,\n",
       ".xr-var-data-in:checked + label > .xr-icon-database,\n",
       ".xr-index-data-in:checked + label > .xr-icon-database {\n",
       "  color: var(--xr-font-color0);\n",
       "  filter: drop-shadow(1px 1px 5px var(--xr-font-color2));\n",
       "  stroke-width: 0.8px;\n",
       "}\n",
       "</style><pre class='xr-text-repr-fallback'>&lt;xarray.DataArray (unit: 3, feat1: 5)&gt; Size: 120B\n",
       "array([[0.        , 0.        , 0.        , 0.        , 0.        ],\n",
       "       [0.        , 0.04761905, 0.04      , 0.125     , 0.        ],\n",
       "       [0.6       , 0.61904762, 0.92      , 1.4375    , 1.75      ]])\n",
       "Coordinates:\n",
       "  * unit     (unit) int64 24B 0 1 2\n",
       "  * feat1    (feat1) float64 40B -2.222 -1.129 -0.03541 1.058 2.151\n",
       "Attributes:\n",
       "    occupancy:  [ 5. 21. 25. 16.  4.]\n",
       "    bin_edges:  [array([-2.76833082, -1.67516101, -0.5819912 ,  0.51117861,  ...\n",
       "    fs:         1.0</pre><div class='xr-wrap' style='display:none'><div class='xr-header'><div class='xr-obj-type'>xarray.DataArray</div><div class='xr-obj-name'></div><ul class='xr-dim-list'><li><span class='xr-has-index'>unit</span>: 3</li><li><span class='xr-has-index'>feat1</span>: 5</li></ul></div><ul class='xr-sections'><li class='xr-section-item'><div class='xr-array-wrap'><input id='section-40d07aea-bc18-4d47-b147-9f02dc9f4143' class='xr-array-in' type='checkbox' checked><label for='section-40d07aea-bc18-4d47-b147-9f02dc9f4143' title='Show/hide data repr'><svg class='icon xr-icon-database'><use xlink:href='#icon-database'></use></svg></label><div class='xr-array-preview xr-preview'><span>0.0 0.0 0.0 0.0 0.0 0.0 0.04762 ... 0.0 0.6 0.619 0.92 1.438 1.75</span></div><div class='xr-array-data'><pre>array([[0.        , 0.        , 0.        , 0.        , 0.        ],\n",
       "       [0.        , 0.04761905, 0.04      , 0.125     , 0.        ],\n",
       "       [0.6       , 0.61904762, 0.92      , 1.4375    , 1.75      ]])</pre></div></div></li><li class='xr-section-item'><input id='section-6aad2cf7-854d-416c-8352-9c8c1eb02885' class='xr-section-summary-in' type='checkbox'  checked><label for='section-6aad2cf7-854d-416c-8352-9c8c1eb02885' class='xr-section-summary' >Coordinates: <span>(2)</span></label><div class='xr-section-inline-details'></div><div class='xr-section-details'><ul class='xr-var-list'><li class='xr-var-item'><div class='xr-var-name'><span class='xr-has-index'>unit</span></div><div class='xr-var-dims'>(unit)</div><div class='xr-var-dtype'>int64</div><div class='xr-var-preview xr-preview'>0 1 2</div><input id='attrs-19496509-f07d-4344-9e06-1a410deb528b' class='xr-var-attrs-in' type='checkbox' disabled><label for='attrs-19496509-f07d-4344-9e06-1a410deb528b' title='Show/Hide attributes'><svg class='icon xr-icon-file-text2'><use xlink:href='#icon-file-text2'></use></svg></label><input id='data-b99ae707-adf4-4a84-86da-3541ffb4a717' class='xr-var-data-in' type='checkbox'><label for='data-b99ae707-adf4-4a84-86da-3541ffb4a717' title='Show/Hide data repr'><svg class='icon xr-icon-database'><use xlink:href='#icon-database'></use></svg></label><div class='xr-var-attrs'><dl class='xr-attrs'></dl></div><div class='xr-var-data'><pre>array([0, 1, 2])</pre></div></li><li class='xr-var-item'><div class='xr-var-name'><span class='xr-has-index'>feat1</span></div><div class='xr-var-dims'>(feat1)</div><div class='xr-var-dtype'>float64</div><div class='xr-var-preview xr-preview'>-2.222 -1.129 -0.03541 1.058 2.151</div><input id='attrs-788208fc-41e4-42d2-9ca7-12e71c58dde4' class='xr-var-attrs-in' type='checkbox' disabled><label for='attrs-788208fc-41e4-42d2-9ca7-12e71c58dde4' title='Show/Hide attributes'><svg class='icon xr-icon-file-text2'><use xlink:href='#icon-file-text2'></use></svg></label><input id='data-b119e5f6-039f-4038-9c93-f247b9aa729c' class='xr-var-data-in' type='checkbox'><label for='data-b119e5f6-039f-4038-9c93-f247b9aa729c' title='Show/Hide data repr'><svg class='icon xr-icon-database'><use xlink:href='#icon-database'></use></svg></label><div class='xr-var-attrs'><dl class='xr-attrs'></dl></div><div class='xr-var-data'><pre>array([-2.221746, -1.128576, -0.035406,  1.057764,  2.150933])</pre></div></li></ul></div></li><li class='xr-section-item'><input id='section-b8488ea0-aea2-4ea8-b45d-6a05bd676dc2' class='xr-section-summary-in' type='checkbox'  checked><label for='section-b8488ea0-aea2-4ea8-b45d-6a05bd676dc2' class='xr-section-summary' >Attributes: <span>(3)</span></label><div class='xr-section-inline-details'></div><div class='xr-section-details'><dl class='xr-attrs'><dt><span>occupancy :</span></dt><dd>[ 5. 21. 25. 16.  4.]</dd><dt><span>bin_edges :</span></dt><dd>[array([-2.76833082, -1.67516101, -0.5819912 ,  0.51117861,  1.60434842,\n",
       "        2.69751822])]</dd><dt><span>fs :</span></dt><dd>1.0</dd></dl></div></li></ul></div></div>"
      ],
      "text/plain": [
       "<xarray.DataArray (unit: 3, feat1: 5)> Size: 120B\n",
       "array([[0.        , 0.        , 0.        , 0.        , 0.        ],\n",
       "       [0.        , 0.04761905, 0.04      , 0.125     , 0.        ],\n",
       "       [0.6       , 0.61904762, 0.92      , 1.4375    , 1.75      ]])\n",
       "Coordinates:\n",
       "  * unit     (unit) int64 24B 0 1 2\n",
       "  * feat1    (feat1) float64 40B -2.222 -1.129 -0.03541 1.058 2.151\n",
       "Attributes:\n",
       "    occupancy:  [ 5. 21. 25. 16.  4.]\n",
       "    bin_edges:  [array([-2.76833082, -1.67516101, -0.5819912 ,  0.51117861,  ...\n",
       "    fs:         1.0"
      ]
     },
     "execution_count": 48,
     "metadata": {},
     "output_type": "execute_result"
    }
   ],
   "source": [
    "tc = nap.compute_tuning_curves(tsgroup, tsd1, bins=5, feature_names=[\"feat1\"])\n",
    "tc"
   ]
  },
  {
   "cell_type": "markdown",
   "id": "f8522142",
   "metadata": {},
   "source": [
    "<div class=\"render-all\">\n",
    "\n",
    "The output is an [xarray](https://docs.xarray.dev/en/stable/) object. It is a wrapper of numpy array with extra attributes. It allows to give coordinates to each dimensions as well as attaching attributes. We can make the output look better by labelling the feature we used.\n",
    "\n",
    "The coordinates can be accessed with the `coords` attribute. The feature position (i.e. center of the bin) can be accessed with the attribute.\n",
    "\n",
    "**Question**: Can you print the underlying the units number, bin center and bin edges of the tuning curve xarray object?\n",
    "\n",
    "</div>"
   ]
  },
  {
   "cell_type": "code",
   "execution_count": 49,
   "id": "96e240cb",
   "metadata": {},
   "outputs": [
    {
     "name": "stdout",
     "output_type": "stream",
     "text": [
      "[0 1 2]\n",
      "[-2.22174591 -1.1285761  -0.0354063   1.05776351  2.15093332]\n",
      "[ 5. 21. 25. 16.  4.]\n",
      "[array([-2.76833082, -1.67516101, -0.5819912 ,  0.51117861,  1.60434842,\n",
      "        2.69751822])]\n",
      "1.0\n"
     ]
    }
   ],
   "source": [
    "print(tc.unit.values)\n",
    "print(tc.feat1.values)\n",
    "print(tc.occupancy)\n",
    "print(tc.bin_edges)\n",
    "print(tc.fs)"
   ]
  },
  {
   "cell_type": "markdown",
   "id": "f81b3aba",
   "metadata": {},
   "source": [
    "<div class=\"render-all\">\n",
    "\n",
    "**Question**: Can you plot the tuning curves for all units?\n",
    "\n",
    "</div>"
   ]
  },
  {
   "cell_type": "code",
   "execution_count": 50,
   "id": "8c539e79",
   "metadata": {},
   "outputs": [
    {
     "data": {
      "text/plain": [
       "[<matplotlib.lines.Line2D at 0x7fa1101252b0>,\n",
       " <matplotlib.lines.Line2D at 0x7fa1101268a0>,\n",
       " <matplotlib.lines.Line2D at 0x7fa0f8162f90>]"
      ]
     },
     "execution_count": 50,
     "metadata": {},
     "output_type": "execute_result"
    },
    {
     "data": {
      "image/png": "[encoded data removed]",
      "text/plain": [
       "<Figure size 640x480 with 1 Axes>"
      ]
     },
     "metadata": {},
     "output_type": "display_data"
    }
   ],
   "source": [
    "# tc.plot()\n",
    "# tc.plot(row=\"unit\")\n",
    "# tc.plot(col=\"unit\")\n",
    "# tc[1].plot()\n",
    "# plt.plot(tc[1].feat1, tc[1].values)\n",
    "plt.plot(tc.feat1, tc.values.T)\n"
   ]
  },
  {
   "cell_type": "markdown",
   "id": "d8da72a0",
   "metadata": {},
   "source": [
    "## Important\n",
    "\n",
    "<div class=\"render-all\">\n",
    "\n",
    "**Question:** Does this work?\n",
    "If not, please ask a TA.\n",
    "\n",
    "</div>"
   ]
  },
  {
   "cell_type": "code",
   "execution_count": 51,
   "id": "0c8ac1b3",
   "metadata": {
    "tags": [
     "render-all"
    ]
   },
   "outputs": [
    {
     "name": "stderr",
     "output_type": "stream",
     "text": [
      "Downloading file 'Mouse32-140822.nwb' from 'https://osf.io/download/jb2gd/' to '/home/agent/workspace/rorse_ccn-software-sfn-2025_main/lib/python3.12/data'.\n"
     ]
    },
    {
     "name": "stderr",
     "output_type": "stream",
     "text": [
      "\r",
      "  0%|                                              | 0.00/36.6M [00:00<?, ?B/s]"
     ]
    },
    {
     "name": "stderr",
     "output_type": "stream",
     "text": [
      "\r",
      "  1%|▍                                     | 376k/36.6M [00:00<00:09, 3.71MB/s]"
     ]
    },
    {
     "name": "stderr",
     "output_type": "stream",
     "text": [
      "\r",
      " 17%|██████▍                              | 6.32M/36.6M [00:00<00:00, 36.3MB/s]"
     ]
    },
    {
     "name": "stderr",
     "output_type": "stream",
     "text": [
      "\r",
      " 27%|██████████                           | 9.98M/36.6M [00:00<00:00, 28.0MB/s]"
     ]
    },
    {
     "name": "stderr",
     "output_type": "stream",
     "text": [
      "\r",
      " 40%|██████████████▊                      | 14.7M/36.6M [00:00<00:00, 26.5MB/s]"
     ]
    },
    {
     "name": "stderr",
     "output_type": "stream",
     "text": [
      "\r",
      " 57%|█████████████████████▏               | 21.0M/36.6M [00:00<00:00, 35.3MB/s]"
     ]
    },
    {
     "name": "stderr",
     "output_type": "stream",
     "text": [
      "\r",
      " 70%|█████████████████████████▉           | 25.7M/36.6M [00:00<00:00, 38.4MB/s]"
     ]
    },
    {
     "name": "stderr",
     "output_type": "stream",
     "text": [
      "\r",
      " 92%|█████████████████████████████████▊   | 33.5M/36.6M [00:00<00:00, 49.6MB/s]"
     ]
    },
    {
     "name": "stderr",
     "output_type": "stream",
     "text": [
      "\r",
      "  0%|                                              | 0.00/36.6M [00:00<?, ?B/s]"
     ]
    },
    {
     "name": "stderr",
     "output_type": "stream",
     "text": [
      "\r",
      "100%|█████████████████████████████████████| 36.6M/36.6M [00:00<00:00, 75.1GB/s]"
     ]
    },
    {
     "name": "stderr",
     "output_type": "stream",
     "text": [
      "\n"
     ]
    },
    {
     "name": "stdout",
     "output_type": "stream",
     "text": [
      "/home/agent/workspace/rorse_ccn-software-sfn-2025_main/lib/python3.12/data/Mouse32-140822.nwb\n"
     ]
    }
   ],
   "source": [
    "import workshop_utils\n",
    "path = workshop_utils.fetch_data(\"Mouse32-140822.nwb\")\n",
    "print(path)"
   ]
  }
 ],
 "metadata": {
  "jupytext": {
   "text_representation": {
    "extension": ".md",
    "format_name": "myst",
    "format_version": 0.13,
    "jupytext_version": "1.18.1"
   }
  },
  "kernelspec": {
   "display_name": "Python 3 (ipykernel)",
   "language": "python",
   "name": "python3"
  },
  "language_info": {
   "codemirror_mode": {
    "name": "ipython",
    "version": 3
   },
   "file_extension": ".py",
   "mimetype": "text/x-python",
   "name": "python",
   "nbconvert_exporter": "python",
   "pygments_lexer": "ipython3",
   "version": "3.12.3"
  },
  "source_map": [
   14,
   18,
   51,
   58,
   62,
   81,
   95,
   99,
   107,
   109,
   117,
   119,
   127,
   129,
   137,
   140,
   150,
   154,
   164,
   166,
   174,
   176,
   188,
   190,
   200,
   202,
   210,
   213,
   223,
   227,
   234,
   239,
   244,
   251,
   253,
   259,
   263,
   270,
   272,
   279,
   281,
   288,
   290,
   297,
   299,
   319,
   321,
   328,
   330,
   346,
   348,
   358,
   360,
   376,
   378,
   385,
   387,
   397,
   400,
   409,
   412,
   419,
   425,
   436,
   442,
   449,
   451,
   455,
   462,
   469,
   471,
   478,
   481,
   489,
   491,
   502,
   505,
   511,
   517,
   527,
   529,
   537,
   542,
   552,
   554,
   562,
   566,
   575,
   579,
   586,
   591,
   605,
   607,
   615,
   618,
   630,
   636,
   644,
   652,
   663
  ]
 },
 "nbformat": 4,
 "nbformat_minor": 5
}