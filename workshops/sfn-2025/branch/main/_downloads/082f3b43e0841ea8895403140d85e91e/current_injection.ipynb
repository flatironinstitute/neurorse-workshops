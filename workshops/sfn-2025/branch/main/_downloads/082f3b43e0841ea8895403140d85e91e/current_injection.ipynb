{
 "cells": [
  {
   "cell_type": "code",
   "execution_count": 1,
   "id": "ef25aa9e",
   "metadata": {
    "tags": [
     "hide-input",
     "render-all"
    ]
   },
   "outputs": [],
   "source": [
    "%matplotlib inline\n",
    "%load_ext autoreload\n",
    "%autoreload 2\n",
    "import warnings\n",
    "\n",
    "warnings.filterwarnings(\n",
    "    \"ignore\",\n",
    "    message=\"plotting functions contained within `_documentation_utils` are intended for nemos's documentation.\",\n",
    "    category=UserWarning,\n",
    ")\n",
    "\n",
    "warnings.filterwarnings(\n",
    "    \"ignore\",\n",
    "    message=\"Ignoring cached namespace 'core'\",\n",
    "    category=UserWarning,\n",
    ")\n",
    "\n",
    "warnings.filterwarnings(\n",
    "    \"ignore\",\n",
    "    message=(\n",
    "        \"invalid value encountered in div \"\n",
    "    ),\n",
    "    category=RuntimeWarning,\n",
    ")"
   ]
  },
  {
   "cell_type": "markdown",
   "id": "7f1a7159",
   "metadata": {},
   "source": [
    ":::{admonition} Download\n",
    ":class: important render-all\n",
    "\n",
    "This notebook can be downloaded as **{nb-download}`current_injection.ipynb`**. See the button at the top right to download as markdown or pdf.\n",
    ":::\n",
    "\n",
    "# Introduction to GLM\n",
    "\n",
    "For our first example, we will look at a very simple dataset: patch-clamp\n",
    "recordings from a single neuron in layer 4 of mouse primary visual cortex. This\n",
    "data is from the [Allen Brain\n",
    "Atlas](https://celltypes.brain-map.org/experiment/electrophysiology/478498617),\n",
    "and experimenters injected current directly into the cell, while recording the\n",
    "neuron's membrane potential and spiking behavior. The experiments varied the\n",
    "shape of the current across many sweeps, mapping the neuron's behavior in\n",
    "response to a wide range of potential inputs.\n",
    "\n",
    "For our purposes, we will examine only one of these sweeps, \"Noise 1\", in which\n",
    "the experimentalists injected three pulses of current. The current is a square\n",
    "pulse multiplied by a sinusoid of a fixed frequency, with some random noise\n",
    "riding on top.\n",
    "\n",
    "<div class=\"render-user render-presenter\">\n",
    "Data for this notebook is a patch clamp experiment with a mouse V1 neuron, from the [Allen Brain Atlas](https://celltypes.brain-map.org/experiment/electrophysiology/478498617)\n",
    "</div>\n",
    "\n",
    "<div class=\"render-all\">\n",
    "\n",
    "![Allen Brain Atlas view of the data we will analyze.](../../_static/allen_data.png)\n",
    "\n",
    "</div>\n",
    "\n",
    "In the figure above (from the Allen Brain Atlas website), we see the\n",
    "approximately 22 second sweep, with the input current plotted in the first row,\n",
    "the intracellular voltage in the second, and the recorded spikes in the third.\n",
    "(The grey lines and dots in the second and third rows comes from other sweeps\n",
    "with the same stimulus, which we'll ignore in this exercise.) When fitting the\n",
    "Generalized Linear Model, we are attempting to model the spiking behavior, and\n",
    "we generally do not have access to the intracellular voltage, so for the rest\n",
    "of this notebook, we'll use only the input current and the recorded spikes\n",
    "displayed in the first and third rows.\n",
    "\n",
    "First, let us see how to load in the data and reproduce the above figure, which\n",
    "we'll do using [pynapple](https://pynapple.org). This will largely be a\n",
    "review of what we went through yesterday. After we've explored the data some, we'll\n",
    "introduce the Generalized Linear Model and how to fit it with NeMoS.\n",
    "\n",
    "<div class=\"render-all\">\n",
    "\n",
    "## Learning objectives \n",
    "\n",
    "- Learn how to explore spiking data and do basic analyses using pynapple\n",
    "- Learn how to structure data for NeMoS\n",
    "- Learn how to fit a basic Generalized Linear Model using NeMoS\n",
    "- Learn how to retrieve the parameters and predictions from a fit GLM for\n",
    "  intrepetation.\n",
    "</div>"
   ]
  },
  {
   "cell_type": "code",
   "execution_count": 2,
   "id": "3a29eca5",
   "metadata": {
    "tags": [
     "render-all"
    ]
   },
   "outputs": [
    {
     "name": "stderr",
     "output_type": "stream",
     "text": [
      "WARNING:2025-10-30 20:12:52,919:jax._src.xla_bridge:850: An NVIDIA GPU may be present on this machine, but a CUDA-enabled jaxlib is not installed. Falling back to cpu.\n"
     ]
    }
   ],
   "source": [
    "# Import everything\n",
    "import jax\n",
    "import matplotlib.pyplot as plt\n",
    "import numpy as np\n",
    "import pynapple as nap\n",
    "\n",
    "import nemos as nmo\n",
    "\n",
    "# some helper plotting functions\n",
    "from nemos import _documentation_utils as doc_plots\n",
    "import workshop_utils\n",
    "\n",
    "# configure plots some\n",
    "plt.style.use(nmo.styles.plot_style)"
   ]
  },
  {
   "cell_type": "markdown",
   "id": "47e3f250",
   "metadata": {},
   "source": [
    "## Data Streaming\n",
    "\n",
    "While you can download the data directly from the Allen Brain Atlas and\n",
    "interact with it using their\n",
    "[AllenSDK](https://allensdk.readthedocs.io/en/latest/visual_behavior_neuropixels.html),\n",
    "we prefer the burgeoning [Neurodata Without Borders (NWB)\n",
    "standard](https://nwb-overview.readthedocs.io/en/latest/). We have converted\n",
    "this single dataset to NWB and uploaded it to the [Open Science\n",
    "Framework](https://osf.io/5crqj/). This allows us to easily load the data\n",
    "using pynapple, and it will immediately be in a format that pynapple understands!\n",
    "\n",
    ":::{tip}\n",
    "\n",
    "  Pynapple can stream any NWB-formatted dataset! See [their\n",
    "  documentation](https://pynapple.org/examples/tutorial_pynapple_dandi.html)\n",
    "  for more details, and see the [DANDI Archive](https://dandiarchive.org/)\n",
    "  for a repository of compliant datasets.\n",
    ":::\n",
    "\n",
    "The first time the following cell is run, it will take a little bit of time\n",
    "to download the data, and a progress bar will show the download's progress.\n",
    "On subsequent runs, the cell gets skipped: we do not need to redownload the\n",
    "data.\n",
    "\n",
    "<div class=\"render-user render-presenter\">\n",
    "- Stream the data. Format is [Neurodata Without Borders (NWB) standard](https://nwb-overview.readthedocs.io/en/latest/)\n",
    "</div>"
   ]
  },
  {
   "cell_type": "code",
   "execution_count": 3,
   "id": "facb81c5",
   "metadata": {
    "tags": [
     "render-all"
    ]
   },
   "outputs": [
    {
     "name": "stderr",
     "output_type": "stream",
     "text": [
      "Downloading file 'allen_478498617.nwb' from 'https://osf.io/download/vf2nj/' to '/home/agent/workspace/rorse_ccn-software-sfn-2025_main/lib/python3.12/data'.\n"
     ]
    },
    {
     "name": "stderr",
     "output_type": "stream",
     "text": [
      "\r",
      "  0%|                                               | 0.00/363M [00:00<?, ?B/s]"
     ]
    },
    {
     "name": "stderr",
     "output_type": "stream",
     "text": [
      "\r",
      "  1%|▎                                     | 2.89M/363M [00:00<00:12, 28.9MB/s]"
     ]
    },
    {
     "name": "stderr",
     "output_type": "stream",
     "text": [
      "\r",
      "  3%|█▏                                    | 11.7M/363M [00:00<00:05, 63.5MB/s]"
     ]
    },
    {
     "name": "stderr",
     "output_type": "stream",
     "text": [
      "\r",
      "  6%|██▏                                   | 20.7M/363M [00:00<00:04, 75.9MB/s]"
     ]
    },
    {
     "name": "stderr",
     "output_type": "stream",
     "text": [
      "\r",
      "  8%|███                                   | 29.8M/363M [00:00<00:04, 81.8MB/s]"
     ]
    },
    {
     "name": "stderr",
     "output_type": "stream",
     "text": [
      "\r",
      " 11%|████                                  | 38.9M/363M [00:00<00:03, 85.0MB/s]"
     ]
    },
    {
     "name": "stderr",
     "output_type": "stream",
     "text": [
      "\r",
      " 13%|█████                                 | 47.8M/363M [00:00<00:03, 86.6MB/s]"
     ]
    },
    {
     "name": "stderr",
     "output_type": "stream",
     "text": [
      "\r",
      " 16%|█████▉                                | 56.9M/363M [00:00<00:03, 87.9MB/s]"
     ]
    },
    {
     "name": "stderr",
     "output_type": "stream",
     "text": [
      "\r",
      " 18%|██████▉                               | 66.0M/363M [00:00<00:03, 88.8MB/s]"
     ]
    },
    {
     "name": "stderr",
     "output_type": "stream",
     "text": [
      "\r",
      " 21%|███████▊                              | 75.1M/363M [00:00<00:03, 89.4MB/s]"
     ]
    },
    {
     "name": "stderr",
     "output_type": "stream",
     "text": [
      "\r",
      " 23%|████████▊                             | 84.0M/363M [00:01<00:03, 89.3MB/s]"
     ]
    },
    {
     "name": "stderr",
     "output_type": "stream",
     "text": [
      "\r",
      " 26%|█████████▋                            | 93.2M/363M [00:01<00:03, 90.0MB/s]"
     ]
    },
    {
     "name": "stderr",
     "output_type": "stream",
     "text": [
      "\r",
      " 28%|██████████▉                            | 102M/363M [00:01<00:02, 90.5MB/s]"
     ]
    },
    {
     "name": "stderr",
     "output_type": "stream",
     "text": [
      "\r",
      " 31%|███████████▉                           | 111M/363M [00:01<00:02, 90.8MB/s]"
     ]
    },
    {
     "name": "stderr",
     "output_type": "stream",
     "text": [
      "\r",
      " 33%|████████████▉                          | 121M/363M [00:01<00:02, 90.9MB/s]"
     ]
    },
    {
     "name": "stderr",
     "output_type": "stream",
     "text": [
      "\r",
      " 36%|█████████████▉                         | 130M/363M [00:01<00:02, 90.9MB/s]"
     ]
    },
    {
     "name": "stderr",
     "output_type": "stream",
     "text": [
      "\r",
      " 38%|██████████████▉                        | 139M/363M [00:01<00:02, 91.1MB/s]"
     ]
    },
    {
     "name": "stderr",
     "output_type": "stream",
     "text": [
      "\r",
      " 41%|███████████████▉                       | 148M/363M [00:01<00:02, 90.9MB/s]"
     ]
    },
    {
     "name": "stderr",
     "output_type": "stream",
     "text": [
      "\r",
      " 43%|████████████████▊                      | 157M/363M [00:01<00:02, 90.8MB/s]"
     ]
    },
    {
     "name": "stderr",
     "output_type": "stream",
     "text": [
      "\r",
      " 46%|█████████████████▊                     | 166M/363M [00:01<00:02, 90.9MB/s]"
     ]
    },
    {
     "name": "stderr",
     "output_type": "stream",
     "text": [
      "\r",
      " 48%|██████████████████▊                    | 175M/363M [00:02<00:02, 90.9MB/s]"
     ]
    },
    {
     "name": "stderr",
     "output_type": "stream",
     "text": [
      "\r",
      " 51%|███████████████████▊                   | 184M/363M [00:02<00:01, 91.1MB/s]"
     ]
    },
    {
     "name": "stderr",
     "output_type": "stream",
     "text": [
      "\r",
      " 53%|████████████████████▊                  | 194M/363M [00:02<00:01, 90.5MB/s]"
     ]
    },
    {
     "name": "stderr",
     "output_type": "stream",
     "text": [
      "\r",
      " 56%|█████████████████████▋                 | 203M/363M [00:02<00:01, 90.5MB/s]"
     ]
    },
    {
     "name": "stderr",
     "output_type": "stream",
     "text": [
      "\r",
      " 58%|██████████████████████▋                | 212M/363M [00:02<00:01, 90.8MB/s]"
     ]
    },
    {
     "name": "stderr",
     "output_type": "stream",
     "text": [
      "\r",
      " 61%|███████████████████████▋               | 221M/363M [00:02<00:01, 90.8MB/s]"
     ]
    },
    {
     "name": "stderr",
     "output_type": "stream",
     "text": [
      "\r",
      " 63%|████████████████████████▋              | 230M/363M [00:02<00:01, 90.9MB/s]"
     ]
    },
    {
     "name": "stderr",
     "output_type": "stream",
     "text": [
      "\r",
      " 66%|█████████████████████████▋             | 239M/363M [00:02<00:01, 90.8MB/s]"
     ]
    },
    {
     "name": "stderr",
     "output_type": "stream",
     "text": [
      "\r",
      " 68%|██████████████████████████▋            | 248M/363M [00:02<00:01, 91.0MB/s]"
     ]
    },
    {
     "name": "stderr",
     "output_type": "stream",
     "text": [
      "\r",
      " 71%|███████████████████████████▌           | 257M/363M [00:02<00:01, 91.0MB/s]"
     ]
    },
    {
     "name": "stderr",
     "output_type": "stream",
     "text": [
      "\r",
      " 73%|████████████████████████████▌          | 266M/363M [00:03<00:01, 90.7MB/s]"
     ]
    },
    {
     "name": "stderr",
     "output_type": "stream",
     "text": [
      "\r",
      " 76%|█████████████████████████████▌         | 275M/363M [00:03<00:00, 90.6MB/s]"
     ]
    },
    {
     "name": "stderr",
     "output_type": "stream",
     "text": [
      "\r",
      " 78%|██████████████████████████████▌        | 285M/363M [00:03<00:00, 90.0MB/s]"
     ]
    },
    {
     "name": "stderr",
     "output_type": "stream",
     "text": [
      "\r",
      " 81%|███████████████████████████████▌       | 294M/363M [00:03<00:00, 90.3MB/s]"
     ]
    },
    {
     "name": "stderr",
     "output_type": "stream",
     "text": [
      "\r",
      " 83%|████████████████████████████████▍      | 303M/363M [00:03<00:00, 90.6MB/s]"
     ]
    },
    {
     "name": "stderr",
     "output_type": "stream",
     "text": [
      "\r",
      " 86%|█████████████████████████████████▍     | 312M/363M [00:03<00:00, 90.9MB/s]"
     ]
    },
    {
     "name": "stderr",
     "output_type": "stream",
     "text": [
      "\r",
      " 88%|██████████████████████████████████▍    | 321M/363M [00:03<00:00, 91.1MB/s]"
     ]
    },
    {
     "name": "stderr",
     "output_type": "stream",
     "text": [
      "\r",
      " 91%|███████████████████████████████████▍   | 330M/363M [00:03<00:00, 90.7MB/s]"
     ]
    },
    {
     "name": "stderr",
     "output_type": "stream",
     "text": [
      "\r",
      " 93%|████████████████████████████████████▍  | 339M/363M [00:03<00:00, 91.0MB/s]"
     ]
    },
    {
     "name": "stderr",
     "output_type": "stream",
     "text": [
      "\r",
      " 96%|█████████████████████████████████████▍ | 348M/363M [00:03<00:00, 91.1MB/s]"
     ]
    },
    {
     "name": "stderr",
     "output_type": "stream",
     "text": [
      "\r",
      " 98%|██████████████████████████████████████▍| 358M/363M [00:04<00:00, 90.9MB/s]"
     ]
    },
    {
     "name": "stderr",
     "output_type": "stream",
     "text": [
      "\r",
      "  0%|                                               | 0.00/363M [00:00<?, ?B/s]"
     ]
    },
    {
     "name": "stderr",
     "output_type": "stream",
     "text": [
      "\r",
      "100%|████████████████████████████████████████| 363M/363M [00:00<00:00, 746GB/s]"
     ]
    },
    {
     "name": "stderr",
     "output_type": "stream",
     "text": [
      "\n"
     ]
    }
   ],
   "source": [
    "path = workshop_utils.fetch_data(\"allen_478498617.nwb\")"
   ]
  },
  {
   "cell_type": "markdown",
   "id": "a09501f5",
   "metadata": {},
   "source": [
    "## Pynapple\n",
    "\n",
    "### Data structures and preparation\n",
    "\n",
    "Now that we've downloaded the data, let's open it with pynapple and examine\n",
    "its contents.\n",
    "\n",
    "<div class=\"render-user render-presenter\">\n",
    "- Open the NWB file with [pynapple](https://pynapple.org)\n",
    "</div>"
   ]
  },
  {
   "cell_type": "code",
   "execution_count": 4,
   "id": "cf99571d",
   "metadata": {
    "tags": [
     "render-all"
    ]
   },
   "outputs": [
    {
     "name": "stdout",
     "output_type": "stream",
     "text": [
      "allen_478498617\n",
      "┍━━━━━━━━━━┯━━━━━━━━━━━━━┑\n",
      "│ Keys     │ Type        │\n",
      "┝━━━━━━━━━━┿━━━━━━━━━━━━━┥\n",
      "│ units    │ TsGroup     │\n",
      "│ epochs   │ IntervalSet │\n",
      "│ stimulus │ Tsd         │\n",
      "│ response │ Tsd         │\n",
      "┕━━━━━━━━━━┷━━━━━━━━━━━━━┙\n"
     ]
    }
   ],
   "source": [
    "data = nap.load_file(path)\n",
    "print(data)"
   ]
  },
  {
   "cell_type": "markdown",
   "id": "4e78a1cd",
   "metadata": {},
   "source": [
    "The dataset contains several different pynapple objects, which we will\n",
    "explore throughout this demo. The following illustrates how these fields relate to the data\n",
    "we visualized above:\n",
    "\n",
    "<div class=\"render-all\">\n",
    "\n",
    "![Annotated view of the data we will analyze.](../../_static/allen_data_annotated.gif)\n",
    "<!-- this gif created with the following imagemagick command: convert -layers OptimizePlus -delay 100 allen_data_annotated-units.svg allen_data_annotated-epochs.svg allen_data_annotated-stimulus.svg allen_data_annotated-response.svg -loop 0 allen_data_annotated.gif -->\n",
    "\n",
    "- `stimulus`: injected current, in Amperes, sampled at 20k Hz.\n",
    "- `response`: the neuron's intracellular voltage, sampled at 20k Hz. We will not use this info in this example.\n",
    "- `units`: dictionary of neurons, holding each neuron's spike timestamps.\n",
    "- `epochs`: start and end times of different intervals, defining the experimental structure, specifying when each stimulation protocol began and ended.\n",
    "</div>\n",
    "\n",
    "Now let's go through the relevant variables in some more detail:"
   ]
  },
  {
   "cell_type": "code",
   "execution_count": 5,
   "id": "1814cfa7",
   "metadata": {
    "tags": [
     "render-all"
    ]
   },
   "outputs": [],
   "source": [
    "trial_interval_set = data[\"epochs\"]\n",
    "\n",
    "current = data[\"stimulus\"]\n",
    "spikes = data[\"units\"]"
   ]
  },
  {
   "cell_type": "markdown",
   "id": "bc1d1cbc",
   "metadata": {},
   "source": [
    "First, let's examine `trial_interval_set`:"
   ]
  },
  {
   "cell_type": "code",
   "execution_count": 6,
   "id": "f9558c48",
   "metadata": {
    "tags": [
     "render-all"
    ]
   },
   "outputs": [
    {
     "data": {
      "text/plain": [
       "index    start    end      tags\n",
       "0        0.0      34.02    Ramp\n",
       "1        39.02    73.04    Ramp\n",
       "2        78.04    112.06   Ramp\n",
       "3        117.06   119.083  Short Square\n",
       "4        124.083  126.106  Short Square\n",
       "5        131.106  133.129  Short Square\n",
       "6        138.129  140.152  Short Square\n",
       "...      ...      ...      ...\n",
       "60       841.387  845.056  Short Square - Triple\n",
       "61       850.056  853.725  Short Square - Triple\n",
       "62       858.725  862.394  Short Square - Triple\n",
       "63       867.394  871.063  Short Square - Triple\n",
       "64       876.063  879.732  Short Square - Triple\n",
       "65       884.732  888.401  Short Square - Triple\n",
       "66       893.401  897.421  Test\n",
       "shape: (67, 2), time unit: sec."
      ]
     },
     "execution_count": 6,
     "metadata": {},
     "output_type": "execute_result"
    }
   ],
   "source": [
    "trial_interval_set"
   ]
  },
  {
   "cell_type": "markdown",
   "id": "11071da5",
   "metadata": {},
   "source": [
    "`trial_interval_set` is an\n",
    "[`IntervalSet`](https://pynapple.org/generated/pynapple.IntervalSet.html),\n",
    "with a metadata columns (`tags`) defining the stimulus protocol.\n",
    "\n",
    "<div class=\"render-user render-presenter\">\"\n",
    "- `Noise 1`: epochs of random noise\n",
    "</div>"
   ]
  },
  {
   "cell_type": "code",
   "execution_count": 7,
   "id": "91468cae",
   "metadata": {
    "tags": [
     "render-all"
    ]
   },
   "outputs": [
    {
     "data": {
      "text/plain": [
       "  index    start      end  tags\n",
       "      0  460.768  488.788  Noise 1\n",
       "      1  526.808  554.828  Noise 1\n",
       "      2  592.848  620.868  Noise 1\n",
       "shape: (3, 2), time unit: sec."
      ]
     },
     "execution_count": 7,
     "metadata": {},
     "output_type": "execute_result"
    }
   ],
   "source": [
    "noise_interval = trial_interval_set[trial_interval_set.tags == \"Noise 1\"]\n",
    "noise_interval"
   ]
  },
  {
   "cell_type": "markdown",
   "id": "c91c1e12",
   "metadata": {},
   "source": [
    "As described above, we will be examining \"Noise 1\". We can see it contains\n",
    "three rows, each defining a separate sweep. We'll just grab the first sweep\n",
    "(shown in blue in the pictures above) and ignore the other two (shown in\n",
    "gray).\n",
    "\n",
    "<div class=\"render-user render-presenter\">\"\n",
    "- Let's focus on the first epoch.\n",
    "</div>"
   ]
  },
  {
   "cell_type": "code",
   "execution_count": 8,
   "id": "e68ed54b",
   "metadata": {
    "tags": [
     "render-all"
    ]
   },
   "outputs": [
    {
     "data": {
      "text/plain": [
       "  index    start      end  tags\n",
       "      0  460.768  488.788  Noise 1\n",
       "shape: (1, 2), time unit: sec."
      ]
     },
     "execution_count": 8,
     "metadata": {},
     "output_type": "execute_result"
    }
   ],
   "source": [
    "noise_interval = noise_interval[0]\n",
    "noise_interval"
   ]
  },
  {
   "cell_type": "markdown",
   "id": "82fe5573",
   "metadata": {},
   "source": [
    "Now let's examine `current`:\n",
    "\n",
    "<div class=\"render-user render-presenter\">\"\n",
    "- `current` : Tsd (TimeSeriesData) : time index + data\n",
    "</div>"
   ]
  },
  {
   "cell_type": "code",
   "execution_count": 9,
   "id": "5ace0b12",
   "metadata": {
    "tags": [
     "render-all"
    ]
   },
   "outputs": [
    {
     "data": {
      "text/plain": [
       "Time (s)\n",
       "-------------  --\n",
       "0.0             0\n",
       "5e-05           0\n",
       "0.0001          0\n",
       "0.00015         0\n",
       "0.0002          0\n",
       "0.00025         0\n",
       "0.0003          0\n",
       "...\n",
       "897.420649999   0\n",
       "897.420699999   0\n",
       "897.420749999   0\n",
       "897.420799999   0\n",
       "897.420849999   0\n",
       "897.420899999   0\n",
       "897.420949999   0\n",
       "dtype: float64, shape: (11348420,)"
      ]
     },
     "execution_count": 9,
     "metadata": {},
     "output_type": "execute_result"
    }
   ],
   "source": [
    "current"
   ]
  },
  {
   "cell_type": "markdown",
   "id": "1ec092d9",
   "metadata": {},
   "source": [
    "`current` is a `Tsd`\n",
    "([TimeSeriesData](https://pynapple.org/generated/pynapple.Tsd.html))\n",
    "object with 2 columns. Like all `Tsd` objects, the first column contains the\n",
    "time index and the second column contains the data; in this case, the current\n",
    "in Ampere (A).\n",
    "\n",
    "Currently, `current` contains the entire ~900 second experiment but, as\n",
    "discussed above, we only want one of the \"Noise 1\" sweeps. Fortunately,\n",
    "`pynapple` makes it easy to grab out the relevant time points by making use\n",
    "of the `noise_interval` we defined above:\n",
    "\n",
    "<div class=\"render-user render-presenter\">\"\n",
    "- `restrict` : restricts a time series object to a set of time intervals delimited by an IntervalSet object\n",
    "</div>"
   ]
  },
  {
   "cell_type": "code",
   "execution_count": 10,
   "id": "6cb29f2c",
   "metadata": {
    "tags": [
     "render-all"
    ]
   },
   "outputs": [
    {
     "data": {
      "text/plain": [
       "Time (s)\n",
       "-------------  --\n",
       "460.768         0\n",
       "460.76805       0\n",
       "460.7681        0\n",
       "460.76815       0\n",
       "460.7682        0\n",
       "460.76825       0\n",
       "460.7683        0\n",
       "...\n",
       "488.787649993   0\n",
       "488.787699993   0\n",
       "488.787749993   0\n",
       "488.787799993   0\n",
       "488.787849993   0\n",
       "488.787899993   0\n",
       "488.787949993   0\n",
       "dtype: float64, shape: (560400,)"
      ]
     },
     "execution_count": 10,
     "metadata": {},
     "output_type": "execute_result"
    }
   ],
   "source": [
    "current = current.restrict(noise_interval)\n",
    "# convert current from Ampere to pico-amperes, to match the above visualization\n",
    "# and move the values to a more reasonable range.\n",
    "current = current * 1e12\n",
    "current"
   ]
  },
  {
   "cell_type": "markdown",
   "id": "33e529ca",
   "metadata": {},
   "source": [
    "Notice that the timestamps have changed and our shape is much smaller.\n",
    "\n",
    "Finally, let's examine the spike times. `spikes` is a\n",
    "[`TsGroup`](https://pynapple.org/generated/pynapple.TsGroup.html),\n",
    "a dictionary-like object that holds multiple `Ts` (timeseries) objects with\n",
    "potentially different time indices:\n",
    "\n",
    "<div class=\"render-user render-presenter\">\"\n",
    "- `TsGroup` : a dictionary-like object holding multiple `Ts` (timeseries) objects with potentially different time indices.\n",
    "</div>"
   ]
  },
  {
   "cell_type": "code",
   "execution_count": 11,
   "id": "98ca0823",
   "metadata": {
    "tags": [
     "render-all"
    ]
   },
   "outputs": [
    {
     "data": {
      "text/plain": [
       "  Index     rate  location      group\n",
       "-------  -------  ----------  -------\n",
       "      0  0.87805  v1                0"
      ]
     },
     "execution_count": 11,
     "metadata": {},
     "output_type": "execute_result"
    }
   ],
   "source": [
    "spikes"
   ]
  },
  {
   "cell_type": "markdown",
   "id": "cf91bb67",
   "metadata": {},
   "source": [
    "Typically, this is used to hold onto the spike times for a population of\n",
    "neurons. In this experiment, we only have recordings from a single neuron, so\n",
    "there's only one row.\n",
    "\n",
    "We can index into the `TsGroup` to see the timestamps for this neuron's\n",
    "spikes:\n",
    "\n",
    "<div class=\"render-user render-presenter\">\"\n",
    "We can index into the `TsGroup` to see the timestamps for this neuron's spikes:\n",
    "</div>"
   ]
  },
  {
   "cell_type": "code",
   "execution_count": 12,
   "id": "86e541d9",
   "metadata": {
    "tags": [
     "render-all"
    ]
   },
   "outputs": [
    {
     "data": {
      "text/plain": [
       "Time (s)\n",
       "1.85082\n",
       "2.06869\n",
       "2.20292\n",
       "2.325815\n",
       "2.42342\n",
       "2.521415\n",
       "2.604795\n",
       "...\n",
       "869.461695\n",
       "878.08481\n",
       "878.09765\n",
       "878.110865\n",
       "886.75375\n",
       "886.761465\n",
       "886.76995\n",
       "shape: 777"
      ]
     },
     "execution_count": 12,
     "metadata": {},
     "output_type": "execute_result"
    }
   ],
   "source": [
    "spikes[0]"
   ]
  },
  {
   "cell_type": "markdown",
   "id": "2afe239e",
   "metadata": {},
   "source": [
    "Similar to `current`, this object originally contains data from the entire\n",
    "experiment. To get only the data we need, we again use\n",
    "`restrict(noise_interval)`:\n",
    "\n",
    "<div class=\"render-user render-presenter\">\"\n",
    "Let's restrict to the same epoch `noise_interval`:\n",
    "</div>"
   ]
  },
  {
   "cell_type": "code",
   "execution_count": 13,
   "id": "dea31114",
   "metadata": {
    "tags": [
     "render-all"
    ]
   },
   "outputs": [
    {
     "name": "stdout",
     "output_type": "stream",
     "text": [
      "  Index     rate  location      group\n",
      "-------  -------  ----------  -------\n",
      "      0  1.42755  v1                0\n"
     ]
    },
    {
     "data": {
      "text/plain": [
       "Time (s)\n",
       "470.81754\n",
       "470.85842\n",
       "470.907235\n",
       "470.954925\n",
       "471.0074\n",
       "471.107175\n",
       "471.25083\n",
       "...\n",
       "480.67927\n",
       "480.81817\n",
       "480.90529\n",
       "480.94921\n",
       "481.002715\n",
       "481.60008\n",
       "481.67727\n",
       "shape: 40"
      ]
     },
     "execution_count": 13,
     "metadata": {},
     "output_type": "execute_result"
    }
   ],
   "source": [
    "spikes = spikes.restrict(noise_interval)\n",
    "print(spikes)\n",
    "spikes[0]"
   ]
  },
  {
   "cell_type": "markdown",
   "id": "3c2c0d2b",
   "metadata": {},
   "source": [
    "Now, let's visualize the data from this trial, replicating rows 1 and 3\n",
    "from the Allen Brain Atlas figure at the beginning of this notebook:\n",
    "\n",
    "<div class=\"render-user render-presenter\">\"\n",
    "Let's visualize the data from this trial:\n",
    "</div>"
   ]
  },
  {
   "cell_type": "code",
   "execution_count": 14,
   "id": "3aeb8ea9",
   "metadata": {
    "tags": [
     "render-all"
    ]
   },
   "outputs": [
    {
     "data": {
      "text/plain": [
       "Text(0.5, 0, 'Time (s)')"
      ]
     },
     "execution_count": 14,
     "metadata": {},
     "output_type": "execute_result"
    },
    {
     "data": {
      "image/png": "[encoded data removed]",
      "text/plain": [
       "<Figure size 800x200 with 1 Axes>"
      ]
     },
     "metadata": {},
     "output_type": "display_data"
    }
   ],
   "source": [
    "fig, ax = plt.subplots(1, 1, figsize=(8, 2))\n",
    "ax.plot(current, \"grey\")\n",
    "ax.plot(spikes.to_tsd([-5]), \"|\", color=\"k\", ms = 10)\n",
    "ax.set_ylabel(\"Current (pA)\")\n",
    "ax.set_xlabel(\"Time (s)\")"
   ]
  },
  {
   "cell_type": "markdown",
   "id": "9b342f4d",
   "metadata": {},
   "source": [
    "(current-inj-basic)=\n",
    "### Basic analyses\n",
    "\n",
    "Before using the Generalized Linear Model, or any model, it's worth taking\n",
    "some time to examine our data and think about what features are interesting\n",
    "and worth capturing. As Edoardo explained earlier today,\n",
    "the GLM is a model of the neuronal firing rate. However, in our experiments,\n",
    "we do not observe the firing rate, only the spikes! Moreover, neural\n",
    "responses are typically noisy&mdash;even in this highly controlled experiment\n",
    "where the same current was injected over multiple trials, the spike times\n",
    "were slightly different from trial-to-trial. No model can perfectly predict\n",
    "spike times on an individual trial, so how do we tell if our model is doing a\n",
    "good job?\n",
    "\n",
    "Our objective function is the log-likelihood of the observed spikes given the\n",
    "predicted firing rate. That is, we're trying to find the firing rate, as a\n",
    "function of time, for which the observed spikes are likely. Intuitively, this\n",
    "makes sense: the firing rate should be high where there are many spikes, and\n",
    "vice versa. However, it can be difficult to figure out if your model is doing\n",
    "a good job by squinting at the observed spikes and the predicted firing rates\n",
    "plotted together.\n",
    "\n",
    "One common way to visualize a rough estimate of firing rate is to smooth\n",
    "the spikes by convolving them with a Gaussian filter.\n",
    "\n",
    ":::{note}\n",
    "\n",
    "This is a heuristic for getting the firing rate, and shouldn't be taken\n",
    "as the literal truth (to see why, pass a firing rate through a Poisson\n",
    "process to generate spikes and then smooth the output to approximate the\n",
    "generating firing rate). A model should not be expected to match this\n",
    "approximate firing rate exactly, but visualizing the two firing rates\n",
    "together can help you reason about which phenomena in your data the model\n",
    "is able to adequately capture, and which it is missing.\n",
    "\n",
    "For more information, see section 1.2 of [*Theoretical\n",
    "Neuroscience*](https://boulderschool.yale.edu/sites/default/files/files/DayanAbbott.pdf),\n",
    "by Dayan and Abbott.\n",
    ":::\n",
    "\n",
    "Pynapple can easily compute this approximate firing rate, and plotting this\n",
    "information will help us pull out some phenomena that we think are\n",
    "interesting and would like a model to capture.\n",
    "\n",
    "First, we must convert from our spike times to binned spikes:\n",
    "\n",
    "<div class=\"render-user render-presenter\">\"\n",
    "The Generalized Linear Model gives a predicted firing rate. First we can use pynapple to visualize this firing rate for a single trial.\n",
    "\n",
    "- `count` : count the number of events within `bin_size`\n",
    "</div>"
   ]
  },
  {
   "cell_type": "code",
   "execution_count": 15,
   "id": "e92a2777",
   "metadata": {
    "tags": [
     "render-all"
    ]
   },
   "outputs": [
    {
     "data": {
      "text/plain": [
       "Time (s)\n",
       "----------  --\n",
       "460.7685     0\n",
       "460.7695     0\n",
       "460.7705     0\n",
       "460.7715     0\n",
       "460.7725     0\n",
       "460.7735     0\n",
       "460.7745     0\n",
       "...\n",
       "488.7815     0\n",
       "488.7825     0\n",
       "488.7835     0\n",
       "488.7845     0\n",
       "488.7855     0\n",
       "488.7865     0\n",
       "488.7875     0\n",
       "dtype: int64, shape: (28020,)"
      ]
     },
     "execution_count": 15,
     "metadata": {},
     "output_type": "execute_result"
    }
   ],
   "source": [
    "# bin size in seconds\n",
    "bin_size = 0.001\n",
    "# Get spikes for neuron 0\n",
    "count = spikes[0].count(bin_size)\n",
    "count"
   ]
  },
  {
   "cell_type": "markdown",
   "id": "4c021482",
   "metadata": {},
   "source": [
    "Now, let's convert the binned spikes into the firing rate, by smoothing them\n",
    "with a gaussian kernel. Pynapple again provides a convenience function for\n",
    "this:\n",
    "\n",
    "<div class=\"render-user render-presenter\">\"\n",
    "Let's convert the spike counts to firing rate :\n",
    "\n",
    "- `smooth` : convolve with a Gaussian kernel\n",
    "</div>"
   ]
  },
  {
   "cell_type": "code",
   "execution_count": 16,
   "id": "3b8aceed",
   "metadata": {
    "tags": [
     "render-all"
    ]
   },
   "outputs": [],
   "source": [
    "# the inputs to this function are the standard deviation of the gaussian in seconds and\n",
    "# the full width of the window, in standard deviations. So std=.05 and size_factor=20\n",
    "# gives a total filter size of 0.05 sec * 20 = 1 sec.\n",
    "firing_rate = count.smooth(std=0.05, size_factor=20)\n",
    "# convert from spikes per bin to spikes per second (Hz)\n",
    "firing_rate = firing_rate / bin_size"
   ]
  },
  {
   "cell_type": "markdown",
   "id": "37b696de",
   "metadata": {},
   "source": [
    "Note that firing_rate is a [`Tsd`](https://pynapple.org/generated/pynapple.Tsd.html)!"
   ]
  },
  {
   "cell_type": "code",
   "execution_count": 17,
   "id": "28d2c4b8",
   "metadata": {
    "tags": [
     "render-all"
    ]
   },
   "outputs": [
    {
     "name": "stdout",
     "output_type": "stream",
     "text": [
      "<class 'pynapple.core.time_series.Tsd'>\n"
     ]
    }
   ],
   "source": [
    "print(type(firing_rate))"
   ]
  },
  {
   "cell_type": "markdown",
   "id": "ebf20036",
   "metadata": {},
   "source": [
    "Now that we've done all this preparation, let's make a plot to more easily\n",
    "visualize the data.\n",
    "\n",
    ":::{note}\n",
    "\n",
    "We're hiding the details of the plotting function for the purposes of this tutorial, but you can find it in [the source\n",
    "code](https://github.com/flatironinstitute/nemos/blob/development/src/nemos/_documentation_utils/plotting.py)\n",
    "if you are interested.\n",
    ":::"
   ]
  },
  {
   "cell_type": "code",
   "execution_count": 18,
   "id": "8fe444e4",
   "metadata": {
    "tags": [
     "render-all"
    ]
   },
   "outputs": [
    {
     "data": {
      "image/png": "[encoded data removed]",
      "text/plain": [
       "<Figure size 700x700 with 5 Axes>"
      ]
     },
     "metadata": {},
     "output_type": "display_data"
    }
   ],
   "source": [
    "doc_plots.current_injection_plot(current, spikes, firing_rate);"
   ]
  },
  {
   "cell_type": "markdown",
   "id": "2622df52",
   "metadata": {},
   "source": [
    "So now that we can view the details of our experiment a little more clearly,\n",
    "what do we see?\n",
    "\n",
    "- We have three intervals of increasing current, and the firing rate\n",
    "  increases as the current does.\n",
    "\n",
    "- While the neuron is receiving the input, it does not fire continuously or\n",
    "  at a steady rate; there appears to be some periodicity in the response. The\n",
    "  neuron fires for a while, stops, and then starts again. There's periodicity\n",
    "  in the input as well, so this pattern in the response might be reflecting\n",
    "  that.\n",
    "\n",
    "- There's some decay in firing rate as the input remains on: there are three or\n",
    "  four \"bumps\" of neuronal firing in the second and third intervals and they\n",
    "  decrease in amplitude, with the first being the largest.\n",
    "\n",
    "These give us some good phenomena to try and predict! But there's something\n",
    "that's not quite obvious from the above plot: what is the relationship\n",
    "between the input and the firing rate? As described in the first bullet point\n",
    "above, it looks to be *monotonically increasing*: as the current increases,\n",
    "so does the firing rate. But is that exactly true? What form is that\n",
    "relationship?\n",
    "\n",
    "Pynapple can compute a tuning curve to help us answer this question, by\n",
    "binning our spikes based on the instantaneous input current and computing the\n",
    "firing rate within those bins:\n",
    "\n",
    ":::{admonition} Tuning curve in `pynapple`\n",
    ":class: note \n",
    "\n",
    "[`compute_tuning_curves`](https://pynapple.org/generated/pynapple.process.tuning_curves.html#pynapple.process.tuning_curves.compute_tuning_curves) : compute the firing rate as a function of some feature(s).\n",
    ":::\n",
    "\n",
    "<div class=\"render-user render-presenter\">\"\n",
    "What is the relationship between the current and the spiking activity?\n",
    "[`compute_tuning_curves`](https://pynapple.org/generated/pynapple.process.tuning_curves.html#pynapple.process.tuning_curves.compute_tuning_curves) : compute the firing rate as a function of some feature(s).\n",
    "</div>"
   ]
  },
  {
   "cell_type": "code",
   "execution_count": 19,
   "id": "2f2ae294",
   "metadata": {
    "tags": [
     "render-all"
    ]
   },
   "outputs": [
    {
     "data": {
      "text/html": [
       "<div><svg style=\"position: absolute; width: 0; height: 0; overflow: hidden\">\n",
       "<defs>\n",
       "<symbol id=\"icon-database\" viewBox=\"0 0 32 32\">\n",
       "<path d=\"M16 0c-8.837 0-16 2.239-16 5v4c0 2.761 7.163 5 16 5s16-2.239 16-5v-4c0-2.761-7.163-5-16-5z\"></path>\n",
       "<path d=\"M16 17c-8.837 0-16-2.239-16-5v6c0 2.761 7.163 5 16 5s16-2.239 16-5v-6c0 2.761-7.163 5-16 5z\"></path>\n",
       "<path d=\"M16 26c-8.837 0-16-2.239-16-5v6c0 2.761 7.163 5 16 5s16-2.239 16-5v-6c0 2.761-7.163 5-16 5z\"></path>\n",
       "</symbol>\n",
       "<symbol id=\"icon-file-text2\" viewBox=\"0 0 32 32\">\n",
       "<path d=\"M28.681 7.159c-0.694-0.947-1.662-2.053-2.724-3.116s-2.169-2.030-3.116-2.724c-1.612-1.182-2.393-1.319-2.841-1.319h-15.5c-1.378 0-2.5 1.121-2.5 2.5v27c0 1.378 1.122 2.5 2.5 2.5h23c1.378 0 2.5-1.122 2.5-2.5v-19.5c0-0.448-0.137-1.23-1.319-2.841zM24.543 5.457c0.959 0.959 1.712 1.825 2.268 2.543h-4.811v-4.811c0.718 0.556 1.584 1.309 2.543 2.268zM28 29.5c0 0.271-0.229 0.5-0.5 0.5h-23c-0.271 0-0.5-0.229-0.5-0.5v-27c0-0.271 0.229-0.5 0.5-0.5 0 0 15.499-0 15.5 0v7c0 0.552 0.448 1 1 1h7v19.5z\"></path>\n",
       "<path d=\"M23 26h-14c-0.552 0-1-0.448-1-1s0.448-1 1-1h14c0.552 0 1 0.448 1 1s-0.448 1-1 1z\"></path>\n",
       "<path d=\"M23 22h-14c-0.552 0-1-0.448-1-1s0.448-1 1-1h14c0.552 0 1 0.448 1 1s-0.448 1-1 1z\"></path>\n",
       "<path d=\"M23 18h-14c-0.552 0-1-0.448-1-1s0.448-1 1-1h14c0.552 0 1 0.448 1 1s-0.448 1-1 1z\"></path>\n",
       "</symbol>\n",
       "</defs>\n",
       "</svg>\n",
       "<style>/* CSS stylesheet for displaying xarray objects in notebooks */\n",
       "\n",
       ":root {\n",
       "  --xr-font-color0: var(\n",
       "    --jp-content-font-color0,\n",
       "    var(--pst-color-text-base rgba(0, 0, 0, 1))\n",
       "  );\n",
       "  --xr-font-color2: var(\n",
       "    --jp-content-font-color2,\n",
       "    var(--pst-color-text-base, rgba(0, 0, 0, 0.54))\n",
       "  );\n",
       "  --xr-font-color3: var(\n",
       "    --jp-content-font-color3,\n",
       "    var(--pst-color-text-base, rgba(0, 0, 0, 0.38))\n",
       "  );\n",
       "  --xr-border-color: var(\n",
       "    --jp-border-color2,\n",
       "    hsl(from var(--pst-color-on-background, white) h s calc(l - 10))\n",
       "  );\n",
       "  --xr-disabled-color: var(\n",
       "    --jp-layout-color3,\n",
       "    hsl(from var(--pst-color-on-background, white) h s calc(l - 40))\n",
       "  );\n",
       "  --xr-background-color: var(\n",
       "    --jp-layout-color0,\n",
       "    var(--pst-color-on-background, white)\n",
       "  );\n",
       "  --xr-background-color-row-even: var(\n",
       "    --jp-layout-color1,\n",
       "    hsl(from var(--pst-color-on-background, white) h s calc(l - 5))\n",
       "  );\n",
       "  --xr-background-color-row-odd: var(\n",
       "    --jp-layout-color2,\n",
       "    hsl(from var(--pst-color-on-background, white) h s calc(l - 15))\n",
       "  );\n",
       "}\n",
       "\n",
       "html[theme=\"dark\"],\n",
       "html[data-theme=\"dark\"],\n",
       "body[data-theme=\"dark\"],\n",
       "body.vscode-dark {\n",
       "  --xr-font-color0: var(\n",
       "    --jp-content-font-color0,\n",
       "    var(--pst-color-text-base, rgba(255, 255, 255, 1))\n",
       "  );\n",
       "  --xr-font-color2: var(\n",
       "    --jp-content-font-color2,\n",
       "    var(--pst-color-text-base, rgba(255, 255, 255, 0.54))\n",
       "  );\n",
       "  --xr-font-color3: var(\n",
       "    --jp-content-font-color3,\n",
       "    var(--pst-color-text-base, rgba(255, 255, 255, 0.38))\n",
       "  );\n",
       "  --xr-border-color: var(\n",
       "    --jp-border-color2,\n",
       "    hsl(from var(--pst-color-on-background, #111111) h s calc(l + 10))\n",
       "  );\n",
       "  --xr-disabled-color: var(\n",
       "    --jp-layout-color3,\n",
       "    hsl(from var(--pst-color-on-background, #111111) h s calc(l + 40))\n",
       "  );\n",
       "  --xr-background-color: var(\n",
       "    --jp-layout-color0,\n",
       "    var(--pst-color-on-background, #111111)\n",
       "  );\n",
       "  --xr-background-color-row-even: var(\n",
       "    --jp-layout-color1,\n",
       "    hsl(from var(--pst-color-on-background, #111111) h s calc(l + 5))\n",
       "  );\n",
       "  --xr-background-color-row-odd: var(\n",
       "    --jp-layout-color2,\n",
       "    hsl(from var(--pst-color-on-background, #111111) h s calc(l + 15))\n",
       "  );\n",
       "}\n",
       "\n",
       ".xr-wrap {\n",
       "  display: block !important;\n",
       "  min-width: 300px;\n",
       "  max-width: 700px;\n",
       "  line-height: 1.6;\n",
       "}\n",
       "\n",
       ".xr-text-repr-fallback {\n",
       "  /* fallback to plain text repr when CSS is not injected (untrusted notebook) */\n",
       "  display: none;\n",
       "}\n",
       "\n",
       ".xr-header {\n",
       "  padding-top: 6px;\n",
       "  padding-bottom: 6px;\n",
       "  margin-bottom: 4px;\n",
       "  border-bottom: solid 1px var(--xr-border-color);\n",
       "}\n",
       "\n",
       ".xr-header > div,\n",
       ".xr-header > ul {\n",
       "  display: inline;\n",
       "  margin-top: 0;\n",
       "  margin-bottom: 0;\n",
       "}\n",
       "\n",
       ".xr-obj-type,\n",
       ".xr-obj-name,\n",
       ".xr-group-name {\n",
       "  margin-left: 2px;\n",
       "  margin-right: 10px;\n",
       "}\n",
       "\n",
       ".xr-group-name::before {\n",
       "  content: \"📁\";\n",
       "  padding-right: 0.3em;\n",
       "}\n",
       "\n",
       ".xr-group-name,\n",
       ".xr-obj-type {\n",
       "  color: var(--xr-font-color2);\n",
       "}\n",
       "\n",
       ".xr-sections {\n",
       "  padding-left: 0 !important;\n",
       "  display: grid;\n",
       "  grid-template-columns: 150px auto auto 1fr 0 20px 0 20px;\n",
       "  margin-block-start: 0;\n",
       "  margin-block-end: 0;\n",
       "}\n",
       "\n",
       ".xr-section-item {\n",
       "  display: contents;\n",
       "}\n",
       "\n",
       ".xr-section-item input {\n",
       "  display: inline-block;\n",
       "  opacity: 0;\n",
       "  height: 0;\n",
       "  margin: 0;\n",
       "}\n",
       "\n",
       ".xr-section-item input + label {\n",
       "  color: var(--xr-disabled-color);\n",
       "  border: 2px solid transparent !important;\n",
       "}\n",
       "\n",
       ".xr-section-item input:enabled + label {\n",
       "  cursor: pointer;\n",
       "  color: var(--xr-font-color2);\n",
       "}\n",
       "\n",
       ".xr-section-item input:focus + label {\n",
       "  border: 2px solid var(--xr-font-color0) !important;\n",
       "}\n",
       "\n",
       ".xr-section-item input:enabled + label:hover {\n",
       "  color: var(--xr-font-color0);\n",
       "}\n",
       "\n",
       ".xr-section-summary {\n",
       "  grid-column: 1;\n",
       "  color: var(--xr-font-color2);\n",
       "  font-weight: 500;\n",
       "}\n",
       "\n",
       ".xr-section-summary > span {\n",
       "  display: inline-block;\n",
       "  padding-left: 0.5em;\n",
       "}\n",
       "\n",
       ".xr-section-summary-in:disabled + label {\n",
       "  color: var(--xr-font-color2);\n",
       "}\n",
       "\n",
       ".xr-section-summary-in + label:before {\n",
       "  display: inline-block;\n",
       "  content: \"►\";\n",
       "  font-size: 11px;\n",
       "  width: 15px;\n",
       "  text-align: center;\n",
       "}\n",
       "\n",
       ".xr-section-summary-in:disabled + label:before {\n",
       "  color: var(--xr-disabled-color);\n",
       "}\n",
       "\n",
       ".xr-section-summary-in:checked + label:before {\n",
       "  content: \"▼\";\n",
       "}\n",
       "\n",
       ".xr-section-summary-in:checked + label > span {\n",
       "  display: none;\n",
       "}\n",
       "\n",
       ".xr-section-summary,\n",
       ".xr-section-inline-details {\n",
       "  padding-top: 4px;\n",
       "}\n",
       "\n",
       ".xr-section-inline-details {\n",
       "  grid-column: 2 / -1;\n",
       "}\n",
       "\n",
       ".xr-section-details {\n",
       "  display: none;\n",
       "  grid-column: 1 / -1;\n",
       "  margin-top: 4px;\n",
       "  margin-bottom: 5px;\n",
       "}\n",
       "\n",
       ".xr-section-summary-in:checked ~ .xr-section-details {\n",
       "  display: contents;\n",
       "}\n",
       "\n",
       ".xr-group-box {\n",
       "  display: inline-grid;\n",
       "  grid-template-columns: 0px 20px auto;\n",
       "  width: 100%;\n",
       "}\n",
       "\n",
       ".xr-group-box-vline {\n",
       "  grid-column-start: 1;\n",
       "  border-right: 0.2em solid;\n",
       "  border-color: var(--xr-border-color);\n",
       "  width: 0px;\n",
       "}\n",
       "\n",
       ".xr-group-box-hline {\n",
       "  grid-column-start: 2;\n",
       "  grid-row-start: 1;\n",
       "  height: 1em;\n",
       "  width: 20px;\n",
       "  border-bottom: 0.2em solid;\n",
       "  border-color: var(--xr-border-color);\n",
       "}\n",
       "\n",
       ".xr-group-box-contents {\n",
       "  grid-column-start: 3;\n",
       "}\n",
       "\n",
       ".xr-array-wrap {\n",
       "  grid-column: 1 / -1;\n",
       "  display: grid;\n",
       "  grid-template-columns: 20px auto;\n",
       "}\n",
       "\n",
       ".xr-array-wrap > label {\n",
       "  grid-column: 1;\n",
       "  vertical-align: top;\n",
       "}\n",
       "\n",
       ".xr-preview {\n",
       "  color: var(--xr-font-color3);\n",
       "}\n",
       "\n",
       ".xr-array-preview,\n",
       ".xr-array-data {\n",
       "  padding: 0 5px !important;\n",
       "  grid-column: 2;\n",
       "}\n",
       "\n",
       ".xr-array-data,\n",
       ".xr-array-in:checked ~ .xr-array-preview {\n",
       "  display: none;\n",
       "}\n",
       "\n",
       ".xr-array-in:checked ~ .xr-array-data,\n",
       ".xr-array-preview {\n",
       "  display: inline-block;\n",
       "}\n",
       "\n",
       ".xr-dim-list {\n",
       "  display: inline-block !important;\n",
       "  list-style: none;\n",
       "  padding: 0 !important;\n",
       "  margin: 0;\n",
       "}\n",
       "\n",
       ".xr-dim-list li {\n",
       "  display: inline-block;\n",
       "  padding: 0;\n",
       "  margin: 0;\n",
       "}\n",
       "\n",
       ".xr-dim-list:before {\n",
       "  content: \"(\";\n",
       "}\n",
       "\n",
       ".xr-dim-list:after {\n",
       "  content: \")\";\n",
       "}\n",
       "\n",
       ".xr-dim-list li:not(:last-child):after {\n",
       "  content: \",\";\n",
       "  padding-right: 5px;\n",
       "}\n",
       "\n",
       ".xr-has-index {\n",
       "  font-weight: bold;\n",
       "}\n",
       "\n",
       ".xr-var-list,\n",
       ".xr-var-item {\n",
       "  display: contents;\n",
       "}\n",
       "\n",
       ".xr-var-item > div,\n",
       ".xr-var-item label,\n",
       ".xr-var-item > .xr-var-name span {\n",
       "  background-color: var(--xr-background-color-row-even);\n",
       "  border-color: var(--xr-background-color-row-odd);\n",
       "  margin-bottom: 0;\n",
       "  padding-top: 2px;\n",
       "}\n",
       "\n",
       ".xr-var-item > .xr-var-name:hover span {\n",
       "  padding-right: 5px;\n",
       "}\n",
       "\n",
       ".xr-var-list > li:nth-child(odd) > div,\n",
       ".xr-var-list > li:nth-child(odd) > label,\n",
       ".xr-var-list > li:nth-child(odd) > .xr-var-name span {\n",
       "  background-color: var(--xr-background-color-row-odd);\n",
       "  border-color: var(--xr-background-color-row-even);\n",
       "}\n",
       "\n",
       ".xr-var-name {\n",
       "  grid-column: 1;\n",
       "}\n",
       "\n",
       ".xr-var-dims {\n",
       "  grid-column: 2;\n",
       "}\n",
       "\n",
       ".xr-var-dtype {\n",
       "  grid-column: 3;\n",
       "  text-align: right;\n",
       "  color: var(--xr-font-color2);\n",
       "}\n",
       "\n",
       ".xr-var-preview {\n",
       "  grid-column: 4;\n",
       "}\n",
       "\n",
       ".xr-index-preview {\n",
       "  grid-column: 2 / 5;\n",
       "  color: var(--xr-font-color2);\n",
       "}\n",
       "\n",
       ".xr-var-name,\n",
       ".xr-var-dims,\n",
       ".xr-var-dtype,\n",
       ".xr-preview,\n",
       ".xr-attrs dt {\n",
       "  white-space: nowrap;\n",
       "  overflow: hidden;\n",
       "  text-overflow: ellipsis;\n",
       "  padding-right: 10px;\n",
       "}\n",
       "\n",
       ".xr-var-name:hover,\n",
       ".xr-var-dims:hover,\n",
       ".xr-var-dtype:hover,\n",
       ".xr-attrs dt:hover {\n",
       "  overflow: visible;\n",
       "  width: auto;\n",
       "  z-index: 1;\n",
       "}\n",
       "\n",
       ".xr-var-attrs,\n",
       ".xr-var-data,\n",
       ".xr-index-data {\n",
       "  display: none;\n",
       "  border-top: 2px dotted var(--xr-background-color);\n",
       "  padding-bottom: 20px !important;\n",
       "  padding-top: 10px !important;\n",
       "}\n",
       "\n",
       ".xr-var-attrs-in + label,\n",
       ".xr-var-data-in + label,\n",
       ".xr-index-data-in + label {\n",
       "  padding: 0 1px;\n",
       "}\n",
       "\n",
       ".xr-var-attrs-in:checked ~ .xr-var-attrs,\n",
       ".xr-var-data-in:checked ~ .xr-var-data,\n",
       ".xr-index-data-in:checked ~ .xr-index-data {\n",
       "  display: block;\n",
       "}\n",
       "\n",
       ".xr-var-data > table {\n",
       "  float: right;\n",
       "}\n",
       "\n",
       ".xr-var-data > pre,\n",
       ".xr-index-data > pre,\n",
       ".xr-var-data > table > tbody > tr {\n",
       "  background-color: transparent !important;\n",
       "}\n",
       "\n",
       ".xr-var-name span,\n",
       ".xr-var-data,\n",
       ".xr-index-name div,\n",
       ".xr-index-data,\n",
       ".xr-attrs {\n",
       "  padding-left: 25px !important;\n",
       "}\n",
       "\n",
       ".xr-attrs,\n",
       ".xr-var-attrs,\n",
       ".xr-var-data,\n",
       ".xr-index-data {\n",
       "  grid-column: 1 / -1;\n",
       "}\n",
       "\n",
       "dl.xr-attrs {\n",
       "  padding: 0;\n",
       "  margin: 0;\n",
       "  display: grid;\n",
       "  grid-template-columns: 125px auto;\n",
       "}\n",
       "\n",
       ".xr-attrs dt,\n",
       ".xr-attrs dd {\n",
       "  padding: 0;\n",
       "  margin: 0;\n",
       "  float: left;\n",
       "  padding-right: 10px;\n",
       "  width: auto;\n",
       "}\n",
       "\n",
       ".xr-attrs dt {\n",
       "  font-weight: normal;\n",
       "  grid-column: 1;\n",
       "}\n",
       "\n",
       ".xr-attrs dt:hover span {\n",
       "  display: inline-block;\n",
       "  background: var(--xr-background-color);\n",
       "  padding-right: 10px;\n",
       "}\n",
       "\n",
       ".xr-attrs dd {\n",
       "  grid-column: 2;\n",
       "  white-space: pre-wrap;\n",
       "  word-break: break-all;\n",
       "}\n",
       "\n",
       ".xr-icon-database,\n",
       ".xr-icon-file-text2,\n",
       ".xr-no-icon {\n",
       "  display: inline-block;\n",
       "  vertical-align: middle;\n",
       "  width: 1em;\n",
       "  height: 1.5em !important;\n",
       "  stroke-width: 0;\n",
       "  stroke: currentColor;\n",
       "  fill: currentColor;\n",
       "}\n",
       "\n",
       ".xr-var-attrs-in:checked + label > .xr-icon-file-text2,\n",
       ".xr-var-data-in:checked + label > .xr-icon-database,\n",
       ".xr-index-data-in:checked + label > .xr-icon-database {\n",
       "  color: var(--xr-font-color0);\n",
       "  filter: drop-shadow(1px 1px 5px var(--xr-font-color2));\n",
       "  stroke-width: 0.8px;\n",
       "}\n",
       "</style><pre class='xr-text-repr-fallback'>&lt;xarray.DataArray (unit: 1, current: 15)&gt; Size: 120B\n",
       "array([[ 0.        ,  0.        ,  0.        ,  0.        ,  0.        ,\n",
       "         0.        ,  3.96059211,  1.75530981,  4.29461027, 10.99332548,\n",
       "        12.50111617, 10.27538019, 33.47680536, 61.58583527, 24.06738869]])\n",
       "Coordinates:\n",
       "  * unit     (unit) int64 8B 0\n",
       "  * current  (current) float64 120B 4.638 13.91 23.19 ... 115.9 125.2 134.5\n",
       "Attributes:\n",
       "    occupancy:  [380400.   1467.  20091.  33549.  13764.  14193.  20199.  227...\n",
       "    bin_edges:  [array([  0.        ,   9.27500021,  18.55000042,  27.8250006...\n",
       "    fs:         20000.00000499643</pre><div class='xr-wrap' style='display:none'><div class='xr-header'><div class='xr-obj-type'>xarray.DataArray</div><div class='xr-obj-name'></div><ul class='xr-dim-list'><li><span class='xr-has-index'>unit</span>: 1</li><li><span class='xr-has-index'>current</span>: 15</li></ul></div><ul class='xr-sections'><li class='xr-section-item'><div class='xr-array-wrap'><input id='section-048d2ed7-790a-4acd-bd48-bc5312752a03' class='xr-array-in' type='checkbox' checked><label for='section-048d2ed7-790a-4acd-bd48-bc5312752a03' title='Show/hide data repr'><svg class='icon xr-icon-database'><use xlink:href='#icon-database'></use></svg></label><div class='xr-array-preview xr-preview'><span>0.0 0.0 0.0 0.0 0.0 0.0 3.961 ... 10.99 12.5 10.28 33.48 61.59 24.07</span></div><div class='xr-array-data'><pre>array([[ 0.        ,  0.        ,  0.        ,  0.        ,  0.        ,\n",
       "         0.        ,  3.96059211,  1.75530981,  4.29461027, 10.99332548,\n",
       "        12.50111617, 10.27538019, 33.47680536, 61.58583527, 24.06738869]])</pre></div></div></li><li class='xr-section-item'><input id='section-792125eb-5f8b-496a-875f-5976c677c719' class='xr-section-summary-in' type='checkbox'  checked><label for='section-792125eb-5f8b-496a-875f-5976c677c719' class='xr-section-summary' >Coordinates: <span>(2)</span></label><div class='xr-section-inline-details'></div><div class='xr-section-details'><ul class='xr-var-list'><li class='xr-var-item'><div class='xr-var-name'><span class='xr-has-index'>unit</span></div><div class='xr-var-dims'>(unit)</div><div class='xr-var-dtype'>int64</div><div class='xr-var-preview xr-preview'>0</div><input id='attrs-956c3e48-5dc9-4f5c-85fc-d83cd6ccb06b' class='xr-var-attrs-in' type='checkbox' disabled><label for='attrs-956c3e48-5dc9-4f5c-85fc-d83cd6ccb06b' title='Show/Hide attributes'><svg class='icon xr-icon-file-text2'><use xlink:href='#icon-file-text2'></use></svg></label><input id='data-f3c844b8-dfe6-4e92-bb9b-3d869acaecfd' class='xr-var-data-in' type='checkbox'><label for='data-f3c844b8-dfe6-4e92-bb9b-3d869acaecfd' title='Show/Hide data repr'><svg class='icon xr-icon-database'><use xlink:href='#icon-database'></use></svg></label><div class='xr-var-attrs'><dl class='xr-attrs'></dl></div><div class='xr-var-data'><pre>array([0])</pre></div></li><li class='xr-var-item'><div class='xr-var-name'><span class='xr-has-index'>current</span></div><div class='xr-var-dims'>(current)</div><div class='xr-var-dtype'>float64</div><div class='xr-var-preview xr-preview'>4.638 13.91 23.19 ... 125.2 134.5</div><input id='attrs-279e3d15-2569-4a8a-af7c-cf3fcda61f05' class='xr-var-attrs-in' type='checkbox' disabled><label for='attrs-279e3d15-2569-4a8a-af7c-cf3fcda61f05' title='Show/Hide attributes'><svg class='icon xr-icon-file-text2'><use xlink:href='#icon-file-text2'></use></svg></label><input id='data-44009009-4c82-4a45-8014-04d3e3df1961' class='xr-var-data-in' type='checkbox'><label for='data-44009009-4c82-4a45-8014-04d3e3df1961' title='Show/Hide data repr'><svg class='icon xr-icon-database'><use xlink:href='#icon-database'></use></svg></label><div class='xr-var-attrs'><dl class='xr-attrs'></dl></div><div class='xr-var-data'><pre>array([  4.6375  ,  13.9125  ,  23.187501,  32.462501,  41.737501,  51.012501,\n",
       "        60.287501,  69.562502,  78.837502,  88.112502,  97.387502, 106.662502,\n",
       "       115.937503, 125.212503, 134.487503])</pre></div></li></ul></div></li><li class='xr-section-item'><input id='section-fcf43f8c-a457-476d-b71a-2beeea23669a' class='xr-section-summary-in' type='checkbox'  checked><label for='section-fcf43f8c-a457-476d-b71a-2beeea23669a' class='xr-section-summary' >Attributes: <span>(3)</span></label><div class='xr-section-inline-details'></div><div class='xr-section-details'><dl class='xr-attrs'><dt><span>occupancy :</span></dt><dd>[380400.   1467.  20091.  33549.  13764.  14193.  20199.  22788.  13971.\n",
       "  12735.  11199.   9732.   4182.   1299.    831.]</dd><dt><span>bin_edges :</span></dt><dd>[array([  0.        ,   9.27500021,  18.55000042,  27.82500064,\n",
       "        37.10000085,  46.37500106,  55.65000127,  64.92500149,\n",
       "        74.2000017 ,  83.47500191,  92.75000212, 102.02500234,\n",
       "       111.30000255, 120.57500276, 129.85000297, 139.12500318])]</dd><dt><span>fs :</span></dt><dd>20000.00000499643</dd></dl></div></li></ul></div></div>"
      ],
      "text/plain": [
       "<xarray.DataArray (unit: 1, current: 15)> Size: 120B\n",
       "array([[ 0.        ,  0.        ,  0.        ,  0.        ,  0.        ,\n",
       "         0.        ,  3.96059211,  1.75530981,  4.29461027, 10.99332548,\n",
       "        12.50111617, 10.27538019, 33.47680536, 61.58583527, 24.06738869]])\n",
       "Coordinates:\n",
       "  * unit     (unit) int64 8B 0\n",
       "  * current  (current) float64 120B 4.638 13.91 23.19 ... 115.9 125.2 134.5\n",
       "Attributes:\n",
       "    occupancy:  [380400.   1467.  20091.  33549.  13764.  14193.  20199.  227...\n",
       "    bin_edges:  [array([  0.        ,   9.27500021,  18.55000042,  27.8250006...\n",
       "    fs:         20000.00000499643"
      ]
     },
     "execution_count": 19,
     "metadata": {},
     "output_type": "execute_result"
    }
   ],
   "source": [
    "tuning_curve = nap.compute_tuning_curves(spikes, current, bins=15, feature_names=[\"current\"])\n",
    "tuning_curve"
   ]
  },
  {
   "cell_type": "markdown",
   "id": "c6d00871",
   "metadata": {},
   "source": [
    "`tuning_curve` is an [xarray DataArray](https://docs.xarray.dev/en/stable/user-guide/data-structures.html#dataarray), a labeled multi-dimensional array. Each column is a neuron (one\n",
    "neuron in this case) and each row is a bin over the feature (here, the input\n",
    "current). \n",
    "\n",
    "We can easily plot the tuning curve of the neuron:\n",
    "\n",
    "<div class=\"render-user render-presenter\">\"\n",
    "Let's plot the tuning curve of the neuron.\n",
    "</div>"
   ]
  },
  {
   "cell_type": "code",
   "execution_count": 20,
   "id": "a8a5a895",
   "metadata": {
    "tags": [
     "render-all"
    ]
   },
   "outputs": [
    {
     "data": {
      "image/png": "[encoded data removed]",
      "text/plain": [
       "<Figure size 640x480 with 1 Axes>"
      ]
     },
     "metadata": {},
     "output_type": "display_data"
    }
   ],
   "source": [
    "doc_plots.tuning_curve_plot(tuning_curve);"
   ]
  },
  {
   "cell_type": "markdown",
   "id": "b0cf2a3a",
   "metadata": {},
   "source": [
    "We can see that, while the firing rate mostly increases with the current,\n",
    "it's definitely not a linear relationship, and it might start decreasing as\n",
    "the current gets too large.\n",
    "\n",
    "So this gives us three interesting phenomena we'd like our model to help\n",
    "explain: \n",
    "\n",
    "- the tuning curve between the firing rate and the current.\n",
    "- the firing rate's periodicity.\n",
    "- the gradual reduction in firing rate while the current remains on.\n",
    "\n",
    "\n",
    "## NeMoS \n",
    "\n",
    "(current-inj-prep)=\n",
    "### Preparing data\n",
    "\n",
    "Now that we understand our data, we're almost ready to put the model together.\n",
    "Before we construct it, however, we need to get the data into the right format.\n",
    "\n",
    "When fitting a single neuron, NeMoS requires that the predictors and spike\n",
    "counts it operates on have the following properties:\n",
    "\n",
    "- predictors and spike counts must have the same number of time points.\n",
    "\n",
    "- predictors must be two-dimensional, with shape `(n_time_bins, n_features)`.\n",
    "  In this example, we have a single feature (the injected current).\n",
    "\n",
    "- spike counts must be one-dimensional, with shape `(n_time_bins, )`. As\n",
    "  discussed above, `n_time_bins` must be the same for both the predictors and\n",
    "  spike counts.\n",
    "\n",
    "- predictors and spike counts must be\n",
    "  [`jax.numpy`](https://jax.readthedocs.io/en/latest/jax-101/01-jax-basics.html)\n",
    "  arrays, `numpy` arrays or `pynapple` `TsdFrame`/`Tsd`.\n",
    "\n",
    ":::{admonition} What is jax?\n",
    ":class: note\n",
    "\n",
    "[jax](https://github.com/jax-ml/jax) is a Google-supported python library\n",
    "for automatic differentiation. It has all sorts of neat features, but the\n",
    "most relevant of which for NeMoS is its GPU-compatibility and\n",
    "just-in-time compilation (both of which make code faster with little\n",
    "overhead!), as well as the collection of optimizers present in\n",
    "[jaxopt](https://jaxopt.github.io/stable/).\n",
    ":::\n",
    "\n",
    "First, we require that our predictors and our spike counts have the same\n",
    "number of time bins. We can achieve this by down-sampling our current to the\n",
    "spike counts to the proper resolution using the\n",
    "[`bin_average`](https://pynapple.org/generated/pynapple.Tsd.bin_average.html)\n",
    "method from pynapple:\n",
    "\n",
    "<div class=\"render-user render-presenter\">\n",
    "Get data from pynapple to NeMoS-ready format:\n",
    "\n",
    "- predictors and spikes must have same number of time points\n",
    "</div>"
   ]
  },
  {
   "cell_type": "code",
   "execution_count": 21,
   "id": "04685557",
   "metadata": {},
   "outputs": [
    {
     "name": "stdout",
     "output_type": "stream",
     "text": [
      "current shape: (28020,)\n",
      "current sampling rate: 1.00 KHz\n",
      "\n",
      "count shape: (28020,)\n",
      "count sampling rate: 1.00 KHz\n"
     ]
    }
   ],
   "source": [
    "binned_current = current.bin_average(bin_size)\n",
    "\n",
    "print(f\"current shape: {binned_current.shape}\")\n",
    "# rate is in Hz, convert to KHz\n",
    "print(f\"current sampling rate: {binned_current.rate/1000.:.02f} KHz\")\n",
    "\n",
    "print(f\"\\ncount shape: {count.shape}\")\n",
    "print(f\"count sampling rate: {count.rate/1000:.02f} KHz\")"
   ]
  },
  {
   "cell_type": "markdown",
   "id": "c488d402",
   "metadata": {},
   "source": [
    "Secondly, we have to reshape our variables so that they are the proper shape:\n",
    "\n",
    "- `predictors`: `(n_time_bins, n_features)`\n",
    "- `count`: `(n_time_bins, )`\n",
    "\n",
    "Because we only have a single predictor feature, we'll use\n",
    "[`np.expand_dims`](https://numpy.org/doc/stable/reference/generated/numpy.expand_dims.html)\n",
    "to ensure it is a 2d array.\n",
    "\n",
    "<div class=\"render-user render-presenter\">\n",
    "- predictors must be 2d, spikes 1d\n",
    "</div>"
   ]
  },
  {
   "cell_type": "code",
   "execution_count": 22,
   "id": "c5cdbd53",
   "metadata": {},
   "outputs": [
    {
     "name": "stdout",
     "output_type": "stream",
     "text": [
      "predictor shape: (28020, 1)\n",
      "count shape: (28020,)\n"
     ]
    }
   ],
   "source": [
    "predictor = np.expand_dims(binned_current, 1)\n",
    "\n",
    "# check that the dimensionality matches NeMoS expectation\n",
    "print(f\"predictor shape: {predictor.shape}\")\n",
    "print(f\"count shape: {count.shape}\")"
   ]
  },
  {
   "cell_type": "markdown",
   "id": "0e7c1a76",
   "metadata": {},
   "source": [
    ":::{admonition} What if I have more than one neuron?\n",
    ":class: info\n",
    "\n",
    "In this example, we're only fitting data for a single neuron, but you\n",
    "might wonder how the data should be shaped if you have more than one\n",
    "neuron.\n",
    "\n",
    "We will discuss this in more detail in the [following\n",
    "tutorial](head_direction.md), but briefly: NeMoS has a separate\n",
    "[`PopulationGLM`](nemos.glm.PopulationGLM) object for fitting a population of\n",
    "neurons. It operates very similarly to the `GLM` object we use here: it still\n",
    "expects a 2d input, with neurons concatenated along the second dimension. (NeMoS\n",
    "provides some helper functions for splitting the design matrix and model\n",
    "parameter arrays to make them more interpretable.)\n",
    "\n",
    "Note that, with a generalized linear model, fitting each neuron separately is\n",
    "equivalent to fitting the entire population at once. Fitting them separately can\n",
    "make your life easier by e.g., allowing you to parallelize more easily.\n",
    "\n",
    ":::\n",
    "\n",
    "(current-inj-glm)=\n",
    "### Fitting the model\n",
    "\n",
    "Now we're ready to fit our model!\n",
    "\n",
    "First, we need to define our GLM model object. We intend for users\n",
    "to interact with our models like\n",
    "[scikit-learn](https://scikit-learn.org/stable/getting_started.html)\n",
    "estimators. In a nutshell, a model instance is initialized with\n",
    "hyperparameters that specify optimization and model details,\n",
    "and then the user calls the `.fit()` function to fit the model to data.\n",
    "We will walk you through the process below by example, but if you\n",
    "are interested in reading more details see the [Getting Started with scikit-learn](https://scikit-learn.org/stable/getting_started.html) webpage.\n",
    "\n",
    "To initialize our model, we need to specify the solver, the regularizer, and the observation\n",
    "model. All of these are optional.\n",
    "\n",
    "- `solver_name`: this string specifies the solver algorithm. The default\n",
    "  behavior depends on the regularizer, as each regularization scheme is only\n",
    "  compatible with a subset of possible solvers. View the [GLM\n",
    "  docstring](nemos.glm.GLM) for more details.\n",
    "\n",
    ":::{warning}\n",
    "\n",
    "With a convex problem like the GLM, in theory it does not matter which\n",
    "solver algorithm you use. In practice, due to numerical issues, it\n",
    "generally does. Thus, it's worth trying a couple to see how their\n",
    "solutions compare.\n",
    ":::\n",
    "\n",
    "- `regularizer`: this string or object specifies the regularization scheme.\n",
    "  Regularization modifies the objective function to reflect your prior beliefs\n",
    "  about the parameters, such as sparsity. Regularization becomes more important\n",
    "  as the number of input features, and thus model parameters, grows. NeMoS's\n",
    "  solvers can be found within the [`nemos.regularizer`\n",
    "  module](regularizers). If you pass a string matching the name\n",
    "  of one of our solvers, we initialize the solver with the default arguments. If\n",
    "  you need more control, you will need to initialize and pass the object\n",
    "  yourself.\n",
    "\n",
    "- `observation_model`: this object links the firing rate and the observed data\n",
    "  (in this case spikes), describing the distribution of neural activity (and\n",
    "  thus changing the log-likelihood). For spiking data, we use the Poisson\n",
    "  observation model, but we discuss other options for continuous data in our\n",
    "  [documentation](tutorial-calcium-imaging).\n",
    "\n",
    "For this example, we'll use an un-regularized LBFGS solver. We'll discuss\n",
    "regularization in a later tutorial.\n",
    "\n",
    ":::{admonition} Why LBFGS?\n",
    ":class: info\n",
    "\n",
    "[LBFGS](https://en.wikipedia.org/wiki/Limited-memory_BFGS) is a\n",
    "quasi-Netwon method, that is, it uses the first derivative (the gradient)\n",
    "and approximates the second derivative (the Hessian) in order to solve\n",
    "the problem. This means that LBFGS tends to find a solution faster and is\n",
    "often less sensitive to step-size. Try other solvers to see how they\n",
    "behave!\n",
    ":::\n",
    "\n",
    "<div class=\"render-user render-presenter\">\n",
    "- GLM objects need regularizers and observation models\n",
    "</div>"
   ]
  },
  {
   "cell_type": "code",
   "execution_count": 23,
   "id": "482f5b81",
   "metadata": {},
   "outputs": [],
   "source": [
    "# Initialize the model, specifying the solver. we'll accept the defaults\n",
    "# for everything else.\n",
    "model = nmo.glm.GLM(solver_name=\"LBFGS\")"
   ]
  },
  {
   "cell_type": "markdown",
   "id": "ecc22a67",
   "metadata": {},
   "source": [
    "Now that we've initialized our model with the optimization parameters, we can\n",
    "fit our data! In the previous section, we prepared our model matrix\n",
    "(`predictor`) and target data (`count`), so to fit the model we just need to\n",
    "pass them to the model:\n",
    "\n",
    "<div class=\"render-user render-presenter\">\n",
    "- call fit and retrieve parameters\n",
    "</div>"
   ]
  },
  {
   "cell_type": "code",
   "execution_count": 24,
   "id": "f5dd2679",
   "metadata": {},
   "outputs": [
    {
     "data": {
      "text/html": [
       "<style>#sk-container-id-1 {\n",
       "  /* Definition of color scheme common for light and dark mode */\n",
       "  --sklearn-color-text: #000;\n",
       "  --sklearn-color-text-muted: #666;\n",
       "  --sklearn-color-line: gray;\n",
       "  /* Definition of color scheme for unfitted estimators */\n",
       "  --sklearn-color-unfitted-level-0: #fff5e6;\n",
       "  --sklearn-color-unfitted-level-1: #f6e4d2;\n",
       "  --sklearn-color-unfitted-level-2: #ffe0b3;\n",
       "  --sklearn-color-unfitted-level-3: chocolate;\n",
       "  /* Definition of color scheme for fitted estimators */\n",
       "  --sklearn-color-fitted-level-0: #f0f8ff;\n",
       "  --sklearn-color-fitted-level-1: #d4ebff;\n",
       "  --sklearn-color-fitted-level-2: #b3dbfd;\n",
       "  --sklearn-color-fitted-level-3: cornflowerblue;\n",
       "\n",
       "  /* Specific color for light theme */\n",
       "  --sklearn-color-text-on-default-background: var(--sg-text-color, var(--theme-code-foreground, var(--jp-content-font-color1, black)));\n",
       "  --sklearn-color-background: var(--sg-background-color, var(--theme-background, var(--jp-layout-color0, white)));\n",
       "  --sklearn-color-border-box: var(--sg-text-color, var(--theme-code-foreground, var(--jp-content-font-color1, black)));\n",
       "  --sklearn-color-icon: #696969;\n",
       "\n",
       "  @media (prefers-color-scheme: dark) {\n",
       "    /* Redefinition of color scheme for dark theme */\n",
       "    --sklearn-color-text-on-default-background: var(--sg-text-color, var(--theme-code-foreground, var(--jp-content-font-color1, white)));\n",
       "    --sklearn-color-background: var(--sg-background-color, var(--theme-background, var(--jp-layout-color0, #111)));\n",
       "    --sklearn-color-border-box: var(--sg-text-color, var(--theme-code-foreground, var(--jp-content-font-color1, white)));\n",
       "    --sklearn-color-icon: #878787;\n",
       "  }\n",
       "}\n",
       "\n",
       "#sk-container-id-1 {\n",
       "  color: var(--sklearn-color-text);\n",
       "}\n",
       "\n",
       "#sk-container-id-1 pre {\n",
       "  padding: 0;\n",
       "}\n",
       "\n",
       "#sk-container-id-1 input.sk-hidden--visually {\n",
       "  border: 0;\n",
       "  clip: rect(1px 1px 1px 1px);\n",
       "  clip: rect(1px, 1px, 1px, 1px);\n",
       "  height: 1px;\n",
       "  margin: -1px;\n",
       "  overflow: hidden;\n",
       "  padding: 0;\n",
       "  position: absolute;\n",
       "  width: 1px;\n",
       "}\n",
       "\n",
       "#sk-container-id-1 div.sk-dashed-wrapped {\n",
       "  border: 1px dashed var(--sklearn-color-line);\n",
       "  margin: 0 0.4em 0.5em 0.4em;\n",
       "  box-sizing: border-box;\n",
       "  padding-bottom: 0.4em;\n",
       "  background-color: var(--sklearn-color-background);\n",
       "}\n",
       "\n",
       "#sk-container-id-1 div.sk-container {\n",
       "  /* jupyter's `normalize.less` sets `[hidden] { display: none; }`\n",
       "     but bootstrap.min.css set `[hidden] { display: none !important; }`\n",
       "     so we also need the `!important` here to be able to override the\n",
       "     default hidden behavior on the sphinx rendered scikit-learn.org.\n",
       "     See: https://github.com/scikit-learn/scikit-learn/issues/21755 */\n",
       "  display: inline-block !important;\n",
       "  position: relative;\n",
       "}\n",
       "\n",
       "#sk-container-id-1 div.sk-text-repr-fallback {\n",
       "  display: none;\n",
       "}\n",
       "\n",
       "div.sk-parallel-item,\n",
       "div.sk-serial,\n",
       "div.sk-item {\n",
       "  /* draw centered vertical line to link estimators */\n",
       "  background-image: linear-gradient(var(--sklearn-color-text-on-default-background), var(--sklearn-color-text-on-default-background));\n",
       "  background-size: 2px 100%;\n",
       "  background-repeat: no-repeat;\n",
       "  background-position: center center;\n",
       "}\n",
       "\n",
       "/* Parallel-specific style estimator block */\n",
       "\n",
       "#sk-container-id-1 div.sk-parallel-item::after {\n",
       "  content: \"\";\n",
       "  width: 100%;\n",
       "  border-bottom: 2px solid var(--sklearn-color-text-on-default-background);\n",
       "  flex-grow: 1;\n",
       "}\n",
       "\n",
       "#sk-container-id-1 div.sk-parallel {\n",
       "  display: flex;\n",
       "  align-items: stretch;\n",
       "  justify-content: center;\n",
       "  background-color: var(--sklearn-color-background);\n",
       "  position: relative;\n",
       "}\n",
       "\n",
       "#sk-container-id-1 div.sk-parallel-item {\n",
       "  display: flex;\n",
       "  flex-direction: column;\n",
       "}\n",
       "\n",
       "#sk-container-id-1 div.sk-parallel-item:first-child::after {\n",
       "  align-self: flex-end;\n",
       "  width: 50%;\n",
       "}\n",
       "\n",
       "#sk-container-id-1 div.sk-parallel-item:last-child::after {\n",
       "  align-self: flex-start;\n",
       "  width: 50%;\n",
       "}\n",
       "\n",
       "#sk-container-id-1 div.sk-parallel-item:only-child::after {\n",
       "  width: 0;\n",
       "}\n",
       "\n",
       "/* Serial-specific style estimator block */\n",
       "\n",
       "#sk-container-id-1 div.sk-serial {\n",
       "  display: flex;\n",
       "  flex-direction: column;\n",
       "  align-items: center;\n",
       "  background-color: var(--sklearn-color-background);\n",
       "  padding-right: 1em;\n",
       "  padding-left: 1em;\n",
       "}\n",
       "\n",
       "\n",
       "/* Toggleable style: style used for estimator/Pipeline/ColumnTransformer box that is\n",
       "clickable and can be expanded/collapsed.\n",
       "- Pipeline and ColumnTransformer use this feature and define the default style\n",
       "- Estimators will overwrite some part of the style using the `sk-estimator` class\n",
       "*/\n",
       "\n",
       "/* Pipeline and ColumnTransformer style (default) */\n",
       "\n",
       "#sk-container-id-1 div.sk-toggleable {\n",
       "  /* Default theme specific background. It is overwritten whether we have a\n",
       "  specific estimator or a Pipeline/ColumnTransformer */\n",
       "  background-color: var(--sklearn-color-background);\n",
       "}\n",
       "\n",
       "/* Toggleable label */\n",
       "#sk-container-id-1 label.sk-toggleable__label {\n",
       "  cursor: pointer;\n",
       "  display: flex;\n",
       "  width: 100%;\n",
       "  margin-bottom: 0;\n",
       "  padding: 0.5em;\n",
       "  box-sizing: border-box;\n",
       "  text-align: center;\n",
       "  align-items: start;\n",
       "  justify-content: space-between;\n",
       "  gap: 0.5em;\n",
       "}\n",
       "\n",
       "#sk-container-id-1 label.sk-toggleable__label .caption {\n",
       "  font-size: 0.6rem;\n",
       "  font-weight: lighter;\n",
       "  color: var(--sklearn-color-text-muted);\n",
       "}\n",
       "\n",
       "#sk-container-id-1 label.sk-toggleable__label-arrow:before {\n",
       "  /* Arrow on the left of the label */\n",
       "  content: \"▸\";\n",
       "  float: left;\n",
       "  margin-right: 0.25em;\n",
       "  color: var(--sklearn-color-icon);\n",
       "}\n",
       "\n",
       "#sk-container-id-1 label.sk-toggleable__label-arrow:hover:before {\n",
       "  color: var(--sklearn-color-text);\n",
       "}\n",
       "\n",
       "/* Toggleable content - dropdown */\n",
       "\n",
       "#sk-container-id-1 div.sk-toggleable__content {\n",
       "  display: none;\n",
       "  text-align: left;\n",
       "  /* unfitted */\n",
       "  background-color: var(--sklearn-color-unfitted-level-0);\n",
       "}\n",
       "\n",
       "#sk-container-id-1 div.sk-toggleable__content.fitted {\n",
       "  /* fitted */\n",
       "  background-color: var(--sklearn-color-fitted-level-0);\n",
       "}\n",
       "\n",
       "#sk-container-id-1 div.sk-toggleable__content pre {\n",
       "  margin: 0.2em;\n",
       "  border-radius: 0.25em;\n",
       "  color: var(--sklearn-color-text);\n",
       "  /* unfitted */\n",
       "  background-color: var(--sklearn-color-unfitted-level-0);\n",
       "}\n",
       "\n",
       "#sk-container-id-1 div.sk-toggleable__content.fitted pre {\n",
       "  /* unfitted */\n",
       "  background-color: var(--sklearn-color-fitted-level-0);\n",
       "}\n",
       "\n",
       "#sk-container-id-1 input.sk-toggleable__control:checked~div.sk-toggleable__content {\n",
       "  /* Expand drop-down */\n",
       "  display: block;\n",
       "  width: 100%;\n",
       "  overflow: visible;\n",
       "}\n",
       "\n",
       "#sk-container-id-1 input.sk-toggleable__control:checked~label.sk-toggleable__label-arrow:before {\n",
       "  content: \"▾\";\n",
       "}\n",
       "\n",
       "/* Pipeline/ColumnTransformer-specific style */\n",
       "\n",
       "#sk-container-id-1 div.sk-label input.sk-toggleable__control:checked~label.sk-toggleable__label {\n",
       "  color: var(--sklearn-color-text);\n",
       "  background-color: var(--sklearn-color-unfitted-level-2);\n",
       "}\n",
       "\n",
       "#sk-container-id-1 div.sk-label.fitted input.sk-toggleable__control:checked~label.sk-toggleable__label {\n",
       "  background-color: var(--sklearn-color-fitted-level-2);\n",
       "}\n",
       "\n",
       "/* Estimator-specific style */\n",
       "\n",
       "/* Colorize estimator box */\n",
       "#sk-container-id-1 div.sk-estimator input.sk-toggleable__control:checked~label.sk-toggleable__label {\n",
       "  /* unfitted */\n",
       "  background-color: var(--sklearn-color-unfitted-level-2);\n",
       "}\n",
       "\n",
       "#sk-container-id-1 div.sk-estimator.fitted input.sk-toggleable__control:checked~label.sk-toggleable__label {\n",
       "  /* fitted */\n",
       "  background-color: var(--sklearn-color-fitted-level-2);\n",
       "}\n",
       "\n",
       "#sk-container-id-1 div.sk-label label.sk-toggleable__label,\n",
       "#sk-container-id-1 div.sk-label label {\n",
       "  /* The background is the default theme color */\n",
       "  color: var(--sklearn-color-text-on-default-background);\n",
       "}\n",
       "\n",
       "/* On hover, darken the color of the background */\n",
       "#sk-container-id-1 div.sk-label:hover label.sk-toggleable__label {\n",
       "  color: var(--sklearn-color-text);\n",
       "  background-color: var(--sklearn-color-unfitted-level-2);\n",
       "}\n",
       "\n",
       "/* Label box, darken color on hover, fitted */\n",
       "#sk-container-id-1 div.sk-label.fitted:hover label.sk-toggleable__label.fitted {\n",
       "  color: var(--sklearn-color-text);\n",
       "  background-color: var(--sklearn-color-fitted-level-2);\n",
       "}\n",
       "\n",
       "/* Estimator label */\n",
       "\n",
       "#sk-container-id-1 div.sk-label label {\n",
       "  font-family: monospace;\n",
       "  font-weight: bold;\n",
       "  display: inline-block;\n",
       "  line-height: 1.2em;\n",
       "}\n",
       "\n",
       "#sk-container-id-1 div.sk-label-container {\n",
       "  text-align: center;\n",
       "}\n",
       "\n",
       "/* Estimator-specific */\n",
       "#sk-container-id-1 div.sk-estimator {\n",
       "  font-family: monospace;\n",
       "  border: 1px dotted var(--sklearn-color-border-box);\n",
       "  border-radius: 0.25em;\n",
       "  box-sizing: border-box;\n",
       "  margin-bottom: 0.5em;\n",
       "  /* unfitted */\n",
       "  background-color: var(--sklearn-color-unfitted-level-0);\n",
       "}\n",
       "\n",
       "#sk-container-id-1 div.sk-estimator.fitted {\n",
       "  /* fitted */\n",
       "  background-color: var(--sklearn-color-fitted-level-0);\n",
       "}\n",
       "\n",
       "/* on hover */\n",
       "#sk-container-id-1 div.sk-estimator:hover {\n",
       "  /* unfitted */\n",
       "  background-color: var(--sklearn-color-unfitted-level-2);\n",
       "}\n",
       "\n",
       "#sk-container-id-1 div.sk-estimator.fitted:hover {\n",
       "  /* fitted */\n",
       "  background-color: var(--sklearn-color-fitted-level-2);\n",
       "}\n",
       "\n",
       "/* Specification for estimator info (e.g. \"i\" and \"?\") */\n",
       "\n",
       "/* Common style for \"i\" and \"?\" */\n",
       "\n",
       ".sk-estimator-doc-link,\n",
       "a:link.sk-estimator-doc-link,\n",
       "a:visited.sk-estimator-doc-link {\n",
       "  float: right;\n",
       "  font-size: smaller;\n",
       "  line-height: 1em;\n",
       "  font-family: monospace;\n",
       "  background-color: var(--sklearn-color-background);\n",
       "  border-radius: 1em;\n",
       "  height: 1em;\n",
       "  width: 1em;\n",
       "  text-decoration: none !important;\n",
       "  margin-left: 0.5em;\n",
       "  text-align: center;\n",
       "  /* unfitted */\n",
       "  border: var(--sklearn-color-unfitted-level-1) 1pt solid;\n",
       "  color: var(--sklearn-color-unfitted-level-1);\n",
       "}\n",
       "\n",
       ".sk-estimator-doc-link.fitted,\n",
       "a:link.sk-estimator-doc-link.fitted,\n",
       "a:visited.sk-estimator-doc-link.fitted {\n",
       "  /* fitted */\n",
       "  border: var(--sklearn-color-fitted-level-1) 1pt solid;\n",
       "  color: var(--sklearn-color-fitted-level-1);\n",
       "}\n",
       "\n",
       "/* On hover */\n",
       "div.sk-estimator:hover .sk-estimator-doc-link:hover,\n",
       ".sk-estimator-doc-link:hover,\n",
       "div.sk-label-container:hover .sk-estimator-doc-link:hover,\n",
       ".sk-estimator-doc-link:hover {\n",
       "  /* unfitted */\n",
       "  background-color: var(--sklearn-color-unfitted-level-3);\n",
       "  color: var(--sklearn-color-background);\n",
       "  text-decoration: none;\n",
       "}\n",
       "\n",
       "div.sk-estimator.fitted:hover .sk-estimator-doc-link.fitted:hover,\n",
       ".sk-estimator-doc-link.fitted:hover,\n",
       "div.sk-label-container:hover .sk-estimator-doc-link.fitted:hover,\n",
       ".sk-estimator-doc-link.fitted:hover {\n",
       "  /* fitted */\n",
       "  background-color: var(--sklearn-color-fitted-level-3);\n",
       "  color: var(--sklearn-color-background);\n",
       "  text-decoration: none;\n",
       "}\n",
       "\n",
       "/* Span, style for the box shown on hovering the info icon */\n",
       ".sk-estimator-doc-link span {\n",
       "  display: none;\n",
       "  z-index: 9999;\n",
       "  position: relative;\n",
       "  font-weight: normal;\n",
       "  right: .2ex;\n",
       "  padding: .5ex;\n",
       "  margin: .5ex;\n",
       "  width: min-content;\n",
       "  min-width: 20ex;\n",
       "  max-width: 50ex;\n",
       "  color: var(--sklearn-color-text);\n",
       "  box-shadow: 2pt 2pt 4pt #999;\n",
       "  /* unfitted */\n",
       "  background: var(--sklearn-color-unfitted-level-0);\n",
       "  border: .5pt solid var(--sklearn-color-unfitted-level-3);\n",
       "}\n",
       "\n",
       ".sk-estimator-doc-link.fitted span {\n",
       "  /* fitted */\n",
       "  background: var(--sklearn-color-fitted-level-0);\n",
       "  border: var(--sklearn-color-fitted-level-3);\n",
       "}\n",
       "\n",
       ".sk-estimator-doc-link:hover span {\n",
       "  display: block;\n",
       "}\n",
       "\n",
       "/* \"?\"-specific style due to the `<a>` HTML tag */\n",
       "\n",
       "#sk-container-id-1 a.estimator_doc_link {\n",
       "  float: right;\n",
       "  font-size: 1rem;\n",
       "  line-height: 1em;\n",
       "  font-family: monospace;\n",
       "  background-color: var(--sklearn-color-background);\n",
       "  border-radius: 1rem;\n",
       "  height: 1rem;\n",
       "  width: 1rem;\n",
       "  text-decoration: none;\n",
       "  /* unfitted */\n",
       "  color: var(--sklearn-color-unfitted-level-1);\n",
       "  border: var(--sklearn-color-unfitted-level-1) 1pt solid;\n",
       "}\n",
       "\n",
       "#sk-container-id-1 a.estimator_doc_link.fitted {\n",
       "  /* fitted */\n",
       "  border: var(--sklearn-color-fitted-level-1) 1pt solid;\n",
       "  color: var(--sklearn-color-fitted-level-1);\n",
       "}\n",
       "\n",
       "/* On hover */\n",
       "#sk-container-id-1 a.estimator_doc_link:hover {\n",
       "  /* unfitted */\n",
       "  background-color: var(--sklearn-color-unfitted-level-3);\n",
       "  color: var(--sklearn-color-background);\n",
       "  text-decoration: none;\n",
       "}\n",
       "\n",
       "#sk-container-id-1 a.estimator_doc_link.fitted:hover {\n",
       "  /* fitted */\n",
       "  background-color: var(--sklearn-color-fitted-level-3);\n",
       "}\n",
       "\n",
       ".estimator-table summary {\n",
       "    padding: .5rem;\n",
       "    font-family: monospace;\n",
       "    cursor: pointer;\n",
       "}\n",
       "\n",
       ".estimator-table details[open] {\n",
       "    padding-left: 0.1rem;\n",
       "    padding-right: 0.1rem;\n",
       "    padding-bottom: 0.3rem;\n",
       "}\n",
       "\n",
       ".estimator-table .parameters-table {\n",
       "    margin-left: auto !important;\n",
       "    margin-right: auto !important;\n",
       "}\n",
       "\n",
       ".estimator-table .parameters-table tr:nth-child(odd) {\n",
       "    background-color: #fff;\n",
       "}\n",
       "\n",
       ".estimator-table .parameters-table tr:nth-child(even) {\n",
       "    background-color: #f6f6f6;\n",
       "}\n",
       "\n",
       ".estimator-table .parameters-table tr:hover {\n",
       "    background-color: #e0e0e0;\n",
       "}\n",
       "\n",
       ".estimator-table table td {\n",
       "    border: 1px solid rgba(106, 105, 104, 0.232);\n",
       "}\n",
       "\n",
       ".user-set td {\n",
       "    color:rgb(255, 94, 0);\n",
       "    text-align: left;\n",
       "}\n",
       "\n",
       ".user-set td.value pre {\n",
       "    color:rgb(255, 94, 0) !important;\n",
       "    background-color: transparent !important;\n",
       "}\n",
       "\n",
       ".default td {\n",
       "    color: black;\n",
       "    text-align: left;\n",
       "}\n",
       "\n",
       ".user-set td i,\n",
       ".default td i {\n",
       "    color: black;\n",
       "}\n",
       "\n",
       ".copy-paste-icon {\n",
       "    background-image: url(data:image/svg+xml;base64,PHN2ZyB4bWxucz0iaHR0cDovL3d3dy53My5vcmcvMjAwMC9zdmciIHZpZXdCb3g9IjAgMCA0NDggNTEyIj48IS0tIUZvbnQgQXdlc29tZSBGcmVlIDYuNy4yIGJ5IEBmb250YXdlc29tZSAtIGh0dHBzOi8vZm9udGF3ZXNvbWUuY29tIExpY2Vuc2UgLSBodHRwczovL2ZvbnRhd2Vzb21lLmNvbS9saWNlbnNlL2ZyZWUgQ29weXJpZ2h0IDIwMjUgRm9udGljb25zLCBJbmMuLS0+PHBhdGggZD0iTTIwOCAwTDMzMi4xIDBjMTIuNyAwIDI0LjkgNS4xIDMzLjkgMTQuMWw2Ny45IDY3LjljOSA5IDE0LjEgMjEuMiAxNC4xIDMzLjlMNDQ4IDMzNmMwIDI2LjUtMjEuNSA0OC00OCA0OGwtMTkyIDBjLTI2LjUgMC00OC0yMS41LTQ4LTQ4bDAtMjg4YzAtMjYuNSAyMS41LTQ4IDQ4LTQ4ek00OCAxMjhsODAgMCAwIDY0LTY0IDAgMCAyNTYgMTkyIDAgMC0zMiA2NCAwIDAgNDhjMCAyNi41LTIxLjUgNDgtNDggNDhMNDggNTEyYy0yNi41IDAtNDgtMjEuNS00OC00OEwwIDE3NmMwLTI2LjUgMjEuNS00OCA0OC00OHoiLz48L3N2Zz4=);\n",
       "    background-repeat: no-repeat;\n",
       "    background-size: 14px 14px;\n",
       "    background-position: 0;\n",
       "    display: inline-block;\n",
       "    width: 14px;\n",
       "    height: 14px;\n",
       "    cursor: pointer;\n",
       "}\n",
       "</style><body><div id=\"sk-container-id-1\" class=\"sk-top-container\"><div class=\"sk-text-repr-fallback\"><pre>GLM(\n",
       "    observation_model=PoissonObservations(),\n",
       "    inverse_link_function=exp,\n",
       "    regularizer=UnRegularized(),\n",
       "    solver_name=&#x27;LBFGS&#x27;\n",
       ")</pre><b>In a Jupyter environment, please rerun this cell to show the HTML representation or trust the notebook. <br />On GitHub, the HTML representation is unable to render, please try loading this page with nbviewer.org.</b></div><div class=\"sk-container\" hidden><div class=\"sk-item\"><div class=\"sk-estimator fitted sk-toggleable\"><input class=\"sk-toggleable__control sk-hidden--visually\" id=\"sk-estimator-id-1\" type=\"checkbox\" checked><label for=\"sk-estimator-id-1\" class=\"sk-toggleable__label fitted sk-toggleable__label-arrow\"><div><div>GLM</div></div><div><span class=\"sk-estimator-doc-link fitted\">i<span>Fitted</span></span></div></label><div class=\"sk-toggleable__content fitted\" data-param-prefix=\"\">\n",
       "        <div class=\"estimator-table\">\n",
       "            <details>\n",
       "                <summary>Parameters</summary>\n",
       "                <table class=\"parameters-table\">\n",
       "                  <tbody>\n",
       "                    \n",
       "        <tr class=\"user-set\">\n",
       "            <td><i class=\"copy-paste-icon\"\n",
       "                 onclick=\"copyToClipboard('observation_model',\n",
       "                          this.parentElement.nextElementSibling)\"\n",
       "            ></i></td>\n",
       "            <td class=\"param\">observation_model&nbsp;</td>\n",
       "            <td class=\"value\">PoissonObservations()</td>\n",
       "        </tr>\n",
       "    \n",
       "\n",
       "        <tr class=\"user-set\">\n",
       "            <td><i class=\"copy-paste-icon\"\n",
       "                 onclick=\"copyToClipboard('inverse_link_function',\n",
       "                          this.parentElement.nextElementSibling)\"\n",
       "            ></i></td>\n",
       "            <td class=\"param\">inverse_link_function&nbsp;</td>\n",
       "            <td class=\"value\">&lt;PjitFunction...7f314b1b6520&gt;&gt;</td>\n",
       "        </tr>\n",
       "    \n",
       "\n",
       "        <tr class=\"user-set\">\n",
       "            <td><i class=\"copy-paste-icon\"\n",
       "                 onclick=\"copyToClipboard('regularizer',\n",
       "                          this.parentElement.nextElementSibling)\"\n",
       "            ></i></td>\n",
       "            <td class=\"param\">regularizer&nbsp;</td>\n",
       "            <td class=\"value\">UnRegularized()</td>\n",
       "        </tr>\n",
       "    \n",
       "\n",
       "        <tr class=\"default\">\n",
       "            <td><i class=\"copy-paste-icon\"\n",
       "                 onclick=\"copyToClipboard('regularizer_strength',\n",
       "                          this.parentElement.nextElementSibling)\"\n",
       "            ></i></td>\n",
       "            <td class=\"param\">regularizer_strength&nbsp;</td>\n",
       "            <td class=\"value\">None</td>\n",
       "        </tr>\n",
       "    \n",
       "\n",
       "        <tr class=\"user-set\">\n",
       "            <td><i class=\"copy-paste-icon\"\n",
       "                 onclick=\"copyToClipboard('solver_name',\n",
       "                          this.parentElement.nextElementSibling)\"\n",
       "            ></i></td>\n",
       "            <td class=\"param\">solver_name&nbsp;</td>\n",
       "            <td class=\"value\">&#x27;LBFGS&#x27;</td>\n",
       "        </tr>\n",
       "    \n",
       "\n",
       "        <tr class=\"user-set\">\n",
       "            <td><i class=\"copy-paste-icon\"\n",
       "                 onclick=\"copyToClipboard('solver_kwargs',\n",
       "                          this.parentElement.nextElementSibling)\"\n",
       "            ></i></td>\n",
       "            <td class=\"param\">solver_kwargs&nbsp;</td>\n",
       "            <td class=\"value\">{}</td>\n",
       "        </tr>\n",
       "    \n",
       "                  </tbody>\n",
       "                </table>\n",
       "            </details>\n",
       "        </div>\n",
       "    </div></div></div></div></div><script>function copyToClipboard(text, element) {\n",
       "    // Get the parameter prefix from the closest toggleable content\n",
       "    const toggleableContent = element.closest('.sk-toggleable__content');\n",
       "    const paramPrefix = toggleableContent ? toggleableContent.dataset.paramPrefix : '';\n",
       "    const fullParamName = paramPrefix ? `${paramPrefix}${text}` : text;\n",
       "\n",
       "    const originalStyle = element.style;\n",
       "    const computedStyle = window.getComputedStyle(element);\n",
       "    const originalWidth = computedStyle.width;\n",
       "    const originalHTML = element.innerHTML.replace('Copied!', '');\n",
       "\n",
       "    navigator.clipboard.writeText(fullParamName)\n",
       "        .then(() => {\n",
       "            element.style.width = originalWidth;\n",
       "            element.style.color = 'green';\n",
       "            element.innerHTML = \"Copied!\";\n",
       "\n",
       "            setTimeout(() => {\n",
       "                element.innerHTML = originalHTML;\n",
       "                element.style = originalStyle;\n",
       "            }, 2000);\n",
       "        })\n",
       "        .catch(err => {\n",
       "            console.error('Failed to copy:', err);\n",
       "            element.style.color = 'red';\n",
       "            element.innerHTML = \"Failed!\";\n",
       "            setTimeout(() => {\n",
       "                element.innerHTML = originalHTML;\n",
       "                element.style = originalStyle;\n",
       "            }, 2000);\n",
       "        });\n",
       "    return false;\n",
       "}\n",
       "\n",
       "document.querySelectorAll('.fa-regular.fa-copy').forEach(function(element) {\n",
       "    const toggleableContent = element.closest('.sk-toggleable__content');\n",
       "    const paramPrefix = toggleableContent ? toggleableContent.dataset.paramPrefix : '';\n",
       "    const paramName = element.parentElement.nextElementSibling.textContent.trim();\n",
       "    const fullParamName = paramPrefix ? `${paramPrefix}${paramName}` : paramName;\n",
       "\n",
       "    element.setAttribute('title', fullParamName);\n",
       "});\n",
       "</script></body>"
      ],
      "text/plain": [
       "GLM(\n",
       "    observation_model=PoissonObservations(),\n",
       "    inverse_link_function=exp,\n",
       "    regularizer=UnRegularized(),\n",
       "    solver_name='LBFGS'\n",
       ")"
      ]
     },
     "execution_count": 24,
     "metadata": {},
     "output_type": "execute_result"
    }
   ],
   "source": [
    "model.fit(predictor, count)"
   ]
  },
  {
   "cell_type": "markdown",
   "id": "618f2123",
   "metadata": {},
   "source": [
    "Now that we've fit our data, we can retrieve the resulting parameters.\n",
    "Similar to scikit-learn, these are stored as the `coef_` and `intercept_`\n",
    "attributes:"
   ]
  },
  {
   "cell_type": "code",
   "execution_count": 25,
   "id": "bf61ea7c",
   "metadata": {},
   "outputs": [
    {
     "name": "stdout",
     "output_type": "stream",
     "text": [
      "firing_rate(t) = exp([0.05330395] * current(t) + [-9.761153])\n"
     ]
    }
   ],
   "source": [
    "print(f\"firing_rate(t) = exp({model.coef_} * current(t) + {model.intercept_})\")"
   ]
  },
  {
   "cell_type": "markdown",
   "id": "abdce0e0",
   "metadata": {},
   "source": [
    "Note that `model.coef_` has shape `(n_features, )`, while `model.intercept_` has\n",
    "shape `(n_neurons)` (for the `GLM` object, this will always be 1, but it will\n",
    "differ for the `PopulationGLM` object!):"
   ]
  },
  {
   "cell_type": "code",
   "execution_count": 26,
   "id": "aa120442",
   "metadata": {},
   "outputs": [
    {
     "name": "stdout",
     "output_type": "stream",
     "text": [
      "coef_ shape: (1,)\n",
      "intercept_ shape: (1,)\n"
     ]
    }
   ],
   "source": [
    "print(f\"coef_ shape: {model.coef_.shape}\")\n",
    "print(f\"intercept_ shape: {model.intercept_.shape}\")"
   ]
  },
  {
   "cell_type": "markdown",
   "id": "5a968d17",
   "metadata": {},
   "source": [
    "It's nice to get the parameters above, but we can't tell how well our model\n",
    "is doing by looking at them. So how should we evaluate our model?\n",
    "\n",
    "First, we can use the model to predict the firing rates and compare that to\n",
    "the smoothed spike train. By calling [`predict()`](nemos.glm.GLM.predict) we can get the model's\n",
    "predicted firing rate for this data. Note that this is just the output of the\n",
    "model's linear-nonlinear step, as described earlier!\n",
    "\n",
    "<div class=\"render-user render-presenter\">\n",
    "- generate and examine model predictions.\n",
    "</div>"
   ]
  },
  {
   "cell_type": "code",
   "execution_count": 27,
   "id": "39a3ca8b",
   "metadata": {},
   "outputs": [
    {
     "name": "stderr",
     "output_type": "stream",
     "text": [
      "/home/agent/workspace/rorse_ccn-software-sfn-2025_main/lib/python3.12/site-packages/pynapple/core/utils.py:198: UserWarning: Converting 'd' to numpy.array. The provided array was of type 'ArrayImpl'.\n",
      "  warnings.warn(\n"
     ]
    },
    {
     "data": {
      "image/png": "[encoded data removed]",
      "text/plain": [
       "<Figure size 700x700 with 5 Axes>"
      ]
     },
     "metadata": {},
     "output_type": "display_data"
    }
   ],
   "source": [
    "predicted_fr = model.predict(predictor)\n",
    "# convert units from spikes/bin to spikes/sec\n",
    "predicted_fr = predicted_fr / bin_size\n",
    "\n",
    "\n",
    "# and let's smooth the firing rate the same way that we smoothed the firing rate\n",
    "smooth_predicted_fr = predicted_fr.smooth(0.05, size_factor=20)\n",
    "\n",
    "# and plot!\n",
    "fig = doc_plots.current_injection_plot(current, spikes, firing_rate,\n",
    "                                 # plot the predicted firing rate that has\n",
    "                                 # been smoothed the same way as the\n",
    "                                 # smoothed spike train\n",
    "                                 predicted_firing_rates=smooth_predicted_fr)"
   ]
  },
  {
   "cell_type": "markdown",
   "id": "c5d86795",
   "metadata": {},
   "source": [
    "What do we see above? Note that the y-axes in the final row are different for\n",
    "each subplot!\n",
    "\n",
    "- Predicted firing rate increases as injected current goes up &mdash; Success! &#x1F389;\n",
    "\n",
    "- The amplitude of the predicted firing rate only matches the observed\n",
    "  amplitude in the third interval: it's too high in the first and too low in\n",
    "  the second &mdash; Failure! &#x274C;\n",
    "\n",
    "- Our predicted firing rate has the periodicity we see in the smoothed spike\n",
    "  train &mdash; Success! &#x1F389;\n",
    "\n",
    "- The predicted firing rate does not decay as the input remains on: the\n",
    "  amplitudes are identical for each of the bumps within a given interval &mdash;\n",
    "  Failure! &#x274C;\n",
    "\n",
    "The failure described in the second point may seem particularly confusing &mdash;\n",
    "approximate amplitude feels like it should be very easy to capture, so what's\n",
    "going on?\n",
    "\n",
    "To get a better sense, let's look at the mean firing rate over the whole\n",
    "period:\n",
    "\n",
    "<div class=\"render-user render-presenter\">\n",
    "- what do we see?\n",
    "</div>"
   ]
  },
  {
   "cell_type": "code",
   "execution_count": 28,
   "id": "1fa0ae82",
   "metadata": {},
   "outputs": [
    {
     "name": "stdout",
     "output_type": "stream",
     "text": [
      "Observed mean firing rate: 1.4275517487508922 Hz\n",
      "Predicted mean firing rate: 1.4306572675704956 Hz\n"
     ]
    }
   ],
   "source": [
    "# compare observed mean firing rate with the model predicted one\n",
    "print(f\"Observed mean firing rate: {np.mean(count) / bin_size} Hz\")\n",
    "print(f\"Predicted mean firing rate: {np.mean(predicted_fr)} Hz\")"
   ]
  },
  {
   "cell_type": "markdown",
   "id": "9348c055",
   "metadata": {},
   "source": [
    "We matched the average pretty well! So we've matched the average and the\n",
    "range of inputs from the third interval reasonably well, but overshot at low\n",
    "inputs and undershot in the middle.\n",
    "\n",
    "We can see this more directly by computing the tuning curve for our predicted\n",
    "firing rate and comparing that against our smoothed spike train from the\n",
    "beginning of this notebook. Pynapple can help us again with this:\n",
    "\n",
    "<div class=\"render-user render-presenter\">\n",
    "- examine tuning curve &mdash; what do we see?\n",
    "</div>"
   ]
  },
  {
   "cell_type": "code",
   "execution_count": 29,
   "id": "9a5b8e8c",
   "metadata": {},
   "outputs": [
    {
     "data": {
      "text/plain": [
       "<matplotlib.legend.Legend at 0x7f2ff0293ad0>"
      ]
     },
     "execution_count": 29,
     "metadata": {},
     "output_type": "execute_result"
    },
    {
     "data": {
      "image/png": "[encoded data removed]",
      "text/plain": [
       "<Figure size 640x480 with 1 Axes>"
      ]
     },
     "metadata": {},
     "output_type": "display_data"
    }
   ],
   "source": [
    "# pynapple expects the input to this function to be 2d,\n",
    "# so let's add a singleton dimension\n",
    "tuning_curve_model = nap.compute_tuning_curves(predicted_fr[:, np.newaxis], current, bins=15, feature_names=[\"current\"])\n",
    "fig = doc_plots.tuning_curve_plot(tuning_curve)\n",
    "tuning_curve_model.plot(color=\"tomato\", label=\"glm\")\n",
    "fig.axes[0].legend()"
   ]
  },
  {
   "cell_type": "markdown",
   "id": "7c167beb",
   "metadata": {},
   "source": [
    "In addition to making that mismatch discussed earlier a little more obvious,\n",
    "this tuning curve comparison also highlights that this model thinks the\n",
    "firing rate will continue to grow as the injected current increases, which is\n",
    "not reflected in the data (or in our knowledge of how neurons work!).\n",
    "\n",
    "Viewing this plot also makes it clear that the model's tuning curve is\n",
    "approximately exponential. We already knew that! That's what it means to be a\n",
    "LNP model of a single input. But it's nice to see it made explicit.\n",
    "\n",
    "(current-inj-basis)=\n",
    "### Extending the model to use injection history\n",
    "\n",
    "We can try extending the model in order to improve its performance. There are many\n",
    "ways one can do this: the iterative refinement and improvement of your model is an\n",
    "important part of the scientific process! In this tutorial, we'll discuss one such\n",
    "extension, but you're encouraged to try others.\n",
    "\n",
    "Our model right now assumes that the neuron's spiking behavior is only driven by the\n",
    "*instantaneous input current*. That is, we're saying that history doesn't matter. But\n",
    "we know that neurons integrate information over time, so why don't we add extend our\n",
    "model to reflect that?\n",
    "\n",
    "To do so, we will change our predictors, including variables that represent the\n",
    "history of the input current as additional columns. First, we must decide the\n",
    "duration of time that we think is relevant: does current passed to the cell 10\n",
    "msec ago matter? what about 100 msec? 1 sec? To start, we should use our a\n",
    "priori knowledge about the system to determine a reasonable initial value. In\n",
    "later notebooks, we'll learn how to use NeMoS with scikit-learn to do formal\n",
    "model comparison in order to determine how much history is necessary.\n",
    "\n",
    "For now, let's use a duration of 200 msec:\n",
    "\n",
    "<div class=\"render-user render-presenter\">\n",
    "  - choose a length of time over which the neuron integrates the input current\n",
    "</div>"
   ]
  },
  {
   "cell_type": "code",
   "execution_count": 30,
   "id": "e1203dfd",
   "metadata": {},
   "outputs": [],
   "source": [
    "current_history_duration_sec = .2\n",
    "# convert this from sec to bins\n",
    "current_history_duration = int(current_history_duration_sec / bin_size)"
   ]
  },
  {
   "cell_type": "markdown",
   "id": "65359ac6",
   "metadata": {},
   "source": [
    "To construct our new predictors, we could simply take the current and shift it\n",
    "incrementally. The value of predictor `binned_current` at time $t$ is the injected\n",
    "current at time $t$; by shifting `binned_current` backwards by 1, we are modeling the\n",
    "effect of the current at time $t-1$ on the firing rate at time $t$, and so on for all\n",
    "shifts $i$ up to `current_history_duration`:"
   ]
  },
  {
   "cell_type": "code",
   "execution_count": 31,
   "id": "182b7729",
   "metadata": {},
   "outputs": [
    {
     "data": {
      "text/plain": [
       "Time (s)\n",
       "----------  --\n",
       "460.7705     0\n",
       "460.7715     0\n",
       "460.7725     0\n",
       "460.7735     0\n",
       "460.7745     0\n",
       "460.7755     0\n",
       "460.7765     0\n",
       "...\n",
       "488.7815     0\n",
       "488.7825     0\n",
       "488.7835     0\n",
       "488.7845     0\n",
       "488.7855     0\n",
       "488.7865     0\n",
       "488.7875     0\n",
       "dtype: float64, shape: (28018,)"
      ]
     },
     "execution_count": 31,
     "metadata": {},
     "output_type": "execute_result"
    }
   ],
   "source": [
    "binned_current[1:]\n",
    "binned_current[2:]\n",
    "# etc"
   ]
  },
  {
   "cell_type": "markdown",
   "id": "455084b9",
   "metadata": {},
   "source": [
    "In general, however, this is not a good way to extend the model in the way discussed.\n",
    "You will end end up with a very large number of predictive variables (one for every\n",
    "bin shift!), which will make the model more sensitive to noise in the data.\n",
    "\n",
    "A better idea is to do some dimensionality reduction on these predictors, by\n",
    "parametrizing them using **basis functions**. These will allow us to capture\n",
    "interesting non-linear effects with a relatively low-dimensional parametrization\n",
    "that preserves convexity. NeMoS has a whole library of basis objects available\n",
    "at [`nmo.basis`](table_basis), and choosing which set of basis functions and\n",
    "their parameters, like choosing the duration of the current history predictor,\n",
    "requires knowledge of your problem, but can later be examined using model\n",
    "comparison tools.\n",
    "\n",
    "For history-type inputs like we're discussing, the raised cosine log-stretched basis\n",
    "first described in Pillow et al., 2005 [^pillow] is a good fit. This basis set has the nice\n",
    "property that their precision drops linearly with distance from event, which is a\n",
    "makes sense for many history-related inputs in neuroscience: whether an input happened\n",
    "1 or 5 msec ago matters a lot, whereas whether an input happened 51 or 55 msec ago is\n",
    "less important."
   ]
  },
  {
   "cell_type": "code",
   "execution_count": 32,
   "id": "865d94bb",
   "metadata": {
    "tags": [
     "render-all"
    ]
   },
   "outputs": [
    {
     "data": {
      "image/png": "[encoded data removed]",
      "text/plain": [
       "<Figure size 640x480 with 1 Axes>"
      ]
     },
     "metadata": {},
     "output_type": "display_data"
    }
   ],
   "source": [
    "doc_plots.plot_basis();"
   ]
  },
  {
   "cell_type": "markdown",
   "id": "41417de0",
   "metadata": {},
   "source": [
    "[^pillow]: Pillow, J. W., Paninski, L., Uzzel, V. J., Simoncelli, E. P., & J.,\n",
    "C. E. (2005). Prediction and decoding of retinal ganglion cell responses\n",
    "with a probabilistic spiking model. Journal of Neuroscience, 25(47),\n",
    "11003–11013. http://dx.doi.org/10.1523/jneurosci.3305-05.2005\n",
    "\n",
    "NeMoS's `Basis` objects handle the construction and use of these basis functions. When\n",
    "we instantiate this object, the main argument we need to specify is the number of\n",
    "functions we want: with more basis functions, we'll be able to represent the effect of\n",
    "the corresponding input with the higher precision, at the cost of adding additional\n",
    "parameters.\n",
    "\n",
    "We also need to specify whether we want to use the convolutional (`Conv`) or\n",
    "evaluation (`Eval`) form of the basis. This is determined by the type of feature\n",
    "we wish to represent with the basis:\n",
    "\n",
    "- Evaluation bases transform the input through the non-linear function defined\n",
    "  by the basis. This can be used to represent features such as spatial location\n",
    "  and head direction.\n",
    "\n",
    "- Convolution bases apply a convolution of the input data to the bank of filters\n",
    "  defined by the basis, and is particularly useful when analyzing data with\n",
    "  inherent temporal dependencies, such as spike history or the history of input\n",
    "  current in this example. In convolution mode, we must additionally specify the\n",
    "  `window_size`, the length of the filters in bins.\n",
    "\n",
    "<div class=\"render-user render-presenter\">\n",
    "  - define a basis object\n",
    "</div>"
   ]
  },
  {
   "cell_type": "code",
   "execution_count": 33,
   "id": "6ff97479",
   "metadata": {},
   "outputs": [],
   "source": [
    "basis = nmo.basis.RaisedCosineLogConv(\n",
    "    n_basis_funcs=8, window_size=current_history_duration,\n",
    ")"
   ]
  },
  {
   "cell_type": "markdown",
   "id": "3a85427d",
   "metadata": {},
   "source": [
    ":::{admonition} Visualizing `Basis` objects\n",
    ":class: tip\n",
    "\n",
    "NeMoS provides some convenience functions for quickly visualizing the basis, in\n",
    "order to create plots like the type seen above.\n",
    "\n",
    "```python\n",
    "# basis_kernels is an array of shape (current_history_duration, n_basis_funcs)\n",
    "# while time is an array of shape (current_history_duration, )\n",
    "time, basis_kernels = basis.evaluate_on_grid(current_history_duration)\n",
    "# convert time to sec\n",
    "time *= current_history_duration_sec\n",
    "plt.plot(time, basis_kernels)\n",
    "```\n",
    "\n",
    ":::\n",
    "\n",
    "With this basis in hand, we can compress our input features:\n",
    "\n",
    "<div class=\"render-user render-presenter\">\n",
    "  - create the design matrix\n",
    "  - examine the features it contains\n",
    "</div>"
   ]
  },
  {
   "cell_type": "code",
   "execution_count": 34,
   "id": "6177273b",
   "metadata": {},
   "outputs": [
    {
     "name": "stdout",
     "output_type": "stream",
     "text": [
      "Time (s)      0    1    2    3    4  ...\n",
      "----------  ---  ---  ---  ---  ---  -----\n",
      "460.7685    nan  nan  nan  nan  nan  ...\n",
      "460.7695    nan  nan  nan  nan  nan  ...\n",
      "460.7705    nan  nan  nan  nan  nan  ...\n",
      "460.7715    nan  nan  nan  nan  nan  ...\n",
      "460.7725    nan  nan  nan  nan  nan  ...\n",
      "460.7735    nan  nan  nan  nan  nan  ...\n",
      "460.7745    nan  nan  nan  nan  nan  ...\n",
      "...                                  ...\n",
      "488.7815      0    0    0    0    0  ...\n",
      "488.7825      0    0    0    0    0  ...\n",
      "488.7835      0    0    0    0    0  ...\n",
      "488.7845      0    0    0    0    0  ...\n",
      "488.7855      0    0    0    0    0  ...\n",
      "488.7865      0    0    0    0    0  ...\n",
      "488.7875      0    0    0    0    0  ...\n",
      "dtype: float32, shape: (28020, 8)\n"
     ]
    },
    {
     "name": "stderr",
     "output_type": "stream",
     "text": [
      "/home/agent/workspace/rorse_ccn-software-sfn-2025_main/lib/python3.12/site-packages/pynapple/core/utils.py:198: UserWarning: Converting 'd' to numpy.array. The provided array was of type 'ArrayImpl'.\n",
      "  warnings.warn(\n"
     ]
    }
   ],
   "source": [
    "# under the hood, this convolves the input with the filter bank visualized above\n",
    "current_history = basis.compute_features(binned_current)\n",
    "print(current_history)"
   ]
  },
  {
   "cell_type": "markdown",
   "id": "2aff3a8c",
   "metadata": {},
   "source": [
    "We can see that our design matrix is now 28020 time points by 8 features, one for\n",
    "each of our basis functions. If we had used the raw shifted data as the features, like\n",
    "we started to do above, we'd have a design matrix with 200 features, so we've ended up\n",
    "with more than an order of magnitude fewer features!\n",
    "\n",
    "Note that we have a bunch of NaNs at the beginning of each column. That's because of\n",
    "boundary handling: we're using the input of the past 200 msecs to predict the firing\n",
    "rate at time $t$, so what do we do in the first 200 msecs? The safest way is to ignore\n",
    "them, so that the model doesn't consider them during the fitting procedure.\n",
    "\n",
    "What do these features look like?"
   ]
  },
  {
   "cell_type": "code",
   "execution_count": 35,
   "id": "6361bb9b",
   "metadata": {
    "tags": [
     "render-all"
    ]
   },
   "outputs": [
    {
     "data": {
      "image/png": "[encoded data removed]",
      "text/plain": [
       "<Figure size 800x350 with 6 Axes>"
      ]
     },
     "metadata": {},
     "output_type": "display_data"
    }
   ],
   "source": [
    "# in this plot, we're normalizing the amplitudes to make the comparison easier --\n",
    "# the amplitude of these features will be fit by the model, so their un-scaled\n",
    "# amplitudes is not informative\n",
    "workshop_utils.plot_current_history_features(binned_current, current_history, basis,\n",
    "                                             current_history_duration_sec)"
   ]
  },
  {
   "cell_type": "markdown",
   "id": "c01b45c6",
   "metadata": {},
   "source": [
    "On the top row, we're visualizing the basis functions, as above. On the bottom row,\n",
    "we're showing the input current, as a black dashed line, and corresponding features\n",
    "over a small window of time, just as the current is being turned on. These features\n",
    "are the result of a convolution between the basis function on the top row with the\n",
    "black dashed line shown below. As the basis functions get progressively wider and\n",
    "delayed from the event start, we can thus think of the features as weighted averages\n",
    "that get progressively later and smoother. Let's step through that a bit more slowly.\n",
    "\n",
    "In the leftmost plot, we can see that the first feature almost perfectly tracks the\n",
    "input. Looking at the basis function above, that makes sense: this function's max is\n",
    "at 0 and quickly decays. This feature is thus a very slightly smoothed version of the\n",
    "instantaneous current feature we were using before. In the middle plot, we can see\n",
    "that the last feature has a fairly long lag compared to the current, and is a good\n",
    "deal smoother. Looking at the rightmost plot, we can see that the other features vary\n",
    "between these two extremes, getting smoother and more delayed.\n",
    "\n",
    "These are the elements of our feature matrix: representations of not just the\n",
    "instantaneous current, but also the current history, with precision decreasing as the\n",
    "lag between the predictor and current increases. Let's see what this looks like when\n",
    "we go to fit the model!\n",
    "\n",
    "We'll initialize and create the GLM object in the same way as before, only changing\n",
    "the design matrix we pass to the model:\n",
    "\n",
    "<div class=\"render-user render-presenter\">\n",
    "  - create and fit the GLM\n",
    "  - examine the parameters\n",
    "</div>"
   ]
  },
  {
   "cell_type": "code",
   "execution_count": 36,
   "id": "c8198706",
   "metadata": {},
   "outputs": [
    {
     "data": {
      "text/html": [
       "<style>#sk-container-id-2 {\n",
       "  /* Definition of color scheme common for light and dark mode */\n",
       "  --sklearn-color-text: #000;\n",
       "  --sklearn-color-text-muted: #666;\n",
       "  --sklearn-color-line: gray;\n",
       "  /* Definition of color scheme for unfitted estimators */\n",
       "  --sklearn-color-unfitted-level-0: #fff5e6;\n",
       "  --sklearn-color-unfitted-level-1: #f6e4d2;\n",
       "  --sklearn-color-unfitted-level-2: #ffe0b3;\n",
       "  --sklearn-color-unfitted-level-3: chocolate;\n",
       "  /* Definition of color scheme for fitted estimators */\n",
       "  --sklearn-color-fitted-level-0: #f0f8ff;\n",
       "  --sklearn-color-fitted-level-1: #d4ebff;\n",
       "  --sklearn-color-fitted-level-2: #b3dbfd;\n",
       "  --sklearn-color-fitted-level-3: cornflowerblue;\n",
       "\n",
       "  /* Specific color for light theme */\n",
       "  --sklearn-color-text-on-default-background: var(--sg-text-color, var(--theme-code-foreground, var(--jp-content-font-color1, black)));\n",
       "  --sklearn-color-background: var(--sg-background-color, var(--theme-background, var(--jp-layout-color0, white)));\n",
       "  --sklearn-color-border-box: var(--sg-text-color, var(--theme-code-foreground, var(--jp-content-font-color1, black)));\n",
       "  --sklearn-color-icon: #696969;\n",
       "\n",
       "  @media (prefers-color-scheme: dark) {\n",
       "    /* Redefinition of color scheme for dark theme */\n",
       "    --sklearn-color-text-on-default-background: var(--sg-text-color, var(--theme-code-foreground, var(--jp-content-font-color1, white)));\n",
       "    --sklearn-color-background: var(--sg-background-color, var(--theme-background, var(--jp-layout-color0, #111)));\n",
       "    --sklearn-color-border-box: var(--sg-text-color, var(--theme-code-foreground, var(--jp-content-font-color1, white)));\n",
       "    --sklearn-color-icon: #878787;\n",
       "  }\n",
       "}\n",
       "\n",
       "#sk-container-id-2 {\n",
       "  color: var(--sklearn-color-text);\n",
       "}\n",
       "\n",
       "#sk-container-id-2 pre {\n",
       "  padding: 0;\n",
       "}\n",
       "\n",
       "#sk-container-id-2 input.sk-hidden--visually {\n",
       "  border: 0;\n",
       "  clip: rect(1px 1px 1px 1px);\n",
       "  clip: rect(1px, 1px, 1px, 1px);\n",
       "  height: 1px;\n",
       "  margin: -1px;\n",
       "  overflow: hidden;\n",
       "  padding: 0;\n",
       "  position: absolute;\n",
       "  width: 1px;\n",
       "}\n",
       "\n",
       "#sk-container-id-2 div.sk-dashed-wrapped {\n",
       "  border: 1px dashed var(--sklearn-color-line);\n",
       "  margin: 0 0.4em 0.5em 0.4em;\n",
       "  box-sizing: border-box;\n",
       "  padding-bottom: 0.4em;\n",
       "  background-color: var(--sklearn-color-background);\n",
       "}\n",
       "\n",
       "#sk-container-id-2 div.sk-container {\n",
       "  /* jupyter's `normalize.less` sets `[hidden] { display: none; }`\n",
       "     but bootstrap.min.css set `[hidden] { display: none !important; }`\n",
       "     so we also need the `!important` here to be able to override the\n",
       "     default hidden behavior on the sphinx rendered scikit-learn.org.\n",
       "     See: https://github.com/scikit-learn/scikit-learn/issues/21755 */\n",
       "  display: inline-block !important;\n",
       "  position: relative;\n",
       "}\n",
       "\n",
       "#sk-container-id-2 div.sk-text-repr-fallback {\n",
       "  display: none;\n",
       "}\n",
       "\n",
       "div.sk-parallel-item,\n",
       "div.sk-serial,\n",
       "div.sk-item {\n",
       "  /* draw centered vertical line to link estimators */\n",
       "  background-image: linear-gradient(var(--sklearn-color-text-on-default-background), var(--sklearn-color-text-on-default-background));\n",
       "  background-size: 2px 100%;\n",
       "  background-repeat: no-repeat;\n",
       "  background-position: center center;\n",
       "}\n",
       "\n",
       "/* Parallel-specific style estimator block */\n",
       "\n",
       "#sk-container-id-2 div.sk-parallel-item::after {\n",
       "  content: \"\";\n",
       "  width: 100%;\n",
       "  border-bottom: 2px solid var(--sklearn-color-text-on-default-background);\n",
       "  flex-grow: 1;\n",
       "}\n",
       "\n",
       "#sk-container-id-2 div.sk-parallel {\n",
       "  display: flex;\n",
       "  align-items: stretch;\n",
       "  justify-content: center;\n",
       "  background-color: var(--sklearn-color-background);\n",
       "  position: relative;\n",
       "}\n",
       "\n",
       "#sk-container-id-2 div.sk-parallel-item {\n",
       "  display: flex;\n",
       "  flex-direction: column;\n",
       "}\n",
       "\n",
       "#sk-container-id-2 div.sk-parallel-item:first-child::after {\n",
       "  align-self: flex-end;\n",
       "  width: 50%;\n",
       "}\n",
       "\n",
       "#sk-container-id-2 div.sk-parallel-item:last-child::after {\n",
       "  align-self: flex-start;\n",
       "  width: 50%;\n",
       "}\n",
       "\n",
       "#sk-container-id-2 div.sk-parallel-item:only-child::after {\n",
       "  width: 0;\n",
       "}\n",
       "\n",
       "/* Serial-specific style estimator block */\n",
       "\n",
       "#sk-container-id-2 div.sk-serial {\n",
       "  display: flex;\n",
       "  flex-direction: column;\n",
       "  align-items: center;\n",
       "  background-color: var(--sklearn-color-background);\n",
       "  padding-right: 1em;\n",
       "  padding-left: 1em;\n",
       "}\n",
       "\n",
       "\n",
       "/* Toggleable style: style used for estimator/Pipeline/ColumnTransformer box that is\n",
       "clickable and can be expanded/collapsed.\n",
       "- Pipeline and ColumnTransformer use this feature and define the default style\n",
       "- Estimators will overwrite some part of the style using the `sk-estimator` class\n",
       "*/\n",
       "\n",
       "/* Pipeline and ColumnTransformer style (default) */\n",
       "\n",
       "#sk-container-id-2 div.sk-toggleable {\n",
       "  /* Default theme specific background. It is overwritten whether we have a\n",
       "  specific estimator or a Pipeline/ColumnTransformer */\n",
       "  background-color: var(--sklearn-color-background);\n",
       "}\n",
       "\n",
       "/* Toggleable label */\n",
       "#sk-container-id-2 label.sk-toggleable__label {\n",
       "  cursor: pointer;\n",
       "  display: flex;\n",
       "  width: 100%;\n",
       "  margin-bottom: 0;\n",
       "  padding: 0.5em;\n",
       "  box-sizing: border-box;\n",
       "  text-align: center;\n",
       "  align-items: start;\n",
       "  justify-content: space-between;\n",
       "  gap: 0.5em;\n",
       "}\n",
       "\n",
       "#sk-container-id-2 label.sk-toggleable__label .caption {\n",
       "  font-size: 0.6rem;\n",
       "  font-weight: lighter;\n",
       "  color: var(--sklearn-color-text-muted);\n",
       "}\n",
       "\n",
       "#sk-container-id-2 label.sk-toggleable__label-arrow:before {\n",
       "  /* Arrow on the left of the label */\n",
       "  content: \"▸\";\n",
       "  float: left;\n",
       "  margin-right: 0.25em;\n",
       "  color: var(--sklearn-color-icon);\n",
       "}\n",
       "\n",
       "#sk-container-id-2 label.sk-toggleable__label-arrow:hover:before {\n",
       "  color: var(--sklearn-color-text);\n",
       "}\n",
       "\n",
       "/* Toggleable content - dropdown */\n",
       "\n",
       "#sk-container-id-2 div.sk-toggleable__content {\n",
       "  display: none;\n",
       "  text-align: left;\n",
       "  /* unfitted */\n",
       "  background-color: var(--sklearn-color-unfitted-level-0);\n",
       "}\n",
       "\n",
       "#sk-container-id-2 div.sk-toggleable__content.fitted {\n",
       "  /* fitted */\n",
       "  background-color: var(--sklearn-color-fitted-level-0);\n",
       "}\n",
       "\n",
       "#sk-container-id-2 div.sk-toggleable__content pre {\n",
       "  margin: 0.2em;\n",
       "  border-radius: 0.25em;\n",
       "  color: var(--sklearn-color-text);\n",
       "  /* unfitted */\n",
       "  background-color: var(--sklearn-color-unfitted-level-0);\n",
       "}\n",
       "\n",
       "#sk-container-id-2 div.sk-toggleable__content.fitted pre {\n",
       "  /* unfitted */\n",
       "  background-color: var(--sklearn-color-fitted-level-0);\n",
       "}\n",
       "\n",
       "#sk-container-id-2 input.sk-toggleable__control:checked~div.sk-toggleable__content {\n",
       "  /* Expand drop-down */\n",
       "  display: block;\n",
       "  width: 100%;\n",
       "  overflow: visible;\n",
       "}\n",
       "\n",
       "#sk-container-id-2 input.sk-toggleable__control:checked~label.sk-toggleable__label-arrow:before {\n",
       "  content: \"▾\";\n",
       "}\n",
       "\n",
       "/* Pipeline/ColumnTransformer-specific style */\n",
       "\n",
       "#sk-container-id-2 div.sk-label input.sk-toggleable__control:checked~label.sk-toggleable__label {\n",
       "  color: var(--sklearn-color-text);\n",
       "  background-color: var(--sklearn-color-unfitted-level-2);\n",
       "}\n",
       "\n",
       "#sk-container-id-2 div.sk-label.fitted input.sk-toggleable__control:checked~label.sk-toggleable__label {\n",
       "  background-color: var(--sklearn-color-fitted-level-2);\n",
       "}\n",
       "\n",
       "/* Estimator-specific style */\n",
       "\n",
       "/* Colorize estimator box */\n",
       "#sk-container-id-2 div.sk-estimator input.sk-toggleable__control:checked~label.sk-toggleable__label {\n",
       "  /* unfitted */\n",
       "  background-color: var(--sklearn-color-unfitted-level-2);\n",
       "}\n",
       "\n",
       "#sk-container-id-2 div.sk-estimator.fitted input.sk-toggleable__control:checked~label.sk-toggleable__label {\n",
       "  /* fitted */\n",
       "  background-color: var(--sklearn-color-fitted-level-2);\n",
       "}\n",
       "\n",
       "#sk-container-id-2 div.sk-label label.sk-toggleable__label,\n",
       "#sk-container-id-2 div.sk-label label {\n",
       "  /* The background is the default theme color */\n",
       "  color: var(--sklearn-color-text-on-default-background);\n",
       "}\n",
       "\n",
       "/* On hover, darken the color of the background */\n",
       "#sk-container-id-2 div.sk-label:hover label.sk-toggleable__label {\n",
       "  color: var(--sklearn-color-text);\n",
       "  background-color: var(--sklearn-color-unfitted-level-2);\n",
       "}\n",
       "\n",
       "/* Label box, darken color on hover, fitted */\n",
       "#sk-container-id-2 div.sk-label.fitted:hover label.sk-toggleable__label.fitted {\n",
       "  color: var(--sklearn-color-text);\n",
       "  background-color: var(--sklearn-color-fitted-level-2);\n",
       "}\n",
       "\n",
       "/* Estimator label */\n",
       "\n",
       "#sk-container-id-2 div.sk-label label {\n",
       "  font-family: monospace;\n",
       "  font-weight: bold;\n",
       "  display: inline-block;\n",
       "  line-height: 1.2em;\n",
       "}\n",
       "\n",
       "#sk-container-id-2 div.sk-label-container {\n",
       "  text-align: center;\n",
       "}\n",
       "\n",
       "/* Estimator-specific */\n",
       "#sk-container-id-2 div.sk-estimator {\n",
       "  font-family: monospace;\n",
       "  border: 1px dotted var(--sklearn-color-border-box);\n",
       "  border-radius: 0.25em;\n",
       "  box-sizing: border-box;\n",
       "  margin-bottom: 0.5em;\n",
       "  /* unfitted */\n",
       "  background-color: var(--sklearn-color-unfitted-level-0);\n",
       "}\n",
       "\n",
       "#sk-container-id-2 div.sk-estimator.fitted {\n",
       "  /* fitted */\n",
       "  background-color: var(--sklearn-color-fitted-level-0);\n",
       "}\n",
       "\n",
       "/* on hover */\n",
       "#sk-container-id-2 div.sk-estimator:hover {\n",
       "  /* unfitted */\n",
       "  background-color: var(--sklearn-color-unfitted-level-2);\n",
       "}\n",
       "\n",
       "#sk-container-id-2 div.sk-estimator.fitted:hover {\n",
       "  /* fitted */\n",
       "  background-color: var(--sklearn-color-fitted-level-2);\n",
       "}\n",
       "\n",
       "/* Specification for estimator info (e.g. \"i\" and \"?\") */\n",
       "\n",
       "/* Common style for \"i\" and \"?\" */\n",
       "\n",
       ".sk-estimator-doc-link,\n",
       "a:link.sk-estimator-doc-link,\n",
       "a:visited.sk-estimator-doc-link {\n",
       "  float: right;\n",
       "  font-size: smaller;\n",
       "  line-height: 1em;\n",
       "  font-family: monospace;\n",
       "  background-color: var(--sklearn-color-background);\n",
       "  border-radius: 1em;\n",
       "  height: 1em;\n",
       "  width: 1em;\n",
       "  text-decoration: none !important;\n",
       "  margin-left: 0.5em;\n",
       "  text-align: center;\n",
       "  /* unfitted */\n",
       "  border: var(--sklearn-color-unfitted-level-1) 1pt solid;\n",
       "  color: var(--sklearn-color-unfitted-level-1);\n",
       "}\n",
       "\n",
       ".sk-estimator-doc-link.fitted,\n",
       "a:link.sk-estimator-doc-link.fitted,\n",
       "a:visited.sk-estimator-doc-link.fitted {\n",
       "  /* fitted */\n",
       "  border: var(--sklearn-color-fitted-level-1) 1pt solid;\n",
       "  color: var(--sklearn-color-fitted-level-1);\n",
       "}\n",
       "\n",
       "/* On hover */\n",
       "div.sk-estimator:hover .sk-estimator-doc-link:hover,\n",
       ".sk-estimator-doc-link:hover,\n",
       "div.sk-label-container:hover .sk-estimator-doc-link:hover,\n",
       ".sk-estimator-doc-link:hover {\n",
       "  /* unfitted */\n",
       "  background-color: var(--sklearn-color-unfitted-level-3);\n",
       "  color: var(--sklearn-color-background);\n",
       "  text-decoration: none;\n",
       "}\n",
       "\n",
       "div.sk-estimator.fitted:hover .sk-estimator-doc-link.fitted:hover,\n",
       ".sk-estimator-doc-link.fitted:hover,\n",
       "div.sk-label-container:hover .sk-estimator-doc-link.fitted:hover,\n",
       ".sk-estimator-doc-link.fitted:hover {\n",
       "  /* fitted */\n",
       "  background-color: var(--sklearn-color-fitted-level-3);\n",
       "  color: var(--sklearn-color-background);\n",
       "  text-decoration: none;\n",
       "}\n",
       "\n",
       "/* Span, style for the box shown on hovering the info icon */\n",
       ".sk-estimator-doc-link span {\n",
       "  display: none;\n",
       "  z-index: 9999;\n",
       "  position: relative;\n",
       "  font-weight: normal;\n",
       "  right: .2ex;\n",
       "  padding: .5ex;\n",
       "  margin: .5ex;\n",
       "  width: min-content;\n",
       "  min-width: 20ex;\n",
       "  max-width: 50ex;\n",
       "  color: var(--sklearn-color-text);\n",
       "  box-shadow: 2pt 2pt 4pt #999;\n",
       "  /* unfitted */\n",
       "  background: var(--sklearn-color-unfitted-level-0);\n",
       "  border: .5pt solid var(--sklearn-color-unfitted-level-3);\n",
       "}\n",
       "\n",
       ".sk-estimator-doc-link.fitted span {\n",
       "  /* fitted */\n",
       "  background: var(--sklearn-color-fitted-level-0);\n",
       "  border: var(--sklearn-color-fitted-level-3);\n",
       "}\n",
       "\n",
       ".sk-estimator-doc-link:hover span {\n",
       "  display: block;\n",
       "}\n",
       "\n",
       "/* \"?\"-specific style due to the `<a>` HTML tag */\n",
       "\n",
       "#sk-container-id-2 a.estimator_doc_link {\n",
       "  float: right;\n",
       "  font-size: 1rem;\n",
       "  line-height: 1em;\n",
       "  font-family: monospace;\n",
       "  background-color: var(--sklearn-color-background);\n",
       "  border-radius: 1rem;\n",
       "  height: 1rem;\n",
       "  width: 1rem;\n",
       "  text-decoration: none;\n",
       "  /* unfitted */\n",
       "  color: var(--sklearn-color-unfitted-level-1);\n",
       "  border: var(--sklearn-color-unfitted-level-1) 1pt solid;\n",
       "}\n",
       "\n",
       "#sk-container-id-2 a.estimator_doc_link.fitted {\n",
       "  /* fitted */\n",
       "  border: var(--sklearn-color-fitted-level-1) 1pt solid;\n",
       "  color: var(--sklearn-color-fitted-level-1);\n",
       "}\n",
       "\n",
       "/* On hover */\n",
       "#sk-container-id-2 a.estimator_doc_link:hover {\n",
       "  /* unfitted */\n",
       "  background-color: var(--sklearn-color-unfitted-level-3);\n",
       "  color: var(--sklearn-color-background);\n",
       "  text-decoration: none;\n",
       "}\n",
       "\n",
       "#sk-container-id-2 a.estimator_doc_link.fitted:hover {\n",
       "  /* fitted */\n",
       "  background-color: var(--sklearn-color-fitted-level-3);\n",
       "}\n",
       "\n",
       ".estimator-table summary {\n",
       "    padding: .5rem;\n",
       "    font-family: monospace;\n",
       "    cursor: pointer;\n",
       "}\n",
       "\n",
       ".estimator-table details[open] {\n",
       "    padding-left: 0.1rem;\n",
       "    padding-right: 0.1rem;\n",
       "    padding-bottom: 0.3rem;\n",
       "}\n",
       "\n",
       ".estimator-table .parameters-table {\n",
       "    margin-left: auto !important;\n",
       "    margin-right: auto !important;\n",
       "}\n",
       "\n",
       ".estimator-table .parameters-table tr:nth-child(odd) {\n",
       "    background-color: #fff;\n",
       "}\n",
       "\n",
       ".estimator-table .parameters-table tr:nth-child(even) {\n",
       "    background-color: #f6f6f6;\n",
       "}\n",
       "\n",
       ".estimator-table .parameters-table tr:hover {\n",
       "    background-color: #e0e0e0;\n",
       "}\n",
       "\n",
       ".estimator-table table td {\n",
       "    border: 1px solid rgba(106, 105, 104, 0.232);\n",
       "}\n",
       "\n",
       ".user-set td {\n",
       "    color:rgb(255, 94, 0);\n",
       "    text-align: left;\n",
       "}\n",
       "\n",
       ".user-set td.value pre {\n",
       "    color:rgb(255, 94, 0) !important;\n",
       "    background-color: transparent !important;\n",
       "}\n",
       "\n",
       ".default td {\n",
       "    color: black;\n",
       "    text-align: left;\n",
       "}\n",
       "\n",
       ".user-set td i,\n",
       ".default td i {\n",
       "    color: black;\n",
       "}\n",
       "\n",
       ".copy-paste-icon {\n",
       "    background-image: url(data:image/svg+xml;base64,PHN2ZyB4bWxucz0iaHR0cDovL3d3dy53My5vcmcvMjAwMC9zdmciIHZpZXdCb3g9IjAgMCA0NDggNTEyIj48IS0tIUZvbnQgQXdlc29tZSBGcmVlIDYuNy4yIGJ5IEBmb250YXdlc29tZSAtIGh0dHBzOi8vZm9udGF3ZXNvbWUuY29tIExpY2Vuc2UgLSBodHRwczovL2ZvbnRhd2Vzb21lLmNvbS9saWNlbnNlL2ZyZWUgQ29weXJpZ2h0IDIwMjUgRm9udGljb25zLCBJbmMuLS0+PHBhdGggZD0iTTIwOCAwTDMzMi4xIDBjMTIuNyAwIDI0LjkgNS4xIDMzLjkgMTQuMWw2Ny45IDY3LjljOSA5IDE0LjEgMjEuMiAxNC4xIDMzLjlMNDQ4IDMzNmMwIDI2LjUtMjEuNSA0OC00OCA0OGwtMTkyIDBjLTI2LjUgMC00OC0yMS41LTQ4LTQ4bDAtMjg4YzAtMjYuNSAyMS41LTQ4IDQ4LTQ4ek00OCAxMjhsODAgMCAwIDY0LTY0IDAgMCAyNTYgMTkyIDAgMC0zMiA2NCAwIDAgNDhjMCAyNi41LTIxLjUgNDgtNDggNDhMNDggNTEyYy0yNi41IDAtNDgtMjEuNS00OC00OEwwIDE3NmMwLTI2LjUgMjEuNS00OCA0OC00OHoiLz48L3N2Zz4=);\n",
       "    background-repeat: no-repeat;\n",
       "    background-size: 14px 14px;\n",
       "    background-position: 0;\n",
       "    display: inline-block;\n",
       "    width: 14px;\n",
       "    height: 14px;\n",
       "    cursor: pointer;\n",
       "}\n",
       "</style><body><div id=\"sk-container-id-2\" class=\"sk-top-container\"><div class=\"sk-text-repr-fallback\"><pre>GLM(\n",
       "    observation_model=PoissonObservations(),\n",
       "    inverse_link_function=exp,\n",
       "    regularizer=UnRegularized(),\n",
       "    solver_name=&#x27;LBFGS&#x27;\n",
       ")</pre><b>In a Jupyter environment, please rerun this cell to show the HTML representation or trust the notebook. <br />On GitHub, the HTML representation is unable to render, please try loading this page with nbviewer.org.</b></div><div class=\"sk-container\" hidden><div class=\"sk-item\"><div class=\"sk-estimator fitted sk-toggleable\"><input class=\"sk-toggleable__control sk-hidden--visually\" id=\"sk-estimator-id-2\" type=\"checkbox\" checked><label for=\"sk-estimator-id-2\" class=\"sk-toggleable__label fitted sk-toggleable__label-arrow\"><div><div>GLM</div></div><div><span class=\"sk-estimator-doc-link fitted\">i<span>Fitted</span></span></div></label><div class=\"sk-toggleable__content fitted\" data-param-prefix=\"\">\n",
       "        <div class=\"estimator-table\">\n",
       "            <details>\n",
       "                <summary>Parameters</summary>\n",
       "                <table class=\"parameters-table\">\n",
       "                  <tbody>\n",
       "                    \n",
       "        <tr class=\"user-set\">\n",
       "            <td><i class=\"copy-paste-icon\"\n",
       "                 onclick=\"copyToClipboard('observation_model',\n",
       "                          this.parentElement.nextElementSibling)\"\n",
       "            ></i></td>\n",
       "            <td class=\"param\">observation_model&nbsp;</td>\n",
       "            <td class=\"value\">PoissonObservations()</td>\n",
       "        </tr>\n",
       "    \n",
       "\n",
       "        <tr class=\"user-set\">\n",
       "            <td><i class=\"copy-paste-icon\"\n",
       "                 onclick=\"copyToClipboard('inverse_link_function',\n",
       "                          this.parentElement.nextElementSibling)\"\n",
       "            ></i></td>\n",
       "            <td class=\"param\">inverse_link_function&nbsp;</td>\n",
       "            <td class=\"value\">&lt;PjitFunction...7f314b1b6520&gt;&gt;</td>\n",
       "        </tr>\n",
       "    \n",
       "\n",
       "        <tr class=\"user-set\">\n",
       "            <td><i class=\"copy-paste-icon\"\n",
       "                 onclick=\"copyToClipboard('regularizer',\n",
       "                          this.parentElement.nextElementSibling)\"\n",
       "            ></i></td>\n",
       "            <td class=\"param\">regularizer&nbsp;</td>\n",
       "            <td class=\"value\">UnRegularized()</td>\n",
       "        </tr>\n",
       "    \n",
       "\n",
       "        <tr class=\"default\">\n",
       "            <td><i class=\"copy-paste-icon\"\n",
       "                 onclick=\"copyToClipboard('regularizer_strength',\n",
       "                          this.parentElement.nextElementSibling)\"\n",
       "            ></i></td>\n",
       "            <td class=\"param\">regularizer_strength&nbsp;</td>\n",
       "            <td class=\"value\">None</td>\n",
       "        </tr>\n",
       "    \n",
       "\n",
       "        <tr class=\"user-set\">\n",
       "            <td><i class=\"copy-paste-icon\"\n",
       "                 onclick=\"copyToClipboard('solver_name',\n",
       "                          this.parentElement.nextElementSibling)\"\n",
       "            ></i></td>\n",
       "            <td class=\"param\">solver_name&nbsp;</td>\n",
       "            <td class=\"value\">&#x27;LBFGS&#x27;</td>\n",
       "        </tr>\n",
       "    \n",
       "\n",
       "        <tr class=\"user-set\">\n",
       "            <td><i class=\"copy-paste-icon\"\n",
       "                 onclick=\"copyToClipboard('solver_kwargs',\n",
       "                          this.parentElement.nextElementSibling)\"\n",
       "            ></i></td>\n",
       "            <td class=\"param\">solver_kwargs&nbsp;</td>\n",
       "            <td class=\"value\">{}</td>\n",
       "        </tr>\n",
       "    \n",
       "                  </tbody>\n",
       "                </table>\n",
       "            </details>\n",
       "        </div>\n",
       "    </div></div></div></div></div><script>function copyToClipboard(text, element) {\n",
       "    // Get the parameter prefix from the closest toggleable content\n",
       "    const toggleableContent = element.closest('.sk-toggleable__content');\n",
       "    const paramPrefix = toggleableContent ? toggleableContent.dataset.paramPrefix : '';\n",
       "    const fullParamName = paramPrefix ? `${paramPrefix}${text}` : text;\n",
       "\n",
       "    const originalStyle = element.style;\n",
       "    const computedStyle = window.getComputedStyle(element);\n",
       "    const originalWidth = computedStyle.width;\n",
       "    const originalHTML = element.innerHTML.replace('Copied!', '');\n",
       "\n",
       "    navigator.clipboard.writeText(fullParamName)\n",
       "        .then(() => {\n",
       "            element.style.width = originalWidth;\n",
       "            element.style.color = 'green';\n",
       "            element.innerHTML = \"Copied!\";\n",
       "\n",
       "            setTimeout(() => {\n",
       "                element.innerHTML = originalHTML;\n",
       "                element.style = originalStyle;\n",
       "            }, 2000);\n",
       "        })\n",
       "        .catch(err => {\n",
       "            console.error('Failed to copy:', err);\n",
       "            element.style.color = 'red';\n",
       "            element.innerHTML = \"Failed!\";\n",
       "            setTimeout(() => {\n",
       "                element.innerHTML = originalHTML;\n",
       "                element.style = originalStyle;\n",
       "            }, 2000);\n",
       "        });\n",
       "    return false;\n",
       "}\n",
       "\n",
       "document.querySelectorAll('.fa-regular.fa-copy').forEach(function(element) {\n",
       "    const toggleableContent = element.closest('.sk-toggleable__content');\n",
       "    const paramPrefix = toggleableContent ? toggleableContent.dataset.paramPrefix : '';\n",
       "    const paramName = element.parentElement.nextElementSibling.textContent.trim();\n",
       "    const fullParamName = paramPrefix ? `${paramPrefix}${paramName}` : paramName;\n",
       "\n",
       "    element.setAttribute('title', fullParamName);\n",
       "});\n",
       "</script></body>"
      ],
      "text/plain": [
       "GLM(\n",
       "    observation_model=PoissonObservations(),\n",
       "    inverse_link_function=exp,\n",
       "    regularizer=UnRegularized(),\n",
       "    solver_name='LBFGS'\n",
       ")"
      ]
     },
     "execution_count": 36,
     "metadata": {},
     "output_type": "execute_result"
    }
   ],
   "source": [
    "history_model = nmo.glm.GLM(solver_name=\"LBFGS\")\n",
    "history_model.fit(current_history, count)"
   ]
  },
  {
   "cell_type": "markdown",
   "id": "44209f4b",
   "metadata": {},
   "source": [
    "As before, we can examine our parameters, `coef_` and `intercept_`:"
   ]
  },
  {
   "cell_type": "code",
   "execution_count": 37,
   "id": "dd5b065b",
   "metadata": {
    "tags": [
     "render-all"
    ]
   },
   "outputs": [
    {
     "name": "stdout",
     "output_type": "stream",
     "text": [
      "firing_rate(t) = exp([ 0.04027621 -0.02217018  0.01149657  0.00196417 -0.00426648  0.00083277\n",
      "  0.00046627 -0.00039838] * current(t) + [-9.418567])\n"
     ]
    }
   ],
   "source": [
    "print(f\"firing_rate(t) = exp({history_model.coef_} * current(t) + {history_model.intercept_})\")"
   ]
  },
  {
   "cell_type": "markdown",
   "id": "3a8200d4",
   "metadata": {},
   "source": [
    "Notice the shape of these parameters:"
   ]
  },
  {
   "cell_type": "code",
   "execution_count": 38,
   "id": "97801186",
   "metadata": {},
   "outputs": [
    {
     "name": "stdout",
     "output_type": "stream",
     "text": [
      "(8,)\n",
      "(1,)\n"
     ]
    }
   ],
   "source": [
    "print(history_model.coef_.shape)\n",
    "print(history_model.intercept_.shape)"
   ]
  },
  {
   "cell_type": "markdown",
   "id": "dea8b15d",
   "metadata": {},
   "source": [
    "`coef_` has 8 values now, while `intercept_` still has one &mdash; why is that?\n",
    "Because we now have 8 features, but still only 1 neuron whose firing rate we're\n",
    "predicting.\n",
    "\n",
    "In addition to visualizing the model's predictions (which we'll do in a second),\n",
    "we can also examine the model's learned filter. Our earlier model was just\n",
    "learning a simple function linking the input current and the firing rate, but\n",
    "this model learns a filter, which gets convolved with the input before having\n",
    "the intercept added and being exponentiated to give us the predicted firing\n",
    "rate.\n",
    "\n",
    "<div class=\"render-user render-presenter\">\n",
    "\n",
    "- Visualize the current history model's learned filter.\n",
    "- This filter is convolved with the input current and used to predict the firing\n",
    "  rate.\n",
    "\n",
    "</div>"
   ]
  },
  {
   "cell_type": "code",
   "execution_count": 39,
   "id": "62374097",
   "metadata": {
    "tags": [
     "render-all"
    ]
   },
   "outputs": [
    {
     "data": {
      "image/png": "[encoded data removed]",
      "text/plain": [
       "<Figure size 2000x500 with 4 Axes>"
      ]
     },
     "metadata": {},
     "output_type": "display_data"
    }
   ],
   "source": [
    "workshop_utils.plot_basis_filter(basis, history_model)"
   ]
  },
  {
   "cell_type": "markdown",
   "id": "cd8da9b5",
   "metadata": {},
   "source": [
    "Let's re-examine our predicted firing rate and see how the new model does:\n",
    "\n",
    "<div class=\"render-user render-presenter\">\n",
    "\n",
    "  - compare the predicted firing rate to the data and the old model\n",
    "  - what do we see?\n",
    "</div>"
   ]
  },
  {
   "cell_type": "code",
   "execution_count": 40,
   "id": "920d0b12",
   "metadata": {
    "tags": [
     "render-all"
    ]
   },
   "outputs": [
    {
     "name": "stderr",
     "output_type": "stream",
     "text": [
      "/home/agent/workspace/rorse_ccn-software-sfn-2025_main/lib/python3.12/site-packages/pynapple/core/utils.py:198: UserWarning: Converting 'd' to numpy.array. The provided array was of type 'ArrayImpl'.\n",
      "  warnings.warn(\n"
     ]
    },
    {
     "data": {
      "image/png": "[encoded data removed]",
      "text/plain": [
       "<Figure size 700x700 with 5 Axes>"
      ]
     },
     "metadata": {},
     "output_type": "display_data"
    }
   ],
   "source": [
    "# all this code is the same as above\n",
    "history_pred_fr = history_model.predict(current_history)\n",
    "history_pred_fr = history_pred_fr / bin_size\n",
    "smooth_history_pred_fr = history_pred_fr.dropna().smooth(.05, size_factor=20)\n",
    "workshop_utils.current_injection_plot(current, spikes, firing_rate,\n",
    "                                      # compare against the old firing rate\n",
    "                                      smooth_history_pred_fr, smooth_predicted_fr)"
   ]
  },
  {
   "cell_type": "markdown",
   "id": "cdd50750",
   "metadata": {},
   "source": [
    "We can see that there are only some small changes here. Our new model maintains the\n",
    "two successes of the old one: firing rate increases with injected current and shows\n",
    "the observed periodicity. Our model has not improved the match between the firing rate\n",
    "in the first or second intervals, but it seems to do a better job of capturing the\n",
    "onset transience, especially in the third interval.\n",
    "\n",
    "We can similarly examine our mean firing rate:\n",
    "\n",
    "<div class=\"render-user render-presenter\">\n",
    "  - examine the predicted average firing rate and tuning curve\n",
    "  - what do we see?\n",
    "</div>"
   ]
  },
  {
   "cell_type": "code",
   "execution_count": 41,
   "id": "b41f8125",
   "metadata": {},
   "outputs": [
    {
     "name": "stdout",
     "output_type": "stream",
     "text": [
      "Observed mean firing rate: 1.4275517487508922 Hz\n",
      "Predicted mean firing rate (instantaneous current): 1.4306572675704956 Hz\n",
      "Predicted mean firing rate (current history): 1.5012256160535864 Hz\n"
     ]
    }
   ],
   "source": [
    "# compare observed mean firing rate with the history_model predicted one\n",
    "print(f\"Observed mean firing rate: {np.mean(count) / bin_size} Hz\")\n",
    "print(f\"Predicted mean firing rate (instantaneous current): {np.nanmean(predicted_fr)} Hz\")\n",
    "print(f\"Predicted mean firing rate (current history): {np.nanmean(smooth_history_pred_fr)} Hz\")"
   ]
  },
  {
   "cell_type": "markdown",
   "id": "b505cac2",
   "metadata": {},
   "source": [
    "And our tuning curves:"
   ]
  },
  {
   "cell_type": "code",
   "execution_count": 42,
   "id": "1941c763",
   "metadata": {
    "tags": [
     "render-all"
    ]
   },
   "outputs": [
    {
     "data": {
      "text/plain": [
       "<matplotlib.legend.Legend at 0x7f305c1eeae0>"
      ]
     },
     "execution_count": 42,
     "metadata": {},
     "output_type": "execute_result"
    },
    {
     "data": {
      "image/png": "[encoded data removed]",
      "text/plain": [
       "<Figure size 640x480 with 1 Axes>"
      ]
     },
     "metadata": {},
     "output_type": "display_data"
    }
   ],
   "source": [
    "# Visualize tuning curve\n",
    "tuning_curve_history_model = nap.compute_tuning_curves(smooth_history_pred_fr, current, bins=15, feature_names=[\"current\"])\n",
    "fig = doc_plots.tuning_curve_plot(tuning_curve)\n",
    "tuning_curve_history_model.plot(color=\"tomato\", label=\"glm (current history)\")\n",
    "tuning_curve_model.plot(color=\"tomato\", linestyle='--', label=\"glm (instantaneous current)\")\n",
    "fig.axes[0].legend()"
   ]
  },
  {
   "cell_type": "markdown",
   "id": "03b9e739",
   "metadata": {},
   "source": [
    "This new model is doing a comparable job matching the mean firing rate. Looking\n",
    "at the tuning curve, it looks like this model does a better job at a lot of\n",
    "firing rate levels, but its maximum firing rate is far too low and it's not\n",
    "clear if the tuning curve has leveled off.\n",
    "\n",
    "Comparing the two models by examining their predictions is important, but you may also\n",
    "want a number with which to evaluate and compare your models' performance. As\n",
    "discussed earlier, the GLM optimizes log-likelihood to find the best-fitting\n",
    "weights, and we can calculate this number using its `score` method:\n",
    "\n",
    "<div class=\"render-user render-presenter\">\n",
    "  - use log-likelihood to compare models\n",
    "</div>"
   ]
  },
  {
   "cell_type": "code",
   "execution_count": 43,
   "id": "3b924e8c",
   "metadata": {},
   "outputs": [
    {
     "name": "stdout",
     "output_type": "stream",
     "text": [
      "log-likelihood (instantaneous current): -0.00793992169201374\n"
     ]
    },
    {
     "name": "stdout",
     "output_type": "stream",
     "text": [
      "log-likelihood (current history): -0.0076053449884057045\n"
     ]
    }
   ],
   "source": [
    "log_likelihood = model.score(predictor, count, score_type=\"log-likelihood\")\n",
    "print(f\"log-likelihood (instantaneous current): {log_likelihood}\")\n",
    "log_likelihood = history_model.score(current_history, count, score_type=\"log-likelihood\")\n",
    "print(f\"log-likelihood (current history): {log_likelihood}\")"
   ]
  },
  {
   "cell_type": "markdown",
   "id": "946fe91b",
   "metadata": {},
   "source": [
    "This log-likelihood is un-normalized and thus doesn't mean that much by\n",
    "itself, other than \"higher=better\". When comparing alternative GLMs fit on\n",
    "the same dataset, whether that's models using different regularizers and\n",
    "solvers or those using different predictors, comparing log-likelihoods is a\n",
    "reasonable thing to do.\n",
    "\n",
    ":::{note}\n",
    "\n",
    "Under the hood, NeMoS is minimizing the negative log-likelihood, as is\n",
    "typical in many optimization contexts. `score` returns the real\n",
    "log-likelihood, however, and thus higher is better.\n",
    "\n",
    ":::\n",
    "\n",
    "Thus, we can see that, judging by the log-likelihood, the addition of the\n",
    "current history to the model makes the model slightly better. We have also\n",
    "increased the number of parameters, which can make you more susceptible to\n",
    "overfitting and so, while the difference is small here, it's possible that\n",
    "including the extra parameters has made us more sensitive to noise. To properly\n",
    "investigate whether that's the case, one should split the dataset into test and\n",
    "train sets, training the model on one subset of the data and testing it on\n",
    "another to test the model's generalizability. We'll see a simple version of this\n",
    "in the [next notebook](./head_direction.md), and a more streamlined version,\n",
    "using `scikit-learn`'s pipelining and cross-validation machinery, will be shown\n",
    "in the [final notebook](./place_cells_part_2).\n",
    "\n",
    "(current-inj-score)=\n",
    "### Finishing up\n",
    "\n",
    "Note that, because the log-likelihood is un-normalized, it should not be compared\n",
    "across datasets (because e.g., it won't account for difference in noise levels). We\n",
    "provide the ability to compute the pseudo-$R^2$ for this purpose:\n",
    "\n",
    "<div class=\"render-user render-presenter\">\n",
    "  - what if you want to compare models across datasets?\n",
    "</div>"
   ]
  },
  {
   "cell_type": "code",
   "execution_count": 44,
   "id": "9c0e9450",
   "metadata": {},
   "outputs": [
    {
     "name": "stdout",
     "output_type": "stream",
     "text": [
      "pseudo-r2 (instantaneous current): 0.30376628041267395\n",
      "pseudo-r2 (current history): 0.3446250259876251\n"
     ]
    }
   ],
   "source": [
    "r2 = model.score(predictor, count, score_type='pseudo-r2-Cohen')\n",
    "print(f\"pseudo-r2 (instantaneous current): {r2}\")\n",
    "r2 = history_model.score(current_history, count, score_type='pseudo-r2-Cohen')\n",
    "print(f\"pseudo-r2 (current history): {r2}\")"
   ]
  },
  {
   "cell_type": "markdown",
   "id": "d22f01c1",
   "metadata": {},
   "source": [
    "## Further Exercises \n",
    "\n",
    "Despite the simplicity of this dataset, there is still more that we can do\n",
    "here. The following sections provide some possible exercises to try yourself!\n",
    "\n",
    "<div class=\"render-user render-presenter\">\n",
    "- what else can we do?\n",
    "</div>\n",
    "\n",
    "**Other stimulation protocols**\n",
    "\n",
    "We've only fit the model to a single stimulation protocol, but our dataset\n",
    "contains many more! How does the model perform on \"Ramp\"? On \"Noise 2\"? Based\n",
    "on the example code above, write new code that fits the model on some other\n",
    "stimulation protocol and evaluate its performance. Which stimulation does it\n",
    "perform best on? Which is the worst?\n",
    "\n",
    "**Train and test sets**\n",
    "\n",
    "In this example, we've used been fitting and evaluating our model on the same\n",
    "data set. That's generally a bad idea! Try splitting the data in to train and\n",
    "test sets, fitting the model to one portion of the data and evaluating on\n",
    "another portion. You could split this stimulation protocol into train and\n",
    "test sets or use different protocols to train and test on.\n",
    "\n",
    "**Model extensions**\n",
    "\n",
    "Our model did not do a good job capturing the onset transience seen in the\n",
    "data, and we could probably improve the match between the amplitudes of the\n",
    "predicted firing rate and smoothed spike train. How would we do that?\n",
    "\n",
    "We could try adding the following inputs to the model, alone or together:\n",
    "\n",
    "- Tinkering with the current history: we tried adding the current history to the\n",
    "  model, but we only investigated one set of choices with the basis functions. What if\n",
    "  we tried changing the duration of time we considered\n",
    "  (`current_history_duration_sec`)? Different numbers of basis functions? A different\n",
    "  choice for the `Basis` object altogether? What effects would these have on our model?\n",
    "\n",
    "- Spiking history: we know neurons have a refactory period (they are unable to spike a\n",
    "  second time immediately after spiking), so maybe making the model aware of whether\n",
    "  the neuron spiked recently could help better capture the onset transience.\n",
    "\n",
    "- More complicated tuning curve: as we saw with the tuning curve plots, neither\n",
    "  model explored here quite accurately captures the relationship between the\n",
    "  current and the firing rate. Can we improve that somehow? We saw that adding\n",
    "  the current history changed this relationship, but we can also change it\n",
    "  without including the history by using an `Eval` basis object. We'll see how\n",
    "  to do this in more detail in the [final notebook](./place_cells_part_2)\n",
    "\n",
    "<div class=\"render-all\">\n",
    "\n",
    "### Data citation\n",
    "\n",
    "The data used in this tutorial is from the **Allen Brain Map**, with the [following citation](https://knowledge.brain-map.org/data/1HEYEW7GMUKWIQW37BO/summary):\n",
    "\n",
    "**Contributors:** Agata Budzillo, Bosiljka Tasic, Brian R. Lee, Fahimeh Baftizadeh, Gabe Murphy, Hongkui Zeng, Jim Berg, Nathan Gouwens, Rachel Dalley, Staci A. Sorensen, Tim Jarsky, Uygar Sümbül Zizhen Yao\n",
    "\n",
    "**Dataset:** Allen Institute for Brain Science (2020). Allen Cell Types Database -- Mouse Patch-seq [dataset]. Available from brain-map.org/explore/classes/multimodal-characterization.\n",
    "\n",
    "**Primary publication:** Gouwens, N.W., Sorensen, S.A., et al. (2020). Integrated morphoelectric and transcriptomic classification of cortical GABAergic cells. Cell, 183(4), 935-953.E19. https://doi.org/10.1016/j.cell.2020.09.057\n",
    "\n",
    "**Patch-seq protocol:** Lee, B. R., Budzillo, A., et al. (2021). Scaled, high fidelity electrophysiological, morphological, and transcriptomic cell characterization. eLife, 2021;10:e65482. https://doi.org/10.7554/eLife.65482\n",
    "\n",
    "**Mouse VISp L2/3 glutamatergic neurons:** Berg, J., Sorensen, S. A., Miller, J., Ting, J., et al. (2021) Human neocortical expansion involves glutamatergic neuron diversification. Nature, 598(7879):151-158. doi: 10.1038/s41586-021-03813-8\n",
    "\n",
    "</div>"
   ]
  }
 ],
 "metadata": {
  "jupytext": {
   "text_representation": {
    "extension": ".md",
    "format_name": "myst",
    "format_version": 0.13,
    "jupytext_version": "1.18.1"
   }
  },
  "kernelspec": {
   "display_name": "Python 3 (ipykernel)",
   "language": "python",
   "name": "python3"
  },
  "language_info": {
   "codemirror_mode": {
    "name": "ipython",
    "version": 3
   },
   "file_extension": ".py",
   "mimetype": "text/x-python",
   "name": "python",
   "nbconvert_exporter": "python",
   "pygments_lexer": "ipython3",
   "version": "3.12.3"
  },
  "source_map": [
   14,
   41,
   101,
   118,
   148,
   152,
   165,
   170,
   189,
   196,
   200,
   204,
   214,
   219,
   230,
   235,
   243,
   247,
   264,
   272,
   285,
   289,
   302,
   306,
   316,
   322,
   331,
   339,
   393,
   401,
   413,
   422,
   426,
   430,
   442,
   446,
   486,
   491,
   503,
   507,
   568,
   577,
   592,
   598,
   685,
   689,
   700,
   702,
   708,
   710,
   716,
   719,
   733,
   748,
   777,
   781,
   795,
   802,
   840,
   844,
   852,
   856,
   878,
   882,
   913,
   917,
   943,
   947,
   961,
   969,
   1000,
   1003,
   1007,
   1011,
   1015,
   1018,
   1039,
   1043,
   1053,
   1063,
   1078,
   1083,
   1087,
   1096,
   1112,
   1117,
   1156,
   1161
  ]
 },
 "nbformat": 4,
 "nbformat_minor": 5
}