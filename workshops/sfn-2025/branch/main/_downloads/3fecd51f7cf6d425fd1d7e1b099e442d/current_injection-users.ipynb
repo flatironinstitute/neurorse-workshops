{
 "cells": [
  {
   "cell_type": "code",
   "execution_count": null,
   "id": "17911750",
   "metadata": {
    "tags": [
     "hide-input",
     "render-all"
    ]
   },
   "outputs": [],
   "source": [
    "%matplotlib inline\n",
    "%load_ext autoreload\n",
    "%autoreload 2\n",
    "import warnings\n",
    "\n",
    "warnings.filterwarnings(\n",
    "    \"ignore\",\n",
    "    message=\"plotting functions contained within `_documentation_utils` are intended for nemos's documentation.\",\n",
    "    category=UserWarning,\n",
    ")\n",
    "\n",
    "warnings.filterwarnings(\n",
    "    \"ignore\",\n",
    "    message=\"Ignoring cached namespace 'core'\",\n",
    "    category=UserWarning,\n",
    ")\n",
    "\n",
    "warnings.filterwarnings(\n",
    "    \"ignore\",\n",
    "    message=(\n",
    "        \"invalid value encountered in div \"\n",
    "    ),\n",
    "    category=RuntimeWarning,\n",
    ")"
   ]
  },
  {
   "cell_type": "markdown",
   "id": "84385410",
   "metadata": {},
   "source": [
    ":::{admonition} Download\n",
    ":class: important render-all\n",
    "\n",
    "This notebook can be downloaded as **{nb-download}`current_injection-users.ipynb`**. See the button at the top right to download as markdown or pdf.\n",
    ":::\n",
    "# Introduction to GLM\n",
    "This notebook has had all its explanatory text removed and has not been run.\n",
    " It is intended to be downloaded and run locally (or on the provided binder)\n",
    " while listening to the presenter's explanation. In order to see the fully\n",
    " rendered of this notebook, go [here](../../full/day2/current_injection.md)\n",
    "\n",
    "Data for this notebook is a patch clamp experiment with a mouse V1 neuron, from the [Allen Brain Atlas](https://celltypes.brain-map.org/experiment/electrophysiology/478498617)\n",
    "\n",
    "\n",
    "\n",
    "![Allen Brain Atlas view of the data we will analyze.](../../_static/allen_data.png)\n",
    "\n",
    "\n",
    "\n",
    "\n",
    "## Learning objectives \n",
    "\n",
    "- Learn how to explore spiking data and do basic analyses using pynapple\n",
    "- Learn how to structure data for NeMoS\n",
    "- Learn how to fit a basic Generalized Linear Model using NeMoS\n",
    "- Learn how to retrieve the parameters and predictions from a fit GLM for\n",
    "  intrepetation."
   ]
  },
  {
   "cell_type": "code",
   "execution_count": null,
   "id": "5b9fae6e",
   "metadata": {
    "tags": [
     "render-all"
    ]
   },
   "outputs": [],
   "source": [
    "# Import everything\n",
    "import jax\n",
    "import matplotlib.pyplot as plt\n",
    "import numpy as np\n",
    "import pynapple as nap\n",
    "\n",
    "import nemos as nmo\n",
    "\n",
    "# some helper plotting functions\n",
    "from nemos import _documentation_utils as doc_plots\n",
    "import workshop_utils\n",
    "\n",
    "# configure plots some\n",
    "plt.style.use(nmo.styles.plot_style)"
   ]
  },
  {
   "cell_type": "markdown",
   "id": "1245fcdb",
   "metadata": {},
   "source": [
    "## Data Streaming\n",
    "\n",
    "- Stream the data. Format is [Neurodata Without Borders (NWB) standard](https://nwb-overview.readthedocs.io/en/latest/)"
   ]
  },
  {
   "cell_type": "code",
   "execution_count": null,
   "id": "494910a5",
   "metadata": {
    "tags": [
     "render-all"
    ]
   },
   "outputs": [],
   "source": [
    "path = workshop_utils.fetch_data(\"allen_478498617.nwb\")"
   ]
  },
  {
   "cell_type": "markdown",
   "id": "7c324cde",
   "metadata": {},
   "source": [
    "## Pynapple\n",
    "### Data structures and preparation\n",
    "\n",
    "- Open the NWB file with [pynapple](https://pynapple.org)"
   ]
  },
  {
   "cell_type": "code",
   "execution_count": null,
   "id": "73b80b8b",
   "metadata": {
    "tags": [
     "render-all"
    ]
   },
   "outputs": [],
   "source": [
    "data = nap.load_file(path)\n",
    "print(data)"
   ]
  },
  {
   "cell_type": "markdown",
   "id": "fba7ae19",
   "metadata": {},
   "source": [
    "![Annotated view of the data we will analyze.](../../_static/allen_data_annotated.gif)\n",
    "<!-- this gif created with the following imagemagick command: convert -layers OptimizePlus -delay 100 allen_data_annotated-units.svg allen_data_annotated-epochs.svg allen_data_annotated-stimulus.svg allen_data_annotated-response.svg -loop 0 allen_data_annotated.gif -->\n",
    "\n",
    "- `stimulus`: injected current, in Amperes, sampled at 20k Hz.\n",
    "- `response`: the neuron's intracellular voltage, sampled at 20k Hz. We will not use this info in this example.\n",
    "- `units`: dictionary of neurons, holding each neuron's spike timestamps.\n",
    "- `epochs`: start and end times of different intervals, defining the experimental structure, specifying when each stimulation protocol began and ended."
   ]
  },
  {
   "cell_type": "code",
   "execution_count": null,
   "id": "de975dc9",
   "metadata": {
    "tags": [
     "render-all"
    ]
   },
   "outputs": [],
   "source": [
    "trial_interval_set = data[\"epochs\"]\n",
    "\n",
    "current = data[\"stimulus\"]\n",
    "spikes = data[\"units\"]"
   ]
  },
  {
   "cell_type": "code",
   "execution_count": null,
   "id": "c9b08ed8",
   "metadata": {
    "tags": [
     "render-all"
    ]
   },
   "outputs": [],
   "source": [
    "trial_interval_set"
   ]
  },
  {
   "cell_type": "markdown",
   "id": "0098fbcf",
   "metadata": {},
   "source": [
    "- `Noise 1`: epochs of random noise"
   ]
  },
  {
   "cell_type": "code",
   "execution_count": null,
   "id": "6f3897be",
   "metadata": {
    "tags": [
     "render-all"
    ]
   },
   "outputs": [],
   "source": [
    "noise_interval = trial_interval_set[trial_interval_set.tags == \"Noise 1\"]\n",
    "noise_interval"
   ]
  },
  {
   "cell_type": "markdown",
   "id": "7f47cc70",
   "metadata": {},
   "source": [
    "- Let's focus on the first epoch."
   ]
  },
  {
   "cell_type": "code",
   "execution_count": null,
   "id": "41f720e5",
   "metadata": {
    "tags": [
     "render-all"
    ]
   },
   "outputs": [],
   "source": [
    "noise_interval = noise_interval[0]\n",
    "noise_interval"
   ]
  },
  {
   "cell_type": "markdown",
   "id": "c0b15631",
   "metadata": {},
   "source": [
    "- `current` : Tsd (TimeSeriesData) : time index + data"
   ]
  },
  {
   "cell_type": "code",
   "execution_count": null,
   "id": "4a2509c5",
   "metadata": {
    "tags": [
     "render-all"
    ]
   },
   "outputs": [],
   "source": [
    "current"
   ]
  },
  {
   "cell_type": "markdown",
   "id": "034ae72d",
   "metadata": {},
   "source": [
    "- `restrict` : restricts a time series object to a set of time intervals delimited by an IntervalSet object"
   ]
  },
  {
   "cell_type": "code",
   "execution_count": null,
   "id": "b4a82fb1",
   "metadata": {
    "tags": [
     "render-all"
    ]
   },
   "outputs": [],
   "source": [
    "current = current.restrict(noise_interval)\n",
    "# convert current from Ampere to pico-amperes, to match the above visualization\n",
    "# and move the values to a more reasonable range.\n",
    "current = current * 1e12\n",
    "current"
   ]
  },
  {
   "cell_type": "markdown",
   "id": "bf5ad00e",
   "metadata": {},
   "source": [
    "- `TsGroup` : a dictionary-like object holding multiple `Ts` (timeseries) objects with potentially different time indices."
   ]
  },
  {
   "cell_type": "code",
   "execution_count": null,
   "id": "53f6a6e9",
   "metadata": {
    "tags": [
     "render-all"
    ]
   },
   "outputs": [],
   "source": [
    "spikes"
   ]
  },
  {
   "cell_type": "markdown",
   "id": "8a9fda7c",
   "metadata": {},
   "source": [
    "We can index into the `TsGroup` to see the timestamps for this neuron's spikes:"
   ]
  },
  {
   "cell_type": "code",
   "execution_count": null,
   "id": "9cec1e2f",
   "metadata": {
    "tags": [
     "render-all"
    ]
   },
   "outputs": [],
   "source": [
    "spikes[0]"
   ]
  },
  {
   "cell_type": "markdown",
   "id": "22691e44",
   "metadata": {},
   "source": [
    "Let's restrict to the same epoch `noise_interval`:"
   ]
  },
  {
   "cell_type": "code",
   "execution_count": null,
   "id": "f4316241",
   "metadata": {
    "tags": [
     "render-all"
    ]
   },
   "outputs": [],
   "source": [
    "spikes = spikes.restrict(noise_interval)\n",
    "print(spikes)\n",
    "spikes[0]"
   ]
  },
  {
   "cell_type": "markdown",
   "id": "382dd9f4",
   "metadata": {},
   "source": [
    "Let's visualize the data from this trial:"
   ]
  },
  {
   "cell_type": "code",
   "execution_count": null,
   "id": "dbdeb6c1",
   "metadata": {
    "tags": [
     "render-all"
    ]
   },
   "outputs": [],
   "source": [
    "fig, ax = plt.subplots(1, 1, figsize=(8, 2))\n",
    "ax.plot(current, \"grey\")\n",
    "ax.plot(spikes.to_tsd([-5]), \"|\", color=\"k\", ms = 10)\n",
    "ax.set_ylabel(\"Current (pA)\")\n",
    "ax.set_xlabel(\"Time (s)\")"
   ]
  },
  {
   "cell_type": "markdown",
   "id": "f6d6da35",
   "metadata": {},
   "source": [
    "### Basic analyses\n",
    "\n",
    "The Generalized Linear Model gives a predicted firing rate. First we can use pynapple to visualize this firing rate for a single trial.\n",
    "\n",
    "- `count` : count the number of events within `bin_size`"
   ]
  },
  {
   "cell_type": "code",
   "execution_count": null,
   "id": "a212dc2f",
   "metadata": {
    "tags": [
     "render-all"
    ]
   },
   "outputs": [],
   "source": [
    "# bin size in seconds\n",
    "bin_size = 0.001\n",
    "# Get spikes for neuron 0\n",
    "count = spikes[0].count(bin_size)\n",
    "count"
   ]
  },
  {
   "cell_type": "markdown",
   "id": "eae73a23",
   "metadata": {},
   "source": [
    "Let's convert the spike counts to firing rate :\n",
    "\n",
    "- `smooth` : convolve with a Gaussian kernel"
   ]
  },
  {
   "cell_type": "code",
   "execution_count": null,
   "id": "f1084771",
   "metadata": {
    "tags": [
     "render-all"
    ]
   },
   "outputs": [],
   "source": [
    "# the inputs to this function are the standard deviation of the gaussian in seconds and\n",
    "# the full width of the window, in standard deviations. So std=.05 and size_factor=20\n",
    "# gives a total filter size of 0.05 sec * 20 = 1 sec.\n",
    "firing_rate = count.smooth(std=0.05, size_factor=20)\n",
    "# convert from spikes per bin to spikes per second (Hz)\n",
    "firing_rate = firing_rate / bin_size"
   ]
  },
  {
   "cell_type": "code",
   "execution_count": null,
   "id": "a41c0496",
   "metadata": {
    "tags": [
     "render-all"
    ]
   },
   "outputs": [],
   "source": [
    "print(type(firing_rate))"
   ]
  },
  {
   "cell_type": "code",
   "execution_count": null,
   "id": "3a6e277b",
   "metadata": {
    "tags": [
     "render-all"
    ]
   },
   "outputs": [],
   "source": [
    "doc_plots.current_injection_plot(current, spikes, firing_rate);"
   ]
  },
  {
   "cell_type": "markdown",
   "id": "4ef7556b",
   "metadata": {},
   "source": [
    "What is the relationship between the current and the spiking activity?\n",
    "[`compute_tuning_curves`](https://pynapple.org/generated/pynapple.process.tuning_curves.html#pynapple.process.tuning_curves.compute_tuning_curves) : compute the firing rate as a function of some feature(s)."
   ]
  },
  {
   "cell_type": "code",
   "execution_count": null,
   "id": "60363ffe",
   "metadata": {
    "tags": [
     "render-all"
    ]
   },
   "outputs": [],
   "source": [
    "tuning_curve = nap.compute_tuning_curves(spikes, current, bins=15, feature_names=[\"current\"])\n",
    "tuning_curve"
   ]
  },
  {
   "cell_type": "markdown",
   "id": "fcf69358",
   "metadata": {},
   "source": [
    "Let's plot the tuning curve of the neuron."
   ]
  },
  {
   "cell_type": "code",
   "execution_count": null,
   "id": "a39607e9",
   "metadata": {
    "tags": [
     "render-all"
    ]
   },
   "outputs": [],
   "source": [
    "doc_plots.tuning_curve_plot(tuning_curve);"
   ]
  },
  {
   "cell_type": "markdown",
   "id": "b079d842",
   "metadata": {},
   "source": [
    "## NeMoS \n",
    "### Preparing data\n",
    "\n",
    "Get data from pynapple to NeMoS-ready format:\n",
    "\n",
    "- predictors and spikes must have same number of time points"
   ]
  },
  {
   "cell_type": "code",
   "execution_count": null,
   "id": "a4eacf65",
   "metadata": {},
   "outputs": [],
   "source": [
    "# enter code here"
   ]
  },
  {
   "cell_type": "markdown",
   "id": "219baf7f",
   "metadata": {},
   "source": [
    "- predictors must be 2d, spikes 1d"
   ]
  },
  {
   "cell_type": "code",
   "execution_count": null,
   "id": "00d36a10",
   "metadata": {},
   "outputs": [],
   "source": [
    "# enter code here"
   ]
  },
  {
   "cell_type": "markdown",
   "id": "4d3d74da",
   "metadata": {},
   "source": [
    "### Fitting the model\n",
    "\n",
    "- GLM objects need regularizers and observation models"
   ]
  },
  {
   "cell_type": "code",
   "execution_count": null,
   "id": "51e1289d",
   "metadata": {},
   "outputs": [],
   "source": [
    "# enter code here"
   ]
  },
  {
   "cell_type": "markdown",
   "id": "4e7c4ec9",
   "metadata": {},
   "source": [
    "- call fit and retrieve parameters"
   ]
  },
  {
   "cell_type": "code",
   "execution_count": null,
   "id": "d70f59a5",
   "metadata": {},
   "outputs": [],
   "source": [
    "# enter code here"
   ]
  },
  {
   "cell_type": "markdown",
   "id": "e987f468",
   "metadata": {},
   "source": [
    "- generate and examine model predictions."
   ]
  },
  {
   "cell_type": "code",
   "execution_count": null,
   "id": "9fe78bd7",
   "metadata": {},
   "outputs": [],
   "source": [
    "# enter code here"
   ]
  },
  {
   "cell_type": "markdown",
   "id": "39026cd3",
   "metadata": {},
   "source": [
    "- what do we see?"
   ]
  },
  {
   "cell_type": "code",
   "execution_count": null,
   "id": "a64d7b30",
   "metadata": {},
   "outputs": [],
   "source": [
    "# enter code here"
   ]
  },
  {
   "cell_type": "markdown",
   "id": "b4753695",
   "metadata": {},
   "source": [
    "- examine tuning curve &mdash; what do we see?"
   ]
  },
  {
   "cell_type": "code",
   "execution_count": null,
   "id": "03faf50b",
   "metadata": {},
   "outputs": [],
   "source": [
    "# enter code here"
   ]
  },
  {
   "cell_type": "markdown",
   "id": "75a96336",
   "metadata": {},
   "source": [
    "### Extending the model to use injection history\n",
    "\n",
    "  - choose a length of time over which the neuron integrates the input current"
   ]
  },
  {
   "cell_type": "code",
   "execution_count": null,
   "id": "47e13beb",
   "metadata": {},
   "outputs": [],
   "source": [
    "# enter code here"
   ]
  },
  {
   "cell_type": "code",
   "execution_count": null,
   "id": "9fdd163c",
   "metadata": {
    "tags": [
     "render-all"
    ]
   },
   "outputs": [],
   "source": [
    "doc_plots.plot_basis();"
   ]
  },
  {
   "cell_type": "markdown",
   "id": "78c2bd43",
   "metadata": {},
   "source": [
    "  - define a basis object"
   ]
  },
  {
   "cell_type": "code",
   "execution_count": null,
   "id": "53b70229",
   "metadata": {},
   "outputs": [],
   "source": [
    "# enter code here"
   ]
  },
  {
   "cell_type": "markdown",
   "id": "9ff9d9aa",
   "metadata": {},
   "source": [
    "  - create the design matrix\n",
    "  - examine the features it contains"
   ]
  },
  {
   "cell_type": "code",
   "execution_count": null,
   "id": "71e7ad0a",
   "metadata": {},
   "outputs": [],
   "source": [
    "# enter code here"
   ]
  },
  {
   "cell_type": "code",
   "execution_count": null,
   "id": "f663d2ae",
   "metadata": {
    "tags": [
     "render-all"
    ]
   },
   "outputs": [],
   "source": [
    "# in this plot, we're normalizing the amplitudes to make the comparison easier --\n",
    "# the amplitude of these features will be fit by the model, so their un-scaled\n",
    "# amplitudes is not informative\n",
    "workshop_utils.plot_current_history_features(binned_current, current_history, basis,\n",
    "                                             current_history_duration_sec)"
   ]
  },
  {
   "cell_type": "markdown",
   "id": "93ec9300",
   "metadata": {},
   "source": [
    "  - create and fit the GLM\n",
    "  - examine the parameters"
   ]
  },
  {
   "cell_type": "code",
   "execution_count": null,
   "id": "060bffaa",
   "metadata": {},
   "outputs": [],
   "source": [
    "# enter code here"
   ]
  },
  {
   "cell_type": "code",
   "execution_count": null,
   "id": "e23cfb8e",
   "metadata": {
    "tags": [
     "render-all"
    ]
   },
   "outputs": [],
   "source": [
    "print(f\"firing_rate(t) = exp({history_model.coef_} * current(t) + {history_model.intercept_})\")"
   ]
  },
  {
   "cell_type": "markdown",
   "id": "deb50d4b",
   "metadata": {},
   "source": [
    "- Visualize the current history model's learned filter.\n",
    "- This filter is convolved with the input current and used to predict the firing\n",
    "  rate."
   ]
  },
  {
   "cell_type": "code",
   "execution_count": null,
   "id": "e8096945",
   "metadata": {
    "tags": [
     "render-all"
    ]
   },
   "outputs": [],
   "source": [
    "workshop_utils.plot_basis_filter(basis, history_model)"
   ]
  },
  {
   "cell_type": "markdown",
   "id": "da87ebb2",
   "metadata": {},
   "source": [
    "  - compare the predicted firing rate to the data and the old model\n",
    "  - what do we see?"
   ]
  },
  {
   "cell_type": "code",
   "execution_count": null,
   "id": "f7eae6a7",
   "metadata": {
    "tags": [
     "render-all"
    ]
   },
   "outputs": [],
   "source": [
    "# all this code is the same as above\n",
    "history_pred_fr = history_model.predict(current_history)\n",
    "history_pred_fr = history_pred_fr / bin_size\n",
    "smooth_history_pred_fr = history_pred_fr.dropna().smooth(.05, size_factor=20)\n",
    "workshop_utils.current_injection_plot(current, spikes, firing_rate,\n",
    "                                      # compare against the old firing rate\n",
    "                                      smooth_history_pred_fr, smooth_predicted_fr)"
   ]
  },
  {
   "cell_type": "markdown",
   "id": "52b0b20c",
   "metadata": {},
   "source": [
    "  - examine the predicted average firing rate and tuning curve\n",
    "  - what do we see?"
   ]
  },
  {
   "cell_type": "code",
   "execution_count": null,
   "id": "e139b79d",
   "metadata": {},
   "outputs": [],
   "source": [
    "# enter code here"
   ]
  },
  {
   "cell_type": "code",
   "execution_count": null,
   "id": "bb50c1ea",
   "metadata": {
    "tags": [
     "render-all"
    ]
   },
   "outputs": [],
   "source": [
    "# Visualize tuning curve\n",
    "tuning_curve_history_model = nap.compute_tuning_curves(smooth_history_pred_fr, current, bins=15, feature_names=[\"current\"])\n",
    "fig = doc_plots.tuning_curve_plot(tuning_curve)\n",
    "tuning_curve_history_model.plot(color=\"tomato\", label=\"glm (current history)\")\n",
    "tuning_curve_model.plot(color=\"tomato\", linestyle='--', label=\"glm (instantaneous current)\")\n",
    "fig.axes[0].legend()"
   ]
  },
  {
   "cell_type": "markdown",
   "id": "3efa6b94",
   "metadata": {},
   "source": [
    "  - use log-likelihood to compare models"
   ]
  },
  {
   "cell_type": "code",
   "execution_count": null,
   "id": "42136a1d",
   "metadata": {},
   "outputs": [],
   "source": [
    "# enter code here"
   ]
  },
  {
   "cell_type": "markdown",
   "id": "940732f3",
   "metadata": {},
   "source": [
    "### Finishing up\n",
    "\n",
    "  - what if you want to compare models across datasets?"
   ]
  },
  {
   "cell_type": "code",
   "execution_count": null,
   "id": "ad835653",
   "metadata": {},
   "outputs": [],
   "source": [
    "# enter code here"
   ]
  },
  {
   "cell_type": "markdown",
   "id": "f5333533",
   "metadata": {},
   "source": [
    "## Further Exercises \n",
    "\n",
    "- what else can we do?\n",
    "\n",
    "\n",
    "\n",
    "### Data citation\n",
    "\n",
    "The data used in this tutorial is from the **Allen Brain Map**, with the [following citation](https://knowledge.brain-map.org/data/1HEYEW7GMUKWIQW37BO/summary):\n",
    "\n",
    "**Contributors:** Agata Budzillo, Bosiljka Tasic, Brian R. Lee, Fahimeh Baftizadeh, Gabe Murphy, Hongkui Zeng, Jim Berg, Nathan Gouwens, Rachel Dalley, Staci A. Sorensen, Tim Jarsky, Uygar Sümbül Zizhen Yao\n",
    "\n",
    "**Dataset:** Allen Institute for Brain Science (2020). Allen Cell Types Database -- Mouse Patch-seq [dataset]. Available from brain-map.org/explore/classes/multimodal-characterization.\n",
    "\n",
    "**Primary publication:** Gouwens, N.W., Sorensen, S.A., et al. (2020). Integrated morphoelectric and transcriptomic classification of cortical GABAergic cells. Cell, 183(4), 935-953.E19. https://doi.org/10.1016/j.cell.2020.09.057\n",
    "\n",
    "**Patch-seq protocol:** Lee, B. R., Budzillo, A., et al. (2021). Scaled, high fidelity electrophysiological, morphological, and transcriptomic cell characterization. eLife, 2021;10:e65482. https://doi.org/10.7554/eLife.65482\n",
    "\n",
    "**Mouse VISp L2/3 glutamatergic neurons:** Berg, J., Sorensen, S. A., Miller, J., Ting, J., et al. (2021) Human neocortical expansion involves glutamatergic neuron diversification. Nature, 598(7879):151-158. doi: 10.1038/s41586-021-03813-8"
   ]
  }
 ],
 "metadata": {
  "jupytext": {
   "text_representation": {
    "extension": ".md",
    "format_name": "myst",
    "format_version": 0.13,
    "jupytext_version": "1.18.1"
   }
  },
  "kernelspec": {
   "display_name": "Python 3 (ipykernel)",
   "language": "python",
   "name": "python3"
  },
  "source_map": [
   13,
   40,
   69,
   86,
   91,
   95,
   101,
   106,
   117,
   125,
   129,
   133,
   138,
   142,
   147,
   151,
   155,
   159,
   167,
   171,
   175,
   179,
   183,
   187,
   193,
   197,
   205,
   212,
   220,
   226,
   236,
   241,
   245,
   250,
   255,
   259,
   263,
   271,
   273,
   278,
   280,
   286,
   288,
   293,
   295,
   300,
   302,
   307,
   309,
   314,
   316,
   322,
   326,
   330,
   334,
   336,
   342,
   346,
   354,
   359,
   363,
   367,
   375,
   379,
   385,
   395,
   400,
   404,
   413,
   417,
   419,
   425,
   427
  ]
 },
 "nbformat": 4,
 "nbformat_minor": 5
}