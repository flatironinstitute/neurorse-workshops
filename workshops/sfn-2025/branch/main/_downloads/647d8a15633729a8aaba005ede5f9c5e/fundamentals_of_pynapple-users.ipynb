{
 "cells": [
  {
   "cell_type": "code",
   "execution_count": null,
   "id": "59cfc36a",
   "metadata": {
    "tags": [
     "render-all"
    ]
   },
   "outputs": [],
   "source": [
    "%matplotlib inline"
   ]
  },
  {
   "cell_type": "markdown",
   "id": "bb555e27",
   "metadata": {},
   "source": [
    ":::{admonition} Download\n",
    ":class: important render-all\n",
    "\n",
    "This notebook can be downloaded as **{nb-download}`fundamentals_of_pynapple-users.ipynb`**. See the button at the top right to download as markdown or pdf.\n",
    ":::\n",
    "\n",
    "\n",
    "# Learning the fundamentals of pynapple\n",
    "This notebook has had all its explanatory text removed and has not been run.\n",
    " It is intended to be downloaded and run locally (or on the provided binder)\n",
    " while listening to the presenter's explanation. In order to see the fully\n",
    " rendered of this notebook, go [here](../../full/day1/fundamentals_of_pynapple.md)\n",
    "\n",
    "## Learning objectives\n",
    "\n",
    "\n",
    "- Instantiate the pynapple objects\n",
    "- Make the pynapple objects interact\n",
    "- Use numpy with pynapple\n",
    "- Slicing pynapple objects\n",
    "- Adding metadata to pynapple objects\n",
    "- Learn the core functions of pynapple\n",
    "\n",
    "The pynapple documentation can be found [here](https://pynapple.org).\n",
    "\n",
    "The documentation for objects and method of the core of pynapple is [here](https://pynapple.org/api.html).\n",
    "\n",
    "\n",
    "Let's start by importing the pynapple package and matplotlib to see if everything is correctly installed.\n",
    "If an import fails, you can do `!pip install pynapple matplotlib` in a cell to fix it."
   ]
  },
  {
   "cell_type": "code",
   "execution_count": null,
   "id": "4794d764",
   "metadata": {
    "tags": [
     "render-all"
    ]
   },
   "outputs": [],
   "source": [
    "import pynapple as nap\n",
    "import matplotlib.pyplot as plt\n",
    "import numpy as np\n",
    "import workshop_utils"
   ]
  },
  {
   "cell_type": "code",
   "execution_count": null,
   "id": "58968466",
   "metadata": {
    "tags": [
     "render-all"
    ]
   },
   "outputs": [],
   "source": [
    "var1 = np.random.randn(100) # Variable 1\n",
    "tsp1 = np.arange(100) # The timesteps of variable 1\n",
    "\n",
    "var2 = np.random.randn(100, 3) # Variable 2\n",
    "tsp2 = np.arange(0, 100, 1) # The timesteps of variable 2\n",
    "col2 = ['pineapple', 'banana', 'tomato'] # The name of each columns of var2\n",
    "\n",
    "var3 = np.random.randn(1000, 4, 5) # Variable 3\n",
    "tsp3 = np.arange(0, 100, 0.1) # The timesteps of variable 3\n",
    "\n",
    "random_times_1 = np.array([3.14, 37.0, 42.0])\n",
    "random_times_2 = np.array([10, 25, 50, 70])\n",
    "random_times_3 = np.sort(np.random.uniform(10, 80, 100))\n",
    "\n",
    "starts_1 = np.array([10000, 60000, 90000]) # starts of an epoch in `ms`\n",
    "ends_1 = np.array([20000, 80000, 95000]) # ends in `ms`"
   ]
  },
  {
   "cell_type": "markdown",
   "id": "4896f892",
   "metadata": {},
   "source": [
    "## Instantiate pynapple objects \n",
    "\n",
    "\n",
    "**Question:** Can you instantiate the right pynapple objects for `var1`, `var2` and `var3`? Objects should be named respectively `tsd1`, `tsd2` and `tsd3`. Don't forget the column name for `var2`."
   ]
  },
  {
   "cell_type": "code",
   "execution_count": null,
   "id": "c4d433cf",
   "metadata": {},
   "outputs": [],
   "source": [
    "# enter code here"
   ]
  },
  {
   "cell_type": "markdown",
   "id": "274c2226",
   "metadata": {},
   "source": [
    "**Question:** Can you print `tsd1`?"
   ]
  },
  {
   "cell_type": "code",
   "execution_count": null,
   "id": "6a4470fd",
   "metadata": {},
   "outputs": [],
   "source": [
    "# enter code here"
   ]
  },
  {
   "cell_type": "markdown",
   "id": "e3bd67e5",
   "metadata": {},
   "source": [
    "**Question:** Can you print `tsd2`?"
   ]
  },
  {
   "cell_type": "code",
   "execution_count": null,
   "id": "6f81375a",
   "metadata": {},
   "outputs": [],
   "source": [
    "# enter code here"
   ]
  },
  {
   "cell_type": "markdown",
   "id": "c7c522dc",
   "metadata": {},
   "source": [
    "**Question:** Can you print `tsd3`?"
   ]
  },
  {
   "cell_type": "code",
   "execution_count": null,
   "id": "3c71158e",
   "metadata": {},
   "outputs": [],
   "source": [
    "# enter code here"
   ]
  },
  {
   "cell_type": "markdown",
   "id": "080853a5",
   "metadata": {},
   "source": [
    "**Question:** Can you create an `IntervalSet` called `ep` out of `starts_1` and `ends_1` and print it? Be careful, times given above are in `ms`."
   ]
  },
  {
   "cell_type": "code",
   "execution_count": null,
   "id": "8645bd8b",
   "metadata": {},
   "outputs": [],
   "source": [
    "# enter code here"
   ]
  },
  {
   "cell_type": "markdown",
   "id": "ff9f3b06",
   "metadata": {},
   "source": [
    "The experiment generated a set of timestamps from 3 different channels.\n",
    "\n",
    "**Question:** Can you instantiate the corresponding pynapple object (`ts1`, `ts2`, `ts3`) for each one of them?"
   ]
  },
  {
   "cell_type": "code",
   "execution_count": null,
   "id": "b3b4205d",
   "metadata": {},
   "outputs": [],
   "source": [
    "# enter code here"
   ]
  },
  {
   "cell_type": "markdown",
   "id": "2b2ddb7a",
   "metadata": {},
   "source": [
    "This is a lot of timestamps to carry around as well.\n",
    "\n",
    "**Question:** Can you instantiate the right pynapple object (call it `tsgroup`) to group them together?"
   ]
  },
  {
   "cell_type": "code",
   "execution_count": null,
   "id": "00f57ab1",
   "metadata": {},
   "outputs": [],
   "source": [
    "# enter code here"
   ]
  },
  {
   "cell_type": "markdown",
   "id": "15a7d460",
   "metadata": {},
   "source": [
    "**Question:** ... and print it?"
   ]
  },
  {
   "cell_type": "code",
   "execution_count": null,
   "id": "db6a6f5f",
   "metadata": {},
   "outputs": [],
   "source": [
    "# enter code here"
   ]
  },
  {
   "cell_type": "markdown",
   "id": "95e3c0cf",
   "metadata": {},
   "source": [
    "## Interaction between pynapple objects \n",
    "\n",
    "\n",
    "**Question:** Can you print the `time_support` of `tsgroup`?"
   ]
  },
  {
   "cell_type": "code",
   "execution_count": null,
   "id": "7c7fb2ac",
   "metadata": {},
   "outputs": [],
   "source": [
    "# enter code here"
   ]
  },
  {
   "cell_type": "markdown",
   "id": "d2a3e53d",
   "metadata": {},
   "source": [
    "**Question:** can you recreate the `tsgroup` object passing the right `time_support` during initialisation?"
   ]
  },
  {
   "cell_type": "code",
   "execution_count": null,
   "id": "cab7a3be",
   "metadata": {},
   "outputs": [],
   "source": [
    "# enter code here"
   ]
  },
  {
   "cell_type": "markdown",
   "id": "aacf4e45",
   "metadata": {},
   "source": [
    "**Question:** Can you print the `time_support` and `rate` to see how they changed?"
   ]
  },
  {
   "cell_type": "code",
   "execution_count": null,
   "id": "e690f1a9",
   "metadata": {},
   "outputs": [],
   "source": [
    "# enter code here"
   ]
  },
  {
   "cell_type": "markdown",
   "id": "75c402e1",
   "metadata": {},
   "source": [
    "Now you realized the variable `tsd1` has some noise. The good signal is between 10 and 30 seconds and  50 and 100.\n",
    "\n",
    "**Question:** Can you create an `IntervalSet` object called `ep_signal` and use it to restrict the variable `tsd1`?"
   ]
  },
  {
   "cell_type": "code",
   "execution_count": null,
   "id": "b66e9f47",
   "metadata": {},
   "outputs": [],
   "source": [
    "# enter code here"
   ]
  },
  {
   "cell_type": "markdown",
   "id": "5b2c8cfa",
   "metadata": {},
   "source": [
    "You can print `tsd1` to check that the timestamps are in fact within `ep`.\n",
    "You can also check the `time_support` of `tsd1` to see that it has been updated."
   ]
  },
  {
   "cell_type": "code",
   "execution_count": null,
   "id": "5d2aac97",
   "metadata": {},
   "outputs": [],
   "source": [
    "# enter code here"
   ]
  },
  {
   "cell_type": "code",
   "execution_count": null,
   "id": "ae5aa620",
   "metadata": {
    "tags": [
     "render-all"
    ]
   },
   "outputs": [],
   "source": [
    "ep_tmp = nap.IntervalSet(np.sort(np.random.uniform(0, 100, 20)))\n",
    "print(ep_tmp)"
   ]
  },
  {
   "cell_type": "markdown",
   "id": "1740ce00",
   "metadata": {},
   "source": [
    "**Question:** Can you do the intersection of `ep_signal` and `ep_tmp`?"
   ]
  },
  {
   "cell_type": "code",
   "execution_count": null,
   "id": "7d37de5a",
   "metadata": {},
   "outputs": [],
   "source": [
    "# enter code here"
   ]
  },
  {
   "cell_type": "markdown",
   "id": "728da1ae",
   "metadata": {},
   "source": [
    "You can visualize IntervalSet using the function `workshop_utils.visualize_intervals` we provide."
   ]
  },
  {
   "cell_type": "code",
   "execution_count": null,
   "id": "ef2146e7",
   "metadata": {
    "tags": [
     "render-all"
    ]
   },
   "outputs": [],
   "source": [
    "workshop_utils.visualize_intervals([ep_signal, ep_tmp, ep_signal.intersect(ep_tmp)])"
   ]
  },
  {
   "cell_type": "markdown",
   "id": "5f2ecffe",
   "metadata": {},
   "source": [
    "**Question:** Can you do the union of `ep_signal` and `ep_tmp`?"
   ]
  },
  {
   "cell_type": "code",
   "execution_count": null,
   "id": "d93c52d7",
   "metadata": {},
   "outputs": [],
   "source": [
    "# enter code here"
   ]
  },
  {
   "cell_type": "markdown",
   "id": "c8626439",
   "metadata": {},
   "source": [
    "**Question:** ... and visualize it?"
   ]
  },
  {
   "cell_type": "code",
   "execution_count": null,
   "id": "91370f53",
   "metadata": {},
   "outputs": [],
   "source": [
    "# enter code here"
   ]
  },
  {
   "cell_type": "markdown",
   "id": "5a35beac",
   "metadata": {},
   "source": [
    "**Question:** Can you do the difference of `ep_signal` and `ep_tmp`?"
   ]
  },
  {
   "cell_type": "code",
   "execution_count": null,
   "id": "43f6aba1",
   "metadata": {},
   "outputs": [],
   "source": [
    "# enter code here"
   ]
  },
  {
   "cell_type": "markdown",
   "id": "882f9b5f",
   "metadata": {},
   "source": [
    "**Question:** ... and visualize it?"
   ]
  },
  {
   "cell_type": "code",
   "execution_count": null,
   "id": "06e57f1b",
   "metadata": {},
   "outputs": [],
   "source": [
    "# enter code here"
   ]
  },
  {
   "cell_type": "markdown",
   "id": "f6ea7d82",
   "metadata": {},
   "source": [
    "## Numpy & pynapple\n",
    "\n",
    "\n",
    "Pynapple objects behaves very similarly like numpy array. They can be sliced with the following syntax :\n",
    "\n",
    "  `tsd[0:10] # First 10 elements`\n",
    "\n",
    "Arithmetical operations are available as well :\n",
    "\n",
    "  `tsd = tsd + 1`\n",
    "\n",
    "Finally numpy functions works directly. Let's imagine `tsd3` is a movie with frame size (4,5).\n",
    "\n",
    "**Question:** Can you compute the average frame along the time axis using `np.mean` and print the result?"
   ]
  },
  {
   "cell_type": "code",
   "execution_count": null,
   "id": "cfee5aa5",
   "metadata": {},
   "outputs": [],
   "source": [
    "# enter code here"
   ]
  },
  {
   "cell_type": "markdown",
   "id": "1bf4e570",
   "metadata": {},
   "source": [
    "**Question:**: can you compute the average of `tsd2` for each timestamps and print it?"
   ]
  },
  {
   "cell_type": "code",
   "execution_count": null,
   "id": "d5d9fd74",
   "metadata": {},
   "outputs": [],
   "source": [
    "# enter code here"
   ]
  },
  {
   "cell_type": "markdown",
   "id": "9e412b70",
   "metadata": {},
   "source": [
    "## Slicing pynapple objects \n",
    "\n",
    "\n",
    "**Question:** Can you extract the first and last epoch of `ep` in a new `IntervalSet`?"
   ]
  },
  {
   "cell_type": "code",
   "execution_count": null,
   "id": "d2fe519a",
   "metadata": {},
   "outputs": [],
   "source": [
    "# enter code here"
   ]
  },
  {
   "cell_type": "markdown",
   "id": "ffbb53cc",
   "metadata": {},
   "source": [
    "Sometimes you want to get a data point as close as possible in time to another timestamps.\n",
    "\n",
    "**Question:** Using the `get` method, can you get the data point from `tsd3` as close as possible to the time 50.1 seconds?"
   ]
  },
  {
   "cell_type": "code",
   "execution_count": null,
   "id": "2da4071a",
   "metadata": {},
   "outputs": [],
   "source": [
    "# enter code here"
   ]
  },
  {
   "cell_type": "markdown",
   "id": "8fe2996e",
   "metadata": {},
   "source": [
    "## Metadata\n",
    "\n",
    "\n",
    "Metadata are ubiquitous in neuroscience. They can be added to 3 pynapple objects :\n",
    "\n",
    "- `TsGroup` : to label neurons in electrophysiology\n",
    "- `IntervalSet` : to label intervals\n",
    "- `TsdFrame` : to label neurons in calcium imaging\n",
    "\n",
    "\n",
    "**Question:** Can you run the following command `tsgroup['planet'] = ['mars', 'venus', 'saturn']`"
   ]
  },
  {
   "cell_type": "code",
   "execution_count": null,
   "id": "4f967aae",
   "metadata": {},
   "outputs": [],
   "source": [
    "# enter code here"
   ]
  },
  {
   "cell_type": "markdown",
   "id": "0c574174",
   "metadata": {},
   "source": [
    "**Question:** ... and print it?"
   ]
  },
  {
   "cell_type": "code",
   "execution_count": null,
   "id": "348987cb",
   "metadata": {},
   "outputs": [],
   "source": [
    "# enter code here"
   ]
  },
  {
   "cell_type": "markdown",
   "id": "9a54e3f8",
   "metadata": {},
   "source": [
    "The object `ep` has 3 epochs labelled `['left', 'right', 'left']`. \n",
    "\n",
    "**Question:** Can you add them as a metadata column called `direction`?"
   ]
  },
  {
   "cell_type": "code",
   "execution_count": null,
   "id": "7c630f7b",
   "metadata": {},
   "outputs": [],
   "source": [
    "# enter code here"
   ]
  },
  {
   "cell_type": "markdown",
   "id": "82f9c64a",
   "metadata": {},
   "source": [
    "The object `tsd2` has 3 columns. Each column correspond to the rgb colors `[(0,0,1), (0.5, 0.5, 1), (0.1, 0.2, 0.3)]`. \n",
    "\n",
    "**Question:** Can you add them as metadata of `tsd2`?"
   ]
  },
  {
   "cell_type": "code",
   "execution_count": null,
   "id": "6948d8f3",
   "metadata": {},
   "outputs": [],
   "source": [
    "# enter code here"
   ]
  },
  {
   "cell_type": "markdown",
   "id": "9a4b5c53",
   "metadata": {},
   "source": [
    "You can also add metadata at initialization as a dictionnary using the keyword argument `metadata` :"
   ]
  },
  {
   "cell_type": "code",
   "execution_count": null,
   "id": "e97f7e25",
   "metadata": {
    "tags": [
     "render-all"
    ]
   },
   "outputs": [],
   "source": [
    "tsgroup = nap.TsGroup({0:ts1, 1:ts2, 2:ts3}, metadata={'planet':['mars','venus', 'saturn']})\n",
    "\n",
    "print(tsgroup)"
   ]
  },
  {
   "cell_type": "markdown",
   "id": "6e4e564e",
   "metadata": {},
   "source": [
    "Metadata are accessible either as attributes (i.e. `tsgroup.planet`) or as dictionnary-like keys (i.e. `ep['direction']`).\n",
    "\n",
    "They can be used to slice objects. \n",
    "\n",
    "**Question:** Can you select only the elements of `tsgroup` with rate below 1Hz?"
   ]
  },
  {
   "cell_type": "code",
   "execution_count": null,
   "id": "1c79927e",
   "metadata": {},
   "outputs": [],
   "source": [
    "# enter code here"
   ]
  },
  {
   "cell_type": "markdown",
   "id": "15431049",
   "metadata": {},
   "source": [
    "**Question:** Can you select the intervals in `ep` labelled as `'left'`?"
   ]
  },
  {
   "cell_type": "code",
   "execution_count": null,
   "id": "682d470a",
   "metadata": {},
   "outputs": [],
   "source": [
    "# enter code here"
   ]
  },
  {
   "cell_type": "markdown",
   "id": "7589500c",
   "metadata": {},
   "source": [
    "### Special case of slicing : `TsdFrame`"
   ]
  },
  {
   "cell_type": "code",
   "execution_count": null,
   "id": "daca2f1b",
   "metadata": {
    "tags": [
     "render-all"
    ]
   },
   "outputs": [],
   "source": [
    "tsdframe = nap.TsdFrame(t=np.arange(4), d=np.random.randn(4,3),\n",
    "  columns = [12, 0, 1], metadata={'alpha':[2,1,0]})\n",
    "\n",
    "print(tsdframe)"
   ]
  },
  {
   "cell_type": "markdown",
   "id": "5603dc91",
   "metadata": {},
   "source": [
    "**Question:** What happen when you do `tsdframe[0]` vs `tsdframe[:,0]` vs `tsdframe[[12,1]]`"
   ]
  },
  {
   "cell_type": "code",
   "execution_count": null,
   "id": "8bf84f2c",
   "metadata": {},
   "outputs": [],
   "source": [
    "# enter code here"
   ]
  },
  {
   "cell_type": "markdown",
   "id": "75740791",
   "metadata": {},
   "source": [
    "**Question:** What happen when you do `tsdframe.loc[0]` and `tsdframe.loc[[0,1]]`"
   ]
  },
  {
   "cell_type": "code",
   "execution_count": null,
   "id": "93332645",
   "metadata": {},
   "outputs": [],
   "source": [
    "# enter code here"
   ]
  },
  {
   "cell_type": "markdown",
   "id": "7b8c24a3",
   "metadata": {},
   "source": [
    "**Question:** What happen when you do `tsdframe[:,tsdframe.alpha==2]`"
   ]
  },
  {
   "cell_type": "code",
   "execution_count": null,
   "id": "12266683",
   "metadata": {},
   "outputs": [],
   "source": [
    "# enter code here"
   ]
  },
  {
   "cell_type": "markdown",
   "id": "f578efb4",
   "metadata": {},
   "source": [
    "## Core functions of pynapple \n",
    "\n",
    "\n",
    "This part focuses on the most important core functions of pynapple.\n",
    "\n",
    "**Question:** Using the `count` function, can you count the number of events within 1 second bins for `tsgroup` over the `ep_signal` intervals?"
   ]
  },
  {
   "cell_type": "code",
   "execution_count": null,
   "id": "1058d32b",
   "metadata": {},
   "outputs": [],
   "source": [
    "# enter code here"
   ]
  },
  {
   "cell_type": "markdown",
   "id": "387e572e",
   "metadata": {},
   "source": [
    "From a set of timestamps, you want to assign them a set of values with the closest point in time of another time series.\n",
    "\n",
    "**Question:** Using the function `value_from`, can you assign values to `ts2` from the `tsd1` time series and call the output `new_tsd`?"
   ]
  },
  {
   "cell_type": "code",
   "execution_count": null,
   "id": "ac11ec34",
   "metadata": {},
   "outputs": [],
   "source": [
    "# enter code here"
   ]
  },
  {
   "cell_type": "markdown",
   "id": "a5266010",
   "metadata": {},
   "source": [
    "**Question:** Can you plot together `tsd1`, `ts2` and `new_tsd`?"
   ]
  },
  {
   "cell_type": "code",
   "execution_count": null,
   "id": "4f2955c7",
   "metadata": {},
   "outputs": [],
   "source": [
    "# enter code here"
   ]
  },
  {
   "cell_type": "markdown",
   "id": "9132843e",
   "metadata": {},
   "source": [
    "One important aspect of data analysis is to bring data to the same size. Pynapple provides the `bin_average` function to downsample data.\n",
    "\n",
    "**Question:** Can you downsample `tsd2` to one time point every 5 seconds?"
   ]
  },
  {
   "cell_type": "code",
   "execution_count": null,
   "id": "8395dd5b",
   "metadata": {},
   "outputs": [],
   "source": [
    "# enter code here"
   ]
  },
  {
   "cell_type": "markdown",
   "id": "146162d2",
   "metadata": {},
   "source": [
    "**Question:** Can you plot the `tomato` column from `tsd2` as well as the downsampled version?"
   ]
  },
  {
   "cell_type": "code",
   "execution_count": null,
   "id": "ca7d5b55",
   "metadata": {},
   "outputs": [],
   "source": [
    "# enter code here"
   ]
  },
  {
   "cell_type": "markdown",
   "id": "7de90062",
   "metadata": {},
   "source": [
    "For `tsd1`, you want to find all the epochs for which the value is above 0.0. Pynapple provides the function `threshold` to get 1 dimensional time series above or below a certain value.\n",
    "\n",
    "**Question**: Can you print the epochs for which `tsd1` is above 0.0?"
   ]
  },
  {
   "cell_type": "code",
   "execution_count": null,
   "id": "31f30a01",
   "metadata": {},
   "outputs": [],
   "source": [
    "# enter code here"
   ]
  },
  {
   "cell_type": "markdown",
   "id": "26fa59b1",
   "metadata": {},
   "source": [
    "**Question**: can you plot `tsd1` as well as the epochs for which `tsd1` is above 0.0?"
   ]
  },
  {
   "cell_type": "code",
   "execution_count": null,
   "id": "de69e7a5",
   "metadata": {},
   "outputs": [],
   "source": [
    "# enter code here"
   ]
  },
  {
   "cell_type": "markdown",
   "id": "017d1e4a",
   "metadata": {},
   "source": [
    "## First high level function : `compute_tuning_curves`\n",
    "\n",
    "\n",
    "Pynapple provides functions for standard analysis in systems neuroscience. The first function we will try is `compute_tuning_curves` that calculate the response of a cell to a particular feature. \n",
    "\n",
    "A good practice when using a function for the first time is to check the docstrings to learn how to pass the argument.\n",
    "\n",
    "**Question**: can you examine the docstring of `nap.compute_tuning_curves`?"
   ]
  },
  {
   "cell_type": "code",
   "execution_count": null,
   "id": "3e4c1a46",
   "metadata": {},
   "outputs": [],
   "source": [
    "# enter code here"
   ]
  },
  {
   "cell_type": "markdown",
   "id": "26742132",
   "metadata": {},
   "source": [
    "**Question**: Can you compute the response (i.e. firing rate) of the units in `tsgroup` as function of the feature `tsd1` using the function `nap.compute_tuning_curves`?"
   ]
  },
  {
   "cell_type": "code",
   "execution_count": null,
   "id": "a4dd9870",
   "metadata": {},
   "outputs": [],
   "source": [
    "# enter code here"
   ]
  },
  {
   "cell_type": "markdown",
   "id": "ae44823b",
   "metadata": {},
   "source": [
    "The output is an [xarray](https://docs.xarray.dev/en/stable/) object. It is a wrapper of numpy array with extra attributes. It allows to give coordinates to each dimensions as well as attaching attributes. We can make the output look better by labelling the feature we used.\n",
    "\n",
    "The coordinates can be accessed with the `coords` attribute. The feature position (i.e. center of the bin) can be accessed with the attribute.\n",
    "\n",
    "**Question**: Can you print the underlying the units number, bin center and bin edges of the tuning curve xarray object?"
   ]
  },
  {
   "cell_type": "code",
   "execution_count": null,
   "id": "be14ac9d",
   "metadata": {},
   "outputs": [],
   "source": [
    "# enter code here"
   ]
  },
  {
   "cell_type": "markdown",
   "id": "20b47cc8",
   "metadata": {},
   "source": [
    "**Question**: Can you plot the tuning curves for all units?"
   ]
  },
  {
   "cell_type": "code",
   "execution_count": null,
   "id": "564676f8",
   "metadata": {},
   "outputs": [],
   "source": [
    "# enter code here"
   ]
  },
  {
   "cell_type": "markdown",
   "id": "b944b449",
   "metadata": {},
   "source": [
    "## Important\n",
    "\n",
    "\n",
    "**Question:** Does this work?\n",
    "If not, please ask a TA."
   ]
  },
  {
   "cell_type": "code",
   "execution_count": null,
   "id": "2ab4aa75",
   "metadata": {
    "tags": [
     "render-all"
    ]
   },
   "outputs": [],
   "source": [
    "import workshop_utils\n",
    "path = workshop_utils.fetch_data(\"Mouse32-140822.nwb\")\n",
    "print(path)"
   ]
  }
 ],
 "metadata": {
  "jupytext": {
   "text_representation": {
    "extension": ".md",
    "format_name": "myst",
    "format_version": 0.13,
    "jupytext_version": "1.18.1"
   }
  },
  "kernelspec": {
   "display_name": "Python 3 (ipykernel)",
   "language": "python",
   "name": "python3"
  },
  "source_map": [
   13,
   17,
   50,
   58,
   77,
   84,
   86,
   93,
   95,
   102,
   104,
   111,
   113,
   120,
   122,
   131,
   133,
   142,
   144,
   151,
   153,
   161,
   163,
   170,
   172,
   179,
   181,
   190,
   192,
   198,
   202,
   207,
   212,
   214,
   219,
   223,
   228,
   230,
   236,
   238,
   244,
   246,
   252,
   254,
   272,
   274,
   280,
   282,
   289,
   291,
   300,
   302,
   316,
   318,
   324,
   326,
   335,
   337,
   345,
   347,
   353,
   359,
   368,
   370,
   376,
   378,
   381,
   388,
   393,
   395,
   401,
   403,
   410,
   412,
   421,
   423,
   432,
   434,
   441,
   443,
   452,
   454,
   461,
   463,
   471,
   473,
   479,
   481,
   493,
   495,
   502,
   504,
   515,
   517,
   524,
   526,
   535
  ]
 },
 "nbformat": 4,
 "nbformat_minor": 5
}